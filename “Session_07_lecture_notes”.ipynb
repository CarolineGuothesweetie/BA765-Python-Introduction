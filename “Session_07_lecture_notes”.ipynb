{
  "nbformat": 4,
  "nbformat_minor": 0,
  "metadata": {
    "colab": {
      "name": "“Session_07_lecture_notes”的副本",
      "provenance": [],
      "include_colab_link": true
    },
    "kernelspec": {
      "name": "python3",
      "display_name": "Python 3"
    },
    "language_info": {
      "name": "python"
    }
  },
  "cells": [
    {
      "cell_type": "markdown",
      "metadata": {
        "id": "view-in-github",
        "colab_type": "text"
      },
      "source": [
        "<a href=\"https://colab.research.google.com/github/CarolineGuothesweetie/Lecture-notes/blob/main/%E2%80%9CSession_07_lecture_notes%E2%80%9D%E7%9A%84%E5%89%AF%E6%9C%AC.ipynb\" target=\"_parent\"><img src=\"https://colab.research.google.com/assets/colab-badge.svg\" alt=\"Open In Colab\"/></a>"
      ]
    },
    {
      "cell_type": "markdown",
      "metadata": {
        "id": "S4Zftlj0PRTx"
      },
      "source": [
        "# BA 765 \n",
        "Session 07 - 07/27\n",
        "\n",
        "Outline:\n",
        "\n",
        "- Notes about assignments/quizzes return: I will release the assignments/exams that followed instructions *without waiting for the rest*.\n",
        "- Notes about grades and wide range of prior experience in the classroom: **Progress matters!**\n",
        "- Midterm Q&A. \n",
        "- Function building exercises\n",
        "- List comprehension\n",
        "- Object oriented programming (in-class exercise)\n",
        "\n",
        "\n",
        "\n"
      ]
    },
    {
      "cell_type": "markdown",
      "metadata": {
        "id": "q_4SqcVhQS8n"
      },
      "source": [
        "## Building functions:\n",
        "\"*Learning the python syntax is like learning the alphabet, writing functions is like writing our first story*\"\n",
        "\n",
        "Let's build two functions together in Breakout rooms:"
      ]
    },
    {
      "cell_type": "code",
      "metadata": {
        "id": "JHZoR1GdQSEA"
      },
      "source": [
        "# 1\n",
        "# Write a python function that returns, in a list, the even numbers from a given list\n",
        "\n",
        "def my_even_filter(input_list):\n",
        "  my_even_list = []\n",
        "  for x  in input_list:\n",
        "    if x%2 == 0:\n",
        "     my_even_list.append(x)\n",
        "  \n",
        "  return(my_even_list)\n"
      ],
      "execution_count": 3,
      "outputs": []
    },
    {
      "cell_type": "code",
      "metadata": {
        "colab": {
          "base_uri": "https://localhost:8080/"
        },
        "id": "zQ_NyouN1-Ux",
        "outputId": "89aa1052-a7a4-4dc9-98e9-ca494e55a032"
      },
      "source": [
        "my_even_filter([])"
      ],
      "execution_count": 4,
      "outputs": [
        {
          "output_type": "execute_result",
          "data": {
            "text/plain": [
              "[]"
            ]
          },
          "metadata": {
            "tags": []
          },
          "execution_count": 4
        }
      ]
    },
    {
      "cell_type": "code",
      "metadata": {
        "id": "7MYJnaYMRxMa",
        "colab": {
          "base_uri": "https://localhost:8080/"
        },
        "outputId": "b9011df4-646f-40f3-8090-3bf1ee9f4a9f"
      },
      "source": [
        "# 2\n",
        "# Write a python function that separates upper and lower case characters in a given string, such that\n",
        "# given \"The quick Brow Fox\" it should return a dictionary with the following k:v pairs:\n",
        "# 'upper'=['T','B','F']\n",
        "# 'lower' = 12 (total number of lower case characters)\n",
        "\n",
        "def my_upper_lower_filter(input_string):\n",
        "  upper_list = []\n",
        "  len = 0\n",
        "  for i in input_string:\n",
        "    if i.isupper():\n",
        "      upper_list.append(i)\n",
        "\n",
        "    elif i.islower():\n",
        "      len = len + 1\n",
        "\n",
        "  my_dict = {\"upper\":upper_list, \"lower\":len}\n",
        "\n",
        "  return(my_dict)\n",
        "\n",
        "my_upper_lower_filter(\"The quick Brow Fox\")"
      ],
      "execution_count": 24,
      "outputs": [
        {
          "output_type": "execute_result",
          "data": {
            "text/plain": [
              "{'lower': 12, 'upper': ['T', 'B', 'F']}"
            ]
          },
          "metadata": {
            "tags": []
          },
          "execution_count": 24
        }
      ]
    },
    {
      "cell_type": "markdown",
      "metadata": {
        "id": "YQbzKEcpS7p2"
      },
      "source": [
        "More exercises with solutions can be found here: https://www.w3resource.com/python-exercises/python-functions-exercises.php\n"
      ]
    },
    {
      "cell_type": "code",
      "metadata": {
        "id": "lG6RMdNIPKQ7"
      },
      "source": [
        ""
      ],
      "execution_count": null,
      "outputs": []
    },
    {
      "cell_type": "markdown",
      "metadata": {
        "id": "Un1Py5rgTCV3"
      },
      "source": [
        "## List comprehension\n",
        "\n",
        "A useful, compact python syntax that allows us to build lists from iterables (such as lists, tuples, dictionaries):"
      ]
    },
    {
      "cell_type": "code",
      "metadata": {
        "id": "fl9vxp7XTSAb",
        "colab": {
          "base_uri": "https://localhost:8080/"
        },
        "outputId": "d16c6531-8787-4ce5-96de-0fb67865124a"
      },
      "source": [
        "x=[0,1,2,3,4,5,6]\n",
        "print(x)\n",
        "y=[]\n",
        "for i in x:\n",
        "  y.append(i**2)\n",
        "print(y)"
      ],
      "execution_count": 26,
      "outputs": [
        {
          "output_type": "stream",
          "text": [
            "[0, 1, 2, 3, 4, 5, 6]\n",
            "[0, 1, 4, 9, 16, 25, 36]\n"
          ],
          "name": "stdout"
        }
      ]
    },
    {
      "cell_type": "markdown",
      "metadata": {
        "id": "CgzMbAyPTyex"
      },
      "source": [
        "Syntax for list comprehension is:\n",
        "```\n",
        "newlist = [expression for item in iterable if condition == True]\n",
        "```\n"
      ]
    },
    {
      "cell_type": "code",
      "metadata": {
        "id": "4QOUbFriTd56",
        "colab": {
          "base_uri": "https://localhost:8080/"
        },
        "outputId": "01a20f8a-4511-4a3d-fc6a-18ff28718386"
      },
      "source": [
        "z = [i**2 for i in x]\n",
        "print(z)"
      ],
      "execution_count": 27,
      "outputs": [
        {
          "output_type": "stream",
          "text": [
            "[0, 1, 4, 9, 16, 25, 36]\n"
          ],
          "name": "stdout"
        }
      ]
    },
    {
      "cell_type": "code",
      "metadata": {
        "id": "9v67HevJToWz",
        "colab": {
          "base_uri": "https://localhost:8080/"
        },
        "outputId": "00794c3e-37fa-4fa4-dc2d-da538a833622"
      },
      "source": [
        "w = [i**2 for i in x if i <4]\n",
        "print(w)"
      ],
      "execution_count": 28,
      "outputs": [
        {
          "output_type": "stream",
          "text": [
            "[0, 1, 4, 9]\n"
          ],
          "name": "stdout"
        }
      ]
    },
    {
      "cell_type": "code",
      "metadata": {
        "id": "pHEN_aq3U_92",
        "colab": {
          "base_uri": "https://localhost:8080/"
        },
        "outputId": "e22d6eb7-560a-41f7-94d0-8b3bcd2aec7b"
      },
      "source": [
        "t = [item+str(5) for item in (\"maroon\", \"jackson\")]\n",
        "print(t)"
      ],
      "execution_count": 29,
      "outputs": [
        {
          "output_type": "stream",
          "text": [
            "['maroon5', 'jackson5']\n"
          ],
          "name": "stdout"
        }
      ]
    },
    {
      "cell_type": "code",
      "metadata": {
        "id": "p5A9JFCrUMJY",
        "colab": {
          "base_uri": "https://localhost:8080/"
        },
        "outputId": "7e5845a0-4129-48e9-bbd7-55cea3befaba"
      },
      "source": [
        "my_dict = dict({'key1':1 , 'key2':'a'})\n",
        "print(my_dict, type(my_dict))"
      ],
      "execution_count": 30,
      "outputs": [
        {
          "output_type": "stream",
          "text": [
            "{'key1': 1, 'key2': 'a'} <class 'dict'>\n"
          ],
          "name": "stdout"
        }
      ]
    },
    {
      "cell_type": "code",
      "metadata": {
        "id": "ijSd6I3fUoMa",
        "colab": {
          "base_uri": "https://localhost:8080/"
        },
        "outputId": "06f4ef61-f2cb-4807-aedb-cc0800cb5a3e"
      },
      "source": [
        "d_keys = [i for i in my_dict]\n",
        "d_vals = [i for i in my_dict.values()]\n",
        "print(d_keys)\n",
        "print(d_vals)"
      ],
      "execution_count": 31,
      "outputs": [
        {
          "output_type": "stream",
          "text": [
            "['key1', 'key2']\n",
            "[1, 'a']\n"
          ],
          "name": "stdout"
        }
      ]
    },
    {
      "cell_type": "code",
      "metadata": {
        "id": "8t1rsjcPUpc1"
      },
      "source": [
        ""
      ],
      "execution_count": null,
      "outputs": []
    }
  ]
}
