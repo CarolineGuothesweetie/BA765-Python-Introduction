{
  "nbformat": 4,
  "nbformat_minor": 0,
  "metadata": {
    "colab": {
      "name": "“01-IntroToNumpy_Lecture.ipynb”的副本",
      "provenance": [],
      "collapsed_sections": [
        "r-uSoSymGIe9",
        "XZRaQ4aCB26V",
        "cbOA4VzGIrNe",
        "HaG-8wQqZqV-",
        "CccZusvJGqLb",
        "0Nuh_XAT39QT"
      ],
      "include_colab_link": true
    },
    "kernelspec": {
      "name": "python3",
      "display_name": "Python 3"
    },
    "language_info": {
      "name": "python"
    }
  },
  "cells": [
    {
      "cell_type": "markdown",
      "metadata": {
        "id": "view-in-github",
        "colab_type": "text"
      },
      "source": [
        "<a href=\"https://colab.research.google.com/github/CarolineGuothesweetie/Lecture-notes/blob/main/%E2%80%9C01_IntroToNumpy_Lecture_ipynb%E2%80%9D.ipynb\" target=\"_parent\"><img src=\"https://colab.research.google.com/assets/colab-badge.svg\" alt=\"Open In Colab\"/></a>"
      ]
    },
    {
      "cell_type": "markdown",
      "metadata": {
        "id": "KY5_3khXt3J6"
      },
      "source": [
        "# Session 05\n",
        "07/20\n",
        "\n",
        "## Notes\n",
        "- Solutions for labs are in their respective session folders (Sessions 2 and 4)\n",
        "- Solution for Assignment 1 was under Session 04, but moved to a new directory called **Assignment Solutions** to make it easy to see!\n",
        "- Assignment 02 due TODAY 11pm ET, accepted until Jul 21 11am ET with late penalty. Not accepted after as the solution will be released when the late acceptance deadline is passed. \n",
        "- Midterm: during class time, on Qtools, 90 minutes, single submission, open notes but not open collaboration. \n",
        "- I see about 20\\% of the class did not attempt Lab2 on Qtools - I re-opened it so please use it to practice qtools!\n",
        "- DataCamp: 12 people (together in both sections) are still MIA - completion rate of any course is ~10\\%\n"
      ]
    },
    {
      "cell_type": "markdown",
      "metadata": {
        "id": "81PZlI0vwAK3"
      },
      "source": [
        "## Outline\n",
        "- Questions about Assignment 2\n",
        "- Numpy Quiz\n",
        "- Numpy Lecture\n",
        "- Numpy Lab\n",
        "\n",
        "If time permits:\n",
        "- Object Oriented Programming and Classes"
      ]
    },
    {
      "cell_type": "markdown",
      "metadata": {
        "id": "Nv45O7jn2Nm4"
      },
      "source": [
        "# About\n",
        "\n",
        "![numpy](https://upload.wikimedia.org/wikipedia/commons/thumb/3/31/NumPy_logo_2020.svg/1200px-NumPy_logo_2020.svg.png)\n",
        "\n",
        "\n",
        "In this notebook we will run through an introduction to [numpy](https://numpy.org/), or numerical python, which is the foundation for the core data analytics and data science ecosystem.\n",
        "\n",
        "See the absolute beginners intro at the numpy project library:\n",
        "https://numpy.org/doc/stable/user/absolute_beginners.html\n",
        "\n",
        "\n"
      ]
    },
    {
      "cell_type": "code",
      "metadata": {
        "id": "EjN_pZ7frWT7"
      },
      "source": [
        "# import the library to get started\n",
        "import numpy as np"
      ],
      "execution_count": 1,
      "outputs": []
    },
    {
      "cell_type": "markdown",
      "metadata": {
        "id": "9Ttnwfh1o4pR"
      },
      "source": [
        "Numpy is the workhorse underneath a number of our tools that we will be using.  At the core, numpy **arrays** look a lot like `lists` that we worked through last week, except that they have additional properties:\n",
        "\n",
        "1.  numpy arrays can be multi-dimensional \n",
        "\n",
        "2.  numpy arrays allow us to do calculations on each element  at the same time (we can't do this with lists).  This is **element wise** calculations.\n",
        "\n",
        "3.  unlike lists, numpy arrays hold a single **type**\n",
        "\n",
        ">  ***From above, you see that I imported numpy as np.  This is the standard convention.***"
      ]
    },
    {
      "cell_type": "markdown",
      "metadata": {
        "id": "MuaqGkiPK8Ni"
      },
      "source": [
        "# Lists to numpy arrays"
      ]
    },
    {
      "cell_type": "code",
      "metadata": {
        "id": "qYhheUZ2sZne",
        "colab": {
          "base_uri": "https://localhost:8080/"
        },
        "outputId": "2f01214b-ea03-42ba-ac7c-e2bfe90f77d1"
      },
      "source": [
        "# create a normal list\n",
        "my_list = [1,2,4,5,6,7]\n",
        "\n",
        "## print out the type and the values\n",
        "print(type(my_list))\n",
        "print(my_list)"
      ],
      "execution_count": 2,
      "outputs": [
        {
          "output_type": "stream",
          "text": [
            "<class 'list'>\n",
            "[1, 2, 4, 5, 6, 7]\n"
          ],
          "name": "stdout"
        }
      ]
    },
    {
      "cell_type": "code",
      "metadata": {
        "id": "JtXD2wbttH_z",
        "colab": {
          "base_uri": "https://localhost:8080/"
        },
        "outputId": "98de1710-aed6-4b91-c38d-f23af03f42f9"
      },
      "source": [
        "# create a new list and perform some math on it\n",
        "new_list = [1,2,3]\n",
        "new_list"
      ],
      "execution_count": 3,
      "outputs": [
        {
          "output_type": "execute_result",
          "data": {
            "text/plain": [
              "[1, 2, 3]"
            ]
          },
          "metadata": {
            "tags": []
          },
          "execution_count": 3
        }
      ]
    },
    {
      "cell_type": "code",
      "metadata": {
        "id": "KTVUDIPStafv",
        "colab": {
          "base_uri": "https://localhost:8080/"
        },
        "outputId": "dd3f6244-304f-45db-d45c-f232a5c9956b"
      },
      "source": [
        "# multiple the list by 3 #把list复制三遍\n",
        "new_list * 3"
      ],
      "execution_count": 4,
      "outputs": [
        {
          "output_type": "execute_result",
          "data": {
            "text/plain": [
              "[1, 2, 3, 1, 2, 3, 1, 2, 3]"
            ]
          },
          "metadata": {
            "tags": []
          },
          "execution_count": 4
        }
      ]
    },
    {
      "cell_type": "code",
      "metadata": {
        "id": "MVtHqNxDVjyu",
        "colab": {
          "base_uri": "https://localhost:8080/",
          "height": 35
        },
        "outputId": "4c8f1f39-79e4-442c-b062-b33c384af580"
      },
      "source": [
        "\"ba765\"*3"
      ],
      "execution_count": 5,
      "outputs": [
        {
          "output_type": "execute_result",
          "data": {
            "application/vnd.google.colaboratory.intrinsic+json": {
              "type": "string"
            },
            "text/plain": [
              "'ba765ba765ba765'"
            ]
          },
          "metadata": {
            "tags": []
          },
          "execution_count": 5
        }
      ]
    },
    {
      "cell_type": "markdown",
      "metadata": {
        "id": "edu7vQ1StufZ"
      },
      "source": [
        "Above shows that just like with `+`, we can repeat the list with `*`. \n",
        "\n",
        "While, when we do work with numerical data, we often want to do element-wise math:"
      ]
    },
    {
      "cell_type": "code",
      "metadata": {
        "id": "UHGc1qpGuCD-",
        "colab": {
          "base_uri": "https://localhost:8080/"
        },
        "outputId": "72ca9904-7f9d-4519-c718-e5533a1dc75e"
      },
      "source": [
        "# numpy to the rescue\n",
        "np_arr = np.array(new_list)\n",
        "np_arr"
      ],
      "execution_count": 6,
      "outputs": [
        {
          "output_type": "execute_result",
          "data": {
            "text/plain": [
              "array([1, 2, 3])"
            ]
          },
          "metadata": {
            "tags": []
          },
          "execution_count": 6
        }
      ]
    },
    {
      "cell_type": "code",
      "metadata": {
        "id": "-s-FX4QqVwfi",
        "colab": {
          "base_uri": "https://localhost:8080/"
        },
        "outputId": "e4efcd90-6362-4c8b-a894-7052deb021e8"
      },
      "source": [
        "type(np_arr)"
      ],
      "execution_count": 7,
      "outputs": [
        {
          "output_type": "execute_result",
          "data": {
            "text/plain": [
              "numpy.ndarray"
            ]
          },
          "metadata": {
            "tags": []
          },
          "execution_count": 7
        }
      ]
    },
    {
      "cell_type": "code",
      "metadata": {
        "id": "1LKRnfHVuK-8",
        "colab": {
          "base_uri": "https://localhost:8080/"
        },
        "outputId": "7ae2cf62-f233-4ba8-9f1c-7c5a506e7364"
      },
      "source": [
        "# we converted our list to an numpy array. now lets try it\n",
        "np_arr * 3"
      ],
      "execution_count": 8,
      "outputs": [
        {
          "output_type": "execute_result",
          "data": {
            "text/plain": [
              "array([3, 6, 9])"
            ]
          },
          "metadata": {
            "tags": []
          },
          "execution_count": 8
        }
      ]
    },
    {
      "cell_type": "markdown",
      "metadata": {
        "id": "aCixKikfuRaI"
      },
      "source": [
        "While lists and tuples are powerful in base python, and we will use them later in the course, when it really comes to analyzing data, the foundations of the tools that we will use are in **numpy**.\n",
        "\n",
        "Simply, the higher level tools use numpy under the hood, but it's important for us to have a baseline understanding of numpy before we dive into **pandas** a popular library to work with data."
      ]
    },
    {
      "cell_type": "markdown",
      "metadata": {
        "id": "PGatVu69LHe9"
      },
      "source": [
        "# Numpy Arrays - Single Type Only"
      ]
    },
    {
      "cell_type": "markdown",
      "metadata": {
        "id": "zRXelIi1utYz"
      },
      "source": [
        "Because numpy arrays are built to do calculations, helping us with analyzing data, each array must be of a single type. "
      ]
    },
    {
      "cell_type": "code",
      "metadata": {
        "id": "pyGtpNFiu8Q-",
        "colab": {
          "base_uri": "https://localhost:8080/"
        },
        "outputId": "03c2a58e-58d4-46a1-fcc6-d3d3d4f14575"
      },
      "source": [
        "# create a normal list\n",
        "normal_list = [1, 'a', True]\n",
        "normal_list"
      ],
      "execution_count": 9,
      "outputs": [
        {
          "output_type": "execute_result",
          "data": {
            "text/plain": [
              "[1, 'a', True]"
            ]
          },
          "metadata": {
            "tags": []
          },
          "execution_count": 9
        }
      ]
    },
    {
      "cell_type": "markdown",
      "metadata": {
        "id": "6tyArjH1vC5i"
      },
      "source": [
        "This does what we expected, it printed a list, and if we wanted, we could even have a list within a list, as we learned last week."
      ]
    },
    {
      "cell_type": "code",
      "metadata": {
        "id": "W75FXmbkvUQ8",
        "colab": {
          "base_uri": "https://localhost:8080/"
        },
        "outputId": "b9e95c12-10b7-48b6-9eed-dba6d3ad97dd"
      },
      "source": [
        "# convert the list to numpy, as we saw above with np.array(<list>)\n",
        "np_convert = np.array(normal_list)\n",
        "np_convert"
      ],
      "execution_count": 10,
      "outputs": [
        {
          "output_type": "execute_result",
          "data": {
            "text/plain": [
              "array(['1', 'a', 'True'], dtype='<U21')"
            ]
          },
          "metadata": {
            "tags": []
          },
          "execution_count": 10
        }
      ]
    },
    {
      "cell_type": "code",
      "metadata": {
        "id": "uAtA536C1qVN",
        "colab": {
          "base_uri": "https://localhost:8080/"
        },
        "outputId": "4f966503-7424-4850-a304-139deb9638d5"
      },
      "source": [
        "np_convert.shape"
      ],
      "execution_count": 11,
      "outputs": [
        {
          "output_type": "execute_result",
          "data": {
            "text/plain": [
              "(3,)"
            ]
          },
          "metadata": {
            "tags": []
          },
          "execution_count": 11
        }
      ]
    },
    {
      "cell_type": "code",
      "metadata": {
        "id": "NMqoJWcnWFgZ",
        "colab": {
          "base_uri": "https://localhost:8080/"
        },
        "outputId": "8d0ca7a2-bd98-4994-9145-660eb4f25d3c"
      },
      "source": [
        "type(np_convert)"
      ],
      "execution_count": 12,
      "outputs": [
        {
          "output_type": "execute_result",
          "data": {
            "text/plain": [
              "numpy.ndarray"
            ]
          },
          "metadata": {
            "tags": []
          },
          "execution_count": 12
        }
      ]
    },
    {
      "cell_type": "markdown",
      "metadata": {
        "id": "Mh9NGwVHLT5i"
      },
      "source": [
        "\n",
        "\n",
        "\n",
        "Look at what we have above.  Numpy needs to have all elements in an array be of the same type.  But it didn't error out, nor it did exclude some elements. What did numpy do?"
      ]
    },
    {
      "cell_type": "markdown",
      "metadata": {
        "id": "ZPSjvWdGLca5"
      },
      "source": [
        "# Core numpy features"
      ]
    },
    {
      "cell_type": "markdown",
      "metadata": {
        "id": "lc6mI8l5xxnC"
      },
      "source": [
        "## nd arrays\n",
        "\n",
        "Multidimensional arrays and lists of lists are conceptually similar:"
      ]
    },
    {
      "cell_type": "code",
      "metadata": {
        "id": "QolgfBWE2CTV",
        "colab": {
          "base_uri": "https://localhost:8080/"
        },
        "outputId": "d9b46c16-99b9-4b69-de59-af803cb58381"
      },
      "source": [
        "# 3-dimension array example as following:\n",
        "ex_arr = np.array([[[1,1,4],[2,2,5],[3,3,6]], [[1,1,4],[2,2,5],[3,3,6]]])\n",
        "ex_arr"
      ],
      "execution_count": 37,
      "outputs": [
        {
          "output_type": "execute_result",
          "data": {
            "text/plain": [
              "array([[[1, 1, 4],\n",
              "        [2, 2, 5],\n",
              "        [3, 3, 6]],\n",
              "\n",
              "       [[1, 1, 4],\n",
              "        [2, 2, 5],\n",
              "        [3, 3, 6]]])"
            ]
          },
          "metadata": {
            "tags": []
          },
          "execution_count": 37
        }
      ]
    },
    {
      "cell_type": "code",
      "metadata": {
        "id": "VcjkPMFU4USh",
        "colab": {
          "base_uri": "https://localhost:8080/"
        },
        "outputId": "16175ad9-088a-4606-cbcf-c91332e24b50"
      },
      "source": [
        "ex_arr.shape"
      ],
      "execution_count": 14,
      "outputs": [
        {
          "output_type": "execute_result",
          "data": {
            "text/plain": [
              "(2, 3, 3)"
            ]
          },
          "metadata": {
            "tags": []
          },
          "execution_count": 14
        }
      ]
    },
    {
      "cell_type": "code",
      "metadata": {
        "id": "dbSnoZ_j4cjC",
        "colab": {
          "base_uri": "https://localhost:8080/"
        },
        "outputId": "e71bd69e-4372-4d70-b190-50b6d339017a"
      },
      "source": [
        "ex_arr.ndim"
      ],
      "execution_count": 15,
      "outputs": [
        {
          "output_type": "execute_result",
          "data": {
            "text/plain": [
              "3"
            ]
          },
          "metadata": {
            "tags": []
          },
          "execution_count": 15
        }
      ]
    },
    {
      "cell_type": "code",
      "metadata": {
        "id": "JmGSXnCR4er6",
        "colab": {
          "base_uri": "https://localhost:8080/"
        },
        "outputId": "fd5a7227-b43f-4732-ff34-bc4a741e15a7"
      },
      "source": [
        "ex_arr[0,:,:]"
      ],
      "execution_count": 16,
      "outputs": [
        {
          "output_type": "execute_result",
          "data": {
            "text/plain": [
              "array([[1, 1, 4],\n",
              "       [2, 2, 5],\n",
              "       [3, 3, 6]])"
            ]
          },
          "metadata": {
            "tags": []
          },
          "execution_count": 16
        }
      ]
    },
    {
      "cell_type": "code",
      "metadata": {
        "id": "kB9-NFEf4wt8",
        "colab": {
          "base_uri": "https://localhost:8080/"
        },
        "outputId": "788a77e8-8686-446f-cb7e-4deee336ecd5"
      },
      "source": [
        "# 4-dimension array example:\n",
        "my_arr = np.array([[[[1,1,4],[2,2,5],[3,3,6]], [[1,1,4],[2,2,5],[3,3,6]]],\n",
        "                   [[[1,1,4],[2,2,5],[3,3,6]], [[1,1,4],[2,2,5],[3,3,6]]]])\n",
        "my_arr"
      ],
      "execution_count": 17,
      "outputs": [
        {
          "output_type": "execute_result",
          "data": {
            "text/plain": [
              "array([[[[1, 1, 4],\n",
              "         [2, 2, 5],\n",
              "         [3, 3, 6]],\n",
              "\n",
              "        [[1, 1, 4],\n",
              "         [2, 2, 5],\n",
              "         [3, 3, 6]]],\n",
              "\n",
              "\n",
              "       [[[1, 1, 4],\n",
              "         [2, 2, 5],\n",
              "         [3, 3, 6]],\n",
              "\n",
              "        [[1, 1, 4],\n",
              "         [2, 2, 5],\n",
              "         [3, 3, 6]]]])"
            ]
          },
          "metadata": {
            "tags": []
          },
          "execution_count": 17
        }
      ]
    },
    {
      "cell_type": "code",
      "metadata": {
        "colab": {
          "base_uri": "https://localhost:8080/"
        },
        "id": "7XxofJQffkkb",
        "outputId": "fc7e63f2-74e9-426c-8ab8-9bc7f9203ea5"
      },
      "source": [
        "len(my_arr)"
      ],
      "execution_count": 41,
      "outputs": [
        {
          "output_type": "execute_result",
          "data": {
            "text/plain": [
              "2"
            ]
          },
          "metadata": {
            "tags": []
          },
          "execution_count": 41
        }
      ]
    },
    {
      "cell_type": "code",
      "metadata": {
        "id": "T_BzbP_75HG2",
        "colab": {
          "base_uri": "https://localhost:8080/"
        },
        "outputId": "366a48a0-145e-45d7-e85b-a1a8d9468eaf"
      },
      "source": [
        "my_arr.shape"
      ],
      "execution_count": 18,
      "outputs": [
        {
          "output_type": "execute_result",
          "data": {
            "text/plain": [
              "(2, 2, 3, 3)"
            ]
          },
          "metadata": {
            "tags": []
          },
          "execution_count": 18
        }
      ]
    },
    {
      "cell_type": "code",
      "metadata": {
        "id": "pFQojBCC5I6C",
        "colab": {
          "base_uri": "https://localhost:8080/"
        },
        "outputId": "f66c38ff-8c8d-40f4-ab5b-c9b6020fd8c4"
      },
      "source": [
        "my_arr.ndim"
      ],
      "execution_count": 19,
      "outputs": [
        {
          "output_type": "execute_result",
          "data": {
            "text/plain": [
              "4"
            ]
          },
          "metadata": {
            "tags": []
          },
          "execution_count": 19
        }
      ]
    },
    {
      "cell_type": "code",
      "metadata": {
        "id": "ScyqQVaA5LVb",
        "colab": {
          "base_uri": "https://localhost:8080/"
        },
        "outputId": "96816223-7123-4953-aca9-8cb3423b82f5"
      },
      "source": [
        "my_arr[0,0,0,0]"
      ],
      "execution_count": 20,
      "outputs": [
        {
          "output_type": "execute_result",
          "data": {
            "text/plain": [
              "1"
            ]
          },
          "metadata": {
            "tags": []
          },
          "execution_count": 20
        }
      ]
    },
    {
      "cell_type": "code",
      "metadata": {
        "id": "1F8F4y_S5bPO",
        "colab": {
          "base_uri": "https://localhost:8080/"
        },
        "outputId": "af3e3dd5-e98c-44e2-bee9-edbc597f7cfd"
      },
      "source": [
        "# Choosing function like it works with lists\n",
        "my_arr[:,:,:,:]"
      ],
      "execution_count": 21,
      "outputs": [
        {
          "output_type": "execute_result",
          "data": {
            "text/plain": [
              "array([[[[1, 1, 4],\n",
              "         [2, 2, 5],\n",
              "         [3, 3, 6]],\n",
              "\n",
              "        [[1, 1, 4],\n",
              "         [2, 2, 5],\n",
              "         [3, 3, 6]]],\n",
              "\n",
              "\n",
              "       [[[1, 1, 4],\n",
              "         [2, 2, 5],\n",
              "         [3, 3, 6]],\n",
              "\n",
              "        [[1, 1, 4],\n",
              "         [2, 2, 5],\n",
              "         [3, 3, 6]]]])"
            ]
          },
          "metadata": {
            "tags": []
          },
          "execution_count": 21
        }
      ]
    },
    {
      "cell_type": "code",
      "metadata": {
        "id": "x2k8wggT6keW",
        "colab": {
          "base_uri": "https://localhost:8080/"
        },
        "outputId": "7b3dc062-0e42-404a-89c7-5fd22a77fcae"
      },
      "source": [
        "my_arr[0,1,:2,:1] # :2从第0个到第2个，但不包括第二个"
      ],
      "execution_count": 39,
      "outputs": [
        {
          "output_type": "execute_result",
          "data": {
            "text/plain": [
              "array([[1],\n",
              "       [2]])"
            ]
          },
          "metadata": {
            "tags": []
          },
          "execution_count": 39
        }
      ]
    },
    {
      "cell_type": "code",
      "metadata": {
        "id": "V4316W5uxd5z",
        "colab": {
          "base_uri": "https://localhost:8080/"
        },
        "outputId": "61ac32e4-a334-4f31-ed50-e084a0561a1d"
      },
      "source": [
        "# See below a list of lists:\n",
        "lol = [ [1,2], [3,4], [5,6] ]\n",
        "lol"
      ],
      "execution_count": 23,
      "outputs": [
        {
          "output_type": "execute_result",
          "data": {
            "text/plain": [
              "[[1, 2], [3, 4], [5, 6]]"
            ]
          },
          "metadata": {
            "tags": []
          },
          "execution_count": 23
        }
      ]
    },
    {
      "cell_type": "code",
      "metadata": {
        "id": "Oq8eLKNeWfTj",
        "colab": {
          "base_uri": "https://localhost:8080/"
        },
        "outputId": "504cad32-af2a-41aa-c6c0-d8c5ea66003f"
      },
      "source": [
        "lol[0][1]"
      ],
      "execution_count": 24,
      "outputs": [
        {
          "output_type": "execute_result",
          "data": {
            "text/plain": [
              "2"
            ]
          },
          "metadata": {
            "tags": []
          },
          "execution_count": 24
        }
      ]
    },
    {
      "cell_type": "code",
      "metadata": {
        "id": "KpX9retqxkDZ",
        "colab": {
          "base_uri": "https://localhost:8080/"
        },
        "outputId": "69bc9c2a-e67f-4012-fa84-266186e6cb2d"
      },
      "source": [
        "# bring this into numpy array\n",
        "lol_np = np.array(lol)\n",
        "lol_np"
      ],
      "execution_count": 25,
      "outputs": [
        {
          "output_type": "execute_result",
          "data": {
            "text/plain": [
              "array([[1, 2],\n",
              "       [3, 4],\n",
              "       [5, 6]])"
            ]
          },
          "metadata": {
            "tags": []
          },
          "execution_count": 25
        }
      ]
    },
    {
      "cell_type": "code",
      "metadata": {
        "id": "cO66oc8AxZ95",
        "colab": {
          "base_uri": "https://localhost:8080/"
        },
        "outputId": "d230d1e3-3b40-4154-f2a2-a6321a3f3d8e"
      },
      "source": [
        "# what shape is our array\n",
        "lol_np.shape"
      ],
      "execution_count": 26,
      "outputs": [
        {
          "output_type": "execute_result",
          "data": {
            "text/plain": [
              "(3, 2)"
            ]
          },
          "metadata": {
            "tags": []
          },
          "execution_count": 26
        }
      ]
    },
    {
      "cell_type": "markdown",
      "metadata": {
        "id": "dLkMkUITx_Pq"
      },
      "source": [
        "> It's not exactly the same, but for now, we can think of this as a 3 row / 2 column Excel worksheet.  The `shape` attribute is something we are going to use quite a bit!\n",
        "\n"
      ]
    },
    {
      "cell_type": "code",
      "metadata": {
        "id": "j2gJ6L7cx_qJ",
        "colab": {
          "base_uri": "https://localhost:8080/"
        },
        "outputId": "d29927e9-55a0-407a-9583-e8af71f26b26"
      },
      "source": [
        "# how many dimensions within the array\n",
        "lol_np.ndim"
      ],
      "execution_count": 27,
      "outputs": [
        {
          "output_type": "execute_result",
          "data": {
            "text/plain": [
              "2"
            ]
          },
          "metadata": {
            "tags": []
          },
          "execution_count": 27
        }
      ]
    },
    {
      "cell_type": "code",
      "metadata": {
        "id": "uuGyUxcHx_1F",
        "colab": {
          "base_uri": "https://localhost:8080/"
        },
        "outputId": "f1d6b42b-67be-4d51-cc90-70980c50d735"
      },
      "source": [
        "# how many elements total, or the size\n",
        "lol_np.size"
      ],
      "execution_count": 28,
      "outputs": [
        {
          "output_type": "execute_result",
          "data": {
            "text/plain": [
              "6"
            ]
          },
          "metadata": {
            "tags": []
          },
          "execution_count": 28
        }
      ]
    },
    {
      "cell_type": "code",
      "metadata": {
        "id": "BHT9cNdFx_9B"
      },
      "source": [
        "# remember, we can always get help\n",
        "lol_np?"
      ],
      "execution_count": 29,
      "outputs": []
    },
    {
      "cell_type": "code",
      "metadata": {
        "id": "wzg4HTYZ8Z6q",
        "colab": {
          "base_uri": "https://localhost:8080/"
        },
        "outputId": "95a7243c-632f-43df-9c9b-c3c4956782c0"
      },
      "source": [
        "len(lol_np)"
      ],
      "execution_count": 30,
      "outputs": [
        {
          "output_type": "execute_result",
          "data": {
            "text/plain": [
              "3"
            ]
          },
          "metadata": {
            "tags": []
          },
          "execution_count": 30
        }
      ]
    },
    {
      "cell_type": "code",
      "metadata": {
        "id": "khF_UCF59Mcu",
        "colab": {
          "base_uri": "https://localhost:8080/"
        },
        "outputId": "45031838-4fa0-42f4-b728-d4b19d5428ed"
      },
      "source": [
        "# Build 2,2,2,3\n",
        "building = np.array([[[[2,2,4],[1,2,9]],[[2,1,2],[1,1,4]]],\n",
        "                    [[[2,2,4],[1,2,9]],[[2,1,2],[1,1,4]]]])\n",
        "building"
      ],
      "execution_count": 31,
      "outputs": [
        {
          "output_type": "execute_result",
          "data": {
            "text/plain": [
              "array([[[[2, 2, 4],\n",
              "         [1, 2, 9]],\n",
              "\n",
              "        [[2, 1, 2],\n",
              "         [1, 1, 4]]],\n",
              "\n",
              "\n",
              "       [[[2, 2, 4],\n",
              "         [1, 2, 9]],\n",
              "\n",
              "        [[2, 1, 2],\n",
              "         [1, 1, 4]]]])"
            ]
          },
          "metadata": {
            "tags": []
          },
          "execution_count": 31
        }
      ]
    },
    {
      "cell_type": "code",
      "metadata": {
        "colab": {
          "base_uri": "https://localhost:8080/"
        },
        "id": "O9LxtXoHfelm",
        "outputId": "ba2dd96f-d54c-4c51-831e-ee628885d441"
      },
      "source": [
        "len(building)"
      ],
      "execution_count": 40,
      "outputs": [
        {
          "output_type": "execute_result",
          "data": {
            "text/plain": [
              "2"
            ]
          },
          "metadata": {
            "tags": []
          },
          "execution_count": 40
        }
      ]
    },
    {
      "cell_type": "code",
      "metadata": {
        "id": "93vfePvd9-CQ",
        "colab": {
          "base_uri": "https://localhost:8080/"
        },
        "outputId": "1002b044-f0c8-4a5a-ed1f-5520a94cc500"
      },
      "source": [
        "building.shape"
      ],
      "execution_count": 32,
      "outputs": [
        {
          "output_type": "execute_result",
          "data": {
            "text/plain": [
              "(2, 2, 2, 3)"
            ]
          },
          "metadata": {
            "tags": []
          },
          "execution_count": 32
        }
      ]
    },
    {
      "cell_type": "code",
      "metadata": {
        "id": "8lAagMrZ-Lep",
        "colab": {
          "base_uri": "https://localhost:8080/"
        },
        "outputId": "cec86f73-d073-4844-913d-0f0702201856"
      },
      "source": [
        "building.ndim"
      ],
      "execution_count": 33,
      "outputs": [
        {
          "output_type": "execute_result",
          "data": {
            "text/plain": [
              "4"
            ]
          },
          "metadata": {
            "tags": []
          },
          "execution_count": 33
        }
      ]
    },
    {
      "cell_type": "code",
      "metadata": {
        "id": "vn2nODxsAZ1V",
        "colab": {
          "base_uri": "https://localhost:8080/"
        },
        "outputId": "77a86863-0ca6-41de-86b0-9adb8d025f61"
      },
      "source": [
        "building.size"
      ],
      "execution_count": 34,
      "outputs": [
        {
          "output_type": "execute_result",
          "data": {
            "text/plain": [
              "24"
            ]
          },
          "metadata": {
            "tags": []
          },
          "execution_count": 34
        }
      ]
    },
    {
      "cell_type": "code",
      "metadata": {
        "id": "5iDjtKEKAced",
        "colab": {
          "base_uri": "https://localhost:8080/"
        },
        "outputId": "928efa4f-be76-47d4-c67e-66c9d82410b8"
      },
      "source": [
        "my_list = range(24)\n",
        "array = np.array(my_list)\n",
        "array"
      ],
      "execution_count": 43,
      "outputs": [
        {
          "output_type": "execute_result",
          "data": {
            "text/plain": [
              "array([ 0,  1,  2,  3,  4,  5,  6,  7,  8,  9, 10, 11, 12, 13, 14, 15, 16,\n",
              "       17, 18, 19, 20, 21, 22, 23])"
            ]
          },
          "metadata": {
            "tags": []
          },
          "execution_count": 43
        }
      ]
    },
    {
      "cell_type": "code",
      "metadata": {
        "colab": {
          "base_uri": "https://localhost:8080/"
        },
        "id": "BiuQCi0gf9NG",
        "outputId": "a806924e-9abe-4585-e85d-4a941932210d"
      },
      "source": [
        "arr_reshaped = array.reshape(2,2,2,3)\n",
        "arr_reshaped"
      ],
      "execution_count": 44,
      "outputs": [
        {
          "output_type": "execute_result",
          "data": {
            "text/plain": [
              "array([[[[ 0,  1,  2],\n",
              "         [ 3,  4,  5]],\n",
              "\n",
              "        [[ 6,  7,  8],\n",
              "         [ 9, 10, 11]]],\n",
              "\n",
              "\n",
              "       [[[12, 13, 14],\n",
              "         [15, 16, 17]],\n",
              "\n",
              "        [[18, 19, 20],\n",
              "         [21, 22, 23]]]])"
            ]
          },
          "metadata": {
            "tags": []
          },
          "execution_count": 44
        }
      ]
    },
    {
      "cell_type": "code",
      "metadata": {
        "id": "t8bOp8JDBNda",
        "colab": {
          "base_uri": "https://localhost:8080/"
        },
        "outputId": "2c8fd979-aa4a-4abd-e864-1dafe1b81e33"
      },
      "source": [
        "arr_reshaped[0,0,0,0]"
      ],
      "execution_count": 36,
      "outputs": [
        {
          "output_type": "execute_result",
          "data": {
            "text/plain": [
              "0"
            ]
          },
          "metadata": {
            "tags": []
          },
          "execution_count": 36
        }
      ]
    },
    {
      "cell_type": "markdown",
      "metadata": {
        "id": "c1lJdX-rFQ8p"
      },
      "source": [
        "## Quick exercise:\n",
        "\n",
        "Generate an array of 10 integers sampled from a random distribution of [0,10).\n",
        "\n",
        "confirm the length and shape of your array, and\n",
        "calculate the mean, \n",
        "calculate the standard deviation."
      ]
    },
    {
      "cell_type": "code",
      "metadata": {
        "id": "tjBdeVlxFkPN",
        "colab": {
          "base_uri": "https://localhost:8080/"
        },
        "outputId": "78f6a987-65c2-42d1-aab4-6f4d528c83f5"
      },
      "source": [
        "x = np.random.randint(0,10,size=10)\n",
        "x"
      ],
      "execution_count": 54,
      "outputs": [
        {
          "output_type": "execute_result",
          "data": {
            "text/plain": [
              "array([0, 0, 6, 1, 8, 0, 5, 3, 5, 8])"
            ]
          },
          "metadata": {
            "tags": []
          },
          "execution_count": 54
        }
      ]
    },
    {
      "cell_type": "code",
      "metadata": {
        "id": "mAi3Cnx_JWXV",
        "colab": {
          "base_uri": "https://localhost:8080/"
        },
        "outputId": "6d32a6d3-d099-4794-afae-377bca5868e8"
      },
      "source": [
        "x.shape"
      ],
      "execution_count": 56,
      "outputs": [
        {
          "output_type": "execute_result",
          "data": {
            "text/plain": [
              "(10,)"
            ]
          },
          "metadata": {
            "tags": []
          },
          "execution_count": 56
        }
      ]
    },
    {
      "cell_type": "code",
      "metadata": {
        "id": "1g4PCxN-JkmT",
        "colab": {
          "base_uri": "https://localhost:8080/"
        },
        "outputId": "f142cc1a-52eb-4a91-935f-1cb296260f7f"
      },
      "source": [
        "x.ndim"
      ],
      "execution_count": 57,
      "outputs": [
        {
          "output_type": "execute_result",
          "data": {
            "text/plain": [
              "1"
            ]
          },
          "metadata": {
            "tags": []
          },
          "execution_count": 57
        }
      ]
    },
    {
      "cell_type": "code",
      "metadata": {
        "id": "eHWIHgCyJm36",
        "colab": {
          "base_uri": "https://localhost:8080/"
        },
        "outputId": "e8ff4f25-787c-42d5-bd91-bdfc9fae7773"
      },
      "source": [
        "x_new = x.reshape(2,5)\n",
        "x_new"
      ],
      "execution_count": 59,
      "outputs": [
        {
          "output_type": "execute_result",
          "data": {
            "text/plain": [
              "array([[0, 0, 6, 1, 8],\n",
              "       [0, 5, 3, 5, 8]])"
            ]
          },
          "metadata": {
            "tags": []
          },
          "execution_count": 59
        }
      ]
    },
    {
      "cell_type": "markdown",
      "metadata": {
        "id": "QhBquSRz0C5S"
      },
      "source": [
        "\n",
        "\n",
        "## Slicing"
      ]
    },
    {
      "cell_type": "code",
      "metadata": {
        "id": "FGjame-lXkAw",
        "colab": {
          "base_uri": "https://localhost:8080/"
        },
        "outputId": "443e598c-bb7f-4283-9749-c4d21c7b5e4a"
      },
      "source": [
        "lol_np"
      ],
      "execution_count": 60,
      "outputs": [
        {
          "output_type": "execute_result",
          "data": {
            "text/plain": [
              "array([[1, 2],\n",
              "       [3, 4],\n",
              "       [5, 6]])"
            ]
          },
          "metadata": {
            "tags": []
          },
          "execution_count": 60
        }
      ]
    },
    {
      "cell_type": "code",
      "metadata": {
        "id": "hnVVDAbUXm_U",
        "colab": {
          "base_uri": "https://localhost:8080/"
        },
        "outputId": "80e9e123-86d3-45e9-96ea-1f0caf828879"
      },
      "source": [
        "lol_np.shape"
      ],
      "execution_count": 61,
      "outputs": [
        {
          "output_type": "execute_result",
          "data": {
            "text/plain": [
              "(3, 2)"
            ]
          },
          "metadata": {
            "tags": []
          },
          "execution_count": 61
        }
      ]
    },
    {
      "cell_type": "code",
      "metadata": {
        "id": "dJgmb8Ku0xFb",
        "colab": {
          "base_uri": "https://localhost:8080/"
        },
        "outputId": "a3940233-bf0d-4688-a4e8-2f0f36e8d442"
      },
      "source": [
        "# lets slice the array - include everything\n",
        "lol_np[:]"
      ],
      "execution_count": 62,
      "outputs": [
        {
          "output_type": "execute_result",
          "data": {
            "text/plain": [
              "array([[1, 2],\n",
              "       [3, 4],\n",
              "       [5, 6]])"
            ]
          },
          "metadata": {
            "tags": []
          },
          "execution_count": 62
        }
      ]
    },
    {
      "cell_type": "code",
      "metadata": {
        "id": "w58Nkbbt2D_Q",
        "colab": {
          "base_uri": "https://localhost:8080/"
        },
        "outputId": "39b73e78-57cc-4f5e-885a-02f7343c39bb"
      },
      "source": [
        "# get just the first array\n",
        "lol_np[0]"
      ],
      "execution_count": 65,
      "outputs": [
        {
          "output_type": "execute_result",
          "data": {
            "text/plain": [
              "array([1, 2])"
            ]
          },
          "metadata": {
            "tags": []
          },
          "execution_count": 65
        }
      ]
    },
    {
      "cell_type": "markdown",
      "metadata": {
        "id": "yeZth8wI1kKv"
      },
      "source": [
        "Multidimenstional arrays can be sliced using a comma separated set of tuples"
      ]
    },
    {
      "cell_type": "code",
      "metadata": {
        "id": "kwU_tqyi01q0",
        "colab": {
          "base_uri": "https://localhost:8080/"
        },
        "outputId": "92547672-881c-4f37-b627-82a7e09e7ec3"
      },
      "source": [
        "# return just 5 \n",
        "lol_np[2, 0]"
      ],
      "execution_count": 66,
      "outputs": [
        {
          "output_type": "execute_result",
          "data": {
            "text/plain": [
              "5"
            ]
          },
          "metadata": {
            "tags": []
          },
          "execution_count": 66
        }
      ]
    },
    {
      "cell_type": "markdown",
      "metadata": {
        "id": "msfs09Rr3si_"
      },
      "source": [
        "lets look at a larger nd array"
      ]
    },
    {
      "cell_type": "code",
      "metadata": {
        "id": "AMGI7fuJ0_K3",
        "colab": {
          "base_uri": "https://localhost:8080/"
        },
        "outputId": "b4376f79-2930-46b9-f680-d07c59379fa7"
      },
      "source": [
        "# generate a larger array\n",
        "np.random.seed(765) # for reproducing example\n",
        "x2 = np.random.randint(10, 20, size=(3, 4))\n",
        "x2"
      ],
      "execution_count": 67,
      "outputs": [
        {
          "output_type": "execute_result",
          "data": {
            "text/plain": [
              "array([[14, 11, 16, 13],\n",
              "       [10, 16, 13, 12],\n",
              "       [11, 10, 17, 14]])"
            ]
          },
          "metadata": {
            "tags": []
          },
          "execution_count": 67
        }
      ]
    },
    {
      "cell_type": "code",
      "metadata": {
        "id": "dh6UKaRE0x3n",
        "colab": {
          "base_uri": "https://localhost:8080/"
        },
        "outputId": "7ec6a2fb-9ef2-4e6a-c245-26e09946083b"
      },
      "source": [
        "# shape (rows/columns)\n",
        "x2.shape"
      ],
      "execution_count": 68,
      "outputs": [
        {
          "output_type": "execute_result",
          "data": {
            "text/plain": [
              "(3, 4)"
            ]
          },
          "metadata": {
            "tags": []
          },
          "execution_count": 68
        }
      ]
    },
    {
      "cell_type": "code",
      "metadata": {
        "id": "pFjKfkCy3VWF",
        "colab": {
          "base_uri": "https://localhost:8080/"
        },
        "outputId": "a783de12-5142-4def-a07b-6fe4d5035a5d"
      },
      "source": [
        "# slicing to get all \"rows\" and first \"column\"\n",
        "x2[:, 0]"
      ],
      "execution_count": 69,
      "outputs": [
        {
          "output_type": "execute_result",
          "data": {
            "text/plain": [
              "array([14, 10, 11])"
            ]
          },
          "metadata": {
            "tags": []
          },
          "execution_count": 69
        }
      ]
    },
    {
      "cell_type": "code",
      "metadata": {
        "id": "tZ4LvXn13gwg",
        "colab": {
          "base_uri": "https://localhost:8080/"
        },
        "outputId": "49cbdd31-0a27-4de7-8919-52acf4cf9128"
      },
      "source": [
        "# 2 rows, 3 cols\n",
        "x2[:2, :3]"
      ],
      "execution_count": 70,
      "outputs": [
        {
          "output_type": "execute_result",
          "data": {
            "text/plain": [
              "array([[14, 11, 16],\n",
              "       [10, 16, 13]])"
            ]
          },
          "metadata": {
            "tags": []
          },
          "execution_count": 70
        }
      ]
    },
    {
      "cell_type": "code",
      "metadata": {
        "id": "2HlD1XIq4Bvm",
        "colab": {
          "base_uri": "https://localhost:8080/"
        },
        "outputId": "7930954b-e405-40f9-e6fd-d99e5afc9aed"
      },
      "source": [
        "# just get one row\n",
        "x2[0]"
      ],
      "execution_count": 71,
      "outputs": [
        {
          "output_type": "execute_result",
          "data": {
            "text/plain": [
              "array([14, 11, 16, 13])"
            ]
          },
          "metadata": {
            "tags": []
          },
          "execution_count": 71
        }
      ]
    },
    {
      "cell_type": "code",
      "metadata": {
        "id": "iEUmFfOWNxLS",
        "colab": {
          "base_uri": "https://localhost:8080/"
        },
        "outputId": "3456c181-c186-4bfc-fa97-ea628afb6659"
      },
      "source": [
        "# want to reverse?\n",
        "x2[::-1,:]"
      ],
      "execution_count": 72,
      "outputs": [
        {
          "output_type": "execute_result",
          "data": {
            "text/plain": [
              "array([[11, 10, 17, 14],\n",
              "       [10, 16, 13, 12],\n",
              "       [14, 11, 16, 13]])"
            ]
          },
          "metadata": {
            "tags": []
          },
          "execution_count": 72
        }
      ]
    },
    {
      "cell_type": "code",
      "metadata": {
        "id": "WDz-3zFJ4WRU",
        "colab": {
          "base_uri": "https://localhost:8080/"
        },
        "outputId": "8ee52bc1-9f2b-4ae5-9cda-003cf07ae209"
      },
      "source": [
        "# want to reverse? （起始位置：终止位置：步幅）\n",
        "x2[::-1, ::-1]\n"
      ],
      "execution_count": 73,
      "outputs": [
        {
          "output_type": "execute_result",
          "data": {
            "text/plain": [
              "array([[14, 17, 10, 11],\n",
              "       [12, 13, 16, 10],\n",
              "       [13, 16, 11, 14]])"
            ]
          },
          "metadata": {
            "tags": []
          },
          "execution_count": 73
        }
      ]
    },
    {
      "cell_type": "code",
      "metadata": {
        "id": "pWxqI_J_ZAPu",
        "colab": {
          "base_uri": "https://localhost:8080/"
        },
        "outputId": "19dfb0da-e5a1-4b6d-fe13-700df60667a0"
      },
      "source": [
        "x2"
      ],
      "execution_count": 74,
      "outputs": [
        {
          "output_type": "execute_result",
          "data": {
            "text/plain": [
              "array([[14, 11, 16, 13],\n",
              "       [10, 16, 13, 12],\n",
              "       [11, 10, 17, 14]])"
            ]
          },
          "metadata": {
            "tags": []
          },
          "execution_count": 74
        }
      ]
    },
    {
      "cell_type": "code",
      "metadata": {
        "id": "pT_SUj3UX0H9",
        "colab": {
          "base_uri": "https://localhost:8080/"
        },
        "outputId": "924fe4d9-43e4-499d-b095-98b7b3a5436a"
      },
      "source": [
        "# we can also do math!\n",
        "print(x2.mean())   #mean\n",
        "print(x2.std())    #standard deviation\n",
        "print(x2.max())    #max\n"
      ],
      "execution_count": 75,
      "outputs": [
        {
          "output_type": "stream",
          "text": [
            "13.083333333333334\n",
            "2.289771944005681\n",
            "17\n"
          ],
          "name": "stdout"
        }
      ]
    },
    {
      "cell_type": "markdown",
      "metadata": {
        "id": "r-uSoSymGIe9"
      },
      "source": [
        "## Quick exercise \n",
        "\n",
        "Update the value of x2 such that the element that was previously 17 becomes 71. You can locate the element manually."
      ]
    },
    {
      "cell_type": "code",
      "metadata": {
        "id": "sBv5X7VRQMwI",
        "colab": {
          "base_uri": "https://localhost:8080/"
        },
        "outputId": "7f60a482-8d82-4b79-a80b-b21dfc48e9c3"
      },
      "source": [
        "x2"
      ],
      "execution_count": 76,
      "outputs": [
        {
          "output_type": "execute_result",
          "data": {
            "text/plain": [
              "array([[14, 11, 16, 13],\n",
              "       [10, 16, 13, 12],\n",
              "       [11, 10, 17, 14]])"
            ]
          },
          "metadata": {
            "tags": []
          },
          "execution_count": 76
        }
      ]
    },
    {
      "cell_type": "code",
      "metadata": {
        "id": "WlnH-G1DRLMK",
        "colab": {
          "base_uri": "https://localhost:8080/"
        },
        "outputId": "937afc4c-ce79-4002-a090-f5fdf0e9fe46"
      },
      "source": [
        "x2[2,2] = 71\n",
        "x2"
      ],
      "execution_count": 77,
      "outputs": [
        {
          "output_type": "execute_result",
          "data": {
            "text/plain": [
              "array([[14, 11, 16, 13],\n",
              "       [10, 16, 13, 12],\n",
              "       [11, 10, 71, 14]])"
            ]
          },
          "metadata": {
            "tags": []
          },
          "execution_count": 77
        }
      ]
    },
    {
      "cell_type": "markdown",
      "metadata": {
        "id": "CD_wgRTmL9OD"
      },
      "source": [
        "---\n"
      ]
    },
    {
      "cell_type": "markdown",
      "metadata": {
        "id": "11EG0KPi4s1o"
      },
      "source": [
        "# Useful methods"
      ]
    },
    {
      "cell_type": "code",
      "metadata": {
        "id": "SbPyHBnUAAbt",
        "colab": {
          "base_uri": "https://localhost:8080/"
        },
        "outputId": "b17a673f-37bd-4188-ffad-b5f12f2d1d01"
      },
      "source": [
        "# arange: like range, generate an array of numbers with bounds and spacing\n",
        "x = np.arange(2,10,2)\n",
        "x"
      ],
      "execution_count": 88,
      "outputs": [
        {
          "output_type": "execute_result",
          "data": {
            "text/plain": [
              "array([2, 4, 6, 8])"
            ]
          },
          "metadata": {
            "tags": []
          },
          "execution_count": 88
        }
      ]
    },
    {
      "cell_type": "code",
      "metadata": {
        "id": "R8bHq99FAEMo",
        "colab": {
          "base_uri": "https://localhost:8080/"
        },
        "outputId": "eeb314ea-116b-4a6c-ffca-b33703f4bee8"
      },
      "source": [
        "# do some math and finding locations\n",
        "print(\"the mean of the array is {}\".format(str( x.mean() )))   # x.mean()\n",
        "print(\"the largest value in the array is {}\".format(str( x.max() )))   # x.max()\n",
        "print(\"the index for the largest value in the array is {}\".format(str( x.argmax() )))   # x.argmax()\n"
      ],
      "execution_count": 89,
      "outputs": [
        {
          "output_type": "stream",
          "text": [
            "the mean of the array is 5.0\n",
            "the largest value in the array is 8\n",
            "the index for the largest value in the array is 3\n"
          ],
          "name": "stdout"
        }
      ]
    },
    {
      "cell_type": "code",
      "metadata": {
        "id": "7scepTyDXOnl",
        "colab": {
          "base_uri": "https://localhost:8080/"
        },
        "outputId": "e4f4d03f-340a-4354-ae4a-5d0ecf6205cf"
      },
      "source": [
        "x"
      ],
      "execution_count": 90,
      "outputs": [
        {
          "output_type": "execute_result",
          "data": {
            "text/plain": [
              "array([2, 4, 6, 8])"
            ]
          },
          "metadata": {
            "tags": []
          },
          "execution_count": 90
        }
      ]
    },
    {
      "cell_type": "code",
      "metadata": {
        "id": "b25qWL2n74Fm",
        "colab": {
          "base_uri": "https://localhost:8080/"
        },
        "outputId": "61c8b219-9795-4edc-87ca-15746e4fe137"
      },
      "source": [
        "# we can generate an array of booleans for subsetting - this is very useful!\n",
        "x > 5"
      ],
      "execution_count": 91,
      "outputs": [
        {
          "output_type": "execute_result",
          "data": {
            "text/plain": [
              "array([False, False,  True,  True])"
            ]
          },
          "metadata": {
            "tags": []
          },
          "execution_count": 91
        }
      ]
    },
    {
      "cell_type": "code",
      "metadata": {
        "id": "rs6MUNHE8hXP",
        "colab": {
          "base_uri": "https://localhost:8080/"
        },
        "outputId": "ba7ca168-d3c6-43e3-d71b-c0a94cc73aa7"
      },
      "source": [
        "# we can also do complex logic: logical and\n",
        "np.logical_and(x > 0, x <5)"
      ],
      "execution_count": 92,
      "outputs": [
        {
          "output_type": "execute_result",
          "data": {
            "text/plain": [
              "array([ True,  True, False, False])"
            ]
          },
          "metadata": {
            "tags": []
          },
          "execution_count": 92
        }
      ]
    },
    {
      "cell_type": "code",
      "metadata": {
        "id": "EUu4QI9n8vMA",
        "colab": {
          "base_uri": "https://localhost:8080/"
        },
        "outputId": "3264eccf-6d53-45c3-94e7-c2f32475942d"
      },
      "source": [
        "# logical or\n",
        "np.logical_or(x > 5, x <7)"
      ],
      "execution_count": 93,
      "outputs": [
        {
          "output_type": "execute_result",
          "data": {
            "text/plain": [
              "array([ True,  True,  True,  True])"
            ]
          },
          "metadata": {
            "tags": []
          },
          "execution_count": 93
        }
      ]
    },
    {
      "cell_type": "markdown",
      "metadata": {
        "id": "q3lPw6PXSaWa"
      },
      "source": [
        "---"
      ]
    },
    {
      "cell_type": "markdown",
      "metadata": {
        "id": "XZRaQ4aCB26V"
      },
      "source": [
        "## Discussion on logical_and/or\n",
        "\n",
        "The concept of booleans across our arrays is a really important concept to understand.  This is the foundation for how we filter rows/columns in our data analysis in python (pandas, more specifically).  When slicing (i.e. filtering) our data, we keep the `True` elements.\n",
        "\n",
        "\n"
      ]
    },
    {
      "cell_type": "code",
      "metadata": {
        "id": "mmEtdU7LRh2s",
        "colab": {
          "base_uri": "https://localhost:8080/"
        },
        "outputId": "5c92ec87-1a38-4396-8374-8759c4909308"
      },
      "source": [
        "# Let's see this in action\n",
        "np.random.seed(765)\n",
        "x = np.random.randint(0, 10, size=100)\n",
        "print(x.shape)\n",
        "x[:5]"
      ],
      "execution_count": 94,
      "outputs": [
        {
          "output_type": "stream",
          "text": [
            "(100,)\n"
          ],
          "name": "stdout"
        },
        {
          "output_type": "execute_result",
          "data": {
            "text/plain": [
              "array([4, 1, 6, 3, 0])"
            ]
          },
          "metadata": {
            "tags": []
          },
          "execution_count": 94
        }
      ]
    },
    {
      "cell_type": "code",
      "metadata": {
        "id": "M1FsUCGKTsPo",
        "colab": {
          "base_uri": "https://localhost:8080/"
        },
        "outputId": "93915c13-0a07-43db-ad8a-49b90b14dc55"
      },
      "source": [
        "x"
      ],
      "execution_count": 95,
      "outputs": [
        {
          "output_type": "execute_result",
          "data": {
            "text/plain": [
              "array([4, 1, 6, 3, 0, 6, 3, 2, 1, 0, 7, 4, 4, 0, 1, 8, 3, 7, 8, 7, 7, 8,\n",
              "       6, 8, 2, 8, 2, 6, 9, 1, 7, 4, 1, 9, 4, 8, 4, 5, 2, 5, 1, 1, 9, 0,\n",
              "       5, 8, 0, 7, 4, 1, 1, 7, 2, 5, 1, 4, 1, 4, 7, 3, 5, 6, 4, 8, 3, 4,\n",
              "       5, 0, 4, 0, 8, 0, 3, 2, 0, 8, 8, 5, 6, 2, 7, 8, 3, 5, 0, 6, 9, 2,\n",
              "       1, 6, 2, 3, 3, 0, 0, 4, 4, 1, 3, 3])"
            ]
          },
          "metadata": {
            "tags": []
          },
          "execution_count": 95
        }
      ]
    },
    {
      "cell_type": "code",
      "metadata": {
        "id": "dfxplAuOcXYB",
        "colab": {
          "base_uri": "https://localhost:8080/"
        },
        "outputId": "e8f7a185-7980-4125-f6eb-ecbd8673bf12"
      },
      "source": [
        "x.ndim"
      ],
      "execution_count": 96,
      "outputs": [
        {
          "output_type": "execute_result",
          "data": {
            "text/plain": [
              "1"
            ]
          },
          "metadata": {
            "tags": []
          },
          "execution_count": 96
        }
      ]
    },
    {
      "cell_type": "code",
      "metadata": {
        "id": "C5N_u0dZRhyK",
        "colab": {
          "base_uri": "https://localhost:8080/"
        },
        "outputId": "f4657f4d-08f3-4984-cd00-f3f9240448aa"
      },
      "source": [
        "# save a variable to store our test results\n",
        "tests = (x >= 4)\n",
        "tests[:5]"
      ],
      "execution_count": 98,
      "outputs": [
        {
          "output_type": "execute_result",
          "data": {
            "text/plain": [
              "array([ True, False,  True, False, False])"
            ]
          },
          "metadata": {
            "tags": []
          },
          "execution_count": 98
        }
      ]
    },
    {
      "cell_type": "code",
      "metadata": {
        "id": "Lmwza2xmRhuu",
        "colab": {
          "base_uri": "https://localhost:8080/"
        },
        "outputId": "9af02031-f556-4695-8503-56498c592105"
      },
      "source": [
        "# confirm that they are the same shape\n",
        "x.shape == tests.shape"
      ],
      "execution_count": 99,
      "outputs": [
        {
          "output_type": "execute_result",
          "data": {
            "text/plain": [
              "True"
            ]
          },
          "metadata": {
            "tags": []
          },
          "execution_count": 99
        }
      ]
    },
    {
      "cell_type": "code",
      "metadata": {
        "id": "72cxkAHLR_Xf",
        "colab": {
          "base_uri": "https://localhost:8080/"
        },
        "outputId": "72cc3f65-9fdc-4bc6-eae8-8ab6e269033e"
      },
      "source": [
        "# finally, keep just those that meet our criteria\n",
        "# WE ONLY KEEP THE TRUE\n",
        "keep = x[tests]\n",
        "keep.shape"
      ],
      "execution_count": 100,
      "outputs": [
        {
          "output_type": "execute_result",
          "data": {
            "text/plain": [
              "(55,)"
            ]
          },
          "metadata": {
            "tags": []
          },
          "execution_count": 100
        }
      ]
    },
    {
      "cell_type": "code",
      "metadata": {
        "id": "DFS4JIVsc1JQ",
        "colab": {
          "base_uri": "https://localhost:8080/"
        },
        "outputId": "7afdbe04-d8cc-4180-8b80-2b69749c22b9"
      },
      "source": [
        "keep"
      ],
      "execution_count": 101,
      "outputs": [
        {
          "output_type": "execute_result",
          "data": {
            "text/plain": [
              "array([4, 6, 6, 7, 4, 4, 8, 7, 8, 7, 7, 8, 6, 8, 8, 6, 9, 7, 4, 9, 4, 8,\n",
              "       4, 5, 5, 9, 5, 8, 7, 4, 7, 5, 4, 4, 7, 5, 6, 4, 8, 4, 5, 4, 8, 8,\n",
              "       8, 5, 6, 7, 8, 5, 6, 9, 6, 4, 4])"
            ]
          },
          "metadata": {
            "tags": []
          },
          "execution_count": 101
        }
      ]
    },
    {
      "cell_type": "markdown",
      "metadata": {
        "id": "r6uvNor8TBYJ"
      },
      "source": [
        "> To see a much larger list of what is possible for logical check in numpy, here are the docs:  https://numpy.org/doc/stable/reference/routines.logic.html"
      ]
    },
    {
      "cell_type": "markdown",
      "metadata": {
        "id": "ArQIfWIbR_Rc"
      },
      "source": [
        "-----\n",
        "-----"
      ]
    },
    {
      "cell_type": "markdown",
      "metadata": {
        "id": "cbOA4VzGIrNe"
      },
      "source": [
        "## Reshaping\n",
        "Another method that comes very handy is reshaping arrays - the name is clear so there is not much to say about this than showing how it works:"
      ]
    },
    {
      "cell_type": "code",
      "metadata": {
        "id": "KznpbnlxI5He",
        "colab": {
          "base_uri": "https://localhost:8080/"
        },
        "outputId": "d85316ec-e701-4ba9-8279-ebfad374fe1c"
      },
      "source": [
        "my_array = np.arange(10)\n",
        "my_array"
      ],
      "execution_count": 102,
      "outputs": [
        {
          "output_type": "execute_result",
          "data": {
            "text/plain": [
              "array([0, 1, 2, 3, 4, 5, 6, 7, 8, 9])"
            ]
          },
          "metadata": {
            "tags": []
          },
          "execution_count": 102
        }
      ]
    },
    {
      "cell_type": "code",
      "metadata": {
        "id": "4xEBnWipI4ra",
        "colab": {
          "base_uri": "https://localhost:8080/"
        },
        "outputId": "e90fe100-7269-4581-cc28-f6e9193b8a28"
      },
      "source": [
        "my_array.reshape((2,5))"
      ],
      "execution_count": 103,
      "outputs": [
        {
          "output_type": "execute_result",
          "data": {
            "text/plain": [
              "array([[0, 1, 2, 3, 4],\n",
              "       [5, 6, 7, 8, 9]])"
            ]
          },
          "metadata": {
            "tags": []
          },
          "execution_count": 103
        }
      ]
    },
    {
      "cell_type": "markdown",
      "metadata": {
        "id": "HaG-8wQqZqV-"
      },
      "source": [
        "## Mathematical Operations on Axis\n",
        "\n",
        "Helpful resource:  https://www.sharpsightlabs.com/blog/numpy-axes-explained/\n",
        "\n",
        "![axis](https://i.imgur.com/4aL45nA.png)\n",
        "\n",
        "<br>\n",
        "\n",
        "### What is really happening?\n",
        "\n",
        "<br>\n",
        "\n",
        "Axis 0 = we collapse/summarize *across* the rows\n",
        "\n",
        "![axis0](https://vrzkj25a871bpq7t1ugcgmn9-wpengine.netdna-ssl.com/wp-content/uploads/2018/12/numpy-axes-np-sum-axis-0.png)\n",
        "\n",
        "Axis 1 = we collapse/summarize *across* the columns\n",
        "\n",
        "\n",
        "![axis1](https://vrzkj25a871bpq7t1ugcgmn9-wpengine.netdna-ssl.com/wp-content/uploads/2018/11/numpy-axes-np-sum-axis-1.png)\n"
      ]
    },
    {
      "cell_type": "code",
      "metadata": {
        "id": "jZ8gdeE4Zyma"
      },
      "source": [
        "np.random.seed(765)\n",
        "a = np.random.randint(0, 100, size=(3, 7))"
      ],
      "execution_count": 104,
      "outputs": []
    },
    {
      "cell_type": "code",
      "metadata": {
        "id": "tufg79roCypq",
        "colab": {
          "base_uri": "https://localhost:8080/"
        },
        "outputId": "8183d51f-0958-47cd-e32a-3c38399d68fe"
      },
      "source": [
        "a"
      ],
      "execution_count": 105,
      "outputs": [
        {
          "output_type": "execute_result",
          "data": {
            "text/plain": [
              "array([[29, 90,  4, 46, 27, 81, 70],\n",
              "       [92, 79, 60, 19,  0, 38, 18],\n",
              "       [65, 16,  7, 42, 36, 64, 17]])"
            ]
          },
          "metadata": {
            "tags": []
          },
          "execution_count": 105
        }
      ]
    },
    {
      "cell_type": "code",
      "metadata": {
        "id": "IaLOjQ_bCyuc",
        "colab": {
          "base_uri": "https://localhost:8080/"
        },
        "outputId": "d7b411c7-7382-4289-a768-d2542da40a8c"
      },
      "source": [
        "type(a)"
      ],
      "execution_count": 106,
      "outputs": [
        {
          "output_type": "execute_result",
          "data": {
            "text/plain": [
              "numpy.ndarray"
            ]
          },
          "metadata": {
            "tags": []
          },
          "execution_count": 106
        }
      ]
    },
    {
      "cell_type": "code",
      "metadata": {
        "id": "MZwAyXI2Cyxt",
        "colab": {
          "base_uri": "https://localhost:8080/"
        },
        "outputId": "4d287df6-fc7c-431d-f316-c1cd4db737d7"
      },
      "source": [
        "a.shape"
      ],
      "execution_count": 107,
      "outputs": [
        {
          "output_type": "execute_result",
          "data": {
            "text/plain": [
              "(3, 7)"
            ]
          },
          "metadata": {
            "tags": []
          },
          "execution_count": 107
        }
      ]
    },
    {
      "cell_type": "code",
      "metadata": {
        "id": "5p-qCHDgDAi-",
        "colab": {
          "base_uri": "https://localhost:8080/"
        },
        "outputId": "2088a35f-3ad7-4ef3-fcb8-fcc1e1b4e7ee"
      },
      "source": [
        "a.ndim"
      ],
      "execution_count": 108,
      "outputs": [
        {
          "output_type": "execute_result",
          "data": {
            "text/plain": [
              "2"
            ]
          },
          "metadata": {
            "tags": []
          },
          "execution_count": 108
        }
      ]
    },
    {
      "cell_type": "code",
      "metadata": {
        "id": "ZUd_tb-vDAnL",
        "colab": {
          "base_uri": "https://localhost:8080/"
        },
        "outputId": "bb0bb4f8-da56-44fc-f083-3cf650937e0e"
      },
      "source": [
        "a.mean()"
      ],
      "execution_count": 109,
      "outputs": [
        {
          "output_type": "execute_result",
          "data": {
            "text/plain": [
              "42.857142857142854"
            ]
          },
          "metadata": {
            "tags": []
          },
          "execution_count": 109
        }
      ]
    },
    {
      "cell_type": "code",
      "metadata": {
        "id": "QycZFRjuDJXW",
        "colab": {
          "base_uri": "https://localhost:8080/"
        },
        "outputId": "07d61895-db00-475a-ba03-11fe1f2beb96"
      },
      "source": [
        "a.sum()"
      ],
      "execution_count": 110,
      "outputs": [
        {
          "output_type": "execute_result",
          "data": {
            "text/plain": [
              "900"
            ]
          },
          "metadata": {
            "tags": []
          },
          "execution_count": 110
        }
      ]
    },
    {
      "cell_type": "code",
      "metadata": {
        "id": "5l02dCyyDJdt",
        "colab": {
          "base_uri": "https://localhost:8080/"
        },
        "outputId": "504806aa-1401-4386-cc1a-1aad9dc8b99b"
      },
      "source": [
        "a.max()"
      ],
      "execution_count": 111,
      "outputs": [
        {
          "output_type": "execute_result",
          "data": {
            "text/plain": [
              "92"
            ]
          },
          "metadata": {
            "tags": []
          },
          "execution_count": 111
        }
      ]
    },
    {
      "cell_type": "code",
      "metadata": {
        "id": "-Sjy-V8ZDJgt",
        "colab": {
          "base_uri": "https://localhost:8080/"
        },
        "outputId": "dabfa911-79ce-4eb7-d09f-d10b28df9c87"
      },
      "source": [
        "a.min()"
      ],
      "execution_count": 112,
      "outputs": [
        {
          "output_type": "execute_result",
          "data": {
            "text/plain": [
              "0"
            ]
          },
          "metadata": {
            "tags": []
          },
          "execution_count": 112
        }
      ]
    },
    {
      "cell_type": "markdown",
      "metadata": {
        "id": "WVEULBVj3gnL"
      },
      "source": [
        "Now we will use the `sum` operation specifying the array axis (refer to images above)\n",
        "\n",
        "We are summing across axis 0 (the first axis):"
      ]
    },
    {
      "cell_type": "code",
      "metadata": {
        "id": "wD6nB3CIDAqE",
        "colab": {
          "base_uri": "https://localhost:8080/"
        },
        "outputId": "9307cd5b-0151-447e-a6e7-be05878ed5d3"
      },
      "source": [
        "# add all the elements to the direction of axis-0 and leave as much elements as axis-1 has\n",
        "axis0 = a.sum(axis=0)\n",
        "axis0"
      ],
      "execution_count": 113,
      "outputs": [
        {
          "output_type": "execute_result",
          "data": {
            "text/plain": [
              "array([186, 185,  71, 107,  63, 183, 105])"
            ]
          },
          "metadata": {
            "tags": []
          },
          "execution_count": 113
        }
      ]
    },
    {
      "cell_type": "code",
      "metadata": {
        "id": "CJA6XA52XTOv",
        "colab": {
          "base_uri": "https://localhost:8080/"
        },
        "outputId": "290442ba-9fcf-4a8f-e365-27b08eb345e3"
      },
      "source": [
        "a.sum(axis=(0,1))"
      ],
      "execution_count": 114,
      "outputs": [
        {
          "output_type": "execute_result",
          "data": {
            "text/plain": [
              "900"
            ]
          },
          "metadata": {
            "tags": []
          },
          "execution_count": 114
        }
      ]
    },
    {
      "cell_type": "code",
      "metadata": {
        "id": "5hIE4sP7DZGB",
        "colab": {
          "base_uri": "https://localhost:8080/"
        },
        "outputId": "09c14d4e-90c1-4d2f-b046-62ad021d047c"
      },
      "source": [
        "len(a.sum(axis=0))"
      ],
      "execution_count": 115,
      "outputs": [
        {
          "output_type": "execute_result",
          "data": {
            "text/plain": [
              "7"
            ]
          },
          "metadata": {
            "tags": []
          },
          "execution_count": 115
        }
      ]
    },
    {
      "cell_type": "markdown",
      "metadata": {
        "id": "sIa2lisz3y_n"
      },
      "source": [
        "What if we performed the sum across the other axis, axis 1? How many elements would it return?"
      ]
    },
    {
      "cell_type": "code",
      "metadata": {
        "id": "meQpVBYwDZJ_",
        "colab": {
          "base_uri": "https://localhost:8080/"
        },
        "outputId": "a5f4625d-0cb9-4d82-ff05-b97d0c00edf2"
      },
      "source": [
        "axis1 = a.sum(axis=1)\n",
        "axis1"
      ],
      "execution_count": 116,
      "outputs": [
        {
          "output_type": "execute_result",
          "data": {
            "text/plain": [
              "array([347, 306, 247])"
            ]
          },
          "metadata": {
            "tags": []
          },
          "execution_count": 116
        }
      ]
    },
    {
      "cell_type": "markdown",
      "metadata": {
        "id": "CccZusvJGqLb"
      },
      "source": [
        "## Quick exercise:\n",
        "\n",
        "Find the mean of the above array along various axes."
      ]
    },
    {
      "cell_type": "code",
      "metadata": {
        "id": "7-evs0UIXOop",
        "colab": {
          "base_uri": "https://localhost:8080/"
        },
        "outputId": "c749acd0-c102-427d-ad7b-20238801c440"
      },
      "source": [
        "print(axis0.mean())\n",
        "print(axis1.mean())"
      ],
      "execution_count": 117,
      "outputs": [
        {
          "output_type": "stream",
          "text": [
            "128.57142857142858\n",
            "300.0\n"
          ],
          "name": "stdout"
        }
      ]
    },
    {
      "cell_type": "markdown",
      "metadata": {
        "id": "0Nuh_XAT39QT"
      },
      "source": [
        "## Array operations\n",
        "Now let's do some array operations "
      ]
    },
    {
      "cell_type": "code",
      "metadata": {
        "id": "SHCGUbAUDZNv",
        "colab": {
          "base_uri": "https://localhost:8080/"
        },
        "outputId": "6371bde3-253a-47e9-c314-0af0a8024912"
      },
      "source": [
        "# array ops\n",
        "np.random.seed(765)\n",
        "x = np.random.randint(0, 10, size=(10))\n",
        "y = np.random.randint(20, 100, size=(10))\n",
        "x"
      ],
      "execution_count": 120,
      "outputs": [
        {
          "output_type": "execute_result",
          "data": {
            "text/plain": [
              "array([4, 1, 6, 3, 0, 6, 3, 2, 1, 0])"
            ]
          },
          "metadata": {
            "tags": []
          },
          "execution_count": 120
        }
      ]
    },
    {
      "cell_type": "code",
      "metadata": {
        "colab": {
          "base_uri": "https://localhost:8080/"
        },
        "id": "3pGOJGIMkLFH",
        "outputId": "39bf22b7-ef15-4a84-edcf-5427af5eea11"
      },
      "source": [
        "y"
      ],
      "execution_count": 121,
      "outputs": [
        {
          "output_type": "execute_result",
          "data": {
            "text/plain": [
              "array([27, 62, 56, 84, 37, 28, 49, 75, 75, 26])"
            ]
          },
          "metadata": {
            "tags": []
          },
          "execution_count": 121
        }
      ]
    },
    {
      "cell_type": "code",
      "metadata": {
        "id": "e0Yyu0IYDZSM",
        "colab": {
          "base_uri": "https://localhost:8080/"
        },
        "outputId": "d553e193-0130-4c54-ee04-ff1cb1e68b03"
      },
      "source": [
        "x - y"
      ],
      "execution_count": 122,
      "outputs": [
        {
          "output_type": "execute_result",
          "data": {
            "text/plain": [
              "array([-23, -61, -50, -81, -37, -22, -46, -73, -74, -26])"
            ]
          },
          "metadata": {
            "tags": []
          },
          "execution_count": 122
        }
      ]
    },
    {
      "cell_type": "code",
      "metadata": {
        "id": "YRM8-7pBCy0f",
        "colab": {
          "base_uri": "https://localhost:8080/"
        },
        "outputId": "c659c242-815d-42d6-e9ed-3df15f95fbc2"
      },
      "source": [
        "x *y"
      ],
      "execution_count": 123,
      "outputs": [
        {
          "output_type": "execute_result",
          "data": {
            "text/plain": [
              "array([108,  62, 336, 252,   0, 168, 147, 150,  75,   0])"
            ]
          },
          "metadata": {
            "tags": []
          },
          "execution_count": 123
        }
      ]
    },
    {
      "cell_type": "code",
      "metadata": {
        "id": "yYjuIa3bZvLw"
      },
      "source": [
        "np.random.seed(765)\n",
        "x = np.random.randint(0, 10, size=(9))\n",
        "y = np.random.randint(20, 100, size=(10))"
      ],
      "execution_count": 124,
      "outputs": []
    },
    {
      "cell_type": "code",
      "metadata": {
        "colab": {
          "base_uri": "https://localhost:8080/"
        },
        "id": "XqwGjs6NkPqB",
        "outputId": "39b94b1a-1882-4702-c58b-85cf70f30e85"
      },
      "source": [
        "x"
      ],
      "execution_count": 125,
      "outputs": [
        {
          "output_type": "execute_result",
          "data": {
            "text/plain": [
              "array([4, 1, 6, 3, 0, 6, 3, 2, 1])"
            ]
          },
          "metadata": {
            "tags": []
          },
          "execution_count": 125
        }
      ]
    },
    {
      "cell_type": "code",
      "metadata": {
        "colab": {
          "base_uri": "https://localhost:8080/"
        },
        "id": "WIJ5Js0XkRAq",
        "outputId": "d80f6ab1-6142-4102-dc78-61ad57490535"
      },
      "source": [
        "y"
      ],
      "execution_count": 126,
      "outputs": [
        {
          "output_type": "execute_result",
          "data": {
            "text/plain": [
              "array([36, 27, 62, 56, 84, 37, 28, 49, 75, 75])"
            ]
          },
          "metadata": {
            "tags": []
          },
          "execution_count": 126
        }
      ]
    },
    {
      "cell_type": "code",
      "metadata": {
        "id": "Fix4kt7SFjls",
        "colab": {
          "base_uri": "https://localhost:8080/",
          "height": 168
        },
        "outputId": "7e9b8e84-0977-4302-90d0-7589a39233af"
      },
      "source": [
        "x - y"
      ],
      "execution_count": 127,
      "outputs": [
        {
          "output_type": "error",
          "ename": "ValueError",
          "evalue": "ignored",
          "traceback": [
            "\u001b[0;31m---------------------------------------------------------------------------\u001b[0m",
            "\u001b[0;31mValueError\u001b[0m                                Traceback (most recent call last)",
            "\u001b[0;32m<ipython-input-127-86286c876b5e>\u001b[0m in \u001b[0;36m<module>\u001b[0;34m()\u001b[0m\n\u001b[0;32m----> 1\u001b[0;31m \u001b[0mx\u001b[0m \u001b[0;34m-\u001b[0m \u001b[0my\u001b[0m\u001b[0;34m\u001b[0m\u001b[0;34m\u001b[0m\u001b[0m\n\u001b[0m",
            "\u001b[0;31mValueError\u001b[0m: operands could not be broadcast together with shapes (9,) (10,) "
          ]
        }
      ]
    },
    {
      "cell_type": "code",
      "metadata": {
        "id": "Uy9rD2_OFjuL",
        "colab": {
          "base_uri": "https://localhost:8080/"
        },
        "outputId": "f604662f-bfc6-4f67-a915-dace246942d9"
      },
      "source": [
        "print(x)"
      ],
      "execution_count": 128,
      "outputs": [
        {
          "output_type": "stream",
          "text": [
            "[4 1 6 3 0 6 3 2 1]\n"
          ],
          "name": "stdout"
        }
      ]
    },
    {
      "cell_type": "code",
      "metadata": {
        "id": "QBtLw-IBF-Qx",
        "colab": {
          "base_uri": "https://localhost:8080/"
        },
        "outputId": "56ab6073-1209-4d11-8759-d92b24435807"
      },
      "source": [
        "x"
      ],
      "execution_count": 129,
      "outputs": [
        {
          "output_type": "execute_result",
          "data": {
            "text/plain": [
              "array([4, 1, 6, 3, 0, 6, 3, 2, 1])"
            ]
          },
          "metadata": {
            "tags": []
          },
          "execution_count": 129
        }
      ]
    },
    {
      "cell_type": "code",
      "metadata": {
        "id": "D_AcprxtFjw0",
        "colab": {
          "base_uri": "https://localhost:8080/"
        },
        "outputId": "9b09e493-5b66-4cdc-ee9e-4139bc9fa026"
      },
      "source": [
        "# 返回列表中最大值的位置\n",
        "x.argmax()"
      ],
      "execution_count": 130,
      "outputs": [
        {
          "output_type": "execute_result",
          "data": {
            "text/plain": [
              "2"
            ]
          },
          "metadata": {
            "tags": []
          },
          "execution_count": 130
        }
      ]
    },
    {
      "cell_type": "markdown",
      "metadata": {
        "id": "OhfNhFHy4orj"
      },
      "source": [
        "This is another very important function for arrays, and since we already saw how to build logical arrays using conditionals earlier, it will sound familiar:"
      ]
    },
    {
      "cell_type": "code",
      "metadata": {
        "id": "VE3PR38i5PIZ"
      },
      "source": [
        "?np.where"
      ],
      "execution_count": 131,
      "outputs": []
    },
    {
      "cell_type": "code",
      "metadata": {
        "id": "rX-eB3FeF8wa",
        "colab": {
          "base_uri": "https://localhost:8080/"
        },
        "outputId": "6d7d2fa6-19e2-4e0c-edad-3a74b3f84852"
      },
      "source": [
        "np.where(x >  3, True, False)"
      ],
      "execution_count": 132,
      "outputs": [
        {
          "output_type": "execute_result",
          "data": {
            "text/plain": [
              "array([ True, False,  True, False, False,  True, False, False, False])"
            ]
          },
          "metadata": {
            "tags": []
          },
          "execution_count": 132
        }
      ]
    },
    {
      "cell_type": "markdown",
      "metadata": {
        "id": "idtzMAmLF8ss"
      },
      "source": [
        "\n",
        ">np.where is great for feature engineering because we can evaluate our values and recode the columns however we want.\n",
        "\n",
        "Below is an example of filtering:"
      ]
    },
    {
      "cell_type": "code",
      "metadata": {
        "id": "YjSSRJmoGjfZ",
        "colab": {
          "base_uri": "https://localhost:8080/"
        },
        "outputId": "51854587-3627-43a7-f986-57ef334eeebc"
      },
      "source": [
        "np.where(x > 3, x, 3)"
      ],
      "execution_count": 133,
      "outputs": [
        {
          "output_type": "execute_result",
          "data": {
            "text/plain": [
              "array([4, 3, 6, 3, 3, 6, 3, 3, 3])"
            ]
          },
          "metadata": {
            "tags": []
          },
          "execution_count": 133
        }
      ]
    },
    {
      "cell_type": "markdown",
      "metadata": {
        "id": "nmdnq6SC6irC"
      },
      "source": [
        "# Summary"
      ]
    },
    {
      "cell_type": "markdown",
      "metadata": {
        "id": "9FLjbbWS7TaI"
      },
      "source": [
        "In this notebook, we learned \n",
        "\n",
        "- numpy generates arrays that are very powerful for analysis, and can be thought of enhanced lists\n",
        "\n",
        "- numpy arrays must be of one type, else they will be converted to a singular type\n",
        "\n",
        "- numpy arrays can be multidimensional\n",
        "\n",
        "- numpy arrays can be sliced just like lists, with dimensional slicing occuring `[:, :]`\n",
        "\n",
        "- we can perform mathematical operations using numpy"
      ]
    }
  ]
}