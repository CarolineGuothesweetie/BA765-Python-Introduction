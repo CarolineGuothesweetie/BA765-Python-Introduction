{
  "nbformat": 4,
  "nbformat_minor": 0,
  "metadata": {
    "colab": {
      "name": "“01-IntroToNumpy_Lecture.ipynb”的副本",
      "private_outputs": true,
      "provenance": [],
      "include_colab_link": true
    },
    "kernelspec": {
      "name": "python3",
      "display_name": "Python 3"
    },
    "language_info": {
      "name": "python"
    }
  },
  "cells": [
    {
      "cell_type": "markdown",
      "metadata": {
        "id": "view-in-github",
        "colab_type": "text"
      },
      "source": [
        "<a href=\"https://colab.research.google.com/github/CarolineGuothesweetie/Lecture-notes/blob/main/%E2%80%9C01_IntroToNumpy_Lecture%E2%80%9D.ipynb\" target=\"_parent\"><img src=\"https://colab.research.google.com/assets/colab-badge.svg\" alt=\"Open In Colab\"/></a>"
      ]
    },
    {
      "cell_type": "markdown",
      "metadata": {
        "id": "KY5_3khXt3J6"
      },
      "source": [
        "# Session 05\n",
        "07/20\n",
        "\n",
        "## Notes\n",
        "- Solutions for labs are in their respective session folders (Sessions 2 and 4)\n",
        "- Solution for Assignment 1 was under Session 04, but moved to a new directory called **Assignment Solutions** to make it easy to see!\n",
        "- Assignment 02 due TODAY 11pm ET, accepted until Jul 21 11am ET with late penalty. Not accepted after as the solution will be released when the late acceptance deadline is passed. \n",
        "- Midterm: during class time, on Qtools, 90 minutes, single submission, open notes but not open collaboration. \n",
        "- I see about 20\\% of the class did not attempt Lab2 on Qtools - I re-opened it so please use it to practice qtools!\n",
        "- DataCamp: 12 people (together in both sections) are still MIA - completion rate of any course is ~10\\%\n"
      ]
    },
    {
      "cell_type": "markdown",
      "metadata": {
        "id": "81PZlI0vwAK3"
      },
      "source": [
        "## Outline\n",
        "- Questions about Assignment 2\n",
        "- Numpy Quiz\n",
        "- Numpy Lecture\n",
        "- Numpy Lab\n",
        "\n",
        "If time permits:\n",
        "- Object Oriented Programming and Classes"
      ]
    },
    {
      "cell_type": "markdown",
      "metadata": {
        "id": "Nv45O7jn2Nm4"
      },
      "source": [
        "# About\n",
        "\n",
        "![numpy](https://upload.wikimedia.org/wikipedia/commons/thumb/3/31/NumPy_logo_2020.svg/1200px-NumPy_logo_2020.svg.png)\n",
        "\n",
        "\n",
        "In this notebook we will run through an introduction to [numpy](https://numpy.org/), or numerical python, which is the foundation for the core data analytics and data science ecosystem.\n",
        "\n",
        "See the absolute beginners intro at the numpy project library:\n",
        "https://numpy.org/doc/stable/user/absolute_beginners.html\n",
        "\n",
        "\n"
      ]
    },
    {
      "cell_type": "code",
      "metadata": {
        "id": "EjN_pZ7frWT7"
      },
      "source": [
        "# import the library to get started\n",
        "import numpy as np"
      ],
      "execution_count": null,
      "outputs": []
    },
    {
      "cell_type": "markdown",
      "metadata": {
        "id": "9Ttnwfh1o4pR"
      },
      "source": [
        "Numpy is the workhorse underneath a number of our tools that we will be using.  At the core, numpy **arrays** look a lot like `lists` that we worked through last week, except that they have additional properties:\n",
        "\n",
        "1.  numpy arrays can be multi-dimensional \n",
        "\n",
        "2.  numpy arrays allow us to do calculations on each element  at the same time (we can't do this with lists).  This is **element wise** calculations.\n",
        "\n",
        "3.  unlike lists, numpy arrays hold a single **type**\n",
        "\n",
        ">  ***From above, you see that I imported numpy as np.  This is the standard convention.***"
      ]
    },
    {
      "cell_type": "markdown",
      "metadata": {
        "id": "MuaqGkiPK8Ni"
      },
      "source": [
        "# Lists to numpy arrays"
      ]
    },
    {
      "cell_type": "code",
      "metadata": {
        "id": "qYhheUZ2sZne"
      },
      "source": [
        "# create a normal list\n",
        "my_list = [1,2,4,5,6,7]\n",
        "\n",
        "## print out the type and the values\n",
        "print(type(my_list))\n",
        "print(my_list)"
      ],
      "execution_count": null,
      "outputs": []
    },
    {
      "cell_type": "code",
      "metadata": {
        "id": "JtXD2wbttH_z"
      },
      "source": [
        "# create a new list and perform some math on it\n",
        "new_list = [1,2,3]\n",
        "new_list"
      ],
      "execution_count": null,
      "outputs": []
    },
    {
      "cell_type": "code",
      "metadata": {
        "id": "KTVUDIPStafv"
      },
      "source": [
        "# multiple the list by 3\n",
        "new_list * 3"
      ],
      "execution_count": null,
      "outputs": []
    },
    {
      "cell_type": "code",
      "metadata": {
        "id": "MVtHqNxDVjyu"
      },
      "source": [
        "\"ba765\"*3"
      ],
      "execution_count": null,
      "outputs": []
    },
    {
      "cell_type": "markdown",
      "metadata": {
        "id": "edu7vQ1StufZ"
      },
      "source": [
        "Above shows that just like with `+`, we can repeat the list with `*`. \n",
        "\n",
        "While, when we do work with numerical data, we often want to do element-wise math:"
      ]
    },
    {
      "cell_type": "code",
      "metadata": {
        "id": "UHGc1qpGuCD-"
      },
      "source": [
        "# numpy to the rescue\n",
        "np_arr = np.array(new_list)\n",
        "np_arr"
      ],
      "execution_count": null,
      "outputs": []
    },
    {
      "cell_type": "code",
      "metadata": {
        "id": "-s-FX4QqVwfi"
      },
      "source": [
        "type(np_arr)"
      ],
      "execution_count": null,
      "outputs": []
    },
    {
      "cell_type": "code",
      "metadata": {
        "id": "1LKRnfHVuK-8"
      },
      "source": [
        "# we converted our list to an numpy array. now lets try it\n",
        "np_arr * 3"
      ],
      "execution_count": null,
      "outputs": []
    },
    {
      "cell_type": "markdown",
      "metadata": {
        "id": "aCixKikfuRaI"
      },
      "source": [
        "While lists and tuples are powerful in base python, and we will use them later in the course, when it really comes to analyzing data, the foundations of the tools that we will use are in **numpy**.\n",
        "\n",
        "Simply, the higher level tools use numpy under the hood, but it's important for us to have a baseline understanding of numpy before we dive into **pandas** a popular library to work with data."
      ]
    },
    {
      "cell_type": "markdown",
      "metadata": {
        "id": "PGatVu69LHe9"
      },
      "source": [
        "# Numpy Arrays - Single Type Only"
      ]
    },
    {
      "cell_type": "markdown",
      "metadata": {
        "id": "zRXelIi1utYz"
      },
      "source": [
        "Because numpy arrays are built to do calculations, helping us with analyzing data, each array must be of a single type. "
      ]
    },
    {
      "cell_type": "code",
      "metadata": {
        "id": "pyGtpNFiu8Q-"
      },
      "source": [
        "# create a normal list\n",
        "normal_list = [1, 'a', True]\n",
        "normal_list"
      ],
      "execution_count": null,
      "outputs": []
    },
    {
      "cell_type": "markdown",
      "metadata": {
        "id": "6tyArjH1vC5i"
      },
      "source": [
        "This does what we expected, it printed a list, and if we wanted, we could even have a list within a list, as we learned last week."
      ]
    },
    {
      "cell_type": "code",
      "metadata": {
        "id": "W75FXmbkvUQ8"
      },
      "source": [
        "# convert the list to numpy, as we saw above with np.array(<list>)\n",
        "np_convert = np.array(normal_list)\n",
        "np_convert"
      ],
      "execution_count": null,
      "outputs": []
    },
    {
      "cell_type": "code",
      "metadata": {
        "id": "uAtA536C1qVN"
      },
      "source": [
        "np_convert.shape"
      ],
      "execution_count": null,
      "outputs": []
    },
    {
      "cell_type": "code",
      "metadata": {
        "id": "NMqoJWcnWFgZ"
      },
      "source": [
        "type(np_convert)"
      ],
      "execution_count": null,
      "outputs": []
    },
    {
      "cell_type": "markdown",
      "metadata": {
        "id": "Mh9NGwVHLT5i"
      },
      "source": [
        "\n",
        "\n",
        "\n",
        "Look at what we have above.  Numpy needs to have all elements in an array be of the same type.  But it didn't error out, nor it did exclude some elements. What did numpy do?"
      ]
    },
    {
      "cell_type": "markdown",
      "metadata": {
        "id": "ZPSjvWdGLca5"
      },
      "source": [
        "# Core numpy features"
      ]
    },
    {
      "cell_type": "markdown",
      "metadata": {
        "id": "lc6mI8l5xxnC"
      },
      "source": [
        "## nd arrays\n",
        "\n",
        "Multidimensional arrays and lists of lists are conceptually similar:"
      ]
    },
    {
      "cell_type": "code",
      "metadata": {
        "id": "QolgfBWE2CTV"
      },
      "source": [
        "# 3-dimension array example as following:\n",
        "ex_arr = np.array([[[1,1,4],[2,2,5],[3,3,6]], [[1,1,4],[2,2,5],[3,3,6]]])\n",
        "ex_arr"
      ],
      "execution_count": null,
      "outputs": []
    },
    {
      "cell_type": "code",
      "metadata": {
        "id": "VcjkPMFU4USh"
      },
      "source": [
        "ex_arr.shape"
      ],
      "execution_count": null,
      "outputs": []
    },
    {
      "cell_type": "code",
      "metadata": {
        "id": "dbSnoZ_j4cjC"
      },
      "source": [
        "ex_arr.ndim"
      ],
      "execution_count": null,
      "outputs": []
    },
    {
      "cell_type": "code",
      "metadata": {
        "id": "JmGSXnCR4er6"
      },
      "source": [
        "ex_arr[0,:,:]"
      ],
      "execution_count": null,
      "outputs": []
    },
    {
      "cell_type": "code",
      "metadata": {
        "id": "kB9-NFEf4wt8"
      },
      "source": [
        "# 4-dimension array example:\n",
        "my_arr = np.array([[[[1,1,4],[2,2,5],[3,3,6]], [[1,1,4],[2,2,5],[3,3,6]]],\n",
        "                   [[[1,1,4],[2,2,5],[3,3,6]], [[1,1,4],[2,2,5],[3,3,6]]]])\n",
        "my_arr"
      ],
      "execution_count": null,
      "outputs": []
    },
    {
      "cell_type": "code",
      "metadata": {
        "id": "T_BzbP_75HG2"
      },
      "source": [
        "my_arr.shape"
      ],
      "execution_count": null,
      "outputs": []
    },
    {
      "cell_type": "code",
      "metadata": {
        "id": "pFQojBCC5I6C"
      },
      "source": [
        "my_arr.ndim"
      ],
      "execution_count": null,
      "outputs": []
    },
    {
      "cell_type": "code",
      "metadata": {
        "id": "ScyqQVaA5LVb"
      },
      "source": [
        "my_arr[0,0,0,0]"
      ],
      "execution_count": null,
      "outputs": []
    },
    {
      "cell_type": "code",
      "metadata": {
        "id": "1F8F4y_S5bPO"
      },
      "source": [
        "# Choosing function like it works with lists\n",
        "my_arr[:,:,:,:]"
      ],
      "execution_count": null,
      "outputs": []
    },
    {
      "cell_type": "code",
      "metadata": {
        "id": "x2k8wggT6keW"
      },
      "source": [
        "my_arr[0,1,:2,:1]"
      ],
      "execution_count": null,
      "outputs": []
    },
    {
      "cell_type": "code",
      "metadata": {
        "id": "V4316W5uxd5z"
      },
      "source": [
        "# See below a list of lists:\n",
        "lol = [ [1,2], [3,4], [5,6] ]\n",
        "lol"
      ],
      "execution_count": null,
      "outputs": []
    },
    {
      "cell_type": "code",
      "metadata": {
        "id": "Oq8eLKNeWfTj"
      },
      "source": [
        "lol[0][1]"
      ],
      "execution_count": null,
      "outputs": []
    },
    {
      "cell_type": "code",
      "metadata": {
        "id": "KpX9retqxkDZ"
      },
      "source": [
        "# bring this into numpy array\n",
        "lol_np = np.array(lol)\n",
        "lol_np"
      ],
      "execution_count": null,
      "outputs": []
    },
    {
      "cell_type": "code",
      "metadata": {
        "id": "cO66oc8AxZ95"
      },
      "source": [
        "# what shape is our array\n",
        "lol_np.shape"
      ],
      "execution_count": null,
      "outputs": []
    },
    {
      "cell_type": "markdown",
      "metadata": {
        "id": "dLkMkUITx_Pq"
      },
      "source": [
        "> It's not exactly the same, but for now, we can think of this as a 3 row / 2 column Excel worksheet.  The `shape` attribute is something we are going to use quite a bit!\n",
        "\n"
      ]
    },
    {
      "cell_type": "code",
      "metadata": {
        "id": "j2gJ6L7cx_qJ"
      },
      "source": [
        "# how many dimensions within the array\n",
        "lol_np.ndim"
      ],
      "execution_count": null,
      "outputs": []
    },
    {
      "cell_type": "code",
      "metadata": {
        "id": "uuGyUxcHx_1F"
      },
      "source": [
        "# how many elements total, or the size\n",
        "lol_np.size"
      ],
      "execution_count": null,
      "outputs": []
    },
    {
      "cell_type": "code",
      "metadata": {
        "id": "BHT9cNdFx_9B"
      },
      "source": [
        "# remember, we can always get help\n",
        "lol_np?"
      ],
      "execution_count": null,
      "outputs": []
    },
    {
      "cell_type": "code",
      "metadata": {
        "id": "wzg4HTYZ8Z6q"
      },
      "source": [
        "len(lol_np)"
      ],
      "execution_count": null,
      "outputs": []
    },
    {
      "cell_type": "code",
      "metadata": {
        "id": "khF_UCF59Mcu"
      },
      "source": [
        "# Build 2,2,2,3\n",
        "building = np.array([[[[2,2,4],[1,2,9]],[[2,1,2],[1,1,4]]],\n",
        "                    [[[2,2,4],[1,2,9]],[[2,1,2],[1,1,4]]]])\n",
        "building"
      ],
      "execution_count": null,
      "outputs": []
    },
    {
      "cell_type": "code",
      "metadata": {
        "id": "93vfePvd9-CQ"
      },
      "source": [
        "building.shape"
      ],
      "execution_count": null,
      "outputs": []
    },
    {
      "cell_type": "code",
      "metadata": {
        "id": "8lAagMrZ-Lep"
      },
      "source": [
        "building.ndim"
      ],
      "execution_count": null,
      "outputs": []
    },
    {
      "cell_type": "code",
      "metadata": {
        "id": "vn2nODxsAZ1V"
      },
      "source": [
        "building.size"
      ],
      "execution_count": null,
      "outputs": []
    },
    {
      "cell_type": "code",
      "metadata": {
        "id": "5iDjtKEKAced"
      },
      "source": [
        "my_list = range(24)\n",
        "array = np.array(my_list)\n",
        "arr_reshaped = array.reshape(2,2,2,3)\n",
        "arr_reshaped"
      ],
      "execution_count": null,
      "outputs": []
    },
    {
      "cell_type": "code",
      "metadata": {
        "id": "t8bOp8JDBNda"
      },
      "source": [
        "arr_reshaped[0,0,0,0]"
      ],
      "execution_count": null,
      "outputs": []
    },
    {
      "cell_type": "markdown",
      "metadata": {
        "id": "c1lJdX-rFQ8p"
      },
      "source": [
        "## Quick exercise:\n",
        "\n",
        "Generate an array of 10 integers sampled from a random distribution of [0,10).\n",
        "\n",
        "confirm the length and shape of your array, and\n",
        "calculate the mean, \n",
        "calculate the standard deviation."
      ]
    },
    {
      "cell_type": "code",
      "metadata": {
        "id": "tjBdeVlxFkPN"
      },
      "source": [
        "my_array = np.random.randint(0, high=10, size=10)\n",
        "len(my_array)"
      ],
      "execution_count": null,
      "outputs": []
    },
    {
      "cell_type": "code",
      "metadata": {
        "id": "mAi3Cnx_JWXV"
      },
      "source": [
        "my_array.shape"
      ],
      "execution_count": null,
      "outputs": []
    },
    {
      "cell_type": "code",
      "metadata": {
        "id": "1g4PCxN-JkmT"
      },
      "source": [
        "my_array.ndim"
      ],
      "execution_count": null,
      "outputs": []
    },
    {
      "cell_type": "code",
      "metadata": {
        "id": "eHWIHgCyJm36"
      },
      "source": [
        "new_array = my_array.reshape(2,5)\n",
        "new_array"
      ],
      "execution_count": null,
      "outputs": []
    },
    {
      "cell_type": "markdown",
      "metadata": {
        "id": "QhBquSRz0C5S"
      },
      "source": [
        "\n",
        "\n",
        "## Slicing"
      ]
    },
    {
      "cell_type": "code",
      "metadata": {
        "id": "FGjame-lXkAw"
      },
      "source": [
        "lol_np"
      ],
      "execution_count": null,
      "outputs": []
    },
    {
      "cell_type": "code",
      "metadata": {
        "id": "hnVVDAbUXm_U"
      },
      "source": [
        "lol_np.shape"
      ],
      "execution_count": null,
      "outputs": []
    },
    {
      "cell_type": "code",
      "metadata": {
        "id": "dJgmb8Ku0xFb"
      },
      "source": [
        "# lets slice the array - include everything\n",
        "lol_np[:]"
      ],
      "execution_count": null,
      "outputs": []
    },
    {
      "cell_type": "code",
      "metadata": {
        "id": "w58Nkbbt2D_Q"
      },
      "source": [
        "# get just the first array\n",
        "lol_np[0]"
      ],
      "execution_count": null,
      "outputs": []
    },
    {
      "cell_type": "markdown",
      "metadata": {
        "id": "yeZth8wI1kKv"
      },
      "source": [
        "Multidimenstional arrays can be sliced using a comma separated set of tuples"
      ]
    },
    {
      "cell_type": "code",
      "metadata": {
        "id": "kwU_tqyi01q0"
      },
      "source": [
        "# return just 5 \n",
        "lol_np[2, 0]"
      ],
      "execution_count": null,
      "outputs": []
    },
    {
      "cell_type": "markdown",
      "metadata": {
        "id": "msfs09Rr3si_"
      },
      "source": [
        "lets look at a larger nd array"
      ]
    },
    {
      "cell_type": "code",
      "metadata": {
        "id": "AMGI7fuJ0_K3"
      },
      "source": [
        "# generate a larger array\n",
        "np.random.seed(765) # for reproducing example\n",
        "x2 = np.random.randint(10, 20, size=(3, 4))\n",
        "x2"
      ],
      "execution_count": null,
      "outputs": []
    },
    {
      "cell_type": "code",
      "metadata": {
        "id": "dh6UKaRE0x3n"
      },
      "source": [
        "# shape (rows/columns)\n",
        "x2.shape"
      ],
      "execution_count": null,
      "outputs": []
    },
    {
      "cell_type": "code",
      "metadata": {
        "id": "pFjKfkCy3VWF"
      },
      "source": [
        "# slicing to get all \"rows\" and first \"column\"\n",
        "x2[:, 0]"
      ],
      "execution_count": null,
      "outputs": []
    },
    {
      "cell_type": "code",
      "metadata": {
        "id": "tZ4LvXn13gwg"
      },
      "source": [
        "# 2 rows, 3 cols\n",
        "x2[:2, :3]"
      ],
      "execution_count": null,
      "outputs": []
    },
    {
      "cell_type": "code",
      "metadata": {
        "id": "2HlD1XIq4Bvm"
      },
      "source": [
        "# just get one row\n",
        "x2[0]"
      ],
      "execution_count": null,
      "outputs": []
    },
    {
      "cell_type": "code",
      "metadata": {
        "id": "iEUmFfOWNxLS"
      },
      "source": [
        "# want to reverse?\n",
        "x2[::-1,:]"
      ],
      "execution_count": null,
      "outputs": []
    },
    {
      "cell_type": "code",
      "metadata": {
        "id": "WDz-3zFJ4WRU"
      },
      "source": [
        "# want to reverse? （起始位置：终止位置：步幅）\n",
        "x2[::-1, ::-1]\n"
      ],
      "execution_count": null,
      "outputs": []
    },
    {
      "cell_type": "code",
      "metadata": {
        "id": "pWxqI_J_ZAPu"
      },
      "source": [
        "x2"
      ],
      "execution_count": null,
      "outputs": []
    },
    {
      "cell_type": "code",
      "metadata": {
        "id": "pT_SUj3UX0H9"
      },
      "source": [
        "# we can also do math!\n",
        "print(x2.mean())   #mean\n",
        "print(x2.std())    #standard deviation\n",
        "print(x2.max())    #max\n"
      ],
      "execution_count": null,
      "outputs": []
    },
    {
      "cell_type": "markdown",
      "metadata": {
        "id": "r-uSoSymGIe9"
      },
      "source": [
        "## Quick exercise \n",
        "\n",
        "Update the value of x2 such that the element that was previously 17 becomes 71. You can locate the element manually."
      ]
    },
    {
      "cell_type": "code",
      "metadata": {
        "id": "sBv5X7VRQMwI"
      },
      "source": [
        "x2"
      ],
      "execution_count": null,
      "outputs": []
    },
    {
      "cell_type": "code",
      "metadata": {
        "id": "WlnH-G1DRLMK"
      },
      "source": [
        "x2[2,2] = 71\n",
        "x2"
      ],
      "execution_count": null,
      "outputs": []
    },
    {
      "cell_type": "markdown",
      "metadata": {
        "id": "CD_wgRTmL9OD"
      },
      "source": [
        "---\n"
      ]
    },
    {
      "cell_type": "markdown",
      "metadata": {
        "id": "11EG0KPi4s1o"
      },
      "source": [
        "# Useful methods"
      ]
    },
    {
      "cell_type": "code",
      "metadata": {
        "id": "SbPyHBnUAAbt"
      },
      "source": [
        "# arange: like range, generate an array of numbers with bounds and spacing\n",
        "x = np.arange(2, 10, 2)\n",
        "x"
      ],
      "execution_count": null,
      "outputs": []
    },
    {
      "cell_type": "code",
      "metadata": {
        "id": "R8bHq99FAEMo"
      },
      "source": [
        "# do some math and finding locations\n",
        "print(\"the mean of the array is {}\".format(str( x.mean() )))   # x.mean()\n",
        "print(\"the largest value in the array is {}\".format(str( x.max() )))   # x.max()\n",
        "print(\"the index for the largest value in the array is {}\".format(str( x.argmax() )))   # x.argmax()\n"
      ],
      "execution_count": null,
      "outputs": []
    },
    {
      "cell_type": "code",
      "metadata": {
        "id": "7scepTyDXOnl"
      },
      "source": [
        "x"
      ],
      "execution_count": null,
      "outputs": []
    },
    {
      "cell_type": "code",
      "metadata": {
        "id": "b25qWL2n74Fm"
      },
      "source": [
        "# we can generate an array of booleans for subsetting - this is very useful!\n",
        "x > 5"
      ],
      "execution_count": null,
      "outputs": []
    },
    {
      "cell_type": "code",
      "metadata": {
        "id": "rs6MUNHE8hXP"
      },
      "source": [
        "# we can also do complex logic: logical and\n",
        "np.logical_and(x > 0, x <5)"
      ],
      "execution_count": null,
      "outputs": []
    },
    {
      "cell_type": "code",
      "metadata": {
        "id": "EUu4QI9n8vMA"
      },
      "source": [
        "# logical or\n",
        "np.logical_or(x > 5, x <7)"
      ],
      "execution_count": null,
      "outputs": []
    },
    {
      "cell_type": "markdown",
      "metadata": {
        "id": "q3lPw6PXSaWa"
      },
      "source": [
        "---"
      ]
    },
    {
      "cell_type": "markdown",
      "metadata": {
        "id": "XZRaQ4aCB26V"
      },
      "source": [
        "## Discussion on logical_and/or\n",
        "\n",
        "The concept of booleans across our arrays is a really important concept to understand.  This is the foundation for how we filter rows/columns in our data analysis in python (pandas, more specifically).  When slicing (i.e. filtering) our data, we keep the `True` elements.\n",
        "\n",
        "\n"
      ]
    },
    {
      "cell_type": "code",
      "metadata": {
        "id": "mmEtdU7LRh2s"
      },
      "source": [
        "# Let's see this in action\n",
        "np.random.seed(765)\n",
        "x = np.random.randint(0, 10, size=100)\n",
        "print(x.shape)\n",
        "x[:5]"
      ],
      "execution_count": null,
      "outputs": []
    },
    {
      "cell_type": "code",
      "metadata": {
        "id": "M1FsUCGKTsPo"
      },
      "source": [
        "x"
      ],
      "execution_count": null,
      "outputs": []
    },
    {
      "cell_type": "code",
      "metadata": {
        "id": "dfxplAuOcXYB"
      },
      "source": [
        "x.ndim"
      ],
      "execution_count": null,
      "outputs": []
    },
    {
      "cell_type": "code",
      "metadata": {
        "id": "C5N_u0dZRhyK"
      },
      "source": [
        "# save a variable to store our test results\n",
        "tests = (x >= 4)\n",
        "tests[:5]"
      ],
      "execution_count": null,
      "outputs": []
    },
    {
      "cell_type": "code",
      "metadata": {
        "id": "Lmwza2xmRhuu"
      },
      "source": [
        "# confirm that they are the same shape\n",
        "x.shape == tests.shape"
      ],
      "execution_count": null,
      "outputs": []
    },
    {
      "cell_type": "code",
      "metadata": {
        "id": "72cxkAHLR_Xf"
      },
      "source": [
        "# finally, keep just those that meet our criteria\n",
        "# WE ONLY KEEP THE TRUE\n",
        "keep = x[tests]\n",
        "keep.shape"
      ],
      "execution_count": null,
      "outputs": []
    },
    {
      "cell_type": "code",
      "metadata": {
        "id": "DFS4JIVsc1JQ"
      },
      "source": [
        "keep"
      ],
      "execution_count": null,
      "outputs": []
    },
    {
      "cell_type": "markdown",
      "metadata": {
        "id": "r6uvNor8TBYJ"
      },
      "source": [
        "> To see a much larger list of what is possible for logical check in numpy, here are the docs:  https://numpy.org/doc/stable/reference/routines.logic.html"
      ]
    },
    {
      "cell_type": "markdown",
      "metadata": {
        "id": "ArQIfWIbR_Rc"
      },
      "source": [
        "-----\n",
        "-----"
      ]
    },
    {
      "cell_type": "markdown",
      "metadata": {
        "id": "cbOA4VzGIrNe"
      },
      "source": [
        "## Reshaping\n",
        "Another method that comes very handy is reshaping arrays - the name is clear so there is not much to say about this than showing how it works:"
      ]
    },
    {
      "cell_type": "code",
      "metadata": {
        "id": "KznpbnlxI5He"
      },
      "source": [
        "my_array = np.arange(10)\n",
        "my_array"
      ],
      "execution_count": null,
      "outputs": []
    },
    {
      "cell_type": "code",
      "metadata": {
        "id": "4xEBnWipI4ra"
      },
      "source": [
        "my_array.reshape((2,5))"
      ],
      "execution_count": null,
      "outputs": []
    },
    {
      "cell_type": "markdown",
      "metadata": {
        "id": "HaG-8wQqZqV-"
      },
      "source": [
        "## Mathematical Operations on Axis\n",
        "\n",
        "Helpful resource:  https://www.sharpsightlabs.com/blog/numpy-axes-explained/\n",
        "\n",
        "![axis](https://i.imgur.com/4aL45nA.png)\n",
        "\n",
        "<br>\n",
        "\n",
        "### What is really happening?\n",
        "\n",
        "<br>\n",
        "\n",
        "Axis 0 = we collapse/summarize *across* the rows\n",
        "\n",
        "![axis0](https://vrzkj25a871bpq7t1ugcgmn9-wpengine.netdna-ssl.com/wp-content/uploads/2018/12/numpy-axes-np-sum-axis-0.png)\n",
        "\n",
        "Axis 1 = we collapse/summarize *across* the columns\n",
        "\n",
        "\n",
        "![axis1](https://vrzkj25a871bpq7t1ugcgmn9-wpengine.netdna-ssl.com/wp-content/uploads/2018/11/numpy-axes-np-sum-axis-1.png)\n"
      ]
    },
    {
      "cell_type": "code",
      "metadata": {
        "id": "jZ8gdeE4Zyma"
      },
      "source": [
        "np.random.seed(765)\n",
        "a = np.random.randint(0, 100, size=(3, 7))"
      ],
      "execution_count": null,
      "outputs": []
    },
    {
      "cell_type": "code",
      "metadata": {
        "id": "tufg79roCypq"
      },
      "source": [
        "a"
      ],
      "execution_count": null,
      "outputs": []
    },
    {
      "cell_type": "code",
      "metadata": {
        "id": "IaLOjQ_bCyuc"
      },
      "source": [
        "type(a)"
      ],
      "execution_count": null,
      "outputs": []
    },
    {
      "cell_type": "code",
      "metadata": {
        "id": "MZwAyXI2Cyxt"
      },
      "source": [
        "a.shape"
      ],
      "execution_count": null,
      "outputs": []
    },
    {
      "cell_type": "code",
      "metadata": {
        "id": "5p-qCHDgDAi-"
      },
      "source": [
        "a.ndim"
      ],
      "execution_count": null,
      "outputs": []
    },
    {
      "cell_type": "code",
      "metadata": {
        "id": "ZUd_tb-vDAnL"
      },
      "source": [
        "a.mean()"
      ],
      "execution_count": null,
      "outputs": []
    },
    {
      "cell_type": "code",
      "metadata": {
        "id": "QycZFRjuDJXW"
      },
      "source": [
        "a.sum()"
      ],
      "execution_count": null,
      "outputs": []
    },
    {
      "cell_type": "code",
      "metadata": {
        "id": "5l02dCyyDJdt"
      },
      "source": [
        "a.max()"
      ],
      "execution_count": null,
      "outputs": []
    },
    {
      "cell_type": "code",
      "metadata": {
        "id": "-Sjy-V8ZDJgt"
      },
      "source": [
        "a.min()"
      ],
      "execution_count": null,
      "outputs": []
    },
    {
      "cell_type": "markdown",
      "metadata": {
        "id": "WVEULBVj3gnL"
      },
      "source": [
        "Now we will use the `sum` operation specifying the array axis (refer to images above)\n",
        "\n",
        "We are summing across axis 0 (the first axis):"
      ]
    },
    {
      "cell_type": "code",
      "metadata": {
        "id": "wD6nB3CIDAqE"
      },
      "source": [
        "# add all the elements to the direction of axis-0 and leave as much elements as axis-1 has\n",
        "axis0 = a.sum(axis=0)\n",
        "axis0"
      ],
      "execution_count": null,
      "outputs": []
    },
    {
      "cell_type": "code",
      "metadata": {
        "id": "CJA6XA52XTOv"
      },
      "source": [
        "a.sum(axis=(0,1))"
      ],
      "execution_count": null,
      "outputs": []
    },
    {
      "cell_type": "code",
      "metadata": {
        "id": "5hIE4sP7DZGB"
      },
      "source": [
        "len(a.sum(axis=0))"
      ],
      "execution_count": null,
      "outputs": []
    },
    {
      "cell_type": "markdown",
      "metadata": {
        "id": "sIa2lisz3y_n"
      },
      "source": [
        "What if we performed the sum across the other axis, axis 1? How many elements would it return?"
      ]
    },
    {
      "cell_type": "code",
      "metadata": {
        "id": "meQpVBYwDZJ_"
      },
      "source": [
        "axis1 = a.sum(axis=1)\n",
        "axis1"
      ],
      "execution_count": null,
      "outputs": []
    },
    {
      "cell_type": "markdown",
      "metadata": {
        "id": "CccZusvJGqLb"
      },
      "source": [
        "## Quick exercise:\n",
        "\n",
        "Find the mean of the above array along various axes."
      ]
    },
    {
      "cell_type": "code",
      "metadata": {
        "id": "7-evs0UIXOop"
      },
      "source": [
        "print(axis0.mean())\n",
        "print(axis1.mean())"
      ],
      "execution_count": null,
      "outputs": []
    },
    {
      "cell_type": "markdown",
      "metadata": {
        "id": "0Nuh_XAT39QT"
      },
      "source": [
        "## Array operations\n",
        "Now let's do some array operations "
      ]
    },
    {
      "cell_type": "code",
      "metadata": {
        "id": "SHCGUbAUDZNv"
      },
      "source": [
        "# array ops\n",
        "np.random.seed(765)\n",
        "x = np.random.randint(0, 10, size=(10))\n",
        "y = np.random.randint(20, 100, size=(10))\n",
        "print(x)\n",
        "print(y)"
      ],
      "execution_count": null,
      "outputs": []
    },
    {
      "cell_type": "code",
      "metadata": {
        "id": "e0Yyu0IYDZSM"
      },
      "source": [
        "x - y"
      ],
      "execution_count": null,
      "outputs": []
    },
    {
      "cell_type": "code",
      "metadata": {
        "id": "YRM8-7pBCy0f"
      },
      "source": [
        "x *y"
      ],
      "execution_count": null,
      "outputs": []
    },
    {
      "cell_type": "code",
      "metadata": {
        "id": "yYjuIa3bZvLw"
      },
      "source": [
        "np.random.seed(765)\n",
        "x = np.random.randint(0, 10, size=(9))\n",
        "y = np.random.randint(20, 100, size=(10))"
      ],
      "execution_count": null,
      "outputs": []
    },
    {
      "cell_type": "code",
      "metadata": {
        "id": "Fix4kt7SFjls"
      },
      "source": [
        "x - y"
      ],
      "execution_count": null,
      "outputs": []
    },
    {
      "cell_type": "code",
      "metadata": {
        "id": "Uy9rD2_OFjuL"
      },
      "source": [
        "print(x)"
      ],
      "execution_count": null,
      "outputs": []
    },
    {
      "cell_type": "code",
      "metadata": {
        "id": "QBtLw-IBF-Qx"
      },
      "source": [
        "x"
      ],
      "execution_count": null,
      "outputs": []
    },
    {
      "cell_type": "code",
      "metadata": {
        "id": "D_AcprxtFjw0"
      },
      "source": [
        "# 返回列表中最大值的位置\n",
        "x.argmax()"
      ],
      "execution_count": null,
      "outputs": []
    },
    {
      "cell_type": "markdown",
      "metadata": {
        "id": "OhfNhFHy4orj"
      },
      "source": [
        "This is another very important function for arrays, and since we already saw how to build logical arrays using conditionals earlier, it will sound familiar:"
      ]
    },
    {
      "cell_type": "code",
      "metadata": {
        "id": "VE3PR38i5PIZ"
      },
      "source": [
        "?np.where"
      ],
      "execution_count": null,
      "outputs": []
    },
    {
      "cell_type": "code",
      "metadata": {
        "id": "rX-eB3FeF8wa"
      },
      "source": [
        "np.where(x >  3, True, False)"
      ],
      "execution_count": null,
      "outputs": []
    },
    {
      "cell_type": "markdown",
      "metadata": {
        "id": "idtzMAmLF8ss"
      },
      "source": [
        "\n",
        ">np.where is great for feature engineering because we can evaluate our values and recode the columns however we want.\n",
        "\n",
        "Below is an example of filtering:"
      ]
    },
    {
      "cell_type": "code",
      "metadata": {
        "id": "YjSSRJmoGjfZ"
      },
      "source": [
        "np.where(x > 3, x, 3)"
      ],
      "execution_count": null,
      "outputs": []
    },
    {
      "cell_type": "markdown",
      "metadata": {
        "id": "nmdnq6SC6irC"
      },
      "source": [
        "# Summary"
      ]
    },
    {
      "cell_type": "markdown",
      "metadata": {
        "id": "9FLjbbWS7TaI"
      },
      "source": [
        "In this notebook, we learned \n",
        "\n",
        "- numpy generates arrays that are very powerful for analysis, and can be thought of enhanced lists\n",
        "\n",
        "- numpy arrays must be of one type, else they will be converted to a singular type\n",
        "\n",
        "- numpy arrays can be multidimensional\n",
        "\n",
        "- numpy arrays can be sliced just like lists, with dimensional slicing occuring `[:, :]`\n",
        "\n",
        "- we can perform mathematical operations using numpy"
      ]
    }
  ]
}