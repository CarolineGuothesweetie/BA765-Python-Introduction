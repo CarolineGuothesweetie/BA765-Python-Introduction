{
  "nbformat": 4,
  "nbformat_minor": 0,
  "metadata": {
    "colab": {
      "name": "01-IntroToPython_Lecture.ipynb",
      "provenance": [],
      "collapsed_sections": [],
      "include_colab_link": true
    },
    "kernelspec": {
      "display_name": "Python 3",
      "language": "python",
      "name": "python3"
    },
    "language_info": {
      "codemirror_mode": {
        "name": "ipython",
        "version": 3
      },
      "file_extension": ".py",
      "mimetype": "text/x-python",
      "name": "python",
      "nbconvert_exporter": "python",
      "pygments_lexer": "ipython3",
      "version": "3.7.6"
    }
  },
  "cells": [
    {
      "cell_type": "markdown",
      "metadata": {
        "id": "view-in-github",
        "colab_type": "text"
      },
      "source": [
        "<a href=\"https://colab.research.google.com/github/CarolineGuothesweetie/Lecture-notes/blob/main/01_IntroToPython_Lecture.ipynb\" target=\"_parent\"><img src=\"https://colab.research.google.com/assets/colab-badge.svg\" alt=\"Open In Colab\"/></a>"
      ]
    },
    {
      "cell_type": "markdown",
      "metadata": {
        "id": "zZnwr37ibmF7"
      },
      "source": [
        "# BA765: Programming for Data Science\n",
        "\n",
        "## Session 2 : Intro to Python \n",
        "\n",
        "**Summer 2021**\n",
        "\n",
        "July 8, 2021\n",
        "\n",
        "---"
      ]
    },
    {
      "cell_type": "code",
      "metadata": {
        "id": "hXKbLkzmZV8Z"
      },
      "source": [
        ""
      ],
      "execution_count": null,
      "outputs": []
    },
    {
      "cell_type": "markdown",
      "metadata": {
        "id": "Mu3UWtRqbmF_"
      },
      "source": [
        "### A very brief introduction to Python\n",
        "\n",
        "As [Wikipedia puts it](https://en.wikipedia.org/wiki/Python_(programming_language)), Python is an interpreted, high-level, general-purpose programming language. Python compels its user to follow a distinct style emphasizing code readability. The most apparent example is the use of whitespace indentation instead of brackets, braces, or heavy use of punctuation marks. It is a style that slowly grows on you. So, if you feel constrained by it, give Python a chance and you most likely will start enjoying it. Afterall, Python is the worlds most popular programming language [according to GitHub](http://pypl.github.io/PYPL.html).\n",
        "\n",
        "Being an open-source language it is being made more and more useful through all the immensity of libraries and modules that extend its functionality way beyond what comes built-in. Using these modules is often as easy as typing `import <module_name>`. On a different note, like any open-source project Python has its share of frivolous in-jokes, such as the one presented below. "
      ]
    },
    {
      "cell_type": "code",
      "metadata": {
        "id": "OpMmK-bEbmGA"
      },
      "source": [
        "import this"
      ],
      "execution_count": null,
      "outputs": []
    },
    {
      "cell_type": "markdown",
      "metadata": {
        "id": "YZLOT7aVbmGB"
      },
      "source": [
        "### 1. Some basic built-in python syntax and functions "
      ]
    },
    {
      "cell_type": "markdown",
      "metadata": {
        "id": "7AijFOYtQ-9R"
      },
      "source": [
        "#### 1.1 Hello, World!\n",
        "\n",
        "Let's start with the classic program that is traditionally used to introduce any language; printing the letters `Hello, World!` on the screen.\n",
        "\n",
        "Note that # character indicates a comment, that line is not executed!"
      ]
    },
    {
      "cell_type": "code",
      "metadata": {
        "id": "oT-p1YkareP0",
        "outputId": "f92553ae-16ac-4c10-eac6-8aef5a3be9cf",
        "colab": {
          "base_uri": "https://localhost:8080/"
        }
      },
      "source": [
        "# Type-in \"Hello, World!\"\n",
        "print(\"Hello, World!\")\n"
      ],
      "execution_count": 1,
      "outputs": [
        {
          "output_type": "stream",
          "text": [
            "Hello, World!\n"
          ],
          "name": "stdout"
        }
      ]
    },
    {
      "cell_type": "code",
      "metadata": {
        "id": "TtRBfW0EbmGD",
        "outputId": "968076d2-76d9-43ad-e71d-d6968ffbe889",
        "colab": {
          "base_uri": "https://localhost:8080/"
        }
      },
      "source": [
        "# print your name\n",
        "print(\"Caroline Guo\")\n",
        "\n"
      ],
      "execution_count": 2,
      "outputs": [
        {
          "output_type": "stream",
          "text": [
            "Caroline Guo\n"
          ],
          "name": "stdout"
        }
      ]
    },
    {
      "cell_type": "markdown",
      "metadata": {
        "id": "ZTuSm37UbmGD"
      },
      "source": [
        "__________________________________________________________________________________________________________________________"
      ]
    },
    {
      "cell_type": "markdown",
      "metadata": {
        "id": "6Zl0cv4gbmGD"
      },
      "source": [
        "#### 1.2 Python's basic data types\n",
        "\n",
        "Basic data types in python include:\n",
        "    \n",
        "- Boolean (bool)  \n",
        "    - example: True, False <br> <br>\n",
        "\n",
        "- Integer (int)  \n",
        "    - example: 2020 <br> <br>\n",
        "\n",
        "- Floating point (float)\n",
        "    - example: 32.56, 4.5e2 <br> <br>\n",
        "\n",
        "- Text string (str)  \n",
        "    - example: \"I\", 'love', '''Python'''  <br> <br>\n",
        "\n",
        "- List (list)\n",
        "    - example: ['Paris', 'Abuja', 'Hanoi', '2021'] <br> <br>\n",
        " ***Note***: python lists can contain values corresponding to different data types; <br>\n",
        "    but arrays in python can only contain values corresponding to same data type. <br>\n",
        "  \n",
        "    <br> <br>\n",
        "    \n",
        "- Tuple (tuple) \n",
        "    - example: (1,2,3,4) ; <br> Note: tuples are immutable   <br> <br>\n",
        "     "
      ]
    },
    {
      "cell_type": "markdown",
      "metadata": {
        "id": "jDCy_VlBbmGD"
      },
      "source": [
        "There is a built-in python function `type()` that returns the type of the python object"
      ]
    },
    {
      "cell_type": "code",
      "metadata": {
        "id": "hU-JuOoQ9K-t",
        "outputId": "15de64aa-7984-4e6a-fa17-24c693aa91e2",
        "colab": {
          "base_uri": "https://localhost:8080/"
        }
      },
      "source": [
        "x = 1\n",
        "type(x)"
      ],
      "execution_count": 4,
      "outputs": [
        {
          "output_type": "execute_result",
          "data": {
            "text/plain": [
              "int"
            ]
          },
          "metadata": {
            "tags": []
          },
          "execution_count": 4
        }
      ]
    },
    {
      "cell_type": "code",
      "metadata": {
        "id": "-fZzIHty9bNa",
        "outputId": "1ea4a7d4-9881-4644-9a24-d8fb066a7b73",
        "colab": {
          "base_uri": "https://localhost:8080/"
        }
      },
      "source": [
        "x = \"Caroline Guo\"\n",
        "type(x)"
      ],
      "execution_count": 5,
      "outputs": [
        {
          "output_type": "execute_result",
          "data": {
            "text/plain": [
              "str"
            ]
          },
          "metadata": {
            "tags": []
          },
          "execution_count": 5
        }
      ]
    },
    {
      "cell_type": "code",
      "metadata": {
        "id": "GmSjuXBW9hc5",
        "outputId": "577e0904-2a9d-48fe-83bc-6b1346680818",
        "colab": {
          "base_uri": "https://localhost:8080/"
        }
      },
      "source": [
        "x = [\"Caroline, GUO, 765\" ]\n",
        "type(x)"
      ],
      "execution_count": 6,
      "outputs": [
        {
          "output_type": "execute_result",
          "data": {
            "text/plain": [
              "list"
            ]
          },
          "metadata": {
            "tags": []
          },
          "execution_count": 6
        }
      ]
    },
    {
      "cell_type": "markdown",
      "metadata": {
        "id": "QRMWDpvpbmGE"
      },
      "source": [
        "**Simple exercise:**\n",
        "Write a few python objects: a boolean, an integer, a float, a string, a list, and a tuple, and use the built-in function `type()` to check if your python object is indeed what you expected. "
      ]
    },
    {
      "cell_type": "code",
      "metadata": {
        "id": "yOhtezlTbmGE",
        "outputId": "09748c6c-ddd8-4297-abac-72be46081cc8",
        "colab": {
          "base_uri": "https://localhost:8080/"
        }
      },
      "source": [
        "# Example:\n",
        "# write a boolean\n",
        "True\n",
        "False "
      ],
      "execution_count": 7,
      "outputs": [
        {
          "output_type": "execute_result",
          "data": {
            "text/plain": [
              "False"
            ]
          },
          "metadata": {
            "tags": []
          },
          "execution_count": 7
        }
      ]
    },
    {
      "cell_type": "markdown",
      "metadata": {
        "id": "uD1BBnsS9-c0"
      },
      "source": [
        "* It has to be in differnet colors and to be a command."
      ]
    },
    {
      "cell_type": "code",
      "metadata": {
        "id": "IRRmIlEY-JgD",
        "outputId": "dcb25c06-7e08-4f91-cb9e-4e8bed9babb9",
        "colab": {
          "base_uri": "https://localhost:8080/"
        }
      },
      "source": [
        "a = False\n",
        "b = True\n",
        "print(a)\n",
        "print(b)"
      ],
      "execution_count": 24,
      "outputs": [
        {
          "output_type": "stream",
          "text": [
            "False\n",
            "True\n"
          ],
          "name": "stdout"
        }
      ]
    },
    {
      "cell_type": "code",
      "metadata": {
        "id": "A6_vw6_VbmGF",
        "outputId": "69d91675-dd40-42b4-919b-75330a6be5b6",
        "colab": {
          "base_uri": "https://localhost:8080/"
        }
      },
      "source": [
        "# Example:\n",
        "# use the \"type()\" built-in python function to check if the boolean value of the previous example is indeed boolean\n",
        "\n",
        "type(True)"
      ],
      "execution_count": 9,
      "outputs": [
        {
          "output_type": "execute_result",
          "data": {
            "text/plain": [
              "bool"
            ]
          },
          "metadata": {
            "tags": []
          },
          "execution_count": 9
        }
      ]
    },
    {
      "cell_type": "code",
      "metadata": {
        "id": "rCzaHBh4hGq2"
      },
      "source": [
        "#Handy feature: The question mark\n",
        "x=True\n",
        "x?"
      ],
      "execution_count": 14,
      "outputs": []
    },
    {
      "cell_type": "code",
      "metadata": {
        "id": "ty6WWOjgbmGF",
        "outputId": "9dd7ba22-909d-48b1-8d1f-ae4080756af8",
        "colab": {
          "base_uri": "https://localhost:8080/"
        }
      },
      "source": [
        "# write (and check) an integer\n",
        "m = 3\n",
        "print(m)\n",
        "type(m)"
      ],
      "execution_count": 23,
      "outputs": [
        {
          "output_type": "stream",
          "text": [
            "3\n"
          ],
          "name": "stdout"
        },
        {
          "output_type": "execute_result",
          "data": {
            "text/plain": [
              "int"
            ]
          },
          "metadata": {
            "tags": []
          },
          "execution_count": 23
        }
      ]
    },
    {
      "cell_type": "code",
      "metadata": {
        "id": "KmvZAtu9bmGG",
        "outputId": "e04438cd-fcd0-4938-c39a-0a948687645e",
        "colab": {
          "base_uri": "https://localhost:8080/"
        }
      },
      "source": [
        "# write (and check) a float (real number)\n",
        "type(3.14e2)"
      ],
      "execution_count": 12,
      "outputs": [
        {
          "output_type": "execute_result",
          "data": {
            "text/plain": [
              "float"
            ]
          },
          "metadata": {
            "tags": []
          },
          "execution_count": 12
        }
      ]
    },
    {
      "cell_type": "code",
      "metadata": {
        "id": "ZKzz6wHtbmGG",
        "outputId": "4dbacaf5-0202-44bd-dd6e-aac95fee21cc",
        "colab": {
          "base_uri": "https://localhost:8080/"
        }
      },
      "source": [
        "# write (and check) a string\n",
        "q = \"Caroline\"\n",
        "type(q)\n"
      ],
      "execution_count": 20,
      "outputs": [
        {
          "output_type": "execute_result",
          "data": {
            "text/plain": [
              "str"
            ]
          },
          "metadata": {
            "tags": []
          },
          "execution_count": 20
        }
      ]
    },
    {
      "cell_type": "code",
      "metadata": {
        "id": "p7asEOPIbmGG",
        "outputId": "a3b9a2b8-87a4-45bf-9318-6f19437c685d",
        "colab": {
          "base_uri": "https://localhost:8080/"
        }
      },
      "source": [
        "# write (and check) a list\n",
        "n = [\"K\",\"C\",\"R\"]\n",
        "type(n)\n"
      ],
      "execution_count": 22,
      "outputs": [
        {
          "output_type": "execute_result",
          "data": {
            "text/plain": [
              "list"
            ]
          },
          "metadata": {
            "tags": []
          },
          "execution_count": 22
        }
      ]
    },
    {
      "cell_type": "code",
      "metadata": {
        "id": "Zexwj2nDbmGH",
        "outputId": "bea022d6-e7fa-4993-dd05-397f034210a5",
        "colab": {
          "base_uri": "https://localhost:8080/"
        }
      },
      "source": [
        "# write (and check) a tuple\n",
        "x = (1,2,3,4)\n",
        "type(x)\n"
      ],
      "execution_count": 17,
      "outputs": [
        {
          "output_type": "execute_result",
          "data": {
            "text/plain": [
              "tuple"
            ]
          },
          "metadata": {
            "tags": []
          },
          "execution_count": 17
        }
      ]
    },
    {
      "cell_type": "markdown",
      "metadata": {
        "id": "5GUmjo8aAijt"
      },
      "source": [
        "* We can also write h =[a, b, c] as a mark of tuple."
      ]
    },
    {
      "cell_type": "markdown",
      "metadata": {
        "id": "zmnE3LZJbmGH"
      },
      "source": [
        "__________________________________________________________________________________________________________________________"
      ]
    },
    {
      "cell_type": "code",
      "metadata": {
        "id": "Qa0AhCOi_q0P",
        "outputId": "1e58542d-a443-4ae8-e8b9-f26a9f99719f",
        "colab": {
          "base_uri": "https://localhost:8080/"
        }
      },
      "source": [
        "%whos"
      ],
      "execution_count": 25,
      "outputs": [
        {
          "output_type": "stream",
          "text": [
            "Variable   Type     Data/Info\n",
            "-----------------------------\n",
            "a          bool     False\n",
            "b          bool     True\n",
            "m          int      3\n",
            "n          list     n=3\n",
            "q          str      Caroline\n",
            "x          tuple    n=4\n",
            "y          bool     True\n"
          ],
          "name": "stdout"
        }
      ]
    },
    {
      "cell_type": "code",
      "metadata": {
        "id": "WNBtLPuTABrL"
      },
      "source": [
        "#del a\n",
        "del a"
      ],
      "execution_count": 26,
      "outputs": []
    },
    {
      "cell_type": "code",
      "metadata": {
        "id": "d9aVVATLANt2",
        "outputId": "29906162-d743-4085-ed8f-d6c7983af3a6",
        "colab": {
          "base_uri": "https://localhost:8080/"
        }
      },
      "source": [
        "%whos"
      ],
      "execution_count": 27,
      "outputs": [
        {
          "output_type": "stream",
          "text": [
            "Variable   Type     Data/Info\n",
            "-----------------------------\n",
            "b          bool     True\n",
            "m          int      3\n",
            "n          list     n=3\n",
            "q          str      Caroline\n",
            "x          tuple    n=4\n",
            "y          bool     True\n"
          ],
          "name": "stdout"
        }
      ]
    },
    {
      "cell_type": "markdown",
      "metadata": {
        "id": "u1zVoc1nrXDe"
      },
      "source": [
        "#### 1.3 Variables: specifying data values in python\n",
        " \n"
      ]
    },
    {
      "cell_type": "markdown",
      "metadata": {
        "id": "74VVrcqtbmGI"
      },
      "source": [
        "***Example:***"
      ]
    },
    {
      "cell_type": "code",
      "metadata": {
        "id": "UNZEeYFcQ7al",
        "outputId": "eac4fb3d-88d0-4524-8344-42577ae0f805",
        "colab": {
          "base_uri": "https://localhost:8080/"
        }
      },
      "source": [
        "# Assigning strings to variables \n",
        "\n",
        "x = \"Hello\"\n",
        "y = \"World\"\n",
        "print(x)\n",
        "print(y)\n",
        "print(x, y)\n",
        "print(x, y, \"!\")\n",
        "print(x, y + \"!\")"
      ],
      "execution_count": 28,
      "outputs": [
        {
          "output_type": "stream",
          "text": [
            "Hello\n",
            "World\n",
            "Hello World\n",
            "Hello World !\n",
            "Hello World!\n"
          ],
          "name": "stdout"
        }
      ]
    },
    {
      "cell_type": "code",
      "metadata": {
        "id": "sQAWHjuBbmGI",
        "outputId": "d1797a3a-46da-4363-efa7-1c69b3d33a4b",
        "colab": {
          "base_uri": "https://localhost:8080/"
        }
      },
      "source": [
        "# Assigning numerical values to variables\n",
        "\n",
        "num1 = 5\n",
        "num2 = 7\n",
        "\n",
        "print(num1 + num2)"
      ],
      "execution_count": 29,
      "outputs": [
        {
          "output_type": "stream",
          "text": [
            "12\n"
          ],
          "name": "stdout"
        }
      ]
    },
    {
      "cell_type": "markdown",
      "metadata": {
        "id": "37V6NqvlbmGJ"
      },
      "source": [
        "**Naming variables in python**\n",
        "\n",
        "The rules:\n",
        "    \n",
        "- You can use lowercase letters (a through z)\n",
        "- You can use UPPERCASE letters (A through Z)\n",
        "- You can use digits (0 through 9)\n",
        "- You can use the underscore (_)\n",
        "- Names are case sensitive (boston, Boston, and BOSTON are different names)\n",
        "- Names must begin with a letter or an underscore, not a digit\n",
        "- Names that begin with an underscore are treated specially\n",
        "- Names cannot be one of python's reserved words. "
      ]
    },
    {
      "cell_type": "markdown",
      "metadata": {
        "id": "8IchboLGbmGK"
      },
      "source": [
        "##### Python's reserved words\n",
        "\n",
        "Python reserves some names to be keywords, please do not use these as names of your variables. Run the cell below to list all the reserved keywords."
      ]
    },
    {
      "cell_type": "code",
      "metadata": {
        "id": "grcX6dKzbmGK",
        "outputId": "89685a5f-ede4-4ec7-8b97-c4e46740f796",
        "colab": {
          "base_uri": "https://localhost:8080/"
        }
      },
      "source": [
        "from keyword import kwlist\n",
        "print(kwlist)"
      ],
      "execution_count": 30,
      "outputs": [
        {
          "output_type": "stream",
          "text": [
            "['False', 'None', 'True', 'and', 'as', 'assert', 'async', 'await', 'break', 'class', 'continue', 'def', 'del', 'elif', 'else', 'except', 'finally', 'for', 'from', 'global', 'if', 'import', 'in', 'is', 'lambda', 'nonlocal', 'not', 'or', 'pass', 'raise', 'return', 'try', 'while', 'with', 'yield']\n"
          ],
          "name": "stdout"
        }
      ]
    },
    {
      "cell_type": "markdown",
      "metadata": {
        "id": "zzaZcdc5bmGK"
      },
      "source": [
        "______________________________________________________________________________________________________________________________"
      ]
    },
    {
      "cell_type": "markdown",
      "metadata": {
        "id": "Vl2EFaVgR-Sa"
      },
      "source": [
        "#### 1.4 Numerical Operations\n",
        "\n",
        "Python has the basic numerical operations that makes it a quick calculator -- **but** note that we will use more advanced, math specific libraries for our data science needs!"
      ]
    },
    {
      "cell_type": "markdown",
      "metadata": {
        "id": "Ix-_oUjybmGL"
      },
      "source": [
        "***Simple Exercise: run the following cells*** "
      ]
    },
    {
      "cell_type": "code",
      "metadata": {
        "id": "sjliqZo4SRxy",
        "outputId": "f0a86cee-fc9f-4cd2-fb68-55f197212479",
        "colab": {
          "base_uri": "https://localhost:8080/"
        }
      },
      "source": [
        "# Addition\n",
        "7 + 3"
      ],
      "execution_count": 31,
      "outputs": [
        {
          "output_type": "execute_result",
          "data": {
            "text/plain": [
              "10"
            ]
          },
          "metadata": {
            "tags": []
          },
          "execution_count": 31
        }
      ]
    },
    {
      "cell_type": "code",
      "metadata": {
        "id": "zabeBzYWehvT",
        "outputId": "ed0943f5-e47f-4240-8540-eefd48ca3de5",
        "colab": {
          "base_uri": "https://localhost:8080/"
        }
      },
      "source": [
        "# Subtraction\n",
        "7 - 3"
      ],
      "execution_count": 32,
      "outputs": [
        {
          "output_type": "execute_result",
          "data": {
            "text/plain": [
              "4"
            ]
          },
          "metadata": {
            "tags": []
          },
          "execution_count": 32
        }
      ]
    },
    {
      "cell_type": "code",
      "metadata": {
        "id": "T7bTAp_7eWBg",
        "outputId": "a820164e-e6a9-40db-e349-45e48f7e254a",
        "colab": {
          "base_uri": "https://localhost:8080/"
        }
      },
      "source": [
        "# Multiplication\n",
        "7 * 3"
      ],
      "execution_count": 33,
      "outputs": [
        {
          "output_type": "execute_result",
          "data": {
            "text/plain": [
              "21"
            ]
          },
          "metadata": {
            "tags": []
          },
          "execution_count": 33
        }
      ]
    },
    {
      "cell_type": "code",
      "metadata": {
        "id": "HOP4jg9ceY0g",
        "outputId": "bf8e93a5-cc52-4579-8b15-363d950bad52",
        "colab": {
          "base_uri": "https://localhost:8080/"
        }
      },
      "source": [
        "# Division (floating-point division or decimal division)\n",
        "7 / 3"
      ],
      "execution_count": 34,
      "outputs": [
        {
          "output_type": "execute_result",
          "data": {
            "text/plain": [
              "2.3333333333333335"
            ]
          },
          "metadata": {
            "tags": []
          },
          "execution_count": 34
        }
      ]
    },
    {
      "cell_type": "code",
      "metadata": {
        "id": "SnOs894kbmGM",
        "outputId": "deb68023-635c-4970-f344-10fa8767b490",
        "colab": {
          "base_uri": "https://localhost:8080/"
        }
      },
      "source": [
        "# or, by assigning these numbers to variables\n",
        "\n",
        "x = 7\n",
        "\n",
        "y = 3\n",
        "\n",
        "z = x/y\n",
        "\n",
        "print(z)"
      ],
      "execution_count": 35,
      "outputs": [
        {
          "output_type": "stream",
          "text": [
            "2.3333333333333335\n"
          ],
          "name": "stdout"
        }
      ]
    },
    {
      "cell_type": "code",
      "metadata": {
        "id": "KCx0ZFRGnwuE",
        "outputId": "9627b525-a0ad-4d48-fbfa-726e5181ded5",
        "colab": {
          "base_uri": "https://localhost:8080/"
        }
      },
      "source": [
        "# Quotient from floor division (integer division or truncating division)\n",
        "7 // 3"
      ],
      "execution_count": 36,
      "outputs": [
        {
          "output_type": "execute_result",
          "data": {
            "text/plain": [
              "2"
            ]
          },
          "metadata": {
            "tags": []
          },
          "execution_count": 36
        }
      ]
    },
    {
      "cell_type": "code",
      "metadata": {
        "id": "MrkGnEhLecCx",
        "outputId": "77732946-7617-40f4-a334-09de4f8a1217",
        "colab": {
          "base_uri": "https://localhost:8080/"
        }
      },
      "source": [
        "# Modulo (remainder)\n",
        "7 % 3"
      ],
      "execution_count": 37,
      "outputs": [
        {
          "output_type": "execute_result",
          "data": {
            "text/plain": [
              "1"
            ]
          },
          "metadata": {
            "tags": []
          },
          "execution_count": 37
        }
      ]
    },
    {
      "cell_type": "code",
      "metadata": {
        "id": "Z_Ts5ZwbfWz1",
        "outputId": "b90b7eb1-fb9b-40f8-f30e-f4278f608fd8",
        "colab": {
          "base_uri": "https://localhost:8080/"
        }
      },
      "source": [
        "# Power (Exponentiation)\n",
        "x ** 3"
      ],
      "execution_count": 38,
      "outputs": [
        {
          "output_type": "execute_result",
          "data": {
            "text/plain": [
              "343"
            ]
          },
          "metadata": {
            "tags": []
          },
          "execution_count": 38
        }
      ]
    },
    {
      "cell_type": "markdown",
      "metadata": {
        "id": "lIVFBik0bmGN"
      },
      "source": [
        "______________________________________________________________________________________________________________________________\n"
      ]
    },
    {
      "cell_type": "markdown",
      "metadata": {
        "id": "3o1_POmUbmGO"
      },
      "source": [
        "**Exercise:** \n",
        "\n",
        "As of yesterday, there were 663,994 Covid-19 reported cases in Massachusetts (source: mass.gov). \n",
        "\n",
        "The population of Massachusetts is 6,892,503  (estimate, July 1, 2019, source: Wikipedia and Census.org). \n",
        "\n",
        "Use python as calculator to calculate the number of Covid-19 cases per million ($10^6$) population, in Massachusetts."
      ]
    },
    {
      "cell_type": "code",
      "metadata": {
        "id": "EukcnTQobmGO",
        "outputId": "da748107-c512-4ba6-f054-f7b690247512",
        "colab": {
          "base_uri": "https://localhost:8080/"
        }
      },
      "source": [
        "# your code here\n",
        "(663994 / 6892503) * 10e6\n",
        "\n"
      ],
      "execution_count": 45,
      "outputs": [
        {
          "output_type": "execute_result",
          "data": {
            "text/plain": [
              "96335.68530909599"
            ]
          },
          "metadata": {
            "tags": []
          },
          "execution_count": 45
        }
      ]
    },
    {
      "cell_type": "code",
      "metadata": {
        "id": "qjyUTdGVF0qm",
        "outputId": "205e1233-e3e7-4a21-f093-567da47f4059",
        "colab": {
          "base_uri": "https://localhost:8080/"
        }
      },
      "source": [
        "cases=663994\n",
        "pop=6892503\n",
        "casespm=cases/pop\n",
        "casespm*10e6"
      ],
      "execution_count": 55,
      "outputs": [
        {
          "output_type": "execute_result",
          "data": {
            "text/plain": [
              "963356.8530909598"
            ]
          },
          "metadata": {
            "tags": []
          },
          "execution_count": 55
        }
      ]
    },
    {
      "cell_type": "markdown",
      "metadata": {
        "id": "vNZly0HHbmGO"
      },
      "source": [
        "___________________________________________________________________________________________________________________________"
      ]
    },
    {
      "cell_type": "markdown",
      "metadata": {
        "id": "QunDBW-kbmGO"
      },
      "source": [
        "#### 1.5 Python's comparison operators"
      ]
    },
    {
      "cell_type": "markdown",
      "metadata": {
        "id": "wTafyzTCbmGP"
      },
      "source": [
        "- Equality: ==\n",
        "\n",
        "- Inequality: !=\n",
        "\n",
        "- Less than: <\n",
        "\n",
        "- Less than or equal: <=\n",
        "\n",
        "- Greater than: >\n",
        "\n",
        "- Greater than or equal: >="
      ]
    },
    {
      "cell_type": "code",
      "metadata": {
        "id": "xyOAoU00lkXe",
        "outputId": "ce163cdc-48a5-417f-f4d6-e13e6e5aac6c",
        "colab": {
          "base_uri": "https://localhost:8080/"
        }
      },
      "source": [
        "#Comparisons and boolean go well together\n",
        "# Try this - can you guess the result before running the code?\n",
        "a=True\n",
        "b=False\n",
        "d=(a==b)\n",
        "d==b"
      ],
      "execution_count": 49,
      "outputs": [
        {
          "output_type": "execute_result",
          "data": {
            "text/plain": [
              "True"
            ]
          },
          "metadata": {
            "tags": []
          },
          "execution_count": 49
        }
      ]
    },
    {
      "cell_type": "code",
      "metadata": {
        "id": "KmD4cgCpmR_G",
        "outputId": "02b0b355-48e6-463a-b734-f532d0234ca7",
        "colab": {
          "base_uri": "https://localhost:8080/"
        }
      },
      "source": [
        "# EXERCISE: try TRUE or FALSE with numbers\n",
        "\n",
        "x1=3\n",
        "x2=4\n",
        "y1=5\n",
        "y2=1\n",
        "\n",
        "check=(x1+x2)==(y1+y2)\n",
        "if check:\n",
        "    print('Sum is equal to:', (x1+x2))\n",
        "else:\n",
        "    print('Error: sums not equal!')"
      ],
      "execution_count": 52,
      "outputs": [
        {
          "output_type": "stream",
          "text": [
            "Error: sums not equal!\n"
          ],
          "name": "stdout"
        }
      ]
    },
    {
      "cell_type": "code",
      "metadata": {
        "id": "9-2HfyXmmhLi",
        "outputId": "1c5bacb7-4bb6-4f34-9e3a-eb35d41c975b",
        "colab": {
          "base_uri": "https://localhost:8080/"
        }
      },
      "source": [
        "# More logical operations - can you guess the result before running the code?\n",
        "x = 3\n",
        "y = 6\n",
        "print(x > y)\n",
        "print(y > x)\n",
        "print(x == y)\n",
        "print(y != x)\n",
        "y!=x"
      ],
      "execution_count": 58,
      "outputs": [
        {
          "output_type": "stream",
          "text": [
            "False\n",
            "True\n",
            "False\n",
            "True\n"
          ],
          "name": "stdout"
        },
        {
          "output_type": "execute_result",
          "data": {
            "text/plain": [
              "True"
            ]
          },
          "metadata": {
            "tags": []
          },
          "execution_count": 58
        }
      ]
    },
    {
      "cell_type": "code",
      "metadata": {
        "id": "Id4rV1JPJ8th",
        "outputId": "a8408a37-b609-4548-eef1-1b45f13cda87",
        "colab": {
          "base_uri": "https://localhost:8080/"
        }
      },
      "source": [
        "type(x)\n"
      ],
      "execution_count": 56,
      "outputs": [
        {
          "output_type": "execute_result",
          "data": {
            "text/plain": [
              "int"
            ]
          },
          "metadata": {
            "tags": []
          },
          "execution_count": 56
        }
      ]
    },
    {
      "cell_type": "code",
      "metadata": {
        "id": "zfDWtNcIJ_XI",
        "outputId": "ef3549ae-7cd7-4fc4-b24c-0a5e852e8680",
        "colab": {
          "base_uri": "https://localhost:8080/"
        }
      },
      "source": [
        "print(type(x))"
      ],
      "execution_count": 57,
      "outputs": [
        {
          "output_type": "stream",
          "text": [
            "<class 'int'>\n"
          ],
          "name": "stdout"
        }
      ]
    },
    {
      "cell_type": "markdown",
      "metadata": {
        "id": "1dp3uNv0fvI4"
      },
      "source": [
        "\n",
        "\n",
        "---\n",
        "\n"
      ]
    },
    {
      "cell_type": "markdown",
      "metadata": {
        "id": "Z6CJLM9kfNwr"
      },
      "source": [
        "#### 1.6 Strings\n",
        "Python strings are more than just some of characters, they are *objects* with functions"
      ]
    },
    {
      "cell_type": "code",
      "metadata": {
        "id": "0gZWKvXEfy-A"
      },
      "source": [
        "\"This is a string\""
      ],
      "execution_count": null,
      "outputs": []
    },
    {
      "cell_type": "code",
      "metadata": {
        "colab": {
          "base_uri": "https://localhost:8080/"
        },
        "id": "mCaNFhVIgdcn",
        "outputId": "75eacf8c-f096-46f5-b47e-a208bb4709e3"
      },
      "source": [
        "a=\"This is my string\"\n",
        "b='This is ALSO my string'\n",
        "c='''This, too, is MY String''' \n",
        "print(a)\n",
        "print(b)\n",
        "print(c)"
      ],
      "execution_count": 59,
      "outputs": [
        {
          "output_type": "stream",
          "text": [
            "This is my string\n",
            "This is ALSO my string\n",
            "This, too, is MY String\n"
          ],
          "name": "stdout"
        }
      ]
    },
    {
      "cell_type": "markdown",
      "metadata": {
        "id": "y9s6gWuPg8v-"
      },
      "source": [
        "Let's use some of the methods of the string object, namely, `split`, `upper` and `lower`:"
      ]
    },
    {
      "cell_type": "code",
      "metadata": {
        "id": "lBDFy-Hdhnun",
        "outputId": "178e231f-3550-4e79-f127-119ffaefd7cd",
        "colab": {
          "base_uri": "https://localhost:8080/"
        }
      },
      "source": [
        "a.split()"
      ],
      "execution_count": 60,
      "outputs": [
        {
          "output_type": "execute_result",
          "data": {
            "text/plain": [
              "['This', 'is', 'my', 'string']"
            ]
          },
          "metadata": {
            "tags": []
          },
          "execution_count": 60
        }
      ]
    },
    {
      "cell_type": "code",
      "metadata": {
        "id": "_QIP3aylhsNe",
        "outputId": "b7b1c5b5-d9b0-496f-bc65-7610a639de4b",
        "colab": {
          "base_uri": "https://localhost:8080/",
          "height": 35
        }
      },
      "source": [
        "b.upper()"
      ],
      "execution_count": 61,
      "outputs": [
        {
          "output_type": "execute_result",
          "data": {
            "application/vnd.google.colaboratory.intrinsic+json": {
              "type": "string"
            },
            "text/plain": [
              "'THIS IS ALSO MY STRING'"
            ]
          },
          "metadata": {
            "tags": []
          },
          "execution_count": 61
        }
      ]
    },
    {
      "cell_type": "code",
      "metadata": {
        "id": "RkFNabgQhtlD",
        "outputId": "5660b72c-06b1-486d-caa4-16b4c5dae824",
        "colab": {
          "base_uri": "https://localhost:8080/",
          "height": 35
        }
      },
      "source": [
        "c.lower()"
      ],
      "execution_count": 62,
      "outputs": [
        {
          "output_type": "execute_result",
          "data": {
            "application/vnd.google.colaboratory.intrinsic+json": {
              "type": "string"
            },
            "text/plain": [
              "'this, too, is my string'"
            ]
          },
          "metadata": {
            "tags": []
          },
          "execution_count": 62
        }
      ]
    },
    {
      "cell_type": "code",
      "metadata": {
        "id": "fksTPAE17aXv",
        "outputId": "3bee48cd-317e-4483-c0c5-d218a9eed025",
        "colab": {
          "base_uri": "https://localhost:8080/"
        }
      },
      "source": [
        "a=\"This is my string\"\n",
        "?a.isalnum()\n",
        "print(a.isalnum())\n",
        "print(b.isnumeric())\n",
        "print(c.split())\n",
        "print(c.split(','))"
      ],
      "execution_count": 67,
      "outputs": [
        {
          "output_type": "stream",
          "text": [
            "False\n",
            "False\n",
            "['This,', 'too,', 'is', 'MY', 'String']\n",
            "['This', ' too', ' is MY String']\n"
          ],
          "name": "stdout"
        }
      ]
    },
    {
      "cell_type": "markdown",
      "metadata": {
        "id": "5tpduzjMMtxg"
      },
      "source": [
        "* (,)means seperate the words by the showing up of comma"
      ]
    },
    {
      "cell_type": "markdown",
      "metadata": {
        "id": "MtTPXOk3h7m9"
      },
      "source": [
        "**Exercise**\n",
        "\n",
        "\n",
        "*   Define a string called course_number and set it to 765\n",
        "*   Define a string that is equal to \"Programming for Data Science\"\n",
        "*   Change the course title to upper and lower case\n",
        "\n"
      ]
    },
    {
      "cell_type": "code",
      "metadata": {
        "id": "2tEhUwYPiqy4",
        "outputId": "aa9ae5de-b7fd-4c95-ec3f-ded1dade56a3",
        "colab": {
          "base_uri": "https://localhost:8080/"
        }
      },
      "source": [
        "# your code here\n",
        "course_number = \"765\"\n",
        "type(course_number)\n",
        "course_title = \"Programming for Data Science\"\n",
        "print(course_title.upper())\n"
      ],
      "execution_count": 71,
      "outputs": [
        {
          "output_type": "stream",
          "text": [
            "PROGRAMMING FOR DATA SCIENCE\n"
          ],
          "name": "stdout"
        }
      ]
    },
    {
      "cell_type": "markdown",
      "metadata": {
        "id": "AOezbWyrivwp"
      },
      "source": [
        "Another very useful function is `format()`:"
      ]
    },
    {
      "cell_type": "code",
      "metadata": {
        "id": "WK8Pf3T7iu4X",
        "outputId": "7ab8bbaa-b6bf-46fe-a806-c15e481f260c",
        "colab": {
          "base_uri": "https://localhost:8080/",
          "height": 35
        }
      },
      "source": [
        "num=765\n",
        "\"My favorite class at Questrom so far is BA{}\".format(num)\n",
        "# see that the curly brackets act like a placeholder"
      ],
      "execution_count": 72,
      "outputs": [
        {
          "output_type": "execute_result",
          "data": {
            "application/vnd.google.colaboratory.intrinsic+json": {
              "type": "string"
            },
            "text/plain": [
              "'My favorite class at Questrom so far is BA765'"
            ]
          },
          "metadata": {
            "tags": []
          },
          "execution_count": 72
        }
      ]
    },
    {
      "cell_type": "code",
      "metadata": {
        "id": "bmcJG2LojO7c",
        "outputId": "a4f841d2-585b-4347-8f6d-a9636d6bc61e",
        "colab": {
          "base_uri": "https://localhost:8080/"
        }
      },
      "source": [
        "# We can use multiple curly brackets too:\n",
        "b1_start=7\n",
        "b2_start=1\n",
        "myString=\"Does this class start at {} am or {} pm??\".format(b1_start,b2_start)\n",
        "print(myString)"
      ],
      "execution_count": 73,
      "outputs": [
        {
          "output_type": "stream",
          "text": [
            "Does this class start at 7 am or 1 pm??\n"
          ],
          "name": "stdout"
        }
      ]
    },
    {
      "cell_type": "markdown",
      "metadata": {
        "id": "eLH4lBf0jwgb"
      },
      "source": [
        "#### 1.7 Casting\n",
        "\n",
        "You might be familiar with the concept \"type casting\" but in Holywood it means something else, for us, it means casting a variable's type to something that is different than its original type:"
      ]
    },
    {
      "cell_type": "code",
      "metadata": {
        "id": "eqdd25htkInY",
        "outputId": "629d0558-f976-4d7b-e774-b1276cc51bec",
        "colab": {
          "base_uri": "https://localhost:8080/"
        }
      },
      "source": [
        "x=2\n",
        "y=2.0\n",
        "print(type(x))\n",
        "print(type(y))"
      ],
      "execution_count": 74,
      "outputs": [
        {
          "output_type": "stream",
          "text": [
            "<class 'int'>\n",
            "<class 'float'>\n"
          ],
          "name": "stdout"
        }
      ]
    },
    {
      "cell_type": "code",
      "metadata": {
        "id": "-_2_iLbjkOMH",
        "outputId": "21173d80-9bf3-4316-c000-3375c36d6e7e",
        "colab": {
          "base_uri": "https://localhost:8080/"
        }
      },
      "source": [
        "# Cast x as float:\n",
        "float(x)"
      ],
      "execution_count": 75,
      "outputs": [
        {
          "output_type": "execute_result",
          "data": {
            "text/plain": [
              "2.0"
            ]
          },
          "metadata": {
            "tags": []
          },
          "execution_count": 75
        }
      ]
    },
    {
      "cell_type": "code",
      "metadata": {
        "id": "WaQyuNpqPQLr",
        "outputId": "cfe214e0-9157-49dc-83f5-3bbb7350068f",
        "colab": {
          "base_uri": "https://localhost:8080/"
        }
      },
      "source": [
        "# return of a cell execution vs return\n",
        "type(a) #this is a return\n",
        "print(type(a)) #thsis would print its result if there is "
      ],
      "execution_count": 83,
      "outputs": [
        {
          "output_type": "execute_result",
          "data": {
            "text/plain": [
              "str"
            ]
          },
          "metadata": {
            "tags": []
          },
          "execution_count": 83
        }
      ]
    },
    {
      "cell_type": "code",
      "metadata": {
        "id": "wFpgFfsHkSgw",
        "outputId": "cc69aff9-e299-4467-b9d6-6e4a23a42174",
        "colab": {
          "base_uri": "https://localhost:8080/"
        }
      },
      "source": [
        "# Did we actually change the type of x? Try to find out:\n",
        "# your code here\n",
        "type(x)"
      ],
      "execution_count": 76,
      "outputs": [
        {
          "output_type": "execute_result",
          "data": {
            "text/plain": [
              "int"
            ]
          },
          "metadata": {
            "tags": []
          },
          "execution_count": 76
        }
      ]
    },
    {
      "cell_type": "code",
      "metadata": {
        "id": "tbr7PfnlkhBy",
        "outputId": "1a1a4fae-ca21-44bf-b79c-bc568d133ac5",
        "colab": {
          "base_uri": "https://localhost:8080/"
        }
      },
      "source": [
        "#Try to cast y as integer using int()\n",
        "#your code here\n",
        "int(y)"
      ],
      "execution_count": 77,
      "outputs": [
        {
          "output_type": "execute_result",
          "data": {
            "text/plain": [
              "2"
            ]
          },
          "metadata": {
            "tags": []
          },
          "execution_count": 77
        }
      ]
    },
    {
      "cell_type": "code",
      "metadata": {
        "id": "A3JR0S8PkSbx",
        "outputId": "2c235dc7-be80-4c74-8387-9d0c8b007fe8",
        "colab": {
          "base_uri": "https://localhost:8080/"
        }
      },
      "source": [
        "#How about strings? Can we cast them to different types? YES\n",
        "z=\"python\"\n",
        "list(z)\n",
        "# casting of a boolean\n",
        "#t = True\n",
        "#?t"
      ],
      "execution_count": 89,
      "outputs": [
        {
          "output_type": "execute_result",
          "data": {
            "text/plain": [
              "['p', 'y', 't', 'h', 'o', 'n']"
            ]
          },
          "metadata": {
            "tags": []
          },
          "execution_count": 89
        }
      ]
    },
    {
      "cell_type": "code",
      "metadata": {
        "id": "CqrSncRdkonV"
      },
      "source": [
        "?z"
      ],
      "execution_count": 91,
      "outputs": []
    },
    {
      "cell_type": "markdown",
      "metadata": {
        "id": "PIGPTwNPk5fD"
      },
      "source": [
        "#### 1.8 Some notes:"
      ]
    },
    {
      "cell_type": "code",
      "metadata": {
        "id": "gicATf_r88rl",
        "outputId": "e8414b65-9e79-42da-b21d-930924027eb5",
        "colab": {
          "base_uri": "https://localhost:8080/",
          "height": 35
        }
      },
      "source": [
        "# It is good to know the version of python we use:\n",
        "import sys\n",
        "sys.version"
      ],
      "execution_count": 92,
      "outputs": [
        {
          "output_type": "execute_result",
          "data": {
            "application/vnd.google.colaboratory.intrinsic+json": {
              "type": "string"
            },
            "text/plain": [
              "'3.7.10 (default, May  3 2021, 02:48:31) \\n[GCC 7.5.0]'"
            ]
          },
          "metadata": {
            "tags": []
          },
          "execution_count": 92
        }
      ]
    },
    {
      "cell_type": "code",
      "metadata": {
        "id": "n3MUUpCdlCX8",
        "outputId": "fe3ec076-a466-4bbb-ed2b-860c79697f26",
        "colab": {
          "base_uri": "https://localhost:8080/"
        }
      },
      "source": [
        "# We can assign multiple variables at once\n",
        "x,y,z = 3,3.33,\"BA765\"\n",
        "print(x,y,z)\n",
        "print('My results are x={}, y={}, z={}'. format(x,y,z))"
      ],
      "execution_count": 94,
      "outputs": [
        {
          "output_type": "stream",
          "text": [
            "3 3.33 BA765\n",
            "My results are x=3, y=3.33, z=BA765\n"
          ],
          "name": "stdout"
        }
      ]
    },
    {
      "cell_type": "code",
      "metadata": {
        "id": "XOou6OBXlFcc",
        "outputId": "279f3826-a8ce-43d4-a6db-84f833995298",
        "colab": {
          "base_uri": "https://localhost:8080/"
        }
      },
      "source": [
        "#Using operations within print is allowed:\n",
        "print(x+y)\n",
        "print(z+\"!\")"
      ],
      "execution_count": 95,
      "outputs": [
        {
          "output_type": "stream",
          "text": [
            "6.33\n",
            "BA765!\n"
          ],
          "name": "stdout"
        }
      ]
    },
    {
      "cell_type": "markdown",
      "metadata": {
        "id": "bI1yfs8NnTyG"
      },
      "source": [
        "#### 1.9 Doing math with python\n",
        "We will use the powerful 【numpy package】 for this purpose because it is very well optimized for common mathematical operations"
      ]
    },
    {
      "cell_type": "code",
      "metadata": {
        "id": "tDeRi_tanh5R"
      },
      "source": [
        "import numpy as np\n",
        "# Note that we have not only imported the package, but also gave it an alias"
      ],
      "execution_count": 97,
      "outputs": []
    },
    {
      "cell_type": "code",
      "metadata": {
        "id": "Y_H9dAV7nwCT",
        "outputId": "90f12af5-725c-438f-c5c4-129a8f9cf183",
        "colab": {
          "base_uri": "https://localhost:8080/"
        }
      },
      "source": [
        "np.pi"
      ],
      "execution_count": 98,
      "outputs": [
        {
          "output_type": "execute_result",
          "data": {
            "text/plain": [
              "3.141592653589793"
            ]
          },
          "metadata": {
            "tags": []
          },
          "execution_count": 98
        }
      ]
    },
    {
      "cell_type": "code",
      "metadata": {
        "id": "AXxzAjzNnzmA",
        "outputId": "a3bbb1c7-0369-473d-f134-b3adc714c3a2",
        "colab": {
          "base_uri": "https://localhost:8080/"
        }
      },
      "source": [
        "np.sqrt(625)"
      ],
      "execution_count": 99,
      "outputs": [
        {
          "output_type": "execute_result",
          "data": {
            "text/plain": [
              "25.0"
            ]
          },
          "metadata": {
            "tags": []
          },
          "execution_count": 99
        }
      ]
    },
    {
      "cell_type": "code",
      "metadata": {
        "id": "ihKOa3O9n8LD",
        "outputId": "b9974c56-28b2-462f-f6ff-aad6e1753a79",
        "colab": {
          "base_uri": "https://localhost:8080/"
        }
      },
      "source": [
        "np.sin(30.0/180.0*np.pi)"
      ],
      "execution_count": 100,
      "outputs": [
        {
          "output_type": "execute_result",
          "data": {
            "text/plain": [
              "0.49999999999999994"
            ]
          },
          "metadata": {
            "tags": []
          },
          "execution_count": 100
        }
      ]
    },
    {
      "cell_type": "code",
      "metadata": {
        "id": "FkqYJiJ86BZR",
        "outputId": "d3078091-3903-4660-d748-934fe7815b7d",
        "colab": {
          "base_uri": "https://localhost:8080/"
        }
      },
      "source": [
        "np.math.factorial(3)"
      ],
      "execution_count": 101,
      "outputs": [
        {
          "output_type": "execute_result",
          "data": {
            "text/plain": [
              "6"
            ]
          },
          "metadata": {
            "tags": []
          },
          "execution_count": 101
        }
      ]
    },
    {
      "cell_type": "code",
      "metadata": {
        "id": "tTk02_BZULuq"
      },
      "source": [
        "import math"
      ],
      "execution_count": 102,
      "outputs": []
    },
    {
      "cell_type": "code",
      "metadata": {
        "id": "tic1vHkjURBy",
        "outputId": "9e817d06-1632-4282-c5af-48ee47976e03",
        "colab": {
          "base_uri": "https://localhost:8080/"
        }
      },
      "source": [
        "math.factorial(3)"
      ],
      "execution_count": 103,
      "outputs": [
        {
          "output_type": "execute_result",
          "data": {
            "text/plain": [
              "6"
            ]
          },
          "metadata": {
            "tags": []
          },
          "execution_count": 103
        }
      ]
    },
    {
      "cell_type": "markdown",
      "metadata": {
        "id": "S3SXMOLJ65_T"
      },
      "source": [
        "##### Quick Exercise\n",
        "\n",
        "What is the difference between the # of days in the year and 5 factorial , squared, +1\n"
      ]
    },
    {
      "cell_type": "code",
      "metadata": {
        "id": "-u_LxEO57AJv",
        "outputId": "1736dc3c-a26e-463e-db5c-c75e7c478787",
        "colab": {
          "base_uri": "https://localhost:8080/"
        }
      },
      "source": [
        "# your code here\n",
        "number_days = 365\n",
        "z = np.math.factorial(5)\n",
        "n = z ** 2\n",
        "m = n + 1\n",
        "q = number_days - m\n",
        "print(q)\n"
      ],
      "execution_count": 107,
      "outputs": [
        {
          "output_type": "stream",
          "text": [
            "-14036\n"
          ],
          "name": "stdout"
        }
      ]
    },
    {
      "cell_type": "markdown",
      "metadata": {
        "id": "9lt4kKueoOhe"
      },
      "source": [
        "\n",
        "\n",
        "---\n",
        "\n"
      ]
    },
    {
      "cell_type": "markdown",
      "metadata": {
        "id": "eUkeUYg-oP8h"
      },
      "source": [
        "#### Conclusions\n",
        "Hope you enjoyed your very first introduction to Python\n",
        "Now please go ahead and tackle the first lab exercises!"
      ]
    }
  ]
}