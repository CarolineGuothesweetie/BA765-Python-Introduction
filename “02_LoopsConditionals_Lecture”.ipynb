{
  "nbformat": 4,
  "nbformat_minor": 0,
  "metadata": {
    "colab": {
      "name": "“02-LoopsConditionals_Lecture.ipynb”的副本",
      "provenance": [],
      "include_colab_link": true
    },
    "kernelspec": {
      "name": "python3",
      "display_name": "Python 3"
    },
    "language_info": {
      "name": "python"
    }
  },
  "cells": [
    {
      "cell_type": "markdown",
      "metadata": {
        "id": "view-in-github",
        "colab_type": "text"
      },
      "source": [
        "<a href=\"https://colab.research.google.com/github/CarolineGuothesweetie/Lecture-notes/blob/main/%E2%80%9C02_LoopsConditionals_Lecture%E2%80%9D.ipynb\" target=\"_parent\"><img src=\"https://colab.research.google.com/assets/colab-badge.svg\" alt=\"Open In Colab\"/></a>"
      ]
    },
    {
      "cell_type": "markdown",
      "metadata": {
        "id": "buZDoj1ODwRT"
      },
      "source": [
        "# Controlling the Execution Flow\n",
        "Loops and Conditionals\n",
        "<br>Session 4 - part 2\n",
        "<br>07/15/2021\n",
        "\n",
        "Learning Objectives:\n",
        "\n",
        "1.  `for` and `while` loops\n",
        "1.  `if` statements\n",
        "\n",
        "\n",
        "Above allow us to control the flow of our code, and provide a pathway for us to create more advanced functions to control our code logic.\n"
      ]
    },
    {
      "cell_type": "markdown",
      "metadata": {
        "id": "8_quLbBkm4ZZ"
      },
      "source": [
        "# Looping: `for` and `while`\n",
        "\n",
        "Computers shine at repetitive tasks. There will be times where you want to evaluate each entry in a object, or execute code until a certain codition is met.  \n",
        "\n",
        "For loop tutorial:  https://realpython.com/python-for-loop/  \n",
        "While loop tutorial:   https://realpython.com/python-while-loop/"
      ]
    },
    {
      "cell_type": "markdown",
      "metadata": {
        "id": "8Niws9_LqqqZ"
      },
      "source": [
        "## For loops"
      ]
    },
    {
      "cell_type": "markdown",
      "metadata": {
        "id": "8aQePGAL1Vr-"
      },
      "source": [
        "\n",
        "![loop](https://www.learnbyexample.org/wp-content/uploads/python/Python-for-Loop-Syntax.png)\n",
        "\n",
        "<br>\n",
        "\n"
      ]
    },
    {
      "cell_type": "code",
      "metadata": {
        "id": "CZ2n2bOmotKq",
        "colab": {
          "base_uri": "https://localhost:8080/"
        },
        "outputId": "65948e01-c776-4e0c-957b-68292307b3cb"
      },
      "source": [
        "# print elements in a list\n",
        "mylist = [1,2,3,'a']\n",
        "\n",
        "for i in mylist:\n",
        "  print(i)"
      ],
      "execution_count": 1,
      "outputs": [
        {
          "output_type": "stream",
          "text": [
            "1\n",
            "2\n",
            "3\n",
            "a\n"
          ],
          "name": "stdout"
        }
      ]
    },
    {
      "cell_type": "code",
      "metadata": {
        "colab": {
          "base_uri": "https://localhost:8080/"
        },
        "id": "ghyCyTXHaGYV",
        "outputId": "f9b99127-9bc0-4a9a-ddab-cfe7460e13f5"
      },
      "source": [
        "for i in mylist:\n",
        "  print(\"Hello, World!\")"
      ],
      "execution_count": 2,
      "outputs": [
        {
          "output_type": "stream",
          "text": [
            "Hello, World!\n",
            "Hello, World!\n",
            "Hello, World!\n",
            "Hello, World!\n"
          ],
          "name": "stdout"
        }
      ]
    },
    {
      "cell_type": "markdown",
      "metadata": {
        "id": "ojjokRWpo23v"
      },
      "source": [
        "> What just happened?  We iterated over the values in `mylist`, and for each value, we set the value of `i` to that entry, and printed it to output.  We don't have to always use `i`, but it is a rather standard convention for historical reasons."
      ]
    },
    {
      "cell_type": "markdown",
      "metadata": {
        "id": "covQpaE_E_5e"
      },
      "source": [
        "Remember the range function? It is perfect for these kind of repetitive tasks:"
      ]
    },
    {
      "cell_type": "code",
      "metadata": {
        "id": "OmXIta1KpMO4",
        "colab": {
          "base_uri": "https://localhost:8080/"
        },
        "outputId": "79a2cc38-2d80-4034-920e-f4ad5111f341"
      },
      "source": [
        "# a second for loop\n",
        "for num in range(1,11):\n",
        "  print(num)"
      ],
      "execution_count": 3,
      "outputs": [
        {
          "output_type": "stream",
          "text": [
            "1\n",
            "2\n",
            "3\n",
            "4\n",
            "5\n",
            "6\n",
            "7\n",
            "8\n",
            "9\n",
            "10\n"
          ],
          "name": "stdout"
        }
      ]
    },
    {
      "cell_type": "markdown",
      "metadata": {
        "id": "5q8hZZhVqj4V"
      },
      "source": [
        "\n",
        "For help on range, see this article:  https://pynative.com/python-range-function/"
      ]
    },
    {
      "cell_type": "code",
      "metadata": {
        "id": "xxEEw1C4pVrz",
        "colab": {
          "base_uri": "https://localhost:8080/"
        },
        "outputId": "7c445a12-99a9-45d1-dc1a-4b74d7375ae2"
      },
      "source": [
        "# let's copy above, but this time, perform an operation on each entry\n",
        "# square the values\n",
        "for num in range(1, 11):\n",
        "  print(num**2)"
      ],
      "execution_count": 4,
      "outputs": [
        {
          "output_type": "stream",
          "text": [
            "1\n",
            "4\n",
            "9\n",
            "16\n",
            "25\n",
            "36\n",
            "49\n",
            "64\n",
            "81\n",
            "100\n"
          ],
          "name": "stdout"
        }
      ]
    },
    {
      "cell_type": "markdown",
      "metadata": {
        "id": "CyNlj_T7FMje"
      },
      "source": [
        "## Quick Exercise:"
      ]
    },
    {
      "cell_type": "code",
      "metadata": {
        "id": "O2LF6Ranm4Tg",
        "colab": {
          "base_uri": "https://localhost:8080/"
        },
        "outputId": "d75f8235-6cac-4b40-dcca-285cb48627e3"
      },
      "source": [
        "# for each number 1 through 10, add 5 to the number, and add it to a list called\n",
        "modified_nums = []\n",
        "for i in range(1,11):\n",
        "  print(i+5)"
      ],
      "execution_count": 14,
      "outputs": [
        {
          "output_type": "stream",
          "text": [
            "6\n",
            "7\n",
            "8\n",
            "9\n",
            "10\n",
            "11\n",
            "12\n",
            "13\n",
            "14\n",
            "15\n"
          ],
          "name": "stdout"
        }
      ]
    },
    {
      "cell_type": "markdown",
      "metadata": {
        "id": "bFHYveHym4RX"
      },
      "source": [
        "## While loops\n",
        "\n",
        "![while](https://www.learnbyexample.org/wp-content/uploads/python/Python-while-Loop-Syntax.png)\n",
        "\n",
        "Unlike `for` loops, `while` loops will always try to execute the code blocks until the condition is no longer `True`.  These can be infinite loops."
      ]
    },
    {
      "cell_type": "code",
      "metadata": {
        "id": "oYRxxud7m4Xt"
      },
      "source": [
        "# lets import the random library \n",
        "import random\n"
      ],
      "execution_count": 9,
      "outputs": []
    },
    {
      "cell_type": "code",
      "metadata": {
        "id": "BBzcw3sEm4PP",
        "colab": {
          "base_uri": "https://localhost:8080/"
        },
        "outputId": "61271df1-ab85-4b4f-dfeb-63c6816ee0c7"
      },
      "source": [
        "# starter loop\n",
        "x = 1\n",
        "while x < 5:\n",
        "  print(x)\n",
        "  x = x + 1\n"
      ],
      "execution_count": 10,
      "outputs": [
        {
          "output_type": "stream",
          "text": [
            "1\n",
            "2\n",
            "3\n",
            "4\n"
          ],
          "name": "stdout"
        }
      ]
    },
    {
      "cell_type": "code",
      "metadata": {
        "id": "CCCcQe8ifHiw"
      },
      "source": [
        "# as mentioned above, these can be infinite loops,\n",
        "# we will need to interrupt the execution otherwise it will run forever:\n",
        "# Runtime  > interrupt execution\n",
        "while True:\n",
        "  print(random.randint(1,100))"
      ],
      "execution_count": null,
      "outputs": []
    },
    {
      "cell_type": "markdown",
      "metadata": {
        "id": "JRhYwNCdFoKt"
      },
      "source": [
        "## Quick exercise"
      ]
    },
    {
      "cell_type": "code",
      "metadata": {
        "id": "Nub3Ba0Dm4EP",
        "colab": {
          "base_uri": "https://localhost:8080/"
        },
        "outputId": "6c047d6a-2284-4a75-cc54-891ca96b8286"
      },
      "source": [
        "import numpy as np\n",
        "# QUICK EXERCISE:\n",
        "# define x to be 50\n",
        "# use a while loop that executes as long as x > 10\n",
        "# inside the while loop, update the value of x to be:\n",
        "# (its current value - a random integer between 1 and 5)\n",
        "x = 50\n",
        "while x > 10:\n",
        "  y = np.random.choice(range(1,6))\n",
        "  print(x - y)\n",
        "  x = x - y\n"
      ],
      "execution_count": 26,
      "outputs": [
        {
          "output_type": "stream",
          "text": [
            "47\n",
            "43\n",
            "41\n",
            "40\n",
            "36\n",
            "31\n",
            "29\n",
            "24\n",
            "22\n",
            "17\n",
            "12\n",
            "7\n"
          ],
          "name": "stdout"
        }
      ]
    },
    {
      "cell_type": "markdown",
      "metadata": {
        "id": "JTdjmAcD1eNT"
      },
      "source": [
        "# `if` statements\n",
        "\n",
        "If statements execute _if_ the conditional statement is `True`.  \n",
        "\n",
        "Tutorial:  https://realpython.com/python-conditional-statements/"
      ]
    },
    {
      "cell_type": "code",
      "metadata": {
        "id": "BUZV8PKu1exn",
        "colab": {
          "base_uri": "https://localhost:8080/"
        },
        "outputId": "7550a235-7530-4d58-8593-96e1397ed2a2"
      },
      "source": [
        "# let's start simple\n",
        "# but learn a few interesting things at the same time\n",
        "# below is how to ask user for live input:\n",
        "x = input('enter a integer value for x:')\n",
        "x = int(x)\n",
        "if x > 0:\n",
        "  print('x is greater than zero')"
      ],
      "execution_count": 29,
      "outputs": [
        {
          "output_type": "stream",
          "text": [
            "enter a integer value for x:0\n"
          ],
          "name": "stdout"
        }
      ]
    },
    {
      "cell_type": "markdown",
      "metadata": {
        "id": "jvcRD3OLlk9d"
      },
      "source": [
        "> Note 1:  Take note of the indentation.  This is a key principle in writing code in python.  For various features, like if statements, python will require us to indent our code.  Change indentation of the `print` so that it is in the same level of `if` line and see the result!\n",
        "\n",
        "\n",
        "> Note 2: Above we use are using standard python's `input` to get input from the user. It comes back in the form a string, so we convert it to an integer."
      ]
    },
    {
      "cell_type": "code",
      "metadata": {
        "id": "e60ErhXc1ez1",
        "colab": {
          "base_uri": "https://localhost:8080/"
        },
        "outputId": "41c4cbe0-fceb-44a7-e5c7-d182afbade69"
      },
      "source": [
        "# lets copy and paste the cell above, to handle other flows\n",
        "# handle other cases\n",
        "x = input('enter a integer value for x:')\n",
        "x = int(x)\n",
        "if x > 0:\n",
        "  print('x is greater than zero')\n",
        "else:\n",
        "  print('x is negative')\n"
      ],
      "execution_count": null,
      "outputs": [
        {
          "output_type": "stream",
          "text": [
            "enter a integer value for x:0\n",
            "x is negative\n"
          ],
          "name": "stdout"
        }
      ]
    },
    {
      "cell_type": "markdown",
      "metadata": {
        "id": "4m9KG1yr1e2x"
      },
      "source": [
        "> What happens when we enter zero? "
      ]
    },
    {
      "cell_type": "code",
      "metadata": {
        "id": "ywsPgRAx1e6v"
      },
      "source": [
        "# let's round this out\n",
        "x = input('enter a integer value for x:')\n",
        "x = int(x)\n",
        "if x > 0:\n",
        "  print('x is greater than zero')\n",
        "elif x < 0:\n",
        "  print('x is negative')\n",
        "else:\n",
        "  print('x is equal to zero')"
      ],
      "execution_count": null,
      "outputs": []
    },
    {
      "cell_type": "markdown",
      "metadata": {
        "id": "ePwpiYCt1e9F"
      },
      "source": [
        "> What did we learn above about the syntax?"
      ]
    },
    {
      "cell_type": "markdown",
      "metadata": {
        "id": "5-5syKcZ0SKX"
      },
      "source": [
        "## Iterating over Lists"
      ]
    },
    {
      "cell_type": "code",
      "metadata": {
        "id": "np05Wptj0SNc",
        "colab": {
          "base_uri": "https://localhost:8080/"
        },
        "outputId": "5edce020-0ea7-4090-99ea-d2f600c0aaa9"
      },
      "source": [
        "x = list(range(2, 21, 2))\n",
        "x"
      ],
      "execution_count": 30,
      "outputs": [
        {
          "output_type": "execute_result",
          "data": {
            "text/plain": [
              "[2, 4, 6, 8, 10, 12, 14, 16, 18, 20]"
            ]
          },
          "metadata": {
            "tags": []
          },
          "execution_count": 30
        }
      ]
    },
    {
      "cell_type": "code",
      "metadata": {
        "id": "whaCzJX42GAQ",
        "colab": {
          "base_uri": "https://localhost:8080/"
        },
        "outputId": "ef12829a-4be6-43bb-fb60-088b064e6025"
      },
      "source": [
        "# len\n",
        "len(x)"
      ],
      "execution_count": 31,
      "outputs": [
        {
          "output_type": "execute_result",
          "data": {
            "text/plain": [
              "10"
            ]
          },
          "metadata": {
            "tags": []
          },
          "execution_count": 31
        }
      ]
    },
    {
      "cell_type": "code",
      "metadata": {
        "id": "9000z58y2MQW",
        "colab": {
          "base_uri": "https://localhost:8080/"
        },
        "outputId": "cd1bf503-3352-45fd-8fa3-a48c7d27ebae"
      },
      "source": [
        "for val in x:\n",
        "  print(val)"
      ],
      "execution_count": 32,
      "outputs": [
        {
          "output_type": "stream",
          "text": [
            "2\n",
            "4\n",
            "6\n",
            "8\n",
            "10\n",
            "12\n",
            "14\n",
            "16\n",
            "18\n",
            "20\n"
          ],
          "name": "stdout"
        }
      ]
    },
    {
      "cell_type": "code",
      "metadata": {
        "id": "HU8qUyY82NAK",
        "colab": {
          "base_uri": "https://localhost:8080/"
        },
        "outputId": "c01ae514-71bf-40ce-e850-b1f10974b35e"
      },
      "source": [
        "# have both the index and value\n",
        "for index, value in enumerate(x):\n",
        "  print(index, value)"
      ],
      "execution_count": 33,
      "outputs": [
        {
          "output_type": "stream",
          "text": [
            "0 2\n",
            "1 4\n",
            "2 6\n",
            "3 8\n",
            "4 10\n",
            "5 12\n",
            "6 14\n",
            "7 16\n",
            "8 18\n",
            "9 20\n"
          ],
          "name": "stdout"
        }
      ]
    },
    {
      "cell_type": "code",
      "metadata": {
        "id": "RTwxAxcc2NDg",
        "colab": {
          "base_uri": "https://localhost:8080/"
        },
        "outputId": "c608111e-d051-4219-ac4d-b0a87af82828"
      },
      "source": [
        "# confirm\n",
        "x[:5]"
      ],
      "execution_count": 34,
      "outputs": [
        {
          "output_type": "execute_result",
          "data": {
            "text/plain": [
              "[2, 4, 6, 8, 10]"
            ]
          },
          "metadata": {
            "tags": []
          },
          "execution_count": 34
        }
      ]
    },
    {
      "cell_type": "code",
      "metadata": {
        "id": "pgmCBiJr2NGQ"
      },
      "source": [
        "# lets go from a list to a dictionary\n",
        "d = {}\n",
        "\n",
        "for index, value in enumerate(x):\n",
        "  d[index] = value\n",
        "\n"
      ],
      "execution_count": 35,
      "outputs": []
    },
    {
      "cell_type": "code",
      "metadata": {
        "id": "UEDPGMbD2mQD",
        "colab": {
          "base_uri": "https://localhost:8080/"
        },
        "outputId": "cabf3fb6-6f97-4b76-a19d-b6b105435531"
      },
      "source": [
        "d"
      ],
      "execution_count": 36,
      "outputs": [
        {
          "output_type": "execute_result",
          "data": {
            "text/plain": [
              "{0: 2, 1: 4, 2: 6, 3: 8, 4: 10, 5: 12, 6: 14, 7: 16, 8: 18, 9: 20}"
            ]
          },
          "metadata": {
            "tags": []
          },
          "execution_count": 36
        }
      ]
    },
    {
      "cell_type": "code",
      "metadata": {
        "id": "_k8wDjxf2uL8",
        "colab": {
          "base_uri": "https://localhost:8080/"
        },
        "outputId": "7c914019-81ad-4e66-d660-f5c8e4ce8228"
      },
      "source": [
        "d.keys()"
      ],
      "execution_count": 37,
      "outputs": [
        {
          "output_type": "execute_result",
          "data": {
            "text/plain": [
              "dict_keys([0, 1, 2, 3, 4, 5, 6, 7, 8, 9])"
            ]
          },
          "metadata": {
            "tags": []
          },
          "execution_count": 37
        }
      ]
    },
    {
      "cell_type": "markdown",
      "metadata": {
        "id": "87OC0IBy28cp"
      },
      "source": [
        "## Dictionaries"
      ]
    },
    {
      "cell_type": "code",
      "metadata": {
        "id": "nxTx4WFY3Cws",
        "colab": {
          "base_uri": "https://localhost:8080/"
        },
        "outputId": "7a5080ee-bf52-409c-bf76-3cb453c83c70"
      },
      "source": [
        "# command that checks if key is in dict.\n",
        "0 in d"
      ],
      "execution_count": 38,
      "outputs": [
        {
          "output_type": "execute_result",
          "data": {
            "text/plain": [
              "True"
            ]
          },
          "metadata": {
            "tags": []
          },
          "execution_count": 38
        }
      ]
    },
    {
      "cell_type": "code",
      "metadata": {
        "id": "kuY-JNPt3Lj8",
        "colab": {
          "base_uri": "https://localhost:8080/"
        },
        "outputId": "06fb3bd1-955f-4f07-f20e-1c0590836bd3"
      },
      "source": [
        "# check every key\n",
        "for key in d:\n",
        "  print(key)"
      ],
      "execution_count": 39,
      "outputs": [
        {
          "output_type": "stream",
          "text": [
            "0\n",
            "1\n",
            "2\n",
            "3\n",
            "4\n",
            "5\n",
            "6\n",
            "7\n",
            "8\n",
            "9\n"
          ],
          "name": "stdout"
        }
      ]
    },
    {
      "cell_type": "code",
      "metadata": {
        "id": "PS8MMmUC3O7V",
        "colab": {
          "base_uri": "https://localhost:8080/"
        },
        "outputId": "1c4421d1-9e98-4c1d-c737-9a780c9cdf3c"
      },
      "source": [
        "# check every value\n",
        "for value in d.values():\n",
        "  print(value)"
      ],
      "execution_count": 40,
      "outputs": [
        {
          "output_type": "stream",
          "text": [
            "2\n",
            "4\n",
            "6\n",
            "8\n",
            "10\n",
            "12\n",
            "14\n",
            "16\n",
            "18\n",
            "20\n"
          ],
          "name": "stdout"
        }
      ]
    },
    {
      "cell_type": "code",
      "metadata": {
        "id": "Mo3ticRX3Tlt",
        "colab": {
          "base_uri": "https://localhost:8080/"
        },
        "outputId": "bd6087f5-68e6-4629-efd2-5693ce563942"
      },
      "source": [
        "# explicit keys\n",
        "\n",
        "for key in d.keys():\n",
        "  print(key)"
      ],
      "execution_count": 41,
      "outputs": [
        {
          "output_type": "stream",
          "text": [
            "0\n",
            "1\n",
            "2\n",
            "3\n",
            "4\n",
            "5\n",
            "6\n",
            "7\n",
            "8\n",
            "9\n"
          ],
          "name": "stdout"
        }
      ]
    },
    {
      "cell_type": "code",
      "metadata": {
        "id": "OTSBN9lf3W5Y",
        "colab": {
          "base_uri": "https://localhost:8080/"
        },
        "outputId": "8fee331a-9507-41f2-f5b8-c2a40de2fe92"
      },
      "source": [
        "# lets start by looking at items\n",
        "for item in d.items():\n",
        "  print(item)"
      ],
      "execution_count": 42,
      "outputs": [
        {
          "output_type": "stream",
          "text": [
            "(0, 2)\n",
            "(1, 4)\n",
            "(2, 6)\n",
            "(3, 8)\n",
            "(4, 10)\n",
            "(5, 12)\n",
            "(6, 14)\n",
            "(7, 16)\n",
            "(8, 18)\n",
            "(9, 20)\n"
          ],
          "name": "stdout"
        }
      ]
    },
    {
      "cell_type": "code",
      "metadata": {
        "id": "MvE4SBGT3XCQ",
        "colab": {
          "base_uri": "https://localhost:8080/"
        },
        "outputId": "6902c983-39e1-4fba-a7fe-1fab48d8224d"
      },
      "source": [
        "# lets confirm a tuple\n",
        "for item in d.items():\n",
        "  print(item)\n",
        "  print(type(item))"
      ],
      "execution_count": 43,
      "outputs": [
        {
          "output_type": "stream",
          "text": [
            "(0, 2)\n",
            "<class 'tuple'>\n",
            "(1, 4)\n",
            "<class 'tuple'>\n",
            "(2, 6)\n",
            "<class 'tuple'>\n",
            "(3, 8)\n",
            "<class 'tuple'>\n",
            "(4, 10)\n",
            "<class 'tuple'>\n",
            "(5, 12)\n",
            "<class 'tuple'>\n",
            "(6, 14)\n",
            "<class 'tuple'>\n",
            "(7, 16)\n",
            "<class 'tuple'>\n",
            "(8, 18)\n",
            "<class 'tuple'>\n",
            "(9, 20)\n",
            "<class 'tuple'>\n"
          ],
          "name": "stdout"
        }
      ]
    },
    {
      "cell_type": "code",
      "metadata": {
        "id": "RRSqAh7o3XFg",
        "colab": {
          "base_uri": "https://localhost:8080/"
        },
        "outputId": "357eab23-b21c-44cd-d5be-256c8046e6b3"
      },
      "source": [
        "# lets extract the key and the value\n",
        "for key, value in d.items():\n",
        "  print(key,value)\n",
        "  print(\"=\"*10)"
      ],
      "execution_count": 45,
      "outputs": [
        {
          "output_type": "stream",
          "text": [
            "0 2\n",
            "==========\n",
            "1 4\n",
            "==========\n",
            "2 6\n",
            "==========\n",
            "3 8\n",
            "==========\n",
            "4 10\n",
            "==========\n",
            "5 12\n",
            "==========\n",
            "6 14\n",
            "==========\n",
            "7 16\n",
            "==========\n",
            "8 18\n",
            "==========\n",
            "9 20\n",
            "==========\n"
          ],
          "name": "stdout"
        }
      ]
    },
    {
      "cell_type": "code",
      "metadata": {
        "id": "tjpKPMtE3XJR",
        "colab": {
          "base_uri": "https://localhost:8080/"
        },
        "outputId": "9fe6d0cf-33fb-494b-f6eb-454f03be3190"
      },
      "source": [
        "# reverse the dictionary\n",
        "d2 = {}\n",
        "\n",
        "for key, value in d.items():\n",
        "  d2[value] = key\n",
        "\n",
        "d2\n"
      ],
      "execution_count": 46,
      "outputs": [
        {
          "output_type": "execute_result",
          "data": {
            "text/plain": [
              "{2: 0, 4: 1, 6: 2, 8: 3, 10: 4, 12: 5, 14: 6, 16: 7, 18: 8, 20: 9}"
            ]
          },
          "metadata": {
            "tags": []
          },
          "execution_count": 46
        }
      ]
    },
    {
      "cell_type": "markdown",
      "metadata": {
        "id": "qDeoOUDg1e_r"
      },
      "source": [
        "# Exercise A:\n",
        "\n",
        "You are provided some code below to get you started. We are creating a list of grades for 500 students.  \n",
        "\n",
        "Given `grades`, create a new list called `passing_grade` and only include the entries from `grades` where the value is greater than or equal to 70.  After that has been completed, print out the percentage of grades that are considered passing."
      ]
    },
    {
      "cell_type": "code",
      "metadata": {
        "id": "PE7Ol9WwuNdz"
      },
      "source": [
        "# STARTER CODE BELOW\n",
        "import numpy as np\n",
        "np.random.seed(834)\n",
        "\n",
        "# create a set of 500\n",
        "grades = np.random.randint(0,100, size=500).tolist()"
      ],
      "execution_count": 48,
      "outputs": []
    },
    {
      "cell_type": "code",
      "metadata": {
        "colab": {
          "base_uri": "https://localhost:8080/"
        },
        "id": "da-QcBTapjFz",
        "outputId": "0afb0a9c-6bfa-4507-f176-8843f227ac99"
      },
      "source": [
        "print(grades)"
      ],
      "execution_count": 52,
      "outputs": [
        {
          "output_type": "stream",
          "text": [
            "[28, 64, 14, 93, 35, 38, 32, 7, 59, 94, 13, 7, 10, 84, 34, 37, 72, 98, 94, 11, 71, 81, 30, 22, 20, 88, 47, 76, 81, 60, 97, 43, 86, 11, 32, 10, 91, 89, 36, 97, 19, 34, 69, 88, 45, 5, 40, 76, 67, 76, 60, 42, 94, 0, 92, 39, 41, 52, 23, 67, 15, 15, 15, 62, 93, 23, 36, 12, 50, 39, 65, 37, 76, 4, 2, 48, 23, 61, 95, 82, 55, 82, 43, 27, 53, 86, 87, 55, 34, 82, 53, 36, 62, 26, 82, 9, 62, 88, 37, 49, 97, 21, 82, 33, 99, 49, 87, 53, 29, 54, 29, 49, 17, 14, 32, 18, 2, 63, 2, 13, 5, 34, 22, 66, 56, 52, 27, 75, 81, 5, 48, 94, 37, 52, 10, 43, 10, 66, 88, 35, 12, 22, 5, 67, 12, 76, 51, 35, 57, 57, 22, 60, 14, 7, 17, 15, 84, 26, 70, 28, 72, 18, 71, 63, 88, 50, 54, 11, 79, 75, 97, 25, 29, 6, 94, 27, 35, 32, 85, 95, 89, 91, 21, 97, 56, 29, 42, 3, 92, 22, 99, 35, 83, 49, 89, 50, 82, 68, 30, 13, 77, 68, 62, 20, 12, 79, 38, 6, 55, 26, 1, 41, 90, 48, 91, 72, 67, 62, 33, 16, 51, 66, 10, 93, 44, 87, 20, 28, 27, 28, 21, 67, 45, 4, 71, 14, 18, 97, 91, 36, 20, 43, 61, 85, 33, 43, 38, 89, 77, 14, 59, 82, 43, 56, 12, 96, 23, 74, 79, 81, 29, 46, 81, 92, 64, 98, 15, 88, 35, 88, 48, 41, 99, 51, 47, 39, 92, 71, 33, 14, 56, 6, 83, 42, 63, 94, 90, 48, 63, 15, 76, 64, 74, 82, 3, 27, 10, 0, 4, 99, 44, 24, 20, 84, 25, 90, 76, 26, 91, 68, 23, 8, 6, 48, 44, 46, 83, 51, 70, 32, 69, 93, 81, 89, 3, 3, 9, 74, 76, 56, 35, 90, 24, 63, 17, 11, 42, 62, 78, 54, 25, 10, 14, 53, 35, 66, 35, 44, 34, 57, 99, 30, 78, 21, 29, 29, 98, 12, 35, 76, 22, 39, 15, 51, 11, 82, 0, 31, 4, 59, 6, 26, 54, 21, 17, 81, 53, 99, 18, 43, 71, 53, 65, 80, 70, 96, 89, 44, 39, 21, 36, 1, 21, 46, 70, 63, 15, 15, 28, 5, 50, 77, 72, 1, 30, 50, 36, 80, 72, 11, 18, 36, 33, 12, 64, 83, 72, 12, 1, 92, 21, 30, 98, 32, 30, 25, 29, 90, 44, 79, 5, 79, 46, 32, 95, 42, 8, 2, 10, 42, 73, 56, 44, 15, 29, 27, 75, 91, 91, 35, 90, 14, 41, 61, 93, 30, 48, 88, 41, 39, 42, 31, 34, 15, 79, 58, 94, 58, 66, 53, 30, 45, 38, 34, 89, 78, 48, 75, 36, 45, 29, 52, 91, 60, 75, 53, 53, 59, 84, 77, 8, 39, 18, 80, 4, 82, 72, 31, 14, 97]\n"
          ],
          "name": "stdout"
        }
      ]
    },
    {
      "cell_type": "code",
      "metadata": {
        "id": "OioVgPatpoF4"
      },
      "source": [
        "i = np.random.choice(grades)"
      ],
      "execution_count": 54,
      "outputs": []
    },
    {
      "cell_type": "code",
      "metadata": {
        "id": "zjpHPEddkzRb",
        "colab": {
          "base_uri": "https://localhost:8080/"
        },
        "outputId": "da5ac30b-9268-4942-ce60-44ddbfa98ba1"
      },
      "source": [
        "# Q1:  Create a list called passing_grade , and populate it with passing grades\n",
        "# from the overall grades list\n",
        "# remember the passing grades are greater or equal to 70.\n",
        "passing_grade = []\n",
        "\n",
        "for i in grades:\n",
        "  if i >= 70:\n",
        "    passing_grade.append(i)\n",
        "print(passing_grade)\n"
      ],
      "execution_count": 57,
      "outputs": [
        {
          "output_type": "stream",
          "text": [
            "[93, 94, 84, 72, 98, 94, 71, 81, 88, 76, 81, 97, 86, 91, 89, 97, 88, 76, 76, 94, 92, 93, 76, 95, 82, 82, 86, 87, 82, 82, 88, 97, 82, 99, 87, 75, 81, 94, 88, 76, 84, 70, 72, 71, 88, 79, 75, 97, 94, 85, 95, 89, 91, 97, 92, 99, 83, 89, 82, 77, 79, 90, 91, 72, 93, 87, 71, 97, 91, 85, 89, 77, 82, 96, 74, 79, 81, 81, 92, 98, 88, 88, 99, 92, 71, 83, 94, 90, 76, 74, 82, 99, 84, 90, 76, 91, 83, 70, 93, 81, 89, 74, 76, 90, 78, 99, 78, 98, 76, 82, 81, 99, 71, 80, 70, 96, 89, 70, 77, 72, 80, 72, 83, 72, 92, 98, 90, 79, 79, 95, 73, 75, 91, 91, 90, 93, 88, 79, 94, 89, 78, 75, 91, 75, 84, 77, 80, 82, 72, 97]\n"
          ],
          "name": "stdout"
        }
      ]
    },
    {
      "cell_type": "code",
      "metadata": {
        "id": "5CoJSby4lA1t",
        "colab": {
          "base_uri": "https://localhost:8080/"
        },
        "outputId": "60374c88-59bc-490f-d731-4254eab1cf9c"
      },
      "source": [
        "# Q2:  What % of the 500 entries in `grades` passed?\n",
        "# Return your result as a string in the format of XX%\n",
        "a = len(passing_grade)\n",
        "print('% of the 500 entries in grades:', a/500)"
      ],
      "execution_count": 63,
      "outputs": [
        {
          "output_type": "stream",
          "text": [
            "% of the 500 entries in grades: 0.3\n"
          ],
          "name": "stdout"
        }
      ]
    },
    {
      "cell_type": "code",
      "metadata": {
        "colab": {
          "base_uri": "https://localhost:8080/"
        },
        "id": "uTdmNG2Yryd8",
        "outputId": "e6a9d349-578f-4c34-8b5e-906e0b3ecd1a"
      },
      "source": [
        "rate = len(passing_grade)/len(grades)*100\n",
        "print('{}% of the entries in grades passed'.format(rate,len(grades)))"
      ],
      "execution_count": 65,
      "outputs": [
        {
          "output_type": "stream",
          "text": [
            "30.0% of the entries in grades passed\n"
          ],
          "name": "stdout"
        }
      ]
    },
    {
      "cell_type": "code",
      "metadata": {
        "id": "QfktXEkimSy0",
        "colab": {
          "base_uri": "https://localhost:8080/"
        },
        "outputId": "fe2c6b7c-f369-4161-f769-e00e1b4ad91a"
      },
      "source": [
        "# Q3: Bonus - can you sort the passing_grade list to find the highest passing grades \n",
        "# in this sample?\n",
        "passing_grade.sort(reverse=True)\n",
        "passing_grade[0]"
      ],
      "execution_count": 66,
      "outputs": [
        {
          "output_type": "execute_result",
          "data": {
            "text/plain": [
              "99"
            ]
          },
          "metadata": {
            "tags": []
          },
          "execution_count": 66
        }
      ]
    },
    {
      "cell_type": "markdown",
      "metadata": {
        "id": "od-L3S0_Syel"
      },
      "source": [
        "# Exercise B: \n",
        "\n",
        "Let's add our knowledge of functions here too:\n",
        "\n",
        "Create a function that takes a string as input, and returns a list that only includes the letters from the input that are in upper case ('B', not 'b')\n",
        "\n",
        "> Hint: reviewing string methods might help here while checking upper case!\n",
        "\n",
        "\n",
        "> Bonus: add an optional argument to functional called \"collapsed\" such that when it is `True` (default being `False`), your function also returns a collapsed version of the entry so the letters appear together as just a string, e.g. likethisbunchofwords"
      ]
    },
    {
      "cell_type": "code",
      "metadata": {
        "id": "MvPELlIEXmfQ"
      },
      "source": [
        ""
      ],
      "execution_count": null,
      "outputs": []
    }
  ]
}