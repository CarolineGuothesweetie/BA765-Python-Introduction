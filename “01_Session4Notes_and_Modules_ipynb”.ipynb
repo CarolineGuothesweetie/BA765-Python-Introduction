{
  "nbformat": 4,
  "nbformat_minor": 0,
  "metadata": {
    "colab": {
      "name": "“01-Session4Notes_and_Modules.ipynb”的副本",
      "provenance": [],
      "include_colab_link": true
    },
    "kernelspec": {
      "name": "python3",
      "display_name": "Python 3"
    },
    "language_info": {
      "name": "python"
    }
  },
  "cells": [
    {
      "cell_type": "markdown",
      "metadata": {
        "id": "view-in-github",
        "colab_type": "text"
      },
      "source": [
        "<a href=\"https://colab.research.google.com/github/CarolineGuothesweetie/Lecture-notes/blob/main/%E2%80%9C01_Session4Notes_and_Modules_ipynb%E2%80%9D.ipynb\" target=\"_parent\"><img src=\"https://colab.research.google.com/assets/colab-badge.svg\" alt=\"Open In Colab\"/></a>"
      ]
    },
    {
      "cell_type": "markdown",
      "metadata": {
        "id": "-3hum1RSEB9N"
      },
      "source": [
        "# Session 04\n",
        "07/15/2021"
      ]
    },
    {
      "cell_type": "markdown",
      "metadata": {
        "id": "HdBmYKSSERGF"
      },
      "source": [
        "## Notes\n",
        "* Assignments and in general course instructions: Please read them carefully. Operating with should be a part of your learning goal.\n",
        "* Blanket 10\\% late submission penalty for this time only. \n",
        "* Problems with Qtools? Zoom? Operating system oddities? QuestromIT is a graet resource, please use.\n",
        "* 20 ppl never made it to DataCamp\n",
        "* Are you already too familiar with python for an intro class? Need more exercises? Try Dataquest - no videos, but project based learning. Or look for beginner friendly projects to build a portfolio with: https://www.programmingcube.com/python-projects-beginners/\n",
        "---\n",
        "* Today: In-class exercise in breakout rooms\n",
        "* Tomorrow: Assignment will be open tomorrow on Qtools.\n",
        "* 7/20 : Assignment due*\n",
        "* 7/22 : Midterm\n"
      ]
    },
    {
      "cell_type": "markdown",
      "metadata": {
        "id": "fqI-GbQfP3O9"
      },
      "source": [
        "## Outline\n",
        "\n",
        "* Modules \n",
        "* Control flow: loops and conditionals\n",
        "* Lab exercises*\n",
        "* Intro to numpy*"
      ]
    },
    {
      "cell_type": "markdown",
      "metadata": {
        "id": "ERyCrocvF-qA"
      },
      "source": [
        "# Modules\n",
        "Modules are extensions to python that allow us to re-use and share functionality with each other.  We `import` these modules into our session when we need to use them.  Optionally, as we will see later, we can choose which modules we want to import from a much larger package, which avoids having to import the entire codebase.\n",
        "\n",
        "Python has a lot of standard modules and some we have been using so far:\n"
      ]
    },
    {
      "cell_type": "code",
      "metadata": {
        "colab": {
          "base_uri": "https://localhost:8080/",
          "height": 35
        },
        "id": "kpsKxEFrD-t8",
        "outputId": "3c06c8f9-fe64-4d6d-f419-f19b706d9a8b"
      },
      "source": [
        "import sys\n",
        "sys.version"
      ],
      "execution_count": 1,
      "outputs": [
        {
          "output_type": "execute_result",
          "data": {
            "application/vnd.google.colaboratory.intrinsic+json": {
              "type": "string"
            },
            "text/plain": [
              "'3.7.10 (default, May  3 2021, 02:48:31) \\n[GCC 7.5.0]'"
            ]
          },
          "metadata": {
            "tags": []
          },
          "execution_count": 1
        }
      ]
    },
    {
      "cell_type": "code",
      "metadata": {
        "id": "uaFoGfSAGLLi"
      },
      "source": [
        "# Some new useful ones:\n",
        "import random\n",
        "import os"
      ],
      "execution_count": 2,
      "outputs": []
    },
    {
      "cell_type": "code",
      "metadata": {
        "colab": {
          "base_uri": "https://localhost:8080/"
        },
        "id": "N9aF3OXt4MmZ",
        "outputId": "80262525-8580-445f-9b5b-a8e2dc7c2f54"
      },
      "source": [
        "random.choices([1,2,3], k=5)"
      ],
      "execution_count": 3,
      "outputs": [
        {
          "output_type": "execute_result",
          "data": {
            "text/plain": [
              "[2, 3, 3, 1, 2]"
            ]
          },
          "metadata": {
            "tags": []
          },
          "execution_count": 3
        }
      ]
    },
    {
      "cell_type": "code",
      "metadata": {
        "colab": {
          "base_uri": "https://localhost:8080/",
          "height": 35
        },
        "id": "3rtJqN0KIp5F",
        "outputId": "b3c33c66-723a-4c5c-fcf3-2da22561834a"
      },
      "source": [
        "# os is actually a familiar one - it allows us to access OS functions\n",
        "# like the ones we used from shell\n",
        "# like pwd\n",
        "os.getcwd()"
      ],
      "execution_count": 4,
      "outputs": [
        {
          "output_type": "execute_result",
          "data": {
            "application/vnd.google.colaboratory.intrinsic+json": {
              "type": "string"
            },
            "text/plain": [
              "'/content'"
            ]
          },
          "metadata": {
            "tags": []
          },
          "execution_count": 4
        }
      ]
    },
    {
      "cell_type": "code",
      "metadata": {
        "colab": {
          "base_uri": "https://localhost:8080/"
        },
        "id": "GPdI3gzPIv6U",
        "outputId": "870dc160-27cd-4597-e377-e2407c111ed8"
      },
      "source": [
        "# like ls\n",
        "os.listdir()"
      ],
      "execution_count": 5,
      "outputs": [
        {
          "output_type": "execute_result",
          "data": {
            "text/plain": [
              "['.config', 'sample_data']"
            ]
          },
          "metadata": {
            "tags": []
          },
          "execution_count": 5
        }
      ]
    },
    {
      "cell_type": "code",
      "metadata": {
        "id": "ph90pz3KIyNb"
      },
      "source": [
        "# like cd\n",
        "os.chdir('sample_data')"
      ],
      "execution_count": 6,
      "outputs": []
    },
    {
      "cell_type": "code",
      "metadata": {
        "colab": {
          "base_uri": "https://localhost:8080/",
          "height": 35
        },
        "id": "eDpZZrFBI4do",
        "outputId": "2ea67227-3e47-4d50-dc93-ab7b6730a48a"
      },
      "source": [
        "os.getcwd()"
      ],
      "execution_count": 7,
      "outputs": [
        {
          "output_type": "execute_result",
          "data": {
            "application/vnd.google.colaboratory.intrinsic+json": {
              "type": "string"
            },
            "text/plain": [
              "'/content/sample_data'"
            ]
          },
          "metadata": {
            "tags": []
          },
          "execution_count": 7
        }
      ]
    },
    {
      "cell_type": "code",
      "metadata": {
        "id": "IJKDNn7d6IGH"
      },
      "source": [
        "#-Documents\n",
        "#--GitHub\n",
        "# either\n",
        "# cd Documents\n",
        "# cd GitHub\n",
        "# or\n",
        "# cd Documents/GitHub"
      ],
      "execution_count": null,
      "outputs": []
    },
    {
      "cell_type": "code",
      "metadata": {
        "colab": {
          "base_uri": "https://localhost:8080/"
        },
        "id": "Nozoa7Dy5sPy",
        "outputId": "d8224847-29de-4a6e-a35f-503ada42712d"
      },
      "source": [
        "os.listdir()"
      ],
      "execution_count": 8,
      "outputs": [
        {
          "output_type": "execute_result",
          "data": {
            "text/plain": [
              "['README.md',\n",
              " 'anscombe.json',\n",
              " 'california_housing_train.csv',\n",
              " 'mnist_test.csv',\n",
              " 'california_housing_test.csv',\n",
              " 'mnist_train_small.csv']"
            ]
          },
          "metadata": {
            "tags": []
          },
          "execution_count": 8
        }
      ]
    },
    {
      "cell_type": "code",
      "metadata": {
        "colab": {
          "base_uri": "https://localhost:8080/",
          "height": 35
        },
        "id": "KGpkWKPFJJDx",
        "outputId": "254ffc77-a3a5-4f28-e445-918a612627a7"
      },
      "source": [
        "os.getcwd()"
      ],
      "execution_count": 9,
      "outputs": [
        {
          "output_type": "execute_result",
          "data": {
            "application/vnd.google.colaboratory.intrinsic+json": {
              "type": "string"
            },
            "text/plain": [
              "'/content/sample_data'"
            ]
          },
          "metadata": {
            "tags": []
          },
          "execution_count": 9
        }
      ]
    },
    {
      "cell_type": "code",
      "metadata": {
        "id": "yoYMMkEyI8RV"
      },
      "source": [
        "# cd ../.\n",
        "# cd ..\n",
        "os.chdir('..')"
      ],
      "execution_count": 10,
      "outputs": []
    },
    {
      "cell_type": "code",
      "metadata": {
        "colab": {
          "base_uri": "https://localhost:8080/",
          "height": 35
        },
        "id": "KXlOPO6e8ZQR",
        "outputId": "c66da6ff-1d20-40bc-d13a-ffb8a71118c2"
      },
      "source": [
        "os.getcwd()"
      ],
      "execution_count": 11,
      "outputs": [
        {
          "output_type": "execute_result",
          "data": {
            "application/vnd.google.colaboratory.intrinsic+json": {
              "type": "string"
            },
            "text/plain": [
              "'/content'"
            ]
          },
          "metadata": {
            "tags": []
          },
          "execution_count": 11
        }
      ]
    },
    {
      "cell_type": "code",
      "metadata": {
        "id": "51-adaC086ep"
      },
      "source": [
        "os.mkdir('bigDir')\n",
        "os.chdir('bigDir')\n",
        "os.mkdir('sample_data')"
      ],
      "execution_count": 12,
      "outputs": []
    },
    {
      "cell_type": "code",
      "metadata": {
        "colab": {
          "base_uri": "https://localhost:8080/",
          "height": 35
        },
        "id": "tJ-N-tr59EVV",
        "outputId": "863a6b04-5705-457a-b23a-d0662742cd79"
      },
      "source": [
        "os.getcwd()"
      ],
      "execution_count": 13,
      "outputs": [
        {
          "output_type": "execute_result",
          "data": {
            "application/vnd.google.colaboratory.intrinsic+json": {
              "type": "string"
            },
            "text/plain": [
              "'/content/bigDir'"
            ]
          },
          "metadata": {
            "tags": []
          },
          "execution_count": 13
        }
      ]
    },
    {
      "cell_type": "code",
      "metadata": {
        "colab": {
          "base_uri": "https://localhost:8080/"
        },
        "id": "pxvTdbrZ9HiA",
        "outputId": "69f8bd0d-0967-48b1-a299-578d29d1648e"
      },
      "source": [
        "os.listdir()"
      ],
      "execution_count": 14,
      "outputs": [
        {
          "output_type": "execute_result",
          "data": {
            "text/plain": [
              "['sample_data']"
            ]
          },
          "metadata": {
            "tags": []
          },
          "execution_count": 14
        }
      ]
    },
    {
      "cell_type": "code",
      "metadata": {
        "id": "0hPIo9Dy9Kzi"
      },
      "source": [
        "os.chdir('../.')"
      ],
      "execution_count": 15,
      "outputs": []
    },
    {
      "cell_type": "code",
      "metadata": {
        "colab": {
          "base_uri": "https://localhost:8080/",
          "height": 35
        },
        "id": "l0Oyd1ni9OPX",
        "outputId": "d5e7936f-984d-42f2-c5a3-f633d0572a4a"
      },
      "source": [
        "os.getcwd()"
      ],
      "execution_count": 16,
      "outputs": [
        {
          "output_type": "execute_result",
          "data": {
            "application/vnd.google.colaboratory.intrinsic+json": {
              "type": "string"
            },
            "text/plain": [
              "'/content'"
            ]
          },
          "metadata": {
            "tags": []
          },
          "execution_count": 16
        }
      ]
    },
    {
      "cell_type": "code",
      "metadata": {
        "colab": {
          "base_uri": "https://localhost:8080/",
          "height": 35
        },
        "id": "iOmgnDxI9R1d",
        "outputId": "88ca549d-c599-4b57-e39a-2c65d2559157"
      },
      "source": [
        "os.chdir('bigDir/sample_data')\n",
        "os.getcwd()"
      ],
      "execution_count": 19,
      "outputs": [
        {
          "output_type": "execute_result",
          "data": {
            "application/vnd.google.colaboratory.intrinsic+json": {
              "type": "string"
            },
            "text/plain": [
              "'/content/bigDir/sample_data'"
            ]
          },
          "metadata": {
            "tags": []
          },
          "execution_count": 19
        }
      ]
    },
    {
      "cell_type": "markdown",
      "metadata": {
        "id": "vTXU8Os6JQTm"
      },
      "source": [
        "## External libraries\n",
        "\n",
        "Not all modules are going to be loaded within our python environment from start, like random and os were. Sometimes we will need to install them first. For that we can use `pip` as in the following:"
      ]
    },
    {
      "cell_type": "code",
      "metadata": {
        "id": "1lXmSDPwJNSn",
        "colab": {
          "base_uri": "https://localhost:8080/"
        },
        "outputId": "2ed024cc-4a1d-4120-f80c-5005111cfa92"
      },
      "source": [
        "! pip install emoji "
      ],
      "execution_count": 20,
      "outputs": [
        {
          "output_type": "stream",
          "text": [
            "Collecting emoji\n",
            "\u001b[?25l  Downloading https://files.pythonhosted.org/packages/24/fa/b3368f41b95a286f8d300e323449ab4e86b85334c2e0b477e94422b8ed0f/emoji-1.2.0-py3-none-any.whl (131kB)\n",
            "\r\u001b[K     |██▌                             | 10kB 11.8MB/s eta 0:00:01\r\u001b[K     |█████                           | 20kB 17.5MB/s eta 0:00:01\r\u001b[K     |███████▌                        | 30kB 21.4MB/s eta 0:00:01\r\u001b[K     |██████████                      | 40kB 15.9MB/s eta 0:00:01\r\u001b[K     |████████████▌                   | 51kB 7.6MB/s eta 0:00:01\r\u001b[K     |███████████████                 | 61kB 8.7MB/s eta 0:00:01\r\u001b[K     |█████████████████▌              | 71kB 8.1MB/s eta 0:00:01\r\u001b[K     |████████████████████            | 81kB 8.5MB/s eta 0:00:01\r\u001b[K     |██████████████████████▌         | 92kB 9.3MB/s eta 0:00:01\r\u001b[K     |█████████████████████████       | 102kB 7.8MB/s eta 0:00:01\r\u001b[K     |███████████████████████████▌    | 112kB 7.8MB/s eta 0:00:01\r\u001b[K     |██████████████████████████████  | 122kB 7.8MB/s eta 0:00:01\r\u001b[K     |████████████████████████████████| 133kB 7.8MB/s \n",
            "\u001b[?25hInstalling collected packages: emoji\n",
            "Successfully installed emoji-1.2.0\n"
          ],
          "name": "stdout"
        }
      ]
    },
    {
      "cell_type": "code",
      "metadata": {
        "id": "fmzl0Tq4Jtlu",
        "colab": {
          "base_uri": "https://localhost:8080/",
          "height": 35
        },
        "outputId": "9a7c924f-9f6b-41f9-9ca3-011ced71e698"
      },
      "source": [
        "from emoji import emojize \n",
        "# https://www.webfx.com/tools/emoji-cheat-sheet/\n",
        "\n",
        "\n",
        "emojize(\":thumbs_up:\")"
      ],
      "execution_count": 21,
      "outputs": [
        {
          "output_type": "execute_result",
          "data": {
            "application/vnd.google.colaboratory.intrinsic+json": {
              "type": "string"
            },
            "text/plain": [
              "'👍'"
            ]
          },
          "metadata": {
            "tags": []
          },
          "execution_count": 21
        }
      ]
    },
    {
      "cell_type": "code",
      "metadata": {
        "colab": {
          "base_uri": "https://localhost:8080/",
          "height": 35
        },
        "id": "NWZXWjDW_7Cy",
        "outputId": "dbddf20f-3c52-4293-bd18-a874afd78e22"
      },
      "source": [
        "from emoji import emojize\n",
        "emojize(\":green_heart:\")"
      ],
      "execution_count": 24,
      "outputs": [
        {
          "output_type": "execute_result",
          "data": {
            "application/vnd.google.colaboratory.intrinsic+json": {
              "type": "string"
            },
            "text/plain": [
              "'💚'"
            ]
          },
          "metadata": {
            "tags": []
          },
          "execution_count": 24
        }
      ]
    },
    {
      "cell_type": "code",
      "metadata": {
        "id": "l3krRvGmBh_h"
      },
      "source": [
        "import numpy"
      ],
      "execution_count": 25,
      "outputs": []
    },
    {
      "cell_type": "code",
      "metadata": {
        "colab": {
          "base_uri": "https://localhost:8080/"
        },
        "id": "PN5EcPqRBkop",
        "outputId": "14c178e8-d2cc-40d8-dbb0-c30a19203c15"
      },
      "source": [
        "numpy.random"
      ],
      "execution_count": 26,
      "outputs": [
        {
          "output_type": "execute_result",
          "data": {
            "text/plain": [
              "<module 'numpy.random' from '/usr/local/lib/python3.7/dist-packages/numpy/random/__init__.py'>"
            ]
          },
          "metadata": {
            "tags": []
          },
          "execution_count": 26
        }
      ]
    },
    {
      "cell_type": "markdown",
      "metadata": {
        "id": "D2dftdQTJ6lp"
      },
      "source": [
        "> Above, note the user of the command !.  This is specific to coding in notebook environments, and allows us to add a library just as we would locally on our computer.  `pip install` is generally how we can add one of thousands of packages from the python package index, `pypi`\n",
        "\n",
        "https://pypi.org/\n",
        "\n",
        "Because Colab is here to make our lives easier, there are a number of great data analysis packages already \"installed\" for us, we simply have to import them.  However, as we just saw, adding new packages is easy to do, but remember, after our session is terminated, we will need to install these packages again.\n",
        "\n",
        "\n",
        "For those of you that are new to python, here are some fun packages to get you thinking about what is possible:\n",
        "\n",
        "1.  `pantab` = convert pandas DataFrames to Tableau data extracts\n",
        "1.  `simple-salesforce` = utilities to work with the Salesforce CRM APIs\n",
        "1.  `tweepy` = Interface into the Twitter API\n",
        "1.  `pygame` = Build games in python\n",
        "1.  `MoviePy` = Video editing\n",
        "\n"
      ]
    },
    {
      "cell_type": "code",
      "metadata": {
        "id": "IcCjp2G7QqFE",
        "colab": {
          "base_uri": "https://localhost:8080/"
        },
        "outputId": "44b6d3f6-490d-42c6-8ac3-d2b7a78d217a"
      },
      "source": [
        "! pip install faker"
      ],
      "execution_count": 27,
      "outputs": [
        {
          "output_type": "stream",
          "text": [
            "Collecting faker\n",
            "\u001b[?25l  Downloading https://files.pythonhosted.org/packages/c4/8f/dd3f3b78dba5849041454f63b2426b95cd7e6a840ceec83a7764be3d049e/Faker-8.10.1-py3-none-any.whl (1.2MB)\n",
            "\u001b[K     |████████████████████████████████| 1.2MB 8.4MB/s \n",
            "\u001b[?25hRequirement already satisfied: python-dateutil>=2.4 in /usr/local/lib/python3.7/dist-packages (from faker) (2.8.1)\n",
            "Requirement already satisfied: text-unidecode==1.3 in /usr/local/lib/python3.7/dist-packages (from faker) (1.3)\n",
            "Requirement already satisfied: six>=1.5 in /usr/local/lib/python3.7/dist-packages (from python-dateutil>=2.4->faker) (1.15.0)\n",
            "Installing collected packages: faker\n",
            "Successfully installed faker-8.10.1\n"
          ],
          "name": "stdout"
        }
      ]
    },
    {
      "cell_type": "code",
      "metadata": {
        "id": "slXhTcNYVSe6"
      },
      "source": [
        "import faker"
      ],
      "execution_count": 33,
      "outputs": []
    },
    {
      "cell_type": "code",
      "metadata": {
        "id": "QRe2Vn9-VYQ8"
      },
      "source": [
        "# a basic example of faker\n",
        "from faker import Faker\n",
        "?fake = Faker()"
      ],
      "execution_count": 41,
      "outputs": []
    },
    {
      "cell_type": "code",
      "metadata": {
        "colab": {
          "base_uri": "https://localhost:8080/",
          "height": 35
        },
        "id": "rkfrHbE5CYqJ",
        "outputId": "fdf558f8-bc0e-4a72-b598-492155928715"
      },
      "source": [
        "fake.color_name()"
      ],
      "execution_count": 38,
      "outputs": [
        {
          "output_type": "execute_result",
          "data": {
            "application/vnd.google.colaboratory.intrinsic+json": {
              "type": "string"
            },
            "text/plain": [
              "'Sienna'"
            ]
          },
          "metadata": {
            "tags": []
          },
          "execution_count": 38
        }
      ]
    },
    {
      "cell_type": "code",
      "metadata": {
        "id": "oFwDpHe9VvHf",
        "colab": {
          "base_uri": "https://localhost:8080/",
          "height": 35
        },
        "outputId": "c3eea74c-3e42-4643-8a9e-23287c2f77ce"
      },
      "source": [
        "fake.credit_card_full()"
      ],
      "execution_count": 40,
      "outputs": [
        {
          "output_type": "execute_result",
          "data": {
            "application/vnd.google.colaboratory.intrinsic+json": {
              "type": "string"
            },
            "text/plain": [
              "'Discover\\nMichael Macias\\n6011194816247246 04/24\\nCVC: 023\\n'"
            ]
          },
          "metadata": {
            "tags": []
          },
          "execution_count": 40
        }
      ]
    },
    {
      "cell_type": "markdown",
      "metadata": {
        "id": "5otdAAw3XHth"
      },
      "source": [
        "One more feature I would like to call out about modules is aliasing - we saw this before:"
      ]
    },
    {
      "cell_type": "code",
      "metadata": {
        "id": "7oAwirHXKIna"
      },
      "source": [
        "import numpy as np"
      ],
      "execution_count": 42,
      "outputs": []
    },
    {
      "cell_type": "code",
      "metadata": {
        "id": "m39K6uSHKOY9",
        "colab": {
          "base_uri": "https://localhost:8080/"
        },
        "outputId": "1c577c04-4675-4360-bd2f-e4c47ad96324"
      },
      "source": [
        "np.random.choice([1,2,33])"
      ],
      "execution_count": 50,
      "outputs": [
        {
          "output_type": "execute_result",
          "data": {
            "text/plain": [
              "33"
            ]
          },
          "metadata": {
            "tags": []
          },
          "execution_count": 50
        }
      ]
    },
    {
      "cell_type": "markdown",
      "metadata": {
        "id": "fcKJcGr1LF41"
      },
      "source": [
        "## Shell access from Colab:\n",
        "`!` was a special symbol that allowed us to access the terminal and give a command to the computer. Could we use it to interact with the server OS, like shell? Yes! "
      ]
    },
    {
      "cell_type": "code",
      "metadata": {
        "id": "pW79RqzSLXvK",
        "colab": {
          "base_uri": "https://localhost:8080/"
        },
        "outputId": "92a43f80-a92b-4042-9e43-ec43e5196e2d"
      },
      "source": [
        "! pwd"
      ],
      "execution_count": 54,
      "outputs": [
        {
          "output_type": "stream",
          "text": [
            "/content/bigDir/sample_data\n"
          ],
          "name": "stdout"
        }
      ]
    },
    {
      "cell_type": "code",
      "metadata": {
        "colab": {
          "base_uri": "https://localhost:8080/"
        },
        "id": "ZHpnYZ42EZpq",
        "outputId": "dc43d9ad-e041-4110-d6c5-5c0c8aed591f"
      },
      "source": [
        "os.chdir('../..')\n",
        "! pwd"
      ],
      "execution_count": 55,
      "outputs": [
        {
          "output_type": "stream",
          "text": [
            "/content\n"
          ],
          "name": "stdout"
        }
      ]
    },
    {
      "cell_type": "code",
      "metadata": {
        "id": "kv30JKfdLYUc",
        "colab": {
          "base_uri": "https://localhost:8080/"
        },
        "outputId": "9ead52f4-1751-462d-c2e8-20ef2dea62e7"
      },
      "source": [
        "! ls"
      ],
      "execution_count": 56,
      "outputs": [
        {
          "output_type": "stream",
          "text": [
            "bigDir\tsample_data\n"
          ],
          "name": "stdout"
        }
      ]
    },
    {
      "cell_type": "markdown",
      "metadata": {
        "id": "H8GxhVyQN-C-"
      },
      "source": [
        "Let's use this to make a new directory, and upload a new module there. You can find the module file `ba765.py` in Qtools under Session04. "
      ]
    },
    {
      "cell_type": "code",
      "metadata": {
        "colab": {
          "base_uri": "https://localhost:8080/"
        },
        "id": "vslwGADXF5af",
        "outputId": "11cdfd64-0489-4906-c7b1-a4fc05c6b576"
      },
      "source": [
        "# where am i\n",
        "! pwd "
      ],
      "execution_count": 57,
      "outputs": [
        {
          "output_type": "stream",
          "text": [
            "/content\n"
          ],
          "name": "stdout"
        }
      ]
    },
    {
      "cell_type": "code",
      "metadata": {
        "id": "ckSiQyiJMKB0",
        "colab": {
          "base_uri": "https://localhost:8080/"
        },
        "outputId": "13edf32d-161d-4e3e-e44c-b6a01133278f"
      },
      "source": [
        "# make a new directory under files\n",
        "! mkdir my_modules"
      ],
      "execution_count": 59,
      "outputs": [
        {
          "output_type": "stream",
          "text": [
            "mkdir: cannot create directory ‘my_modules’: File exists\n"
          ],
          "name": "stdout"
        }
      ]
    },
    {
      "cell_type": "code",
      "metadata": {
        "id": "Z3f7aQvgMMZP",
        "colab": {
          "base_uri": "https://localhost:8080/"
        },
        "outputId": "f5ce3804-ad33-4e9a-a61c-3b39ba1392ee"
      },
      "source": [
        "! ls"
      ],
      "execution_count": 63,
      "outputs": [
        {
          "output_type": "stream",
          "text": [
            "bigDir\tmy_modules  sample_data\n"
          ],
          "name": "stdout"
        }
      ]
    },
    {
      "cell_type": "code",
      "metadata": {
        "id": "zp3ZUsgHLhea",
        "colab": {
          "base_uri": "https://localhost:8080/"
        },
        "outputId": "a171be07-7d5a-4393-da7f-68190e1ab5a4"
      },
      "source": [
        "! ls my_modules/"
      ],
      "execution_count": 64,
      "outputs": [
        {
          "output_type": "stream",
          "text": [
            "ba765.py\n"
          ],
          "name": "stdout"
        }
      ]
    },
    {
      "cell_type": "markdown",
      "metadata": {
        "id": "qbkyfraROLtf"
      },
      "source": [
        "For python to be able to `import` our module, we need to put it on the system \"path\", i.e. where import function searches for modules:"
      ]
    },
    {
      "cell_type": "code",
      "metadata": {
        "id": "_xY3wfYIMxU5"
      },
      "source": [
        "sys.path.insert(0,'my_modules')\n",
        "import ba765"
      ],
      "execution_count": 67,
      "outputs": []
    },
    {
      "cell_type": "markdown",
      "metadata": {
        "id": "fkOD9BSFOWHS"
      },
      "source": [
        "Once we successfully load the module, we can explore its content:"
      ]
    },
    {
      "cell_type": "code",
      "metadata": {
        "id": "TJQbV_ntMz7o",
        "colab": {
          "base_uri": "https://localhost:8080/"
        },
        "outputId": "f1cc3636-113e-43d9-891a-5bf7ea040910"
      },
      "source": [
        "ba765.guessing_game()"
      ],
      "execution_count": 69,
      "outputs": [
        {
          "output_type": "stream",
          "text": [
            "Guess a number from 1 to 10: 7\n",
            "Congrats, you are correct!\n"
          ],
          "name": "stdout"
        }
      ]
    },
    {
      "cell_type": "code",
      "metadata": {
        "id": "3g0HvqJNOtgo",
        "colab": {
          "base_uri": "https://localhost:8080/"
        },
        "outputId": "94347652-8ef1-438a-80d7-bd8e0f0b2c0f"
      },
      "source": [
        "ba765.email_generator()"
      ],
      "execution_count": 72,
      "outputs": [
        {
          "output_type": "execute_result",
          "data": {
            "text/plain": [
              "['orgpt@gmail.com',\n",
              " 'tsbqhke@gmail.com',\n",
              " 'r@gmail.com',\n",
              " 'xyxx@gmail.com',\n",
              " 'ycisgzb@aol.com',\n",
              " 'kperzuyu@hotmail.com',\n",
              " 'frb@hotmail.com',\n",
              " 'm@hotmail.com',\n",
              " 'qhurpoomo@hotmail.com',\n",
              " 'mcvrumbe@aol.com',\n",
              " 'okdnopfw@yahoo.com',\n",
              " 'ytuvq@gmail.com',\n",
              " 'qiqnt@aol.com',\n",
              " 'i@aol.com',\n",
              " 'nvowshydv@gmail.com',\n",
              " 'mzmcmrw@aol.com',\n",
              " 'tqau@gmail.com',\n",
              " 'dd@gmail.com',\n",
              " 'rts@yahoo.com',\n",
              " 'zw@gmail.com',\n",
              " 'nhlmgc@gmail.com',\n",
              " 'qyak@yahoo.com',\n",
              " 'sy@gmail.com',\n",
              " 'qigbcqvy@hotmail.com',\n",
              " 'frw@yahoo.com',\n",
              " 'ier@yahoo.com',\n",
              " 'hikdcfg@aol.com',\n",
              " 'vmg@hotmail.com',\n",
              " 'cb@aol.com',\n",
              " 'mtfegpo@gmail.com',\n",
              " 'ogh@yahoo.com',\n",
              " 'hb@gmail.com',\n",
              " 'wrkigh@aol.com',\n",
              " 'eglgr@gmail.com',\n",
              " 'il@yahoo.com',\n",
              " 'gikuc@yahoo.com',\n",
              " 'xeedocp@hotmail.com',\n",
              " 'jhwvdlaav@aol.com',\n",
              " 's@hotmail.com',\n",
              " 'bdzlkfur@aol.com',\n",
              " 'aiqbephy@hotmail.com',\n",
              " 'uedl@gmail.com',\n",
              " 'ni@gmail.com',\n",
              " 'amjd@gmail.com',\n",
              " 'qsmnn@aol.com',\n",
              " 'qxfvcdyzk@aol.com',\n",
              " 'hgkkdmtaf@yahoo.com',\n",
              " 'symanf@hotmail.com',\n",
              " 'cgb@aol.com',\n",
              " 'ms@aol.com']"
            ]
          },
          "metadata": {
            "tags": []
          },
          "execution_count": 72
        }
      ]
    },
    {
      "cell_type": "code",
      "metadata": {
        "id": "igpIN6ZjN1dY",
        "colab": {
          "base_uri": "https://localhost:8080/"
        },
        "outputId": "974186e2-948b-47a1-cd25-b42811f13ebd"
      },
      "source": [
        "ba765.list_files()"
      ],
      "execution_count": 73,
      "outputs": [
        {
          "output_type": "execute_result",
          "data": {
            "text/plain": [
              "['.config', 'bigDir', 'my_modules', '.ipynb_checkpoints', 'sample_data']"
            ]
          },
          "metadata": {
            "tags": []
          },
          "execution_count": 73
        }
      ]
    },
    {
      "cell_type": "code",
      "metadata": {
        "colab": {
          "base_uri": "https://localhost:8080/"
        },
        "id": "qa0xRTonMz8L",
        "outputId": "b78ba70a-f407-43c7-9e44-76e1602c2ca5"
      },
      "source": [
        "ba765.roll_dice()"
      ],
      "execution_count": 76,
      "outputs": [
        {
          "output_type": "stream",
          "text": [
            "You rolled a 3 and 3.\n",
            "Congrats, you win because you rolled the same value!\n"
          ],
          "name": "stdout"
        }
      ]
    },
    {
      "cell_type": "markdown",
      "metadata": {
        "id": "DCRHb7BQG14z"
      },
      "source": [
        "# Quick Exercise in Breakout Room:\n",
        "\n",
        "Create a dictionary that has the following key value pairs:\n",
        "\n",
        "- `first` which includes your first name\n",
        "- `types` which includes a list of the data structures that we have covered (not data types)\n",
        "- `random` which is 5 randomly selected numbers from 2 to 12 returned as a list of length 5\n",
        "\n",
        "hint:\n",
        "\n",
        "\n",
        "```\n",
        "import random\n",
        "my_rand_list = random.choices(...)\n",
        "```\n",
        "\n"
      ]
    }
  ]
}