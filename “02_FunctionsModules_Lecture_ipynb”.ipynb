{
  "nbformat": 4,
  "nbformat_minor": 0,
  "metadata": {
    "colab": {
      "name": "“02-FunctionsModules_Lecture.ipynb”的副本",
      "provenance": [],
      "include_colab_link": true
    },
    "kernelspec": {
      "name": "python3",
      "display_name": "Python 3"
    },
    "language_info": {
      "name": "python"
    }
  },
  "cells": [
    {
      "cell_type": "markdown",
      "metadata": {
        "id": "view-in-github",
        "colab_type": "text"
      },
      "source": [
        "<a href=\"https://colab.research.google.com/github/CarolineGuothesweetie/Lecture-notes/blob/main/%E2%80%9C02_FunctionsModules_Lecture_ipynb%E2%80%9D.ipynb\" target=\"_parent\"><img src=\"https://colab.research.google.com/assets/colab-badge.svg\" alt=\"Open In Colab\"/></a>"
      ]
    },
    {
      "cell_type": "markdown",
      "metadata": {
        "id": "szFPun1V1p1Q"
      },
      "source": [
        "# Functions and Modules\n",
        "Session 3 - part 2\n",
        "<br>07/13/21\n",
        "\n",
        "<br>\n",
        "\n",
        "![functions](https://swcarpentry.github.io/python-novice-inflammation/fig/python-function.svg)\n",
        "\n",
        "\n",
        "<br>\n",
        "\n",
        "\n",
        "In this notebook we will cover functions and modules.\n",
        "\n",
        "Learning Objectives:\n",
        "\n",
        "1.  Build your own functions\n",
        "1.  Import external modules to expand python's capabilities beyond the standard libraries\n",
        "1.  Install external packages\n"
      ]
    },
    {
      "cell_type": "markdown",
      "metadata": {
        "id": "n6EquXJO2ZdB"
      },
      "source": [
        "# Functions\n",
        "\n",
        "Functions in python allow us to create the logic specific to our needs.  We can provide arguments that make our solution more flexible for the user's of our code. In addition to flexibility, using functions allows us to encapsulate our code and reuse the work in other projects. \n",
        "\n",
        "We have already used functions in this class.  For example, `len` is a function that determines the length of the given object. **What other function do you remember from the course so far?**\n",
        "\n",
        "\n",
        "Resources:  https://realpython.com/defining-your-own-python-function/\n",
        "\n",
        "\n"
      ]
    },
    {
      "cell_type": "code",
      "metadata": {
        "id": "fFBwnwK51nwE"
      },
      "source": [
        "#our first func\n",
        "def my_first_func():\n",
        "  print(\"Hello, World!\")"
      ],
      "execution_count": 2,
      "outputs": []
    },
    {
      "cell_type": "code",
      "metadata": {
        "id": "t3MZht-B261B",
        "colab": {
          "base_uri": "https://localhost:8080/"
        },
        "outputId": "ac57de2e-7e7f-4264-bc5e-9632e4e36713"
      },
      "source": [
        "my_first_func()"
      ],
      "execution_count": 3,
      "outputs": [
        {
          "output_type": "stream",
          "text": [
            "Hello, World!\n"
          ],
          "name": "stdout"
        }
      ]
    },
    {
      "cell_type": "code",
      "metadata": {
        "id": "vTtv2Vd-2_M5"
      },
      "source": [
        "#our second func can be more specific\n",
        "def greeting_func(a):\n",
        "  print(\"Hello, {}!\".format(a))"
      ],
      "execution_count": 4,
      "outputs": []
    },
    {
      "cell_type": "code",
      "metadata": {
        "id": "teXCf-k63Tzr",
        "colab": {
          "base_uri": "https://localhost:8080/"
        },
        "outputId": "8df8f8cd-c861-4f3d-a7d0-d42c8e839b47"
      },
      "source": [
        "greeting_func(\"ba765\")"
      ],
      "execution_count": 5,
      "outputs": [
        {
          "output_type": "stream",
          "text": [
            "Hello, ba765!\n"
          ],
          "name": "stdout"
        }
      ]
    },
    {
      "cell_type": "code",
      "metadata": {
        "colab": {
          "base_uri": "https://localhost:8080/"
        },
        "id": "SwvTpv50OXQy",
        "outputId": "d4b371cb-7fe9-4547-96eb-d4d84a716a98"
      },
      "source": [
        "greeting_func(\"CarolineG\")"
      ],
      "execution_count": 6,
      "outputs": [
        {
          "output_type": "stream",
          "text": [
            "Hello, CarolineG!\n"
          ],
          "name": "stdout"
        }
      ]
    },
    {
      "cell_type": "code",
      "metadata": {
        "id": "MuyPyZ0v3WTl"
      },
      "source": [
        "# Can you define a function called my_sum that takes in two arguments, \n",
        "# and prints out their sum? Build and test if your function works OK:\n",
        "\n",
        "#your function definition code here\n",
        "def my_sum_func(a,b): \n",
        "  print(a + b)\n"
      ],
      "execution_count": 10,
      "outputs": []
    },
    {
      "cell_type": "markdown",
      "metadata": {
        "id": "I-w08UQvQIeD"
      },
      "source": [
        "* There should be two whitespaces to command print."
      ]
    },
    {
      "cell_type": "code",
      "metadata": {
        "id": "VWXrErZc3b4H",
        "colab": {
          "base_uri": "https://localhost:8080/"
        },
        "outputId": "2c637bd6-faa4-4bc9-96a3-d61e4180d957"
      },
      "source": [
        "# your test code here\n",
        "my_sum_func(2,3)\n"
      ],
      "execution_count": 11,
      "outputs": [
        {
          "output_type": "stream",
          "text": [
            "5\n"
          ],
          "name": "stdout"
        }
      ]
    },
    {
      "cell_type": "code",
      "metadata": {
        "id": "d2Oj8sFP3xVI"
      },
      "source": [
        "# We can do more than printing things:\n",
        "def my_sum(x,y):\n",
        "  z = x+y\n",
        "  return(z)"
      ],
      "execution_count": 12,
      "outputs": []
    },
    {
      "cell_type": "code",
      "metadata": {
        "id": "BATLuskg4S-r",
        "colab": {
          "base_uri": "https://localhost:8080/"
        },
        "outputId": "2f90aac2-4ba8-4191-9423-cf01cb4667eb"
      },
      "source": [
        "my_sum(1,2)"
      ],
      "execution_count": 13,
      "outputs": [
        {
          "output_type": "execute_result",
          "data": {
            "text/plain": [
              "3"
            ]
          },
          "metadata": {
            "tags": []
          },
          "execution_count": 13
        }
      ]
    },
    {
      "cell_type": "code",
      "metadata": {
        "id": "Cp98mg707vBH"
      },
      "source": [
        "# Note that print and return are different!\n",
        "def my_greetprint(a):\n",
        "  print(a)\n",
        "\n",
        "def my_greetreturn(a):\n",
        "  return(a)\n",
        "\n",
        "def my_greetprintreturn(a):\n",
        "  return(print(a))\n",
        " \n",
        "def my_greetprint_and_return(a):\n",
        "  print(a)\n",
        "  return"
      ],
      "execution_count": 14,
      "outputs": []
    },
    {
      "cell_type": "code",
      "metadata": {
        "id": "7AKLrCuw8Oap"
      },
      "source": [
        "a=\"Hello you!\""
      ],
      "execution_count": 15,
      "outputs": []
    },
    {
      "cell_type": "code",
      "metadata": {
        "id": "e5ckDvk-8RDt"
      },
      "source": [
        "#my_greetprint(a)\n",
        "#my_greetreturn(a)\n",
        "#my_greetprintreturn(a)\n",
        "#my_greetprint_and_return(a) \n",
        "* try and check!"
      ],
      "execution_count": null,
      "outputs": []
    },
    {
      "cell_type": "code",
      "metadata": {
        "id": "BSPEwjAC4Vnt"
      },
      "source": [
        "# We can also define functions with optional arguments\n",
        "def my_check(a,b=True):\n",
        "  c=(a==b)\n",
        "  return(c)"
      ],
      "execution_count": 16,
      "outputs": []
    },
    {
      "cell_type": "code",
      "metadata": {
        "id": "-TvtRzsI4myl",
        "colab": {
          "base_uri": "https://localhost:8080/"
        },
        "outputId": "d23f2254-450c-4162-c6ae-b18c612ae5f1"
      },
      "source": [
        "my_check(True)"
      ],
      "execution_count": 17,
      "outputs": [
        {
          "output_type": "execute_result",
          "data": {
            "text/plain": [
              "True"
            ]
          },
          "metadata": {
            "tags": []
          },
          "execution_count": 17
        }
      ]
    },
    {
      "cell_type": "code",
      "metadata": {
        "colab": {
          "base_uri": "https://localhost:8080/"
        },
        "id": "WmNujRSmRcDT",
        "outputId": "bcf9743f-de2e-40d3-bcb1-3d376155b8e3"
      },
      "source": [
        "my_check(True,False)"
      ],
      "execution_count": 18,
      "outputs": [
        {
          "output_type": "execute_result",
          "data": {
            "text/plain": [
              "False"
            ]
          },
          "metadata": {
            "tags": []
          },
          "execution_count": 18
        }
      ]
    },
    {
      "cell_type": "code",
      "metadata": {
        "colab": {
          "base_uri": "https://localhost:8080/"
        },
        "id": "OHiExiOBRtJb",
        "outputId": "85e51d4a-4292-42ae-ee06-5a883c6fbcd2"
      },
      "source": [
        "a=['s']\n",
        "b=['c']\n",
        "x=(a==b)\n",
        "my_check(x)"
      ],
      "execution_count": 19,
      "outputs": [
        {
          "output_type": "execute_result",
          "data": {
            "text/plain": [
              "False"
            ]
          },
          "metadata": {
            "tags": []
          },
          "execution_count": 19
        }
      ]
    },
    {
      "cell_type": "code",
      "metadata": {
        "id": "LfujBPQy4pGl",
        "colab": {
          "base_uri": "https://localhost:8080/",
          "height": 168
        },
        "outputId": "18a38589-548e-41a0-e817-ab7624936dab"
      },
      "source": [
        "my_check(True,False,True)"
      ],
      "execution_count": 20,
      "outputs": [
        {
          "output_type": "error",
          "ename": "TypeError",
          "evalue": "ignored",
          "traceback": [
            "\u001b[0;31m---------------------------------------------------------------------------\u001b[0m",
            "\u001b[0;31mTypeError\u001b[0m                                 Traceback (most recent call last)",
            "\u001b[0;32m<ipython-input-20-1d6ff311f986>\u001b[0m in \u001b[0;36m<module>\u001b[0;34m()\u001b[0m\n\u001b[0;32m----> 1\u001b[0;31m \u001b[0mmy_check\u001b[0m\u001b[0;34m(\u001b[0m\u001b[0;32mTrue\u001b[0m\u001b[0;34m,\u001b[0m\u001b[0;32mFalse\u001b[0m\u001b[0;34m,\u001b[0m\u001b[0;32mTrue\u001b[0m\u001b[0;34m)\u001b[0m\u001b[0;34m\u001b[0m\u001b[0;34m\u001b[0m\u001b[0m\n\u001b[0m",
            "\u001b[0;31mTypeError\u001b[0m: my_check() takes from 1 to 2 positional arguments but 3 were given"
          ]
        }
      ]
    },
    {
      "cell_type": "code",
      "metadata": {
        "id": "fP-2lbxz48xu"
      },
      "source": [
        "# Careful with defaults if you want to work with a changable default\n",
        "def my_add2list(x,y=[]):\n",
        "  y.append(x)\n",
        "  return(y)"
      ],
      "execution_count": 45,
      "outputs": []
    },
    {
      "cell_type": "code",
      "metadata": {
        "colab": {
          "base_uri": "https://localhost:8080/"
        },
        "id": "ecx4RWnNSVoB",
        "outputId": "85341cb3-068c-4d6c-d952-7b58bd12f1bf"
      },
      "source": [
        "my_add2list(1)"
      ],
      "execution_count": 48,
      "outputs": [
        {
          "output_type": "execute_result",
          "data": {
            "text/plain": [
              "[1, 1, 1]"
            ]
          },
          "metadata": {
            "tags": []
          },
          "execution_count": 48
        }
      ]
    },
    {
      "cell_type": "code",
      "metadata": {
        "id": "Yl16E6vP5weE"
      },
      "source": [
        "# To escape this behavior do the following:\n",
        "def my_add2list(x,y=None):\n",
        "  if y==None:\n",
        "    y=[]\n",
        "  y.append(x)\n",
        "  return(y)"
      ],
      "execution_count": 49,
      "outputs": []
    },
    {
      "cell_type": "code",
      "metadata": {
        "id": "xx_XyR1d6Mau",
        "colab": {
          "base_uri": "https://localhost:8080/"
        },
        "outputId": "1b8a1e3f-6edc-40f1-c65e-9b3e1cfc3288"
      },
      "source": [
        "my_add2list(1)"
      ],
      "execution_count": 50,
      "outputs": [
        {
          "output_type": "execute_result",
          "data": {
            "text/plain": [
              "[1]"
            ]
          },
          "metadata": {
            "tags": []
          },
          "execution_count": 50
        }
      ]
    },
    {
      "cell_type": "code",
      "metadata": {
        "colab": {
          "base_uri": "https://localhost:8080/"
        },
        "id": "W4gJe9e9S0x5",
        "outputId": "c1cd08fb-427d-419a-d8ee-f3ca0cc52e60"
      },
      "source": [
        "my_add2list(1,['a',True])"
      ],
      "execution_count": 51,
      "outputs": [
        {
          "output_type": "execute_result",
          "data": {
            "text/plain": [
              "['a', True, 1]"
            ]
          },
          "metadata": {
            "tags": []
          },
          "execution_count": 51
        }
      ]
    },
    {
      "cell_type": "markdown",
      "metadata": {
        "id": "DyVxemF37Ivg"
      },
      "source": [
        "## Quick Exercise:\n",
        "\n",
        "Create a function that takes 3 user inputs, `a`, `b`, and `c`.  Add these inputs to a list and return that list.  Your returned object should be a list of length 3."
      ]
    },
    {
      "cell_type": "code",
      "metadata": {
        "id": "0O5XFbTN6Pex"
      },
      "source": [
        "# your code here\n",
        "def my_list_func(a,b,c):\n",
        "  ls = [a,b,c]\n",
        "  return ls"
      ],
      "execution_count": 58,
      "outputs": []
    },
    {
      "cell_type": "code",
      "metadata": {
        "colab": {
          "base_uri": "https://localhost:8080/"
        },
        "id": "TbGSoc6TU5CG",
        "outputId": "9ba1a0f1-04a5-4c57-8ff7-9bd3e6b0e64f"
      },
      "source": [
        "N=my_list_func ('Y','P','G')\n",
        "print(N)"
      ],
      "execution_count": 67,
      "outputs": [
        {
          "output_type": "stream",
          "text": [
            "['Y', 'P', 'G']\n"
          ],
          "name": "stdout"
        }
      ]
    },
    {
      "cell_type": "code",
      "metadata": {
        "colab": {
          "base_uri": "https://localhost:8080/"
        },
        "id": "MIWTZGmsVm5y",
        "outputId": "6a85d816-c5fd-4874-f981-4b9a57868db3"
      },
      "source": [
        "len(N)"
      ],
      "execution_count": 66,
      "outputs": [
        {
          "output_type": "execute_result",
          "data": {
            "text/plain": [
              "3"
            ]
          },
          "metadata": {
            "tags": []
          },
          "execution_count": 66
        }
      ]
    },
    {
      "cell_type": "code",
      "metadata": {
        "id": "_chD0WeqWa9K"
      },
      "source": [
        "def my_argument_test(a,b,c):\n",
        "  tmp = a+b/c\n",
        "  z = (a-b)/c\n",
        "  return(tmp-z)"
      ],
      "execution_count": 68,
      "outputs": []
    },
    {
      "cell_type": "code",
      "metadata": {
        "colab": {
          "base_uri": "https://localhost:8080/"
        },
        "id": "1_3pf9scWlW5",
        "outputId": "51e1fa81-a1eb-4815-cd1b-b3cf4499e191"
      },
      "source": [
        "a=1\n",
        "b=2\n",
        "c=3\n",
        "my_argument_test(c,a,b)"
      ],
      "execution_count": 69,
      "outputs": [
        {
          "output_type": "execute_result",
          "data": {
            "text/plain": [
              "2.5"
            ]
          },
          "metadata": {
            "tags": []
          },
          "execution_count": 69
        }
      ]
    },
    {
      "cell_type": "markdown",
      "metadata": {
        "id": "PFhguAHJ9LZH"
      },
      "source": [
        "---"
      ]
    },
    {
      "cell_type": "code",
      "metadata": {
        "id": "mC8_HxKt9lJD"
      },
      "source": [
        "# A slightly more complex example that makes a good use of the optional argument\n",
        "# with default value:\n",
        "\n",
        "def passing_grade(score, threshold=70):\n",
        "  if score >= threshold:\n",
        "    print(\"Passed\")\n",
        "  else:\n",
        "    print(\"Failed\")"
      ],
      "execution_count": 70,
      "outputs": []
    },
    {
      "cell_type": "code",
      "metadata": {
        "id": "UDhvRFiM9y2E",
        "colab": {
          "base_uri": "https://localhost:8080/"
        },
        "outputId": "958e935e-6168-413d-a2da-97b86a1c95b7"
      },
      "source": [
        "# check\n",
        "passing_grade(50)"
      ],
      "execution_count": 71,
      "outputs": [
        {
          "output_type": "stream",
          "text": [
            "Failed\n"
          ],
          "name": "stdout"
        }
      ]
    },
    {
      "cell_type": "markdown",
      "metadata": {
        "id": "1Wq3dxXM-Awa"
      },
      "source": [
        "## Exercise:\n",
        "Your turn. Create a function that takes two inputs, the purchased price and regular price. Your function should return the discount rate that was applied to the sale. You do not need to convert the decimal to a string representation of % for this exercise, for example if purchase price is 50, regular is 100, returning 0.5 works."
      ]
    },
    {
      "cell_type": "code",
      "metadata": {
        "id": "uzxtAMT1_DRX"
      },
      "source": [
        "# your code here\n",
        "def my_dis_func(pp,rp):\n",
        "  dis_rate = (rp-pp)/rp\n",
        "  return dis_rate"
      ],
      "execution_count": 82,
      "outputs": []
    },
    {
      "cell_type": "code",
      "metadata": {
        "colab": {
          "base_uri": "https://localhost:8080/"
        },
        "id": "v_KMrjwHYeKz",
        "outputId": "1fd42d27-bb12-40b2-a6f1-411e30ed86e6"
      },
      "source": [
        "my_dis_func(80,100)"
      ],
      "execution_count": 84,
      "outputs": [
        {
          "output_type": "execute_result",
          "data": {
            "text/plain": [
              "0.2"
            ]
          },
          "metadata": {
            "tags": []
          },
          "execution_count": 84
        }
      ]
    },
    {
      "cell_type": "markdown",
      "metadata": {
        "id": "VNjrkte9_l-y"
      },
      "source": [
        "---\n",
        "# Modules\n",
        "\n",
        "Modules are extensions to python that allow us to re-use and share functionality with each other.  We `import` these modules into our session when we need to use them.  Optionally, as we will see later, we can choose which modules we want to import from a much larger package, which avoids having to import the entire codebase.\n",
        "\n",
        "Python has a lot of standard modules and some we have been using so far:\n",
        "\n",
        "https://docs.python.org/3/library/index.html\n"
      ]
    },
    {
      "cell_type": "code",
      "metadata": {
        "id": "je5WZ2r_AE7T"
      },
      "source": [
        "import sys\n",
        "sys.version"
      ],
      "execution_count": null,
      "outputs": []
    },
    {
      "cell_type": "code",
      "metadata": {
        "id": "lEsvWyRKAWn1"
      },
      "source": [
        "import random\n",
        "random.random()"
      ],
      "execution_count": null,
      "outputs": []
    },
    {
      "cell_type": "code",
      "metadata": {
        "id": "kZQHE6YjBjWs"
      },
      "source": [
        "import math\n",
        "math.pi"
      ],
      "execution_count": null,
      "outputs": []
    },
    {
      "cell_type": "code",
      "metadata": {
        "id": "FFuQJk6fBth6"
      },
      "source": [
        "import csv\n",
        "with open('IMDB_reviews.csv') as f:\n",
        "    reader = csv.reader(f)\n",
        "    a1 = list(reader)"
      ],
      "execution_count": null,
      "outputs": []
    },
    {
      "cell_type": "markdown",
      "metadata": {
        "id": "MBAnw0QU_pDc"
      },
      "source": [
        "The non-standard modules need to be installed first. We can use pip tool for that:\n"
      ]
    },
    {
      "cell_type": "code",
      "metadata": {
        "id": "8f18rPsFCKD-"
      },
      "source": [
        "# The exclamation mark is purely a notebook feature!\n",
        "# Does not install this to all our notebooks permanently\n",
        "! pip install emoji "
      ],
      "execution_count": null,
      "outputs": []
    },
    {
      "cell_type": "code",
      "metadata": {
        "id": "l8mbRKonCTp3"
      },
      "source": [
        "from emoji import emojize \n",
        "# https://www.webfx.com/tools/emoji-cheat-sheet/\n",
        "emojize(\":thumbs_up:\")"
      ],
      "execution_count": null,
      "outputs": []
    },
    {
      "cell_type": "code",
      "metadata": {
        "id": "IcCjp2G7QqFE"
      },
      "source": [
        "! pip install faker"
      ],
      "execution_count": null,
      "outputs": []
    },
    {
      "cell_type": "code",
      "metadata": {
        "id": "QRe2Vn9-VYQ8"
      },
      "source": [
        "# a basic example of faker\n",
        "# this did not exist on Colab until we ran the install command above\n",
        "from faker import Faker\n",
        "fake = Faker()"
      ],
      "execution_count": null,
      "outputs": []
    },
    {
      "cell_type": "code",
      "metadata": {
        "id": "o8Hflyb6VsKl"
      },
      "source": [
        "fake.color_name()"
      ],
      "execution_count": null,
      "outputs": []
    },
    {
      "cell_type": "code",
      "metadata": {
        "id": "oFwDpHe9VvHf"
      },
      "source": [
        "fake.credit_card_full()"
      ],
      "execution_count": null,
      "outputs": []
    },
    {
      "cell_type": "code",
      "metadata": {
        "id": "pfNz-tWYH2Is"
      },
      "source": [
        "#More about that exclamation mark:\n",
        "! pwd"
      ],
      "execution_count": null,
      "outputs": []
    },
    {
      "cell_type": "code",
      "metadata": {
        "id": "hsB5fFaeH4OY"
      },
      "source": [
        "! ls"
      ],
      "execution_count": null,
      "outputs": []
    },
    {
      "cell_type": "code",
      "metadata": {
        "id": "XdzwwTOVH5fM"
      },
      "source": [
        "! cd sample_data"
      ],
      "execution_count": null,
      "outputs": []
    },
    {
      "cell_type": "code",
      "metadata": {
        "id": "AIzjSdtcH7qk"
      },
      "source": [
        ""
      ],
      "execution_count": null,
      "outputs": []
    }
  ]
}