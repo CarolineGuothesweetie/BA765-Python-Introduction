{
  "nbformat": 4,
  "nbformat_minor": 0,
  "metadata": {
    "colab": {
      "name": "Midterm Test.ipynb",
      "provenance": [],
      "authorship_tag": "ABX9TyOs8/IuFWFeRiOMaMW5H2Us",
      "include_colab_link": true
    },
    "kernelspec": {
      "name": "python3",
      "display_name": "Python 3"
    },
    "language_info": {
      "name": "python"
    }
  },
  "cells": [
    {
      "cell_type": "markdown",
      "metadata": {
        "id": "view-in-github",
        "colab_type": "text"
      },
      "source": [
        "<a href=\"https://colab.research.google.com/github/CarolineGuothesweetie/Lecture-notes/blob/main/Midterm_Test.ipynb\" target=\"_parent\"><img src=\"https://colab.research.google.com/assets/colab-badge.svg\" alt=\"Open In Colab\"/></a>"
      ]
    },
    {
      "cell_type": "code",
      "metadata": {
        "colab": {
          "base_uri": "https://localhost:8080/"
        },
        "id": "WAlDnISr7pvw",
        "outputId": "6825b896-4058-464a-a0d8-3b8a784de8a3"
      },
      "source": [
        "x = [1,2,3,4,5]\n",
        "\n",
        "y = [7,8,9]\n",
        "x.insert(5,y)\n",
        "x"
      ],
      "execution_count": 55,
      "outputs": [
        {
          "output_type": "execute_result",
          "data": {
            "text/plain": [
              "[1, 2, 3, 4, 5, [7, 8, 9]]"
            ]
          },
          "metadata": {
            "tags": []
          },
          "execution_count": 55
        }
      ]
    },
    {
      "cell_type": "code",
      "metadata": {
        "colab": {
          "base_uri": "https://localhost:8080/"
        },
        "id": "z_-ZZncK8Cfj",
        "outputId": "6da01298-7294-46ac-8ac0-8147fe570e64"
      },
      "source": [
        "x = [1,2,4,5,6,7]\n",
        "x.insert(2,3)\n",
        "x"
      ],
      "execution_count": 56,
      "outputs": [
        {
          "output_type": "execute_result",
          "data": {
            "text/plain": [
              "[1, 2, 3, 4, 5, 6, 7]"
            ]
          },
          "metadata": {
            "tags": []
          },
          "execution_count": 56
        }
      ]
    },
    {
      "cell_type": "code",
      "metadata": {
        "colab": {
          "base_uri": "https://localhost:8080/"
        },
        "id": "p8FIHFHI8d7R",
        "outputId": "fd1812c5-9903-430e-a1c5-587c91a386c5"
      },
      "source": [
        "x = list(range(10))\n",
        "x.clear()\n",
        "x"
      ],
      "execution_count": null,
      "outputs": [
        {
          "output_type": "execute_result",
          "data": {
            "text/plain": [
              "[]"
            ]
          },
          "metadata": {
            "tags": []
          },
          "execution_count": 5
        }
      ]
    },
    {
      "cell_type": "code",
      "metadata": {
        "colab": {
          "base_uri": "https://localhost:8080/"
        },
        "id": "g832ZeE68my7",
        "outputId": "b5a765fe-90c0-4f1c-fcfc-c73704f426e1"
      },
      "source": [
        "x = list(range(2,10,2))\n",
        "x"
      ],
      "execution_count": null,
      "outputs": [
        {
          "output_type": "execute_result",
          "data": {
            "text/plain": [
              "[2, 4, 6, 8]"
            ]
          },
          "metadata": {
            "tags": []
          },
          "execution_count": 10
        }
      ]
    },
    {
      "cell_type": "code",
      "metadata": {
        "colab": {
          "base_uri": "https://localhost:8080/"
        },
        "id": "BawcxHMf86RI",
        "outputId": "5d227e2a-a786-4cf0-b4ef-ec7f76455746"
      },
      "source": [
        "x = list(range(12))\n",
        "x"
      ],
      "execution_count": 65,
      "outputs": [
        {
          "output_type": "execute_result",
          "data": {
            "text/plain": [
              "[0, 1, 2, 3, 4, 5, 6, 7, 8, 9, 10, 11]"
            ]
          },
          "metadata": {
            "tags": []
          },
          "execution_count": 65
        }
      ]
    },
    {
      "cell_type": "code",
      "metadata": {
        "colab": {
          "base_uri": "https://localhost:8080/"
        },
        "id": "AMj-bMrx9AOa",
        "outputId": "a246e006-8b4d-40b3-91a0-832a847eae7a"
      },
      "source": [
        "x = list(range(6))\n",
        "x[:3]\n"
      ],
      "execution_count": null,
      "outputs": [
        {
          "output_type": "execute_result",
          "data": {
            "text/plain": [
              "[0, 1, 2]"
            ]
          },
          "metadata": {
            "tags": []
          },
          "execution_count": 13
        }
      ]
    },
    {
      "cell_type": "code",
      "metadata": {
        "colab": {
          "base_uri": "https://localhost:8080/"
        },
        "id": "ktk4wBAP9dUo",
        "outputId": "cf7147bc-8ba4-46e4-f7b8-636b7a15d9b3"
      },
      "source": [
        "x = [1,2,3]\n",
        "\n",
        "y = [4,5,6]\n",
        "y + x"
      ],
      "execution_count": 68,
      "outputs": [
        {
          "output_type": "execute_result",
          "data": {
            "text/plain": [
              "[4, 5, 6, 1, 2, 3]"
            ]
          },
          "metadata": {
            "tags": []
          },
          "execution_count": 68
        }
      ]
    },
    {
      "cell_type": "code",
      "metadata": {
        "colab": {
          "base_uri": "https://localhost:8080/"
        },
        "id": "Zgk7ysAC9tKt",
        "outputId": "f13be9da-0a10-4094-febe-c1023d7a1539"
      },
      "source": [
        "d = {'a':1, 'b':\"string\", 'c':False}\n",
        "\n",
        "d['c'] * 3\n"
      ],
      "execution_count": 71,
      "outputs": [
        {
          "output_type": "execute_result",
          "data": {
            "text/plain": [
              "0"
            ]
          },
          "metadata": {
            "tags": []
          },
          "execution_count": 71
        }
      ]
    },
    {
      "cell_type": "code",
      "metadata": {
        "colab": {
          "base_uri": "https://localhost:8080/",
          "height": 35
        },
        "id": "o9LcZGGt-DnL",
        "outputId": "5afb3145-d4e9-4d67-da0b-ff90b1946458"
      },
      "source": [
        "d = {'a':1, 'b':\"string\", 'c':False}\n",
        "\n",
        "d['b'] * 3"
      ],
      "execution_count": null,
      "outputs": [
        {
          "output_type": "execute_result",
          "data": {
            "application/vnd.google.colaboratory.intrinsic+json": {
              "type": "string"
            },
            "text/plain": [
              "'stringstringstring'"
            ]
          },
          "metadata": {
            "tags": []
          },
          "execution_count": 20
        }
      ]
    },
    {
      "cell_type": "code",
      "metadata": {
        "colab": {
          "base_uri": "https://localhost:8080/",
          "height": 35
        },
        "id": "YkJmlSic-Mhs",
        "outputId": "5028372f-9ad9-467e-c807-978cc7b945aa"
      },
      "source": [
        "d = {'a':1, 'b':\"string\", 'c':False}\n",
        "\n",
        "d.get('b', -4)"
      ],
      "execution_count": null,
      "outputs": [
        {
          "output_type": "execute_result",
          "data": {
            "application/vnd.google.colaboratory.intrinsic+json": {
              "type": "string"
            },
            "text/plain": [
              "'string'"
            ]
          },
          "metadata": {
            "tags": []
          },
          "execution_count": 21
        }
      ]
    },
    {
      "cell_type": "code",
      "metadata": {
        "colab": {
          "base_uri": "https://localhost:8080/"
        },
        "id": "IAwMmhwT-Qei",
        "outputId": "87f4950f-dde4-4859-a9ff-a4b1a0faad75"
      },
      "source": [
        "d = {'a':1, 'b':\"string\", 'c':False}\n",
        "\n",
        "d.get('d', -4)"
      ],
      "execution_count": null,
      "outputs": [
        {
          "output_type": "execute_result",
          "data": {
            "text/plain": [
              "-4"
            ]
          },
          "metadata": {
            "tags": []
          },
          "execution_count": 22
        }
      ]
    },
    {
      "cell_type": "code",
      "metadata": {
        "colab": {
          "base_uri": "https://localhost:8080/"
        },
        "id": "x0J3s5H7-XaO",
        "outputId": "049dd9af-2183-4d79-f1d3-a7e05a4ac06c"
      },
      "source": [
        "import numpy as np\n",
        "x = np.random.rand(5,3)\n",
        "x"
      ],
      "execution_count": null,
      "outputs": [
        {
          "output_type": "execute_result",
          "data": {
            "text/plain": [
              "array([[0.22868426, 0.10713382, 0.47110605],\n",
              "       [0.35842072, 0.84828196, 0.51286248],\n",
              "       [0.54308256, 0.15768313, 0.17246445],\n",
              "       [0.6306791 , 0.31253714, 0.73194154],\n",
              "       [0.43792665, 0.30488717, 0.15372027]])"
            ]
          },
          "metadata": {
            "tags": []
          },
          "execution_count": 29
        }
      ]
    },
    {
      "cell_type": "code",
      "metadata": {
        "colab": {
          "base_uri": "https://localhost:8080/"
        },
        "id": "ATVsxhYK-u2I",
        "outputId": "a8c29815-c193-4af6-f7c5-05561f449dfc"
      },
      "source": [
        "import numpy as np\n",
        "\n",
        "x = np.arange(10)\n",
        "x.shape"
      ],
      "execution_count": null,
      "outputs": [
        {
          "output_type": "execute_result",
          "data": {
            "text/plain": [
              "(10,)"
            ]
          },
          "metadata": {
            "tags": []
          },
          "execution_count": 31
        }
      ]
    },
    {
      "cell_type": "code",
      "metadata": {
        "colab": {
          "base_uri": "https://localhost:8080/"
        },
        "id": "ISGLjR3--6bd",
        "outputId": "8e8a5ec2-dc9c-4bce-baff-ff6518d3bd66"
      },
      "source": [
        "import numpy as np\n",
        "x = np.arange(10) /3\n",
        "x"
      ],
      "execution_count": null,
      "outputs": [
        {
          "output_type": "execute_result",
          "data": {
            "text/plain": [
              "array([0.        , 0.33333333, 0.66666667, 1.        , 1.33333333,\n",
              "       1.66666667, 2.        , 2.33333333, 2.66666667, 3.        ])"
            ]
          },
          "metadata": {
            "tags": []
          },
          "execution_count": 32
        }
      ]
    },
    {
      "cell_type": "code",
      "metadata": {
        "colab": {
          "base_uri": "https://localhost:8080/"
        },
        "id": "QXc2HN_1_Ga9",
        "outputId": "669da296-6c24-4b50-e594-490f6b48b55b"
      },
      "source": [
        "import numpy as np\n",
        "\n",
        "x = np.arange(10) >=6\n",
        "x"
      ],
      "execution_count": null,
      "outputs": [
        {
          "output_type": "execute_result",
          "data": {
            "text/plain": [
              "array([False, False, False, False, False, False,  True,  True,  True,\n",
              "        True])"
            ]
          },
          "metadata": {
            "tags": []
          },
          "execution_count": 33
        }
      ]
    },
    {
      "cell_type": "code",
      "metadata": {
        "colab": {
          "base_uri": "https://localhost:8080/"
        },
        "id": "VVTIMpYe_O5i",
        "outputId": "fcd88d27-42e4-438f-b2e4-531e4d62a203"
      },
      "source": [
        "import numpy as np\n",
        "\n",
        "x = np.arange(10)\n",
        "np.logical_and(x>4,x<6)"
      ],
      "execution_count": null,
      "outputs": [
        {
          "output_type": "execute_result",
          "data": {
            "text/plain": [
              "array([False, False, False, False, False,  True, False, False, False,\n",
              "       False])"
            ]
          },
          "metadata": {
            "tags": []
          },
          "execution_count": 35
        }
      ]
    },
    {
      "cell_type": "code",
      "metadata": {
        "colab": {
          "base_uri": "https://localhost:8080/"
        },
        "id": "t7c1utsL_euS",
        "outputId": "8191552e-848a-45e8-8ba5-b10169f77d02"
      },
      "source": [
        "import numpy as np\n",
        "\n",
        "x = np.random.rand(3,5)\n",
        "\n",
        "x.sum(axis=1)"
      ],
      "execution_count": 58,
      "outputs": [
        {
          "output_type": "execute_result",
          "data": {
            "text/plain": [
              "array([1.39273145, 3.44722519, 3.13244861])"
            ]
          },
          "metadata": {
            "tags": []
          },
          "execution_count": 58
        }
      ]
    },
    {
      "cell_type": "code",
      "metadata": {
        "colab": {
          "base_uri": "https://localhost:8080/"
        },
        "id": "BMYIzL6ZAVme",
        "outputId": "2d2c8886-02cc-47bd-8b5d-b64e94b46137"
      },
      "source": [
        "x = list(range(12))\n",
        "x.index(2)"
      ],
      "execution_count": 64,
      "outputs": [
        {
          "output_type": "execute_result",
          "data": {
            "text/plain": [
              "2"
            ]
          },
          "metadata": {
            "tags": []
          },
          "execution_count": 64
        }
      ]
    },
    {
      "cell_type": "code",
      "metadata": {
        "colab": {
          "base_uri": "https://localhost:8080/"
        },
        "id": "iPKZwHndDpcS",
        "outputId": "74c9e47b-31a1-487c-bd7b-d68c5acdd0c5"
      },
      "source": [
        "x = [1,2,3,4,5,3,2,4,1]\n",
        "x[0:5]"
      ],
      "execution_count": null,
      "outputs": [
        {
          "output_type": "execute_result",
          "data": {
            "text/plain": [
              "[1, 2, 3, 4, 5]"
            ]
          },
          "metadata": {
            "tags": []
          },
          "execution_count": 47
        }
      ]
    },
    {
      "cell_type": "code",
      "metadata": {
        "colab": {
          "base_uri": "https://localhost:8080/"
        },
        "id": "666T1XRLEn8y",
        "outputId": "dc40be90-3aa0-4eae-d10b-96c2ce345e12"
      },
      "source": [
        "x = [1,2,3,4,5,3,2,4,1]\n",
        "list(set(x))"
      ],
      "execution_count": null,
      "outputs": [
        {
          "output_type": "execute_result",
          "data": {
            "text/plain": [
              "[1, 2, 3, 4, 5]"
            ]
          },
          "metadata": {
            "tags": []
          },
          "execution_count": 50
        }
      ]
    }
  ]
}