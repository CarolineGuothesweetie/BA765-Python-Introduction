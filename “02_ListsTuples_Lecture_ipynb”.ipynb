{
  "nbformat": 4,
  "nbformat_minor": 0,
  "metadata": {
    "colab": {
      "name": "“02-ListsTuples_Lecture.ipynb”的副本",
      "provenance": [],
      "toc_visible": true,
      "include_colab_link": true
    },
    "kernelspec": {
      "name": "python3",
      "display_name": "Python 3"
    },
    "language_info": {
      "name": "python"
    }
  },
  "cells": [
    {
      "cell_type": "markdown",
      "metadata": {
        "id": "view-in-github",
        "colab_type": "text"
      },
      "source": [
        "<a href=\"https://colab.research.google.com/github/CarolineGuothesweetie/Lecture-notes/blob/main/%E2%80%9C02_ListsTuples_Lecture_ipynb%E2%80%9D.ipynb\" target=\"_parent\"><img src=\"https://colab.research.google.com/assets/colab-badge.svg\" alt=\"Open In Colab\"/></a>"
      ]
    },
    {
      "cell_type": "markdown",
      "metadata": {
        "id": "Y5lofjj6AXAq"
      },
      "source": [
        "#Lists and Tuples\n",
        "\n",
        "**Lists:** Holds multiple elements of various kinds, one of the built in structures to store collections of data. They are ordered and changeable. \n",
        "\n",
        "Lists are commonly used, has many interesting methods. \n",
        "\n",
        "**Tuples:** Holds multiple elements like lists, ordered but not changable. Not as commonly used by the end developer but often a part of the class methods. "
      ]
    },
    {
      "cell_type": "markdown",
      "metadata": {
        "id": "mPeB2sc0EJsQ"
      },
      "source": [
        "## Tuples"
      ]
    },
    {
      "cell_type": "code",
      "metadata": {
        "id": "l3EX-WA6_52R"
      },
      "source": [
        "tup = (1,2,3,3)"
      ],
      "execution_count": null,
      "outputs": []
    },
    {
      "cell_type": "code",
      "metadata": {
        "id": "RCPPUCQoBu_w",
        "colab": {
          "base_uri": "https://localhost:8080/"
        },
        "outputId": "8a4d9764-3005-443a-817f-a3dc4ff564f3"
      },
      "source": [
        "type(tup)"
      ],
      "execution_count": null,
      "outputs": [
        {
          "output_type": "execute_result",
          "data": {
            "text/plain": [
              "tuple"
            ]
          },
          "metadata": {
            "tags": []
          },
          "execution_count": 3
        }
      ]
    },
    {
      "cell_type": "code",
      "metadata": {
        "id": "fVyUlswxBwdr",
        "colab": {
          "base_uri": "https://localhost:8080/"
        },
        "outputId": "9ac9ab04-504e-432d-afdd-18b14565e8b4"
      },
      "source": [
        "len(tup)"
      ],
      "execution_count": null,
      "outputs": [
        {
          "output_type": "execute_result",
          "data": {
            "text/plain": [
              "4"
            ]
          },
          "metadata": {
            "tags": []
          },
          "execution_count": 4
        }
      ]
    },
    {
      "cell_type": "code",
      "metadata": {
        "id": "ABdlzbDFCKtB",
        "colab": {
          "base_uri": "https://localhost:8080/"
        },
        "outputId": "19c4f3cc-1824-4d41-c800-d5da98e57fda"
      },
      "source": [
        "# tuples have interesting methods:\n",
        "#\n",
        "# tuples allow duplicates:\n",
        "print(tup.count(3))\n",
        "# tuples are indexed:\n",
        "print(tup.index(2))"
      ],
      "execution_count": null,
      "outputs": [
        {
          "output_type": "stream",
          "text": [
            "2\n",
            "1\n"
          ],
          "name": "stdout"
        }
      ]
    },
    {
      "cell_type": "markdown",
      "metadata": {
        "id": "p29VIA8eDfgW"
      },
      "source": [
        "Here is another way to define tuples:\n",
        "\n",
        "\n",
        "```\n",
        "tup2 = 1,1,1,2,3,3\n",
        "```\n",
        "\n",
        "But you don't know me yet and shouldn't trust everything I say and check for yourself :)\n"
      ]
    },
    {
      "cell_type": "code",
      "metadata": {
        "id": "Fod8PmuxDCUQ"
      },
      "source": [
        "# define the tuple as shown above:\n",
        "tup2 = 1,1,1,2,3,3"
      ],
      "execution_count": null,
      "outputs": []
    },
    {
      "cell_type": "code",
      "metadata": {
        "id": "CyisAXkEDMiB",
        "colab": {
          "base_uri": "https://localhost:8080/"
        },
        "outputId": "ccb28970-0fbc-4a67-dbcb-f80d19e63b99"
      },
      "source": [
        "# check its type\n",
        "type(tup2)"
      ],
      "execution_count": null,
      "outputs": [
        {
          "output_type": "execute_result",
          "data": {
            "text/plain": [
              "tuple"
            ]
          },
          "metadata": {
            "tags": []
          },
          "execution_count": 8
        }
      ]
    },
    {
      "cell_type": "code",
      "metadata": {
        "id": "Pn5lR1FLD1QD",
        "colab": {
          "base_uri": "https://localhost:8080/"
        },
        "outputId": "0d81c616-4d35-4f39-c92e-e393efbb68d7"
      },
      "source": [
        "# check its values\n",
        "tup2"
      ],
      "execution_count": null,
      "outputs": [
        {
          "output_type": "execute_result",
          "data": {
            "text/plain": [
              "(1, 1, 1, 2, 3, 3)"
            ]
          },
          "metadata": {
            "tags": []
          },
          "execution_count": 9
        }
      ]
    },
    {
      "cell_type": "code",
      "metadata": {
        "id": "J9zBvuCdEAdS",
        "colab": {
          "base_uri": "https://localhost:8080/"
        },
        "outputId": "9ee49f64-9de4-47a2-f078-c0c7f38699e9"
      },
      "source": [
        "# count the ones in it\n",
        "tup2.count(1)"
      ],
      "execution_count": null,
      "outputs": [
        {
          "output_type": "execute_result",
          "data": {
            "text/plain": [
              "3"
            ]
          },
          "metadata": {
            "tags": []
          },
          "execution_count": 10
        }
      ]
    },
    {
      "cell_type": "code",
      "metadata": {
        "colab": {
          "base_uri": "https://localhost:8080/"
        },
        "id": "YgRCpeiccnY5",
        "outputId": "e031f869-8614-4a33-c289-efeaf323b9a0"
      },
      "source": [
        "# what if I want to have a tuple with one data?\n",
        "tup3 = (2.5)\n",
        "type(tup3)"
      ],
      "execution_count": null,
      "outputs": [
        {
          "output_type": "execute_result",
          "data": {
            "text/plain": [
              "float"
            ]
          },
          "metadata": {
            "tags": []
          },
          "execution_count": 11
        }
      ]
    },
    {
      "cell_type": "code",
      "metadata": {
        "id": "pFKq4Lu3dtRb"
      },
      "source": [
        "#The redefine of tuples are not adding something, we are just destroy them and restore.\n",
        "tup4 = (1,2)"
      ],
      "execution_count": null,
      "outputs": []
    },
    {
      "cell_type": "code",
      "metadata": {
        "id": "VLljpX6DeB-9"
      },
      "source": [
        "tup4 = (3,4)"
      ],
      "execution_count": null,
      "outputs": []
    },
    {
      "cell_type": "markdown",
      "metadata": {
        "id": "lh6nf_YneVTE"
      },
      "source": [
        "* Lists can be edited."
      ]
    },
    {
      "cell_type": "markdown",
      "metadata": {
        "id": "JnViVSTMEORp"
      },
      "source": [
        "## Lists"
      ]
    },
    {
      "cell_type": "code",
      "metadata": {
        "id": "5hX4xfrJER_8",
        "colab": {
          "base_uri": "https://localhost:8080/"
        },
        "outputId": "e5eb1f05-c498-407d-8593-89f021247ef2"
      },
      "source": [
        "x= [1,2,3]\n",
        "type(x)"
      ],
      "execution_count": null,
      "outputs": [
        {
          "output_type": "execute_result",
          "data": {
            "text/plain": [
              "list"
            ]
          },
          "metadata": {
            "tags": []
          },
          "execution_count": 16
        }
      ]
    },
    {
      "cell_type": "code",
      "metadata": {
        "id": "vrQgrMu1EbrI",
        "colab": {
          "base_uri": "https://localhost:8080/"
        },
        "outputId": "40f8ff09-7a2b-4cc7-9509-6c2f3325233b"
      },
      "source": [
        "x"
      ],
      "execution_count": null,
      "outputs": [
        {
          "output_type": "execute_result",
          "data": {
            "text/plain": [
              "[1, 2, 3]"
            ]
          },
          "metadata": {
            "tags": []
          },
          "execution_count": 17
        }
      ]
    },
    {
      "cell_type": "code",
      "metadata": {
        "id": "_viIePC1Ed4Z"
      },
      "source": [
        "y= ['a', 1, 2.3, True]"
      ],
      "execution_count": null,
      "outputs": []
    },
    {
      "cell_type": "code",
      "metadata": {
        "id": "QA8xpy-lEo25",
        "colab": {
          "base_uri": "https://localhost:8080/"
        },
        "outputId": "8eddfd39-61f3-4440-fd6f-16de350896df"
      },
      "source": [
        "type(y)"
      ],
      "execution_count": null,
      "outputs": [
        {
          "output_type": "execute_result",
          "data": {
            "text/plain": [
              "list"
            ]
          },
          "metadata": {
            "tags": []
          },
          "execution_count": 20
        }
      ]
    },
    {
      "cell_type": "markdown",
      "metadata": {
        "id": "rjgX7tqJE34B"
      },
      "source": [
        "I wonder, can lists host other lists, i.e. nested lists?"
      ]
    },
    {
      "cell_type": "code",
      "metadata": {
        "id": "_uVqfEepE77e"
      },
      "source": [
        "z= [1, 2, 3 , y , 'b']"
      ],
      "execution_count": null,
      "outputs": []
    },
    {
      "cell_type": "code",
      "metadata": {
        "id": "lkLP45x2FDXc",
        "colab": {
          "base_uri": "https://localhost:8080/"
        },
        "outputId": "5832c186-8f83-48f4-8690-2a48da2d427e"
      },
      "source": [
        "z"
      ],
      "execution_count": null,
      "outputs": [
        {
          "output_type": "execute_result",
          "data": {
            "text/plain": [
              "[1, 2, 3, ['a', 1, 2.3, True], 'b']"
            ]
          },
          "metadata": {
            "tags": []
          },
          "execution_count": 22
        }
      ]
    },
    {
      "cell_type": "code",
      "metadata": {
        "colab": {
          "base_uri": "https://localhost:8080/"
        },
        "id": "Q6OBGrNUeg5K",
        "outputId": "cb70af8a-6618-4daf-bbe2-d2f7669b4efb"
      },
      "source": [
        "len(z)"
      ],
      "execution_count": null,
      "outputs": [
        {
          "output_type": "execute_result",
          "data": {
            "text/plain": [
              "5"
            ]
          },
          "metadata": {
            "tags": []
          },
          "execution_count": 23
        }
      ]
    },
    {
      "cell_type": "markdown",
      "metadata": {
        "id": "gMfqI5NuGCfV"
      },
      "source": [
        "#### Quick exercise"
      ]
    },
    {
      "cell_type": "code",
      "metadata": {
        "id": "YXV0j0odFEMP",
        "colab": {
          "base_uri": "https://localhost:8080/"
        },
        "outputId": "575c214c-0db6-41bf-8ca7-c9fe158310de"
      },
      "source": [
        "# How many elements does z have? \n",
        "#(you can use a function you learnt for strings to answer this)\n",
        "\n",
        "len(z)"
      ],
      "execution_count": null,
      "outputs": [
        {
          "output_type": "execute_result",
          "data": {
            "text/plain": [
              "5"
            ]
          },
          "metadata": {
            "tags": []
          },
          "execution_count": 26
        }
      ]
    },
    {
      "cell_type": "code",
      "metadata": {
        "id": "ucVGpVMaF5CY",
        "colab": {
          "base_uri": "https://localhost:8080/"
        },
        "outputId": "444e112a-0e79-41de-b4a6-a3a10d997c94"
      },
      "source": [
        "# How many 1s are there in z?\n",
        "\n",
        "z.count(1)"
      ],
      "execution_count": null,
      "outputs": [
        {
          "output_type": "execute_result",
          "data": {
            "text/plain": [
              "1"
            ]
          },
          "metadata": {
            "tags": []
          },
          "execution_count": 27
        }
      ]
    },
    {
      "cell_type": "markdown",
      "metadata": {
        "id": "Kde7EdszFdoX"
      },
      "source": [
        "## List methods\n",
        "Lists have many more methods than tuples. \n",
        "\n",
        "While exploring those, let's see some other useful functions as we go:"
      ]
    },
    {
      "cell_type": "code",
      "metadata": {
        "id": "Cb9PREdLFF74"
      },
      "source": [
        "tmp = list(range(10))"
      ],
      "execution_count": null,
      "outputs": []
    },
    {
      "cell_type": "code",
      "metadata": {
        "id": "peTDzFAWF0Ra",
        "colab": {
          "base_uri": "https://localhost:8080/"
        },
        "outputId": "37f81a7d-4102-451a-cb31-5de12c8cc771"
      },
      "source": [
        "tmp"
      ],
      "execution_count": null,
      "outputs": [
        {
          "output_type": "execute_result",
          "data": {
            "text/plain": [
              "[0, 1, 2, 3, 4, 5, 6, 7, 8, 9]"
            ]
          },
          "metadata": {
            "tags": []
          },
          "execution_count": 29
        }
      ]
    },
    {
      "cell_type": "code",
      "metadata": {
        "colab": {
          "base_uri": "https://localhost:8080/"
        },
        "id": "hbIWFD2Eflyz",
        "outputId": "a20fd7c6-f451-4f3b-a508-9698d2fe8854"
      },
      "source": [
        "tmp = list(range(1,10))\n",
        "tmp"
      ],
      "execution_count": null,
      "outputs": [
        {
          "output_type": "execute_result",
          "data": {
            "text/plain": [
              "[1, 2, 3, 4, 5, 6, 7, 8, 9]"
            ]
          },
          "metadata": {
            "tags": []
          },
          "execution_count": 31
        }
      ]
    },
    {
      "cell_type": "code",
      "metadata": {
        "colab": {
          "base_uri": "https://localhost:8080/"
        },
        "id": "L5Q-1aXTfzYd",
        "outputId": "09f1e0ff-4615-4954-f827-97b6874c9040"
      },
      "source": [
        "tmp = list(range(1,12,2)) #count by two\n",
        "tmp"
      ],
      "execution_count": null,
      "outputs": [
        {
          "output_type": "execute_result",
          "data": {
            "text/plain": [
              "[1, 3, 5, 7, 9, 11]"
            ]
          },
          "metadata": {
            "tags": []
          },
          "execution_count": 32
        }
      ]
    },
    {
      "cell_type": "code",
      "metadata": {
        "id": "2nJvUmVNHCqD",
        "colab": {
          "base_uri": "https://localhost:8080/"
        },
        "outputId": "1b96b608-a867-45b1-dfe0-e8abd68662e6"
      },
      "source": [
        "# can we add the last number or take out the first one?\n",
        "\n",
        "tmp.append(10)\n",
        "tmp"
      ],
      "execution_count": null,
      "outputs": [
        {
          "output_type": "execute_result",
          "data": {
            "text/plain": [
              "[3, 5, 7, 9, 11, 10]"
            ]
          },
          "metadata": {
            "tags": []
          },
          "execution_count": 37
        }
      ]
    },
    {
      "cell_type": "code",
      "metadata": {
        "colab": {
          "base_uri": "https://localhost:8080/"
        },
        "id": "Hsbfsfh_gG-F",
        "outputId": "2e0364df-adf7-4575-913c-ab664409f815"
      },
      "source": [
        "tmp.pop(3)\n",
        "tmp"
      ],
      "execution_count": null,
      "outputs": [
        {
          "output_type": "execute_result",
          "data": {
            "text/plain": [
              "[3, 5, 7, 11, 10]"
            ]
          },
          "metadata": {
            "tags": []
          },
          "execution_count": 38
        }
      ]
    },
    {
      "cell_type": "code",
      "metadata": {
        "colab": {
          "base_uri": "https://localhost:8080/"
        },
        "id": "yPVotMIfgUHo",
        "outputId": "792fc2e1-c098-4520-e80e-62f8670912b9"
      },
      "source": [
        "tmp = list(range(2,14,3))\n",
        "tmp"
      ],
      "execution_count": null,
      "outputs": [
        {
          "output_type": "execute_result",
          "data": {
            "text/plain": [
              "[2, 5, 8, 11]"
            ]
          },
          "metadata": {
            "tags": []
          },
          "execution_count": 39
        }
      ]
    },
    {
      "cell_type": "code",
      "metadata": {
        "colab": {
          "base_uri": "https://localhost:8080/"
        },
        "id": "kytlAG-agbz6",
        "outputId": "0309b125-6eea-49ab-da9f-e2a09911b876"
      },
      "source": [
        "tmp.append(20)\n",
        "tmp"
      ],
      "execution_count": null,
      "outputs": [
        {
          "output_type": "execute_result",
          "data": {
            "text/plain": [
              "[2, 5, 11, 1, 20]"
            ]
          },
          "metadata": {
            "tags": []
          },
          "execution_count": 43
        }
      ]
    },
    {
      "cell_type": "code",
      "metadata": {
        "colab": {
          "base_uri": "https://localhost:8080/"
        },
        "id": "8rsJE7skge4j",
        "outputId": "ae16234f-4c7d-4814-9abb-df8b99e51c3e"
      },
      "source": [
        "tmp.pop(0)\n",
        "tmp"
      ],
      "execution_count": null,
      "outputs": [
        {
          "output_type": "execute_result",
          "data": {
            "text/plain": [
              "[1, 20]"
            ]
          },
          "metadata": {
            "tags": []
          },
          "execution_count": 46
        }
      ]
    },
    {
      "cell_type": "code",
      "metadata": {
        "colab": {
          "base_uri": "https://localhost:8080/",
          "height": 168
        },
        "id": "zTLZCBpkg2tS",
        "outputId": "ba81e519-c908-42ff-b82e-9705cef60393"
      },
      "source": [
        "tmp.pop(0)"
      ],
      "execution_count": null,
      "outputs": [
        {
          "output_type": "error",
          "ename": "IndexError",
          "evalue": "ignored",
          "traceback": [
            "\u001b[0;31m---------------------------------------------------------------------------\u001b[0m",
            "\u001b[0;31mIndexError\u001b[0m                                Traceback (most recent call last)",
            "\u001b[0;32m<ipython-input-49-b849a258cf41>\u001b[0m in \u001b[0;36m<module>\u001b[0;34m()\u001b[0m\n\u001b[0;32m----> 1\u001b[0;31m \u001b[0mtmp\u001b[0m\u001b[0;34m.\u001b[0m\u001b[0mpop\u001b[0m\u001b[0;34m(\u001b[0m\u001b[0;36m0\u001b[0m\u001b[0;34m)\u001b[0m\u001b[0;34m\u001b[0m\u001b[0;34m\u001b[0m\u001b[0m\n\u001b[0m",
            "\u001b[0;31mIndexError\u001b[0m: pop from empty list"
          ]
        }
      ]
    },
    {
      "cell_type": "code",
      "metadata": {
        "id": "guIe6ZbjHfKK"
      },
      "source": [
        "# let's do sth similar with strings:\n",
        "x = ['a', 'b', 'c']"
      ],
      "execution_count": null,
      "outputs": []
    },
    {
      "cell_type": "code",
      "metadata": {
        "id": "Nys7FKVQHmuu"
      },
      "source": [
        "x.append(4)"
      ],
      "execution_count": null,
      "outputs": []
    },
    {
      "cell_type": "code",
      "metadata": {
        "colab": {
          "base_uri": "https://localhost:8080/"
        },
        "id": "ZJ8YeWIYd-p_",
        "outputId": "60493746-ba80-47a6-db9b-5ffb97cdd1f4"
      },
      "source": [
        "x"
      ],
      "execution_count": null,
      "outputs": [
        {
          "output_type": "execute_result",
          "data": {
            "text/plain": [
              "['a', 'b', 'c', 4]"
            ]
          },
          "metadata": {
            "tags": []
          },
          "execution_count": 35
        }
      ]
    },
    {
      "cell_type": "code",
      "metadata": {
        "id": "rLqvfsR1Hq8s",
        "colab": {
          "base_uri": "https://localhost:8080/"
        },
        "outputId": "fa4f26a5-295d-4d96-e611-5e26659f2791"
      },
      "source": [
        "# can we append to an empty list?\n",
        "tmp2 = []\n",
        "tmp2.append('will it work?')\n",
        "tmp2"
      ],
      "execution_count": null,
      "outputs": [
        {
          "output_type": "execute_result",
          "data": {
            "text/plain": [
              "['will it work?']"
            ]
          },
          "metadata": {
            "tags": []
          },
          "execution_count": 57
        }
      ]
    },
    {
      "cell_type": "code",
      "metadata": {
        "id": "i5T2lt6WHyyA",
        "colab": {
          "base_uri": "https://localhost:8080/"
        },
        "outputId": "f214d99b-b080-4bd2-b12e-423725af5ff0"
      },
      "source": [
        "# let's make this list a bit longer\n",
        "tmp2 += x\n",
        "#equivalent to : tmp2 = tmp2 + x\n",
        "tmp2"
      ],
      "execution_count": null,
      "outputs": [
        {
          "output_type": "execute_result",
          "data": {
            "text/plain": [
              "['will it work?', 'a', 'b', 'c', 'a', 'b', 'c', 4, 'a', 'b', 'c', 4]"
            ]
          },
          "metadata": {
            "tags": []
          },
          "execution_count": 61
        }
      ]
    },
    {
      "cell_type": "code",
      "metadata": {
        "colab": {
          "base_uri": "https://localhost:8080/"
        },
        "id": "viLjzqGUiRhi",
        "outputId": "6a42791c-f382-4e50-84d7-c949c3921ce9"
      },
      "source": [
        "tmp2.remove(4)\n",
        "tmp2"
      ],
      "execution_count": null,
      "outputs": [
        {
          "output_type": "execute_result",
          "data": {
            "text/plain": [
              "['will it work?', 'a', 'b', 'c', 'a', 'b', 'c', 'a', 'b', 'c', 4]"
            ]
          },
          "metadata": {
            "tags": []
          },
          "execution_count": 62
        }
      ]
    },
    {
      "cell_type": "markdown",
      "metadata": {
        "id": "dPBZtVATinBW"
      },
      "source": [
        "* remove command will only remove the first 4 it sees"
      ]
    },
    {
      "cell_type": "code",
      "metadata": {
        "id": "1LtkVf2xIV_d",
        "colab": {
          "base_uri": "https://localhost:8080/"
        },
        "outputId": "5ca822f7-5a96-4bbf-a94e-c1af96837539"
      },
      "source": [
        "# let's remove some elements\n",
        "tmp2.pop()\n",
        "tmp2"
      ],
      "execution_count": null,
      "outputs": [
        {
          "output_type": "execute_result",
          "data": {
            "text/plain": [
              "['will it work?', 'a', 'b', 'c']"
            ]
          },
          "metadata": {
            "tags": []
          },
          "execution_count": 52
        }
      ]
    },
    {
      "cell_type": "code",
      "metadata": {
        "id": "SHjdc-MqIsFv"
      },
      "source": [
        "tmp2"
      ],
      "execution_count": null,
      "outputs": []
    },
    {
      "cell_type": "code",
      "metadata": {
        "id": "E_a_QQYSIt1i",
        "colab": {
          "base_uri": "https://localhost:8080/"
        },
        "outputId": "7e9ff862-0bec-4e17-e42b-31744ff387a8"
      },
      "source": [
        "# Try the other following methods \n",
        "# what do they do?\n",
        "#\n",
        "tmp2.clear() #clear all the elements and return\n",
        "tmp2\n"
      ],
      "execution_count": null,
      "outputs": [
        {
          "output_type": "execute_result",
          "data": {
            "text/plain": [
              "[]"
            ]
          },
          "metadata": {
            "tags": []
          },
          "execution_count": 53
        }
      ]
    },
    {
      "cell_type": "code",
      "metadata": {
        "colab": {
          "base_uri": "https://localhost:8080/"
        },
        "id": "NZvO5EXQh64_",
        "outputId": "67effbca-d919-43ff-f326-8a6ed37d5bd2"
      },
      "source": [
        "type(tmp2)"
      ],
      "execution_count": null,
      "outputs": [
        {
          "output_type": "execute_result",
          "data": {
            "text/plain": [
              "list"
            ]
          },
          "metadata": {
            "tags": []
          },
          "execution_count": 54
        }
      ]
    },
    {
      "cell_type": "code",
      "metadata": {
        "colab": {
          "base_uri": "https://localhost:8080/"
        },
        "id": "w4WkIG4Vh9fH",
        "outputId": "d0cdf09d-6a4b-4f55-e3be-5352845ffe67"
      },
      "source": [
        "%whos"
      ],
      "execution_count": null,
      "outputs": [
        {
          "output_type": "stream",
          "text": [
            "Variable   Type     Data/Info\n",
            "-----------------------------\n",
            "tmp        list     n=0\n",
            "tmp2       list     n=0\n",
            "tup        tuple    n=4\n",
            "tup2       tuple    n=6\n",
            "tup3       float    2.5\n",
            "x          list     n=4\n",
            "y          list     n=4\n",
            "z          list     n=5\n"
          ],
          "name": "stdout"
        }
      ]
    },
    {
      "cell_type": "code",
      "metadata": {
        "id": "K7N7B-D3iDrf"
      },
      "source": [
        "?tmp2.append(2)\n",
        "a = tmp2"
      ],
      "execution_count": null,
      "outputs": []
    },
    {
      "cell_type": "code",
      "metadata": {
        "id": "FNz4nNdslWgj"
      },
      "source": [
        "del tmp2\n"
      ],
      "execution_count": null,
      "outputs": []
    },
    {
      "cell_type": "markdown",
      "metadata": {
        "id": "o_1muTaJJSPJ"
      },
      "source": [
        "## Indexing/Slicing"
      ]
    },
    {
      "cell_type": "code",
      "metadata": {
        "id": "CfLb4dmII70_"
      },
      "source": [
        "slicer = [1,5,6,7,8]"
      ],
      "execution_count": null,
      "outputs": []
    },
    {
      "cell_type": "code",
      "metadata": {
        "id": "bT9XHnG_JhJZ",
        "colab": {
          "base_uri": "https://localhost:8080/"
        },
        "outputId": "3ffd1b34-4939-4ea6-92ab-2a3108a6ea3c"
      },
      "source": [
        "#How to access to data with its address\n",
        "slicer[0]"
      ],
      "execution_count": null,
      "outputs": [
        {
          "output_type": "execute_result",
          "data": {
            "text/plain": [
              "1"
            ]
          },
          "metadata": {
            "tags": []
          },
          "execution_count": 72
        }
      ]
    },
    {
      "cell_type": "code",
      "metadata": {
        "id": "vdxE2M8jJzS-",
        "colab": {
          "base_uri": "https://localhost:8080/"
        },
        "outputId": "e8a2dbdb-b41b-44e5-fe92-5a5e13692ecb"
      },
      "source": [
        "#can you guess what the following line will return?\n",
        "slicer[2]**2"
      ],
      "execution_count": null,
      "outputs": [
        {
          "output_type": "execute_result",
          "data": {
            "text/plain": [
              "36"
            ]
          },
          "metadata": {
            "tags": []
          },
          "execution_count": 75
        }
      ]
    },
    {
      "cell_type": "code",
      "metadata": {
        "id": "aSzZAIWhJ-bg",
        "colab": {
          "base_uri": "https://localhost:8080/"
        },
        "outputId": "ca113cc6-4747-4f5d-dd76-52b558fd3de4"
      },
      "source": [
        "#python allows access from the reverse order too!\n",
        "slicer[-1]"
      ],
      "execution_count": null,
      "outputs": [
        {
          "output_type": "execute_result",
          "data": {
            "text/plain": [
              "8"
            ]
          },
          "metadata": {
            "tags": []
          },
          "execution_count": 76
        }
      ]
    },
    {
      "cell_type": "code",
      "metadata": {
        "id": "WJiQaOfkKEAz",
        "colab": {
          "base_uri": "https://localhost:8080/"
        },
        "outputId": "71422bdf-f75b-4cd1-f5b2-846f6c2f5795"
      },
      "source": [
        "#Note that not all languages start indexing from 0\n",
        "# indeed this about python often causes a well known bug :)\n",
        "len(slicer)"
      ],
      "execution_count": null,
      "outputs": [
        {
          "output_type": "execute_result",
          "data": {
            "text/plain": [
              "5"
            ]
          },
          "metadata": {
            "tags": []
          },
          "execution_count": 77
        }
      ]
    },
    {
      "cell_type": "code",
      "metadata": {
        "id": "dr-fOgAnKaI3",
        "colab": {
          "base_uri": "https://localhost:8080/"
        },
        "outputId": "fec69263-bbbe-4292-d755-bfe052271fef"
      },
      "source": [
        "slicer[-len(slicer)]"
      ],
      "execution_count": null,
      "outputs": [
        {
          "output_type": "execute_result",
          "data": {
            "text/plain": [
              "1"
            ]
          },
          "metadata": {
            "tags": []
          },
          "execution_count": 79
        }
      ]
    },
    {
      "cell_type": "markdown",
      "metadata": {
        "id": "LyFoMqjpKyNM"
      },
      "source": [
        "## Range selection"
      ]
    },
    {
      "cell_type": "code",
      "metadata": {
        "id": "_cSoD60TKeLf",
        "colab": {
          "base_uri": "https://localhost:8080/"
        },
        "outputId": "61ae058c-11a4-415c-b958-23ab9424b86a"
      },
      "source": [
        "print(slicer)\n",
        "slicer[0:2]"
      ],
      "execution_count": null,
      "outputs": [
        {
          "output_type": "stream",
          "text": [
            "[1, 5, 6, 7, 8]\n"
          ],
          "name": "stdout"
        },
        {
          "output_type": "execute_result",
          "data": {
            "text/plain": [
              "[1, 5]"
            ]
          },
          "metadata": {
            "tags": []
          },
          "execution_count": 80
        }
      ]
    },
    {
      "cell_type": "code",
      "metadata": {
        "id": "bIXHVcVbK9sF",
        "colab": {
          "base_uri": "https://localhost:8080/"
        },
        "outputId": "ac62a193-6a28-4bae-b522-e98a89f288bf"
      },
      "source": [
        "slicer[1:3]"
      ],
      "execution_count": null,
      "outputs": [
        {
          "output_type": "execute_result",
          "data": {
            "text/plain": [
              "[5, 6]"
            ]
          },
          "metadata": {
            "tags": []
          },
          "execution_count": 81
        }
      ]
    },
    {
      "cell_type": "code",
      "metadata": {
        "id": "nMKZ64aZLDCd",
        "colab": {
          "base_uri": "https://localhost:8080/",
          "height": 52
        },
        "outputId": "c31bf595-fd2d-445c-a8b0-ea6ab45acd34"
      },
      "source": [
        "myword = \"programming\"\n",
        "print(len(myword))\n",
        "myword[0:3]"
      ],
      "execution_count": null,
      "outputs": [
        {
          "output_type": "stream",
          "text": [
            "11\n"
          ],
          "name": "stdout"
        },
        {
          "output_type": "execute_result",
          "data": {
            "application/vnd.google.colaboratory.intrinsic+json": {
              "type": "string"
            },
            "text/plain": [
              "'pro'"
            ]
          },
          "metadata": {
            "tags": []
          },
          "execution_count": 82
        }
      ]
    },
    {
      "cell_type": "code",
      "metadata": {
        "id": "NQctbGRLLJu6",
        "colab": {
          "base_uri": "https://localhost:8080/",
          "height": 35
        },
        "outputId": "80de73c0-18e2-4325-f015-1161de3f2a5e"
      },
      "source": [
        "# will this work, or give an index error?\n",
        "myword[0:11]"
      ],
      "execution_count": null,
      "outputs": [
        {
          "output_type": "execute_result",
          "data": {
            "application/vnd.google.colaboratory.intrinsic+json": {
              "type": "string"
            },
            "text/plain": [
              "'programming'"
            ]
          },
          "metadata": {
            "tags": []
          },
          "execution_count": 83
        }
      ]
    },
    {
      "cell_type": "code",
      "metadata": {
        "colab": {
          "base_uri": "https://localhost:8080/",
          "height": 35
        },
        "id": "_Wcj8m7dLTbK",
        "outputId": "d8675bc1-b1b1-4ea5-8a7d-d392ea887b3c"
      },
      "source": [
        "#Try the following, see what they do:\n",
        "#myword[:]\n",
        "#myword[8:]\n",
        "#myword[:3]\n",
        "#myword[3:7]\n",
        "#myword[:-8]\n",
        "#myword[-11:] \n",
        "#myword[::-1] #reverse them as then pop from the end.\n",
        "#myword[-9:-5]"
      ],
      "execution_count": null,
      "outputs": [
        {
          "output_type": "execute_result",
          "data": {
            "application/vnd.google.colaboratory.intrinsic+json": {
              "type": "string"
            },
            "text/plain": [
              "'gnimmargorp'"
            ]
          },
          "metadata": {
            "tags": []
          },
          "execution_count": 130
        }
      ]
    },
    {
      "cell_type": "code",
      "metadata": {
        "id": "9t8AE-TxL0C4"
      },
      "source": [
        "#knowing how to reverse can get handy:\n",
        "print(x)\n",
        "x.reverse()\n",
        "print(x)"
      ],
      "execution_count": null,
      "outputs": []
    },
    {
      "cell_type": "markdown",
      "metadata": {
        "id": "YVyyI_3iNez1"
      },
      "source": [
        "### Quick exercise:\n",
        "1.  Define a new string \"I started to like this course\".\n",
        "2.  Split the string by using space as the delimeter, and assing the output to a list\n",
        "3.  Print the first element of the list\n",
        "4.  Print the last element of the list\n",
        "5.  Print the list reversed\n",
        "6.  Print the second and third element of the list"
      ]
    },
    {
      "cell_type": "markdown",
      "metadata": {
        "id": "QQPou7PFOsvc"
      },
      "source": [
        "### Even quicker exercise\n",
        "\n",
        "1.  make a list that looks like `x=[2,3,...,30]`\n",
        "2.  print the first 2, last 2, and 12th elements\n",
        "3.  reverse the values of the list in place"
      ]
    },
    {
      "cell_type": "code",
      "metadata": {
        "colab": {
          "base_uri": "https://localhost:8080/"
        },
        "id": "WzOyYMlTRK8g",
        "outputId": "8b5bfe9a-7b2d-4702-a31f-6ca2037b2642"
      },
      "source": [
        "# One important nuance before we wrap this up\n",
        "# make sure to check the type of what your commands return:\n",
        "tmp"
      ],
      "execution_count": null,
      "outputs": [
        {
          "output_type": "execute_result",
          "data": {
            "text/plain": [
              "[0, 1, 2, 3, 4, 5, 6, 7, 8, 9]"
            ]
          },
          "metadata": {
            "tags": []
          },
          "execution_count": 145
        }
      ]
    },
    {
      "cell_type": "code",
      "metadata": {
        "colab": {
          "base_uri": "https://localhost:8080/"
        },
        "id": "VLbsiyRSRSeR",
        "outputId": "69b44db4-ed59-4c81-ad15-974d9110af95"
      },
      "source": [
        "tmp[0]\n"
      ],
      "execution_count": null,
      "outputs": [
        {
          "output_type": "execute_result",
          "data": {
            "text/plain": [
              "int"
            ]
          },
          "metadata": {
            "tags": []
          },
          "execution_count": 149
        }
      ]
    },
    {
      "cell_type": "code",
      "metadata": {
        "colab": {
          "base_uri": "https://localhost:8080/"
        },
        "id": "qvc0gZvnRVcJ",
        "outputId": "284abc4e-f1ff-4144-f428-ee50e7aceb2f"
      },
      "source": [
        "tmp[:1]"
      ],
      "execution_count": null,
      "outputs": [
        {
          "output_type": "execute_result",
          "data": {
            "text/plain": [
              "[0]"
            ]
          },
          "metadata": {
            "tags": []
          },
          "execution_count": 152
        }
      ]
    },
    {
      "cell_type": "markdown",
      "metadata": {
        "id": "l6b44OBdSPa2"
      },
      "source": [
        "## Insert and Extend "
      ]
    },
    {
      "cell_type": "code",
      "metadata": {
        "id": "m7pbVStbSR9O"
      },
      "source": [
        "# Insert an element at a position\n",
        "mylist = [0,1,2,3]\n",
        "mylist2= [4,5,6]"
      ],
      "execution_count": null,
      "outputs": []
    },
    {
      "cell_type": "code",
      "metadata": {
        "colab": {
          "base_uri": "https://localhost:8080/"
        },
        "id": "oJzFLNi6SYx3",
        "outputId": "43e76dd0-e06e-4f76-bb7f-7e156c44fe8b"
      },
      "source": [
        "mylist.insert(0,'a')\n",
        "mylist"
      ],
      "execution_count": null,
      "outputs": [
        {
          "output_type": "execute_result",
          "data": {
            "text/plain": [
              "['a', 0, 1, 2, 3]"
            ]
          },
          "metadata": {
            "tags": []
          },
          "execution_count": 168
        }
      ]
    },
    {
      "cell_type": "code",
      "metadata": {
        "colab": {
          "base_uri": "https://localhost:8080/"
        },
        "id": "KS6pZwLaSck2",
        "outputId": "5897a37b-5617-49de-da06-a2a858dc1b1b"
      },
      "source": [
        "mylist.extend('b')\n",
        "mylist"
      ],
      "execution_count": null,
      "outputs": [
        {
          "output_type": "execute_result",
          "data": {
            "text/plain": [
              "['a', 0, 1, 2, 3, 'b']"
            ]
          },
          "metadata": {
            "tags": []
          },
          "execution_count": 169
        }
      ]
    },
    {
      "cell_type": "code",
      "metadata": {
        "colab": {
          "base_uri": "https://localhost:8080/",
          "height": 35
        },
        "id": "VhgvyG2lSvx2",
        "outputId": "b14b2969-ad40-48e1-b356-31fec9de52bf"
      },
      "source": [
        "mylist.pop(0)\n",
        "mylist.pop(-1)"
      ],
      "execution_count": null,
      "outputs": [
        {
          "output_type": "execute_result",
          "data": {
            "application/vnd.google.colaboratory.intrinsic+json": {
              "type": "string"
            },
            "text/plain": [
              "'b'"
            ]
          },
          "metadata": {
            "tags": []
          },
          "execution_count": 170
        }
      ]
    },
    {
      "cell_type": "code",
      "metadata": {
        "id": "t7K0rfbBS0WU"
      },
      "source": [
        "mylist.insert(4,mylist2)"
      ],
      "execution_count": null,
      "outputs": []
    },
    {
      "cell_type": "code",
      "metadata": {
        "id": "m4ovoDeGS02G"
      },
      "source": [
        "mylist.extend(mylist2)"
      ],
      "execution_count": null,
      "outputs": []
    },
    {
      "cell_type": "code",
      "metadata": {
        "colab": {
          "base_uri": "https://localhost:8080/"
        },
        "id": "I48JN48LTYcF",
        "outputId": "36178c39-78f8-4954-a763-bdd7ea504b72"
      },
      "source": [
        "mylist + mylist2"
      ],
      "execution_count": null,
      "outputs": [
        {
          "output_type": "execute_result",
          "data": {
            "text/plain": [
              "[0, 1, 2, 3, 4, 5, 6]"
            ]
          },
          "metadata": {
            "tags": []
          },
          "execution_count": 178
        }
      ]
    },
    {
      "cell_type": "markdown",
      "metadata": {
        "id": "yWbWu_7XT7tS"
      },
      "source": [
        "#Lab time!\n",
        "Hope you enjoyed this first intro to python data structures. Now beyond the basic data types such as integers, floats, you also know some data structures!\n",
        "\n",
        "You are getting good at this! Now move to Lab notebook and solve the exercises there! As before, first make a github repo \"ba765-session02\" and then push your notebook there before you come *back* to the classroom "
      ]
    },
    {
      "cell_type": "code",
      "metadata": {
        "id": "tqlDdlg_Tei9"
      },
      "source": [
        ""
      ],
      "execution_count": null,
      "outputs": []
    }
  ]
}