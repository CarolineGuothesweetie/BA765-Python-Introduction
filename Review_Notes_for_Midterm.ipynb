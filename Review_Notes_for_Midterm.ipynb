{
  "nbformat": 4,
  "nbformat_minor": 0,
  "metadata": {
    "colab": {
      "name": "Review Notes for Midterm.ipynb",
      "provenance": [],
      "authorship_tag": "ABX9TyPQUKJS8yhsTKugl2+fJ+un",
      "include_colab_link": true
    },
    "kernelspec": {
      "name": "python3",
      "display_name": "Python 3"
    },
    "language_info": {
      "name": "python"
    }
  },
  "cells": [
    {
      "cell_type": "markdown",
      "metadata": {
        "id": "view-in-github",
        "colab_type": "text"
      },
      "source": [
        "<a href=\"https://colab.research.google.com/github/CarolineGuothesweetie/Lecture-notes/blob/main/Review_Notes_for_Midterm.ipynb\" target=\"_parent\"><img src=\"https://colab.research.google.com/assets/colab-badge.svg\" alt=\"Open In Colab\"/></a>"
      ]
    },
    {
      "cell_type": "markdown",
      "metadata": {
        "id": "OqSzG-RahC-K"
      },
      "source": [
        "# Session1 - Introduction to Python"
      ]
    },
    {
      "cell_type": "markdown",
      "metadata": {
        "id": "ssyJyG-ChYv7"
      },
      "source": [
        "### 1. Basic types in Python\n",
        "#### boolean: True/false\n",
        "#### string; integer; float; \n",
        "#### list(contains different types of data); [ xx ]\n",
        "#### tuple (immutable) ( xx )"
      ]
    },
    {
      "cell_type": "code",
      "metadata": {
        "id": "71X6KS9-hErD"
      },
      "source": [
        "a = 1\n",
        "b = float(2)\n",
        "c = [1,2,3]\n",
        "d = (4,5,6)"
      ],
      "execution_count": 6,
      "outputs": []
    },
    {
      "cell_type": "code",
      "metadata": {
        "colab": {
          "base_uri": "https://localhost:8080/"
        },
        "id": "duuVxhPjjFjz",
        "outputId": "d037d9c8-1f8d-4056-b496-e62ec698f3a7"
      },
      "source": [
        "%whos #command on showing all variables saved."
      ],
      "execution_count": 7,
      "outputs": [
        {
          "output_type": "stream",
          "text": [
            "Variable   Type     Data/Info\n",
            "-----------------------------\n",
            "a          int      1\n",
            "b          float    2.0\n",
            "c          list     n=3\n",
            "d          tuple    n=3\n",
            "h          tuple    n=3\n"
          ],
          "name": "stdout"
        }
      ]
    },
    {
      "cell_type": "code",
      "metadata": {
        "colab": {
          "base_uri": "https://localhost:8080/"
        },
        "id": "-2hzF6XBjNwQ",
        "outputId": "3d63e332-f0fe-45fe-80d3-a16f9dc8e7c0"
      },
      "source": [
        "# Fixed names cannot be used as variable names:\n",
        "from keyword import kwlist\n",
        "print(kwlist)"
      ],
      "execution_count": 8,
      "outputs": [
        {
          "output_type": "stream",
          "text": [
            "['False', 'None', 'True', 'and', 'as', 'assert', 'async', 'await', 'break', 'class', 'continue', 'def', 'del', 'elif', 'else', 'except', 'finally', 'for', 'from', 'global', 'if', 'import', 'in', 'is', 'lambda', 'nonlocal', 'not', 'or', 'pass', 'raise', 'return', 'try', 'while', 'with', 'yield']\n"
          ],
          "name": "stdout"
        }
      ]
    },
    {
      "cell_type": "markdown",
      "metadata": {
        "id": "r88X_sp4jZ1s"
      },
      "source": [
        "### 2. Numerical Operations"
      ]
    },
    {
      "cell_type": "code",
      "metadata": {
        "colab": {
          "base_uri": "https://localhost:8080/"
        },
        "id": "UtM5YFR_jfAL",
        "outputId": "15edb487-1607-4455-dd23-2226534ef5d9"
      },
      "source": [
        "# power\n",
        "x = 3\n",
        "y = x ** 3\n",
        "y"
      ],
      "execution_count": 2,
      "outputs": [
        {
          "output_type": "execute_result",
          "data": {
            "text/plain": [
              "27"
            ]
          },
          "metadata": {
            "tags": []
          },
          "execution_count": 2
        }
      ]
    },
    {
      "cell_type": "markdown",
      "metadata": {
        "id": "aEwdGKLrFzp-"
      },
      "source": [
        "### 3. Comparision commands"
      ]
    },
    {
      "cell_type": "markdown",
      "metadata": {
        "id": "jjQz9JfIF5GJ"
      },
      "source": [
        "### 4. Strings"
      ]
    },
    {
      "cell_type": "code",
      "metadata": {
        "colab": {
          "base_uri": "https://localhost:8080/"
        },
        "id": "_BoVTEt_F_25",
        "outputId": "0283dc5b-406f-4444-aba2-8779b8e8b03c"
      },
      "source": [
        "a = 'This is my dear string'\n",
        "# split words / lower and upper cased\n",
        "b = a.split() \n",
        "c = a.upper()\n",
        "print(b)\n",
        "print(c)"
      ],
      "execution_count": 5,
      "outputs": [
        {
          "output_type": "stream",
          "text": [
            "['This', 'is', 'my', 'dear', 'string']\n",
            "THIS IS MY DEAR STRING\n"
          ],
          "name": "stdout"
        }
      ]
    },
    {
      "cell_type": "code",
      "metadata": {
        "colab": {
          "base_uri": "https://localhost:8080/"
        },
        "id": "a9hRkwajGd6n",
        "outputId": "eb86fc67-a887-4941-d3c6-15642910b4a7"
      },
      "source": [
        "m = 'This, is, my dear string'\n",
        "# split based on some signs:\n",
        "n = m.split(',')\n",
        "n"
      ],
      "execution_count": 7,
      "outputs": [
        {
          "output_type": "execute_result",
          "data": {
            "text/plain": [
              "['This', ' is', ' my dear string']"
            ]
          },
          "metadata": {
            "tags": []
          },
          "execution_count": 7
        }
      ]
    },
    {
      "cell_type": "code",
      "metadata": {
        "colab": {
          "base_uri": "https://localhost:8080/"
        },
        "id": "BtilQJrMGjsg",
        "outputId": "42c8c2ef-2b30-4fb4-fbfa-b32d8730a23b"
      },
      "source": [
        "# Casting: 改变variable的格式\n",
        "x = 2\n",
        "y = 1.2\n",
        "z = int(y)\n",
        "print(z)\n",
        "print(type(z))"
      ],
      "execution_count": 8,
      "outputs": [
        {
          "output_type": "stream",
          "text": [
            "1\n",
            "<class 'int'>\n"
          ],
          "name": "stdout"
        }
      ]
    },
    {
      "cell_type": "markdown",
      "metadata": {
        "id": "dlwyHFDYHZx0"
      },
      "source": [
        "# Session2 - Lists & Tuples"
      ]
    },
    {
      "cell_type": "markdown",
      "metadata": {
        "id": "yvMfOveCHqBQ"
      },
      "source": [
        "### 1. Tuples: (1,2,3,4)"
      ]
    },
    {
      "cell_type": "code",
      "metadata": {
        "colab": {
          "base_uri": "https://localhost:8080/"
        },
        "id": "gZUYGugsHu0A",
        "outputId": "07fc6368-d25e-4bea-ae7e-11479de2b3a2"
      },
      "source": [
        "tup = (1,2,3,3)\n",
        "print(tup.index(3)) #输入的值第一次出现的序列位置"
      ],
      "execution_count": 3,
      "outputs": [
        {
          "output_type": "stream",
          "text": [
            "2\n"
          ],
          "name": "stdout"
        }
      ]
    },
    {
      "cell_type": "code",
      "metadata": {
        "colab": {
          "base_uri": "https://localhost:8080/"
        },
        "id": "DZ9mD6l3xqB_",
        "outputId": "7255c318-f632-4538-b345-d98f1f40dfc9"
      },
      "source": [
        "tup2 = (2.5) #tuple只有一个元素自动返回该元素及variable类型\n",
        "print(tup2)"
      ],
      "execution_count": 4,
      "outputs": [
        {
          "output_type": "stream",
          "text": [
            "2.5\n"
          ],
          "name": "stdout"
        }
      ]
    },
    {
      "cell_type": "markdown",
      "metadata": {
        "id": "9rUsyAcYxzOG"
      },
      "source": [
        "### 2. Lists: [1,2,3,'Caroline',a] "
      ]
    },
    {
      "cell_type": "code",
      "metadata": {
        "colab": {
          "base_uri": "https://localhost:8080/"
        },
        "id": "DZbIUy1Jx0lx",
        "outputId": "0e79eee7-594f-40b9-ad8d-4920c033fbf5"
      },
      "source": [
        "tmp = list(range(1,10)) #range函数包括下限不包括上限\n",
        "tmp"
      ],
      "execution_count": 5,
      "outputs": [
        {
          "output_type": "execute_result",
          "data": {
            "text/plain": [
              "[1, 2, 3, 4, 5, 6, 7, 8, 9]"
            ]
          },
          "metadata": {
            "tags": []
          },
          "execution_count": 5
        }
      ]
    },
    {
      "cell_type": "code",
      "metadata": {
        "colab": {
          "base_uri": "https://localhost:8080/"
        },
        "id": "M4t5YYHCzVhW",
        "outputId": "862bcd07-8380-496f-cbdc-a237709eee3d"
      },
      "source": [
        "tmp2 = list(range(1,12,2)) #count by two\n",
        "tmp2"
      ],
      "execution_count": 6,
      "outputs": [
        {
          "output_type": "execute_result",
          "data": {
            "text/plain": [
              "[1, 3, 5, 7, 9, 11]"
            ]
          },
          "metadata": {
            "tags": []
          },
          "execution_count": 6
        }
      ]
    },
    {
      "cell_type": "code",
      "metadata": {
        "colab": {
          "base_uri": "https://localhost:8080/"
        },
        "id": "WPdeAQzLzXmB",
        "outputId": "b126760b-037d-40c0-c504-d51dba0357cc"
      },
      "source": [
        "tmp2.append(10) #在后面加一个元素\n",
        "tmp2"
      ],
      "execution_count": 8,
      "outputs": [
        {
          "output_type": "execute_result",
          "data": {
            "text/plain": [
              "[1, 3, 5, 7, 9, 11, 10]"
            ]
          },
          "metadata": {
            "tags": []
          },
          "execution_count": 8
        }
      ]
    },
    {
      "cell_type": "code",
      "metadata": {
        "colab": {
          "base_uri": "https://localhost:8080/"
        },
        "id": "Pje9YSi5zqpg",
        "outputId": "3724f2c9-9a76-49ee-d18a-1d97e9bd7377"
      },
      "source": [
        "tmp2.pop(3) #pop(3)删除第三个序列上的数字/如果不输入序列则随机删除\n",
        "tmp2"
      ],
      "execution_count": 12,
      "outputs": [
        {
          "output_type": "execute_result",
          "data": {
            "text/plain": [
              "[5, 9, 11]"
            ]
          },
          "metadata": {
            "tags": []
          },
          "execution_count": 12
        }
      ]
    },
    {
      "cell_type": "code",
      "metadata": {
        "colab": {
          "base_uri": "https://localhost:8080/"
        },
        "id": "pDWx1D8a0PCM",
        "outputId": "407bd3d1-f616-403e-8823-4f4a53c05b7e"
      },
      "source": [
        "tmp3 = ['Will it work?']\n",
        "x = ['a','b','c',4]\n",
        "tmp3 += x\n",
        "#equivalent to : tmp2 = tmp2 + x\n",
        "tmp3"
      ],
      "execution_count": 13,
      "outputs": [
        {
          "output_type": "execute_result",
          "data": {
            "text/plain": [
              "['Will it work?', 'a', 'b', 'c', 4]"
            ]
          },
          "metadata": {
            "tags": []
          },
          "execution_count": 13
        }
      ]
    },
    {
      "cell_type": "code",
      "metadata": {
        "colab": {
          "base_uri": "https://localhost:8080/"
        },
        "id": "Uf3QpRb20qHY",
        "outputId": "d58f5d4f-640f-4048-c05f-ecd833a257b3"
      },
      "source": [
        "tmp3.remove(4) #如果有多个4，remove第一个4\n",
        "tmp3"
      ],
      "execution_count": 14,
      "outputs": [
        {
          "output_type": "execute_result",
          "data": {
            "text/plain": [
              "['Will it work?', 'a', 'b', 'c']"
            ]
          },
          "metadata": {
            "tags": []
          },
          "execution_count": 14
        }
      ]
    },
    {
      "cell_type": "markdown",
      "metadata": {
        "id": "3e1TseMR06mH"
      },
      "source": [
        "### 3. Slicing/Indexing"
      ]
    },
    {
      "cell_type": "code",
      "metadata": {
        "colab": {
          "base_uri": "https://localhost:8080/"
        },
        "id": "mQ8tA5ck0v75",
        "outputId": "1153f459-bee6-4b49-a251-ffb5bb4697c6"
      },
      "source": [
        "slicer = [1,5,6,7,8]\n",
        "print(slicer[-len(slicer)]) # -len(slicer)=-5 作为序列倒着往前数第五个元素"
      ],
      "execution_count": 15,
      "outputs": [
        {
          "output_type": "stream",
          "text": [
            "1\n"
          ],
          "name": "stdout"
        }
      ]
    },
    {
      "cell_type": "markdown",
      "metadata": {
        "id": "mB6Hn3br1iUh"
      },
      "source": [
        "### 4. Range Selection\n"
      ]
    },
    {
      "cell_type": "code",
      "metadata": {
        "colab": {
          "base_uri": "https://localhost:8080/"
        },
        "id": "7j3Z7A7s1mEN",
        "outputId": "1c782433-f152-4432-b64f-07d99bffcdfd"
      },
      "source": [
        "print(slicer)\n",
        "slicer[0:2] #下闭上不闭"
      ],
      "execution_count": 18,
      "outputs": [
        {
          "output_type": "stream",
          "text": [
            "[1, 5, 6, 7, 8]\n"
          ],
          "name": "stdout"
        },
        {
          "output_type": "execute_result",
          "data": {
            "text/plain": [
              "[1, 5]"
            ]
          },
          "metadata": {
            "tags": []
          },
          "execution_count": 18
        }
      ]
    },
    {
      "cell_type": "code",
      "metadata": {
        "colab": {
          "base_uri": "https://localhost:8080/",
          "height": 52
        },
        "id": "VtkT5IUf15Hb",
        "outputId": "071870b5-2eba-4cea-8995-3e0bbec539de"
      },
      "source": [
        "myword = \"programming\"\n",
        "print(len(myword))\n",
        "\n",
        "#myword[:]\n",
        "#myword[8:]\n",
        "#myword[:3]\n",
        "#myword[3:7]\n",
        "#myword[:-8] 从第一个到倒数第八个\n",
        "#myword[-11:] \n",
        "myword[::-1] #reverse them as then pop from the end. ##起始位置:终止位置:步幅\n",
        "#myword[-9:-5]"
      ],
      "execution_count": 26,
      "outputs": [
        {
          "output_type": "stream",
          "text": [
            "11\n"
          ],
          "name": "stdout"
        },
        {
          "output_type": "execute_result",
          "data": {
            "application/vnd.google.colaboratory.intrinsic+json": {
              "type": "string"
            },
            "text/plain": [
              "'gnimmargorp'"
            ]
          },
          "metadata": {
            "tags": []
          },
          "execution_count": 26
        }
      ]
    },
    {
      "cell_type": "markdown",
      "metadata": {
        "id": "q1MmF-jB3Tbo"
      },
      "source": [
        "### 5. Insert and Extend"
      ]
    },
    {
      "cell_type": "code",
      "metadata": {
        "id": "SnYyEG9j3Wkv"
      },
      "source": [
        "mylist = [0,1,2,3]\n",
        "mylist2= [4,5,6]"
      ],
      "execution_count": 36,
      "outputs": []
    },
    {
      "cell_type": "code",
      "metadata": {
        "colab": {
          "base_uri": "https://localhost:8080/"
        },
        "id": "WaeprOVT3plL",
        "outputId": "e3d16a59-4228-4e9f-c3fc-3c6d0a85bcab"
      },
      "source": [
        "mylist.insert(4,mylist2) #以list形式导入\n",
        "mylist"
      ],
      "execution_count": 37,
      "outputs": [
        {
          "output_type": "execute_result",
          "data": {
            "text/plain": [
              "[0, 1, 2, 3, [4, 5, 6]]"
            ]
          },
          "metadata": {
            "tags": []
          },
          "execution_count": 37
        }
      ]
    },
    {
      "cell_type": "code",
      "metadata": {
        "colab": {
          "base_uri": "https://localhost:8080/"
        },
        "id": "KCu6Kc1O3r8z",
        "outputId": "a16f13ef-4cfc-423f-facc-6002730e1a4e"
      },
      "source": [
        "mylist.extend(mylist2) #以元素的形式扩张\n",
        "mylist"
      ],
      "execution_count": 38,
      "outputs": [
        {
          "output_type": "execute_result",
          "data": {
            "text/plain": [
              "[0, 1, 2, 3, [4, 5, 6], 4, 5, 6]"
            ]
          },
          "metadata": {
            "tags": []
          },
          "execution_count": 38
        }
      ]
    },
    {
      "cell_type": "code",
      "metadata": {
        "colab": {
          "base_uri": "https://localhost:8080/"
        },
        "id": "nrUf_NYV4I7M",
        "outputId": "1c6494a3-7316-4079-b9ec-6405016a8607"
      },
      "source": [
        "print(mylist + mylist2) #list可以直接相加"
      ],
      "execution_count": 39,
      "outputs": [
        {
          "output_type": "stream",
          "text": [
            "[0, 1, 2, 3, [4, 5, 6], 4, 5, 6, 4, 5, 6]\n"
          ],
          "name": "stdout"
        }
      ]
    },
    {
      "cell_type": "markdown",
      "metadata": {
        "id": "OUkciAOy4eQ4"
      },
      "source": [
        "# Session 3 - Sets & Dictionaries"
      ]
    },
    {
      "cell_type": "markdown",
      "metadata": {
        "id": "wtQ6iMI55UXw"
      },
      "source": [
        "### 1. Sets {}"
      ]
    },
    {
      "cell_type": "code",
      "metadata": {
        "colab": {
          "base_uri": "https://localhost:8080/"
        },
        "id": "Exk5U7Vo5dRS",
        "outputId": "9bcd74c7-9457-48cb-c22b-4fff44225a42"
      },
      "source": [
        "y=[4,9,7,8,8,4,5,4,6] #set是去重且无序的\n",
        "yset = set(y)\n",
        "yset.pop() #随机选中一个数字删掉并返回删掉的值\n",
        "yset"
      ],
      "execution_count": 54,
      "outputs": [
        {
          "output_type": "execute_result",
          "data": {
            "text/plain": [
              "{5, 6, 7, 8, 9}"
            ]
          },
          "metadata": {
            "tags": []
          },
          "execution_count": 54
        }
      ]
    },
    {
      "cell_type": "code",
      "metadata": {
        "colab": {
          "base_uri": "https://localhost:8080/"
        },
        "id": "VqAkXU_y7Vm3",
        "outputId": "fe892459-59db-4c11-c790-c6eda4efbfc0"
      },
      "source": [
        "aset = {1,2,3,4,5,6}\n",
        "bset = {4,5,6,7,8,9}\n",
        "aset.difference(bset) #gives us unique elements in aset; 因此aset.diff(b) != bset.diff(a)"
      ],
      "execution_count": 57,
      "outputs": [
        {
          "output_type": "execute_result",
          "data": {
            "text/plain": [
              "{1, 2, 3}"
            ]
          },
          "metadata": {
            "tags": []
          },
          "execution_count": 57
        }
      ]
    },
    {
      "cell_type": "code",
      "metadata": {
        "id": "E93RaXLP7kde"
      },
      "source": [
        "#set里不包含任何含有list相关的操作"
      ],
      "execution_count": null,
      "outputs": []
    },
    {
      "cell_type": "code",
      "metadata": {
        "colab": {
          "base_uri": "https://localhost:8080/"
        },
        "id": "sLDYquSr795j",
        "outputId": "3ab2dceb-f9bf-49f5-dfc3-bc023296af66"
      },
      "source": [
        "set1 = {1} #加元素操作1 \n",
        "set1.add('aaa')\n",
        "set1"
      ],
      "execution_count": 62,
      "outputs": [
        {
          "output_type": "execute_result",
          "data": {
            "text/plain": [
              "{1, 'aaa'}"
            ]
          },
          "metadata": {
            "tags": []
          },
          "execution_count": 62
        }
      ]
    },
    {
      "cell_type": "code",
      "metadata": {
        "colab": {
          "base_uri": "https://localhost:8080/"
        },
        "id": "jhT2j0xe8t26",
        "outputId": "a1675a31-99ab-4ab3-d2e8-146d06bccf64"
      },
      "source": [
        "set1.update([9,99,999]) #加元素操作2\n",
        "set1"
      ],
      "execution_count": 64,
      "outputs": [
        {
          "output_type": "execute_result",
          "data": {
            "text/plain": [
              "{1, 9, 99, 999, 'aaa'}"
            ]
          },
          "metadata": {
            "tags": []
          },
          "execution_count": 64
        }
      ]
    },
    {
      "cell_type": "code",
      "metadata": {
        "colab": {
          "base_uri": "https://localhost:8080/"
        },
        "id": "uIMudLUO_FR-",
        "outputId": "d3e6a65f-bd71-4727-ad16-6749c63d4b85"
      },
      "source": [
        "set1.remove(99) #直接删除\n",
        "set1"
      ],
      "execution_count": 69,
      "outputs": [
        {
          "output_type": "execute_result",
          "data": {
            "text/plain": [
              "{1, 9, 999, 'aaa'}"
            ]
          },
          "metadata": {
            "tags": []
          },
          "execution_count": 69
        }
      ]
    },
    {
      "cell_type": "markdown",
      "metadata": {
        "id": "QfWDo2eD85R1"
      },
      "source": [
        "### 2. Dictionary /key:value pairs {}"
      ]
    },
    {
      "cell_type": "code",
      "metadata": {
        "colab": {
          "base_uri": "https://localhost:8080/"
        },
        "id": "6JYWCsAX8xyB",
        "outputId": "81ea8aea-df08-48cd-8fb6-bd08ec22e2df"
      },
      "source": [
        "d = { 'online':True, \n",
        "     'courseName':'ba765',  \n",
        "     'totStudents': 100, \n",
        "     3:['A','B','C']}\n",
        "print(type(d))\n",
        "d"
      ],
      "execution_count": 65,
      "outputs": [
        {
          "output_type": "stream",
          "text": [
            "<class 'dict'>\n"
          ],
          "name": "stdout"
        },
        {
          "output_type": "execute_result",
          "data": {
            "text/plain": [
              "{3: ['A', 'B', 'C'], 'courseName': 'ba765', 'online': True, 'totStudents': 100}"
            ]
          },
          "metadata": {
            "tags": []
          },
          "execution_count": 65
        }
      ]
    },
    {
      "cell_type": "code",
      "metadata": {
        "colab": {
          "base_uri": "https://localhost:8080/",
          "height": 35
        },
        "id": "3ab9z4Jg_rAA",
        "outputId": "88caae84-5976-46d9-bcd3-6522f04f1a8a"
      },
      "source": [
        "# 导出某一个key的value\n",
        "d['courseName']"
      ],
      "execution_count": 71,
      "outputs": [
        {
          "output_type": "execute_result",
          "data": {
            "application/vnd.google.colaboratory.intrinsic+json": {
              "type": "string"
            },
            "text/plain": [
              "'ba765'"
            ]
          },
          "metadata": {
            "tags": []
          },
          "execution_count": 71
        }
      ]
    },
    {
      "cell_type": "code",
      "metadata": {
        "colab": {
          "base_uri": "https://localhost:8080/"
        },
        "id": "ZR6vv9rp-fCa",
        "outputId": "6f132ecb-4656-4d99-87e5-92c90c8a5b6b"
      },
      "source": [
        "# Adding a key: 直接和value成组加上去（方式1\n",
        "d['LfA'] = False\n",
        "d"
      ],
      "execution_count": 67,
      "outputs": [
        {
          "output_type": "execute_result",
          "data": {
            "text/plain": [
              "{3: ['A', 'B', 'C'],\n",
              " 'LfA': False,\n",
              " 'courseName': 'ba765',\n",
              " 'online': True,\n",
              " 'totStudents': 100}"
            ]
          },
          "metadata": {
            "tags": []
          },
          "execution_count": 67
        }
      ]
    },
    {
      "cell_type": "code",
      "metadata": {
        "colab": {
          "base_uri": "https://localhost:8080/"
        },
        "id": "uQQ9MZRv-yA7",
        "outputId": "8d737e5c-e9af-468a-99a7-450bd5ecc12d"
      },
      "source": [
        "# Deleting a key \n",
        "del d['online']\n",
        "d"
      ],
      "execution_count": 68,
      "outputs": [
        {
          "output_type": "execute_result",
          "data": {
            "text/plain": [
              "{3: ['A', 'B', 'C'], 'LfA': False, 'courseName': 'ba765', 'totStudents': 100}"
            ]
          },
          "metadata": {
            "tags": []
          },
          "execution_count": 68
        }
      ]
    },
    {
      "cell_type": "code",
      "metadata": {
        "colab": {
          "base_uri": "https://localhost:8080/"
        },
        "id": "YPcwTb1R_jGg",
        "outputId": "556b4dba-1027-42b5-a8b3-f103cffdba66"
      },
      "source": [
        "#How about changing the values of the keys?\n",
        "print(d['LfA'])\n",
        "d['LfA'] = True\n",
        "d['LfA']"
      ],
      "execution_count": 70,
      "outputs": [
        {
          "output_type": "stream",
          "text": [
            "False\n"
          ],
          "name": "stdout"
        },
        {
          "output_type": "execute_result",
          "data": {
            "text/plain": [
              "True"
            ]
          },
          "metadata": {
            "tags": []
          },
          "execution_count": 70
        }
      ]
    },
    {
      "cell_type": "code",
      "metadata": {
        "colab": {
          "base_uri": "https://localhost:8080/",
          "height": 35
        },
        "id": "6xyzhLKFAoh9",
        "outputId": "2d8a5b1a-f265-437e-fe56-512cc7628873"
      },
      "source": [
        "# There is another way of accessing the value of a key\n",
        "# which also allows us to set a default value: 'TBD' 查找的key不存在时返回这个default值\n",
        "d.get('instructor', 'TBD') "
      ],
      "execution_count": 74,
      "outputs": [
        {
          "output_type": "execute_result",
          "data": {
            "application/vnd.google.colaboratory.intrinsic+json": {
              "type": "string"
            },
            "text/plain": [
              "'TBD'"
            ]
          },
          "metadata": {
            "tags": []
          },
          "execution_count": 74
        }
      ]
    },
    {
      "cell_type": "code",
      "metadata": {
        "colab": {
          "base_uri": "https://localhost:8080/"
        },
        "id": "wHastDL9Blbz",
        "outputId": "5a9f8fd1-4537-4ee4-bf61-3e34e4075df1"
      },
      "source": [
        "# Updating a dictionary by adding a new item, aka k:v pair: 第二种添加方式\n",
        "d.update({'rating':4.95})\n",
        "print(d)"
      ],
      "execution_count": 75,
      "outputs": [
        {
          "output_type": "stream",
          "text": [
            "{'courseName': 'ba765', 'totStudents': 100, 3: ['A', 'B', 'C'], 'LfA': True, 'rating': 4.95}\n"
          ],
          "name": "stdout"
        }
      ]
    },
    {
      "cell_type": "code",
      "metadata": {
        "colab": {
          "base_uri": "https://localhost:8080/"
        },
        "id": "jGXSjqrGBpVo",
        "outputId": "4b2f5f3c-987e-4ff3-af70-3455d8882a82"
      },
      "source": [
        "# Using the update function to update an existing k:v pair:\n",
        "d.update({'LfA':False})\n",
        "d['LfA']"
      ],
      "execution_count": 76,
      "outputs": [
        {
          "output_type": "execute_result",
          "data": {
            "text/plain": [
              "False"
            ]
          },
          "metadata": {
            "tags": []
          },
          "execution_count": 76
        }
      ]
    },
    {
      "cell_type": "markdown",
      "metadata": {
        "id": "OuqS0hSlFH9g"
      },
      "source": [
        "# Session 4 - Functions, Notes & Modules"
      ]
    },
    {
      "cell_type": "markdown",
      "metadata": {
        "id": "JI0Pxqm3FN-2"
      },
      "source": [
        "### 1. Functions"
      ]
    },
    {
      "cell_type": "code",
      "metadata": {
        "id": "qFXvZZ5fFPw5"
      },
      "source": [
        "# return指令后返回的值可以直接存为variable使用\n",
        "# print指令仅会返回数值"
      ],
      "execution_count": null,
      "outputs": []
    },
    {
      "cell_type": "code",
      "metadata": {
        "colab": {
          "base_uri": "https://localhost:8080/"
        },
        "id": "3hUfNCEzLJ2p",
        "outputId": "d50d66c1-032a-44e3-b2d0-06d89eb64a45"
      },
      "source": [
        "# Careful with defaults if you want to work with a changable default 扩张空list\n",
        "def my_add2list(x,y=[]):\n",
        "  y.append(x)\n",
        "  return(y)\n",
        "my_add2list(2)"
      ],
      "execution_count": 5,
      "outputs": [
        {
          "output_type": "execute_result",
          "data": {
            "text/plain": [
              "[2]"
            ]
          },
          "metadata": {
            "tags": []
          },
          "execution_count": 5
        }
      ]
    },
    {
      "cell_type": "code",
      "metadata": {
        "colab": {
          "base_uri": "https://localhost:8080/"
        },
        "id": "EOov7UpbLYqA",
        "outputId": "4b3553eb-6b4f-4312-97b8-0841d07bfff1"
      },
      "source": [
        "# To escape this behavior do the following:\n",
        "def my_add2list(x,y=None):\n",
        "  if y==None:\n",
        "    y=[]\n",
        "  y.append(x)\n",
        "  return(y)\n",
        "my_add2list(1)"
      ],
      "execution_count": 6,
      "outputs": [
        {
          "output_type": "execute_result",
          "data": {
            "text/plain": [
              "[1]"
            ]
          },
          "metadata": {
            "tags": []
          },
          "execution_count": 6
        }
      ]
    },
    {
      "cell_type": "code",
      "metadata": {
        "colab": {
          "base_uri": "https://localhost:8080/"
        },
        "id": "PiULJJ3sLl-S",
        "outputId": "43992714-850b-4a18-ddda-73acd50409fc"
      },
      "source": [
        "my_add2list(1,['a',True]) # y != None, 因此y是一个已经包含'a' True的list，在这个基础上加上1"
      ],
      "execution_count": 7,
      "outputs": [
        {
          "output_type": "execute_result",
          "data": {
            "text/plain": [
              "['a', True, 1]"
            ]
          },
          "metadata": {
            "tags": []
          },
          "execution_count": 7
        }
      ]
    },
    {
      "cell_type": "markdown",
      "metadata": {
        "id": "3PXVEGg1Lxik"
      },
      "source": [
        "### 2. Modules 模块/避免导入整个代码库\n"
      ]
    },
    {
      "cell_type": "code",
      "metadata": {
        "colab": {
          "base_uri": "https://localhost:8080/"
        },
        "id": "4zhZzTz8OW3B",
        "outputId": "0d8c5a23-f071-4542-90cc-efb2adddde61"
      },
      "source": [
        "# Some new useful ones: random choice\n",
        "import random\n",
        "random.choices([1,2,3], k=5)"
      ],
      "execution_count": 8,
      "outputs": [
        {
          "output_type": "execute_result",
          "data": {
            "text/plain": [
              "[3, 3, 2, 3, 2]"
            ]
          },
          "metadata": {
            "tags": []
          },
          "execution_count": 8
        }
      ]
    },
    {
      "cell_type": "code",
      "metadata": {
        "id": "HQyusmedOvJ1"
      },
      "source": [
        "# os.shell\n",
        "import os"
      ],
      "execution_count": 9,
      "outputs": []
    },
    {
      "cell_type": "code",
      "metadata": {
        "colab": {
          "base_uri": "https://localhost:8080/",
          "height": 35
        },
        "id": "YqK_YfeFPSb6",
        "outputId": "e6b328f7-3ff4-4b7c-efff-4c7ce3293214"
      },
      "source": [
        "# 显示路径/目前位置 like pwd\n",
        "os.getcwd()"
      ],
      "execution_count": 10,
      "outputs": [
        {
          "output_type": "execute_result",
          "data": {
            "application/vnd.google.colaboratory.intrinsic+json": {
              "type": "string"
            },
            "text/plain": [
              "'/content'"
            ]
          },
          "metadata": {
            "tags": []
          },
          "execution_count": 10
        }
      ]
    },
    {
      "cell_type": "code",
      "metadata": {
        "colab": {
          "base_uri": "https://localhost:8080/"
        },
        "id": "g6qeJgZfPaWM",
        "outputId": "adf81cfc-cc07-4e41-fc5d-2cd16ebf5502"
      },
      "source": [
        "# like ls/列出所有的dir\n",
        "os.listdir()"
      ],
      "execution_count": 19,
      "outputs": [
        {
          "output_type": "execute_result",
          "data": {
            "text/plain": [
              "['anscombe.json',\n",
              " 'README.md',\n",
              " 'mnist_test.csv',\n",
              " 'california_housing_train.csv',\n",
              " 'california_housing_test.csv',\n",
              " 'mnist_train_small.csv']"
            ]
          },
          "metadata": {
            "tags": []
          },
          "execution_count": 19
        }
      ]
    },
    {
      "cell_type": "code",
      "metadata": {
        "id": "Ky2_sRVpPppt"
      },
      "source": [
        "# like cd/改变位置到这个dir\n",
        "os.chdir('sample_data')"
      ],
      "execution_count": null,
      "outputs": []
    },
    {
      "cell_type": "code",
      "metadata": {
        "colab": {
          "base_uri": "https://localhost:8080/",
          "height": 35
        },
        "id": "pHN1Eyw1QcXJ",
        "outputId": "9f325f50-ba59-458b-de4b-6b72fac2afde"
      },
      "source": [
        "os.getcwd()"
      ],
      "execution_count": 20,
      "outputs": [
        {
          "output_type": "execute_result",
          "data": {
            "application/vnd.google.colaboratory.intrinsic+json": {
              "type": "string"
            },
            "text/plain": [
              "'/content/sample_data'"
            ]
          },
          "metadata": {
            "tags": []
          },
          "execution_count": 20
        }
      ]
    },
    {
      "cell_type": "code",
      "metadata": {
        "id": "kgV-ElKxQgt_"
      },
      "source": [
        "# 创建一个dir\n",
        "os.mkdir('BA765')"
      ],
      "execution_count": null,
      "outputs": []
    },
    {
      "cell_type": "code",
      "metadata": {
        "colab": {
          "base_uri": "https://localhost:8080/"
        },
        "id": "M835_UbpQ1SW",
        "outputId": "f74ef2e9-58b4-4b1c-fca9-6be1710d85a0"
      },
      "source": [
        "os.listdir()"
      ],
      "execution_count": 24,
      "outputs": [
        {
          "output_type": "execute_result",
          "data": {
            "text/plain": [
              "['anscombe.json',\n",
              " 'README.md',\n",
              " 'BA765',\n",
              " 'mnist_test.csv',\n",
              " 'california_housing_train.csv',\n",
              " 'california_housing_test.csv',\n",
              " 'mnist_train_small.csv']"
            ]
          },
          "metadata": {
            "tags": []
          },
          "execution_count": 24
        }
      ]
    },
    {
      "cell_type": "code",
      "metadata": {
        "id": "VzEY6d3XQ5bT"
      },
      "source": [
        "# cd ../. 回到上层且待在那 ：）\n",
        "# cd ..\n",
        "os.chdir('..')"
      ],
      "execution_count": 25,
      "outputs": []
    },
    {
      "cell_type": "code",
      "metadata": {
        "colab": {
          "base_uri": "https://localhost:8080/",
          "height": 35
        },
        "id": "ZJaFOxfbQ7yf",
        "outputId": "f3b87e09-e38c-4dbb-8493-f7efb5662850"
      },
      "source": [
        "os.getcwd()"
      ],
      "execution_count": 26,
      "outputs": [
        {
          "output_type": "execute_result",
          "data": {
            "application/vnd.google.colaboratory.intrinsic+json": {
              "type": "string"
            },
            "text/plain": [
              "'/content'"
            ]
          },
          "metadata": {
            "tags": []
          },
          "execution_count": 26
        }
      ]
    },
    {
      "cell_type": "markdown",
      "metadata": {
        "id": "vHTv4rwmRZgg"
      },
      "source": [
        "### 3. Shell access in Colab - See on notes."
      ]
    }
  ]
}