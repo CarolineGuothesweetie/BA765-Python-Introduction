{
  "nbformat": 4,
  "nbformat_minor": 0,
  "metadata": {
    "colab": {
      "name": "“Session09_Simulations.ipynb”的副本",
      "provenance": [],
      "include_colab_link": true
    },
    "kernelspec": {
      "name": "python3",
      "display_name": "Python 3"
    },
    "language_info": {
      "name": "python"
    }
  },
  "cells": [
    {
      "cell_type": "markdown",
      "metadata": {
        "id": "view-in-github",
        "colab_type": "text"
      },
      "source": [
        "<a href=\"https://colab.research.google.com/github/CarolineGuothesweetie/Lecture-notes/blob/main/Session09_Simulations.ipynb\" target=\"_parent\"><img src=\"https://colab.research.google.com/assets/colab-badge.svg\" alt=\"Open In Colab\"/></a>"
      ]
    },
    {
      "cell_type": "markdown",
      "metadata": {
        "id": "-0CAw-w_OUfC"
      },
      "source": [
        "#BA765 - Session 09\n",
        "08/03/2021\n",
        "\n",
        "###Outline\n",
        "\n",
        "- Course and Instructor Evaluation\n",
        "- Assignment Questions?\n",
        "- Final related Questions?\n",
        "\n",
        "- More Simulations!\n",
        "- - Simulating the spread of an infectious disease in a population!!\n",
        "- - Simulating vaccinations - yay!\n",
        "- - Simulating coin flip or Possion (exercises from last class)\n",
        "- - Simulating the \"game of life\" (locally, on your computer!)\n",
        "https://media.giphy.com/media/tXlpbXfu7e2Pu/giphy.gif\n",
        "\n",
        "\n",
        "\n",
        "\n"
      ]
    },
    {
      "cell_type": "markdown",
      "metadata": {
        "id": "ED6-iIMSO_G4"
      },
      "source": [
        "##Course and Instructor Evaluations\n",
        "- Consideration should be given to all semester\n",
        "- Your answers are taken seriously, you might not see the impact but next cohorts will. \n",
        "- Not every questions is relevant for every course, e.g. we do not have other instructors (TAs, co-instructors etc)\n",
        "\n",
        "Link for B1 section:\n",
        "https://bostonu.qualtrics.com/jfe/form/SV_cHogJMRytURD2DQ?CLASS=BA765B1.Kucukbenli\n",
        "\n",
        "Link for the B2 section:\n",
        "https://bostonu.qualtrics.com/jfe/form/SV_cHogJMRytURD2DQ?CLASS=BA765B2.Kucukbenli\n"
      ]
    },
    {
      "cell_type": "markdown",
      "metadata": {
        "id": "zQKBwC8fSDjw"
      },
      "source": [
        "## Simulating the spread of Covid19\n",
        "\n",
        "There are many models that try to simulate the spread of an infectious disease. We will use what is called an **\"SIR model\"**. It is called this way because of its parameters:\n",
        "\n",
        "**S**: People who are “susceptible”, i.e. capable of contracting the disease if they come into contact with someone who is infected.\n",
        "\n",
        "**I**: People who are “infectious”, i.e. capable of passing along the disease if they come into contact with someone susceptible.\n",
        "\n",
        "**R**: People who are “recovered”, i.e. immune to reinfection. (this is not true for every disease but let us assume it to be true for our simulation).\n",
        "\n",
        "Other parameters of this simulation are:\n",
        "\n",
        "*gamma*: recovery rate - The probability of recovery for any sick person at a given day\n",
        "\n",
        "*beta*: contact rate - the probability of any susceptible person to come in contact with others for a given day\n",
        "\n",
        "*i*: ratio of the population that is sick; *s*: ratio of the population that is susceptible to get sick."
      ]
    },
    {
      "cell_type": "markdown",
      "metadata": {
        "id": "Pgm1CLfZUQp9"
      },
      "source": [
        "### Equations that govern the spread:\n",
        "The total number of susceptible people in the population changes every day as they become sick through contact:\n",
        "\n",
        "$\\Delta$(N*s) = - beta * s * N * i\n",
        "\n",
        "The total number of sick people in the population changes every day as they recover, and as new people get sick:\n",
        "\n",
        "$\\Delta$(N*i) =  (beta * s * N * i) - (gamma * i *N)\n",
        "\n",
        "The total number of recovered people in the population changes every day as sick people recover:\n",
        "\n",
        "$\\Delta$(N*r) =  gamma * i *N\n",
        "\n",
        "Now, given these daily change of population health status, can you simulate a population of 100 people, given 1 of them is sick?\n"
      ]
    },
    {
      "cell_type": "markdown",
      "metadata": {
        "id": "lRawizvWWS8w"
      },
      "source": [
        "### Exercise:\n",
        "Build a class called `Population()`. Any object that is created from this class should have the following attributes in order for the object to be defined: N, s, i, r ; where N is the total number of people in the population, and s, i, r are the ratios as described above.\n",
        "\n",
        "This class should have have a method called `simulate_covid` where it should use the SIR model, with the following parameters with given defaults: gamma = 1/8 and beta = 1/2. This method should have a mandatory argument called \"duration\" that determines the duration of the simulation in terms of days. \n",
        "\n",
        "Simulate function should rely on another function defined separately, called `update_daily` where a single day update is performed using the equations above, and the updated object is returned.\n",
        "\n",
        "The `simulate_covid` method should return a history of the simulation, meaning, three lists that hold the daily numbers for S, I, R in the population. \n",
        "\n",
        "\n"
      ]
    },
    {
      "cell_type": "code",
      "metadata": {
        "colab": {
          "base_uri": "https://localhost:8080/"
        },
        "id": "6X44QRovB4CW",
        "outputId": "f7169dee-2b00-42ef-a8cd-fc7e09277713"
      },
      "source": [
        "! pip install faker"
      ],
      "execution_count": 2,
      "outputs": [
        {
          "output_type": "stream",
          "text": [
            "Collecting faker\n",
            "  Downloading Faker-8.10.3-py3-none-any.whl (1.2 MB)\n",
            "\u001b[K     |████████████████████████████████| 1.2 MB 7.5 MB/s \n",
            "\u001b[?25hRequirement already satisfied: text-unidecode==1.3 in /usr/local/lib/python3.7/dist-packages (from faker) (1.3)\n",
            "Requirement already satisfied: python-dateutil>=2.4 in /usr/local/lib/python3.7/dist-packages (from faker) (2.8.1)\n",
            "Requirement already satisfied: six>=1.5 in /usr/local/lib/python3.7/dist-packages (from python-dateutil>=2.4->faker) (1.15.0)\n",
            "Installing collected packages: faker\n",
            "Successfully installed faker-8.10.3\n"
          ],
          "name": "stdout"
        }
      ]
    },
    {
      "cell_type": "code",
      "metadata": {
        "id": "Ko7rPngnWQCL"
      },
      "source": [
        "#Build your class below in one cell, no other calls please:\n",
        "\n",
        "#imports\n",
        "from faker import Faker\n",
        "import numpy as np\n",
        "fake = Faker()\n",
        "import random\n",
        "\n",
        "class Population():\n",
        "  def __init__(self, s,i,r,N):\n",
        "    self.s = s\n",
        "    self.i = i\n",
        "    self.r = r\n",
        "    self.N = N\n",
        "\n",
        "  def update_daily(self, gamma, beta):\n",
        "    self.s -= (beta * self.s * self.i)\n",
        "    self.i += (beta * self.s * self.i) - (gamma * self.i)\n",
        "    self.r += gamma * self.i\n",
        "    return\n",
        "\n",
        "  def simulate_covid(self, duration, gamma=1/8, beta = 1/2):\n",
        "    hist_S = []\n",
        "    hist_I = []\n",
        "    hist_R = []\n",
        "\n",
        "    for _ in range(duration):\n",
        "      self.update_daily(gamma, beta)\n",
        "\n",
        "      hist_S.append(self.N * self.s)\n",
        "      hist_I.append(self.N * self.i)\n",
        "      hist_R.append(self.N * self.r)\n",
        "\n",
        "    return hist_S, hist_I, hist_R\n"
      ],
      "execution_count": 24,
      "outputs": []
    },
    {
      "cell_type": "code",
      "metadata": {
        "id": "RibIkemfWSaE"
      },
      "source": [
        "mypop = Population(s = 0.99, i = 0.01, r = 0, N = 100)"
      ],
      "execution_count": 25,
      "outputs": []
    },
    {
      "cell_type": "code",
      "metadata": {
        "id": "7Y0c4hi9SCnO"
      },
      "source": [
        "hist_s, hist_i, hist_r = mypop.simulate_covid(duration=60)"
      ],
      "execution_count": 26,
      "outputs": []
    },
    {
      "cell_type": "code",
      "metadata": {
        "id": "nulH4cSPQGj7",
        "colab": {
          "base_uri": "https://localhost:8080/",
          "height": 279
        },
        "outputId": "fa64490e-d0dd-4244-9151-21981a24ed34"
      },
      "source": [
        "import matplotlib.pyplot as plt\n",
        "plt.plot(range(len(hist_s)), hist_s, 'b', label='susceptible')\n",
        "plt.plot(range(len(hist_i)), hist_i, 'g', label='infected')\n",
        "plt.plot(range(len(hist_r)), hist_r, 'orange', label='recovered')\n",
        "plt.xlabel(\"Days since infection\")\n",
        "plt.ylabel(\"# of people\")\n",
        "plt.legend()\n",
        "plt.show()\n"
      ],
      "execution_count": 27,
      "outputs": [
        {
          "output_type": "display_data",
          "data": {
            "image/png": "[encoded data removed]",
            "text/plain": [
              "<Figure size 432x288 with 1 Axes>"
            ]
          },
          "metadata": {
            "tags": [],
            "needs_background": "light"
          }
        }
      ]
    },
    {
      "cell_type": "markdown",
      "metadata": {
        "id": "e7imT5EPfuT8"
      },
      "source": [
        "## Simulating the impact of the Vaccination!\n",
        "\n",
        "Add a new method to your previous class that simulates the effect of the vaccination, called `add_vax`. This function should have an attribute called `vax_fraction` whose default is 0.01. \n",
        "\n",
        "The impact of vaccination is that people become immunized before they get sick, (duh!), such that the number of the susceptible people change daily as the following:\n",
        "\n",
        "$\\Delta$(N*s) =  - (beta * s * N * i) - (vax_frac * s * N)\n",
        "\n",
        "and the \"recovered\" or better, immunized people number increases correspondingly:\n",
        "\n",
        "$\\Delta$(N*r) =  + (gamma * i * N ) + (vax_frac * s * N)\n",
        "\n",
        "Build this function separately, but call it within your `update_daily` function, if only the object has the optional attribute `vax_avail == True`.\n",
        "\n",
        "\n"
      ]
    },
    {
      "cell_type": "code",
      "metadata": {
        "id": "lCPvHquhbB8x"
      },
      "source": [
        "# Run the same simulation as before. How does your result change?"
      ],
      "execution_count": null,
      "outputs": []
    },
    {
      "cell_type": "markdown",
      "metadata": {
        "id": "xDVprPvOit32"
      },
      "source": [
        ""
      ]
    },
    {
      "cell_type": "code",
      "metadata": {
        "id": "IF6qz84Wius-"
      },
      "source": [
        ""
      ],
      "execution_count": null,
      "outputs": []
    },
    {
      "cell_type": "markdown",
      "metadata": {
        "id": "2yRDjCsb8pfW"
      },
      "source": [
        "## Coin Flipping (Anything with Yes/No like outcome)"
      ]
    },
    {
      "cell_type": "code",
      "metadata": {
        "colab": {
          "base_uri": "https://localhost:8080/"
        },
        "id": "7bS6v5ev8pfW",
        "outputId": "4a92c9c5-c243-4ce3-bb4d-4539e6f258c5"
      },
      "source": [
        "import numpy as np\n",
        "# basics\n",
        "SUCCESS_PROB = .5\n",
        "np.random.choice([0,1], size=1, p=[SUCCESS_PROB, 1-SUCCESS_PROB])"
      ],
      "execution_count": 29,
      "outputs": [
        {
          "output_type": "execute_result",
          "data": {
            "text/plain": [
              "array([0])"
            ]
          },
          "metadata": {
            "tags": []
          },
          "execution_count": 29
        }
      ]
    },
    {
      "cell_type": "code",
      "metadata": {
        "id": "Wxh960wD8pfW",
        "colab": {
          "base_uri": "https://localhost:8080/"
        },
        "outputId": "4483545a-2da1-4e3f-a371-81f111cff5c9"
      },
      "source": [
        "# size = 10 = # of trials.  We will refer to this as 1 run of the experiment:\n",
        "flip = np.random.choice([0,1], size=10, p=[SUCCESS_PROB, 1-SUCCESS_PROB])\n",
        "flip"
      ],
      "execution_count": 33,
      "outputs": [
        {
          "output_type": "execute_result",
          "data": {
            "text/plain": [
              "array([1, 1, 0, 1, 0, 0, 1, 0, 1, 0])"
            ]
          },
          "metadata": {
            "tags": []
          },
          "execution_count": 33
        }
      ]
    },
    {
      "cell_type": "code",
      "metadata": {
        "id": "GREO7QIG8pfX",
        "colab": {
          "base_uri": "https://localhost:8080/"
        },
        "outputId": "e2932e4d-1230-43d5-9e50-136bad65cfdc"
      },
      "source": [
        "# Sum shows us how many successes in the experiment\n",
        "flip.sum()"
      ],
      "execution_count": 34,
      "outputs": [
        {
          "output_type": "execute_result",
          "data": {
            "text/plain": [
              "5"
            ]
          },
          "metadata": {
            "tags": []
          },
          "execution_count": 34
        }
      ]
    },
    {
      "cell_type": "code",
      "metadata": {
        "id": "bhc8Xl238pfX"
      },
      "source": [
        "# something a little more practical:\n",
        "# Let's say in professional sports (hockey) 10% of the shots on net result in a goal\n",
        "\n",
        "# assume all shots are of equal quality\n",
        "\n",
        "# let's say a goalie faces 1000 shots.  How many goals (successes) will they let up?"
      ],
      "execution_count": null,
      "outputs": []
    },
    {
      "cell_type": "code",
      "metadata": {
        "id": "h-RCpzHH8pfX"
      },
      "source": [
        "GOAL_P = .1\n",
        "shots = np.random.choice([1,0], size=100, p=[GOAL_P, 1-GOAL_P ])\n",
        "#shots[:5]"
      ],
      "execution_count": 35,
      "outputs": []
    },
    {
      "cell_type": "code",
      "metadata": {
        "id": "P2OnvZtmwJJ-",
        "colab": {
          "base_uri": "https://localhost:8080/"
        },
        "outputId": "284a6ea3-2459-4974-c3d1-02bd9f17dd31"
      },
      "source": [
        "shots[:20]"
      ],
      "execution_count": 36,
      "outputs": [
        {
          "output_type": "execute_result",
          "data": {
            "text/plain": [
              "array([0, 0, 0, 0, 0, 1, 0, 0, 0, 0, 0, 1, 0, 0, 0, 0, 0, 0, 1, 0])"
            ]
          },
          "metadata": {
            "tags": []
          },
          "execution_count": 36
        }
      ]
    },
    {
      "cell_type": "code",
      "metadata": {
        "id": "uSv76vpv8pfX",
        "colab": {
          "base_uri": "https://localhost:8080/"
        },
        "outputId": "e85b8d67-8437-41da-94c1-5e3961d7bf19"
      },
      "source": [
        "shots.sum()/len(shots)"
      ],
      "execution_count": 37,
      "outputs": [
        {
          "output_type": "execute_result",
          "data": {
            "text/plain": [
              "0.11"
            ]
          },
          "metadata": {
            "tags": []
          },
          "execution_count": 37
        }
      ]
    },
    {
      "cell_type": "code",
      "metadata": {
        "id": "bOD7QKbM8pfX"
      },
      "source": [
        ""
      ],
      "execution_count": null,
      "outputs": []
    },
    {
      "cell_type": "markdown",
      "metadata": {
        "id": "QPbv6o1o8pfY"
      },
      "source": [
        "### (Breakout Room) Exercise:\n",
        "\n",
        "The GM of the Boston Bruins contacted your analytics firm to help understand a shift in strategy they are looking to employ next season.\n",
        "\n",
        "The team allowed 167 goals last season on 2103 shots.  \n",
        "\n",
        "Moving forward, the team wants to understand how the following strategy would impact the number of goals allowed:\n",
        "\n",
        "1.  Shots can be taken from 3 zones, zone A, B and C.\n",
        "1.  The team wants to employ a strategy to shift where shots are taken from.  They believe that they can restrict their opponents to the following: zone A accounts for 15% of the shots, Zone B accounts for 65% of the shots, and Zone C the remaining 20%\n",
        "1.  The shot success rates for zone A, B and C are 5%, 10% and 8% respectively\n",
        "1.  The Bruins expect to allow 2100 shots next season\n",
        "\n",
        "Run 100 experiments, where for each experiment, there are 2100 shots using the information provided above.\n",
        "\n",
        "Across the 100 experiments, how many times would the Bruins reduce the number of goals allowed relative to 167 from the prior season?\n",
        "\n",
        "Would you recommend the strategy?\n"
      ]
    },
    {
      "cell_type": "code",
      "metadata": {
        "id": "SmwC_gAR8pfY",
        "colab": {
          "base_uri": "https://localhost:8080/"
        },
        "outputId": "447d738f-8c24-4490-b0d5-97bafba36f6b"
      },
      "source": [
        "# many ways to do this\n",
        "# break the problem down\n",
        "# for each shot, we need to pick a zone, and then associate the probability of the shot going in\n",
        "# each experiment will have 2100 shots\n",
        "# will run 100 experiments\n",
        "\n",
        "rate = []\n",
        "for i in range(1,100):\n",
        "  good_probA = 0.05\n",
        "  good_probB = 0.1\n",
        "  good_probC = 0.08\n",
        "  size = 2100\n",
        "  shotA = 0.15 * size\n",
        "  shotB = 0.65 * size\n",
        "  shotC = 0.2 * size\n",
        "\n",
        "  goodA = np.random.choice(a=[1,0], size=int(shotA), p=[good_probA, 1-good_probA])\n",
        "  goodB = np.random.choice(a=[1,0], size=int(shotB), p=[good_probB, 1-good_probB])\n",
        "  goodC = np.random.choice(a=[1,0], size=int(shotC), p=[good_probC, 1-good_probC])\n",
        "\n",
        "  all_good_shot = goodA.sum() + goodB.sum() + goodC.sum()\n",
        "  rate_of_shot = all_good_shot / size\n",
        "  if rate_of_shot < 167/2103:\n",
        "    rate.append(1)\n",
        "\n",
        "a = np.array(rate)\n",
        "b = a.sum()\n",
        "b\n",
        "\n"
      ],
      "execution_count": 41,
      "outputs": [
        {
          "output_type": "execute_result",
          "data": {
            "text/plain": [
              "7"
            ]
          },
          "metadata": {
            "tags": []
          },
          "execution_count": 41
        }
      ]
    },
    {
      "cell_type": "markdown",
      "metadata": {
        "id": "rOALJpBj8pfZ"
      },
      "source": [
        "## Poisson Distribution \n",
        "\n",
        "Let's say we want to know the probability of independent events occuring on a fixed time interval, and we are interested in the probability of a fixed number of events occuring at that interval.  We can model this with the Poisson distribution.\n",
        "\n",
        "https://en.wikipedia.org/wiki/Poisson_distribution\n"
      ]
    },
    {
      "cell_type": "code",
      "metadata": {
        "id": "8d2QwPzA8pfZ",
        "colab": {
          "base_uri": "https://localhost:8080/"
        },
        "outputId": "c54be5be-edd3-4a15-ff49-5af104f605e5"
      },
      "source": [
        "# visitors to your website in a given day\n",
        "# expected value, # of trials\n",
        "\n",
        "\n",
        "np.random.poisson(1200)"
      ],
      "execution_count": null,
      "outputs": [
        {
          "output_type": "execute_result",
          "data": {
            "text/plain": [
              "1187"
            ]
          },
          "metadata": {
            "tags": []
          },
          "execution_count": 124
        }
      ]
    },
    {
      "cell_type": "code",
      "metadata": {
        "id": "UZTPWX6p8pfa",
        "colab": {
          "base_uri": "https://localhost:8080/"
        },
        "outputId": "48428022-5394-4357-86da-c9c2953b15da"
      },
      "source": [
        "# let's simulate for a week, and then a year\n",
        "week = np.random.poisson(1200, 7)\n",
        "year = np.random.poisson(1200, 365)\n",
        "print(week)\n",
        "#print(year)"
      ],
      "execution_count": null,
      "outputs": [
        {
          "output_type": "stream",
          "text": [
            "[1238 1251 1173 1226 1230 1177 1215]\n"
          ],
          "name": "stdout"
        }
      ]
    },
    {
      "cell_type": "code",
      "metadata": {
        "id": "_WKr0zMw8pfa",
        "colab": {
          "base_uri": "https://localhost:8080/",
          "height": 333
        },
        "outputId": "ac656109-9267-4373-f077-a610835f98b9"
      },
      "source": [
        "# lets do a quick plot\n",
        "# you will dive much deeper into plotting in your next course\n",
        "plt.hist(year)"
      ],
      "execution_count": null,
      "outputs": [
        {
          "output_type": "execute_result",
          "data": {
            "text/plain": [
              "(array([ 5., 13., 50., 69., 76., 83., 43., 14.,  9.,  3.]),\n",
              " array([1107. , 1127.5, 1148. , 1168.5, 1189. , 1209.5, 1230. , 1250.5,\n",
              "        1271. , 1291.5, 1312. ]),\n",
              " <a list of 10 Patch objects>)"
            ]
          },
          "metadata": {
            "tags": []
          },
          "execution_count": 127
        },
        {
          "output_type": "display_data",
          "data": {
            "image/png": "[encoded data removed]",
            "text/plain": [
              "<Figure size 432x288 with 1 Axes>"
            ]
          },
          "metadata": {
            "tags": [],
            "needs_background": "light"
          }
        }
      ]
    },
    {
      "cell_type": "code",
      "metadata": {
        "id": "BL6jNnaT8pfa"
      },
      "source": [
        "# Example\n",
        "\n",
        "# A cafe owner contacted your analytics firm to help understand capacity\n",
        "\n",
        "# In a given week, they sell 1250 bagels that are baked in-house\n",
        "# They will lose money if they do not have enough ingredients to satisfy demand\n",
        "\n",
        "# Over a 52 week period, how many weeks can they expect to sell 1300 or more bagels?\n",
        "\n",
        "bagels = np.random.poisson(1250, 52)\n",
        "plt.hist(bagels)"
      ],
      "execution_count": null,
      "outputs": []
    },
    {
      "cell_type": "code",
      "metadata": {
        "id": "-OAKArxh8pfa"
      },
      "source": [
        ""
      ],
      "execution_count": null,
      "outputs": []
    },
    {
      "cell_type": "markdown",
      "metadata": {
        "id": "lTwJ85Aa8pfa"
      },
      "source": [
        "### (Breakout Room) Exercise\n",
        "\n",
        "The same cafe owner from above has re-engaged your analytics firm to help estimate employee expenses which are a function of the number of orders.  \n",
        "\n",
        "1.  The cafe is open 252 days a year\n",
        "1.  On average, they have 2200 orders a day\n",
        "1.  The owner has estimated that they need 1 employee for every 300 orders\n",
        "1.  The daily cost for an employee is $125/day\n",
        "\n",
        "Simulate this exercise 100 times.  What is the average annual employee cost?"
      ]
    },
    {
      "cell_type": "code",
      "metadata": {
        "id": "6HQ7SJiq8pfb"
      },
      "source": [
        ""
      ],
      "execution_count": null,
      "outputs": []
    },
    {
      "cell_type": "markdown",
      "metadata": {
        "id": "sMfH2cUilVWB"
      },
      "source": [
        "## Exercise: Game of Life\n",
        "\n",
        "This will only work on your local machine, it is a famous exercise, which also comes up in coding interviews. \n",
        "\n",
        "https://playgameoflife.com/\n"
      ]
    },
    {
      "cell_type": "code",
      "metadata": {
        "id": "caGFsCts8pfb"
      },
      "source": [
        "# Python code to implement Conway's Game Of Life\n",
        "import numpy as np\n",
        "import matplotlib.pyplot as plt\n",
        "import matplotlib.animation as animation\n",
        "\n",
        "# setting up the values for the grid\n",
        "ON = 255\n",
        "OFF = 0\n",
        "vals = [ON, OFF]\n",
        "\n",
        "def randomGrid(N):\n",
        "\n",
        "\t\"\"\"returns a grid of NxN random values\"\"\"\n",
        "\treturn np.random.choice(vals, N*N, p=[0.2, 0.8]).reshape(N, N)\n",
        "\n",
        "def addGlider(i, j, grid):\n",
        "\n",
        "\t\"\"\"adds a glider with top left cell at (i, j)\"\"\"\n",
        "\t# ??\n",
        "\n",
        "def update(frameNum, img, grid, N):\n",
        " \n",
        "\tnewGrid = grid.copy()\n",
        "\tfor i in range(N):\n",
        "\t\tfor j in range(N):\n",
        "\n",
        "\t\t\t# compute how many neighbour we have\n",
        "\t\t\ttotal_neigh = \n",
        "\n",
        "\t\t\t# apply Conway's rules\n",
        "\t\t\tif grid[i, j] == ON:\n",
        "\t\t\t\t# ??\n",
        "      else:\n",
        "\t\t\t\t# ??\n",
        "\n",
        "\t# update data\n",
        "\timg.set_data(newGrid)\n",
        "\tgrid[:] = newGrid[:]\n",
        "\treturn img,\n",
        "\n",
        "# the main function that actually simulates the game of life:\n",
        "def game_of_life(N=50):\n",
        "\t\n",
        "\t# check that grid size is integer and larger than 3\n",
        "\t\t\n",
        "\t# set animation update interval\n",
        "  # this is about the display so you don't need to change\n",
        "\tupdateInterval = 50\n",
        "\n",
        "\t# declare grid\n",
        "\tgrid = np.array([])\n",
        "\n",
        "\t# populate grid with random on/off -\n",
        "  # more off than on\n",
        "\tgrid = randomGrid(N)\n",
        "\n",
        "\t# set up animation\n",
        "\tfig, ax = plt.subplots()\n",
        "\timg = ax.imshow(grid, interpolation='nearest')\n",
        "\tani = animation.FuncAnimation(fig, update, fargs=(img, grid, N, ),\n",
        "\t\t\t\t\t\t\t\tframes = 10,\n",
        "\t\t\t\t\t\t\t\tinterval=updateInterval,\n",
        "\t\t\t\t\t\t\t\tsave_count=50)\n",
        " \n",
        "\tplt.show()\n"
      ],
      "execution_count": null,
      "outputs": []
    },
    {
      "cell_type": "code",
      "metadata": {
        "id": "ev78sp8P8pfb"
      },
      "source": [
        "game_of_life(100)"
      ],
      "execution_count": null,
      "outputs": []
    },
    {
      "cell_type": "code",
      "metadata": {
        "id": "C5YzNL6-8pfb"
      },
      "source": [
        ""
      ],
      "execution_count": null,
      "outputs": []
    }
  ]
}