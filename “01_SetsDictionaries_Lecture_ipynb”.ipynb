{
  "nbformat": 4,
  "nbformat_minor": 0,
  "metadata": {
    "colab": {
      "name": "“01-SetsDictionaries_Lecture.ipynb”的副本",
      "provenance": [],
      "include_colab_link": true
    },
    "kernelspec": {
      "name": "python3",
      "display_name": "Python 3"
    },
    "language_info": {
      "name": "python"
    }
  },
  "cells": [
    {
      "cell_type": "markdown",
      "metadata": {
        "id": "view-in-github",
        "colab_type": "text"
      },
      "source": [
        "<a href=\"https://colab.research.google.com/github/CarolineGuothesweetie/Lecture-notes/blob/main/%E2%80%9C01_SetsDictionaries_Lecture_ipynb%E2%80%9D.ipynb\" target=\"_parent\"><img src=\"https://colab.research.google.com/assets/colab-badge.svg\" alt=\"Open In Colab\"/></a>"
      ]
    },
    {
      "cell_type": "markdown",
      "metadata": {
        "id": "9I-W9M91wKFP"
      },
      "source": [
        "# Sets and Dictionaries\n",
        "Session 3 - part 1 \n",
        "<br>07/13/2021"
      ]
    },
    {
      "cell_type": "markdown",
      "metadata": {
        "id": "z6Z5hP2CwXnk"
      },
      "source": [
        "## Sets\n",
        "Sets are unordered and unindexed collection of data. Because of this, they cannot accept duplicates. Let's see some examples:"
      ]
    },
    {
      "cell_type": "code",
      "metadata": {
        "id": "iGGlQdCUgI24"
      },
      "source": [
        "x=[1,2,3,4,5,5,5,6,2,1]\n",
        "y=[4,9,7,8,8,4,5,4,6]"
      ],
      "execution_count": 1,
      "outputs": []
    },
    {
      "cell_type": "code",
      "metadata": {
        "id": "nGkX2zlVxWJN",
        "colab": {
          "base_uri": "https://localhost:8080/"
        },
        "outputId": "590c4330-fbee-49a7-9184-90332800f189"
      },
      "source": [
        "print(type(x), type(y))\n",
        "print(x)\n",
        "print(y)"
      ],
      "execution_count": 2,
      "outputs": [
        {
          "output_type": "stream",
          "text": [
            "<class 'list'> <class 'list'>\n",
            "[1, 2, 3, 4, 5, 5, 5, 6, 2, 1]\n",
            "[4, 9, 7, 8, 8, 4, 5, 4, 6]\n"
          ],
          "name": "stdout"
        }
      ]
    },
    {
      "cell_type": "code",
      "metadata": {
        "id": "m0k4qgvExZTY"
      },
      "source": [
        "# Let's make these into sets!\n",
        "xset = set(x)\n",
        "yset = set(y)"
      ],
      "execution_count": 3,
      "outputs": []
    },
    {
      "cell_type": "code",
      "metadata": {
        "id": "Hp5o8dFDxj5I",
        "colab": {
          "base_uri": "https://localhost:8080/"
        },
        "outputId": "07bf7d0c-108d-4dce-859c-6008eddc7236"
      },
      "source": [
        "xset"
      ],
      "execution_count": 4,
      "outputs": [
        {
          "output_type": "execute_result",
          "data": {
            "text/plain": [
              "{1, 2, 3, 4, 5, 6}"
            ]
          },
          "metadata": {
            "tags": []
          },
          "execution_count": 4
        }
      ]
    },
    {
      "cell_type": "code",
      "metadata": {
        "id": "3k2O5wbtxk5l",
        "colab": {
          "base_uri": "https://localhost:8080/"
        },
        "outputId": "e5334683-a9f8-4f32-d15f-2d7515298ae9"
      },
      "source": [
        "type(xset)"
      ],
      "execution_count": 5,
      "outputs": [
        {
          "output_type": "execute_result",
          "data": {
            "text/plain": [
              "set"
            ]
          },
          "metadata": {
            "tags": []
          },
          "execution_count": 5
        }
      ]
    },
    {
      "cell_type": "code",
      "metadata": {
        "id": "N1vPe3ocx1Ju",
        "colab": {
          "base_uri": "https://localhost:8080/"
        },
        "outputId": "8ea90800-422e-473a-d56c-008710bb863a"
      },
      "source": [
        "len(xset)"
      ],
      "execution_count": 6,
      "outputs": [
        {
          "output_type": "execute_result",
          "data": {
            "text/plain": [
              "6"
            ]
          },
          "metadata": {
            "tags": []
          },
          "execution_count": 6
        }
      ]
    },
    {
      "cell_type": "markdown",
      "metadata": {
        "id": "MuWQGK6Ax5_h"
      },
      "source": [
        "## Methods of Sets\n",
        "\n",
        "There are many, but let's look at three most used:"
      ]
    },
    {
      "cell_type": "code",
      "metadata": {
        "id": "i4oHodzcx2oD",
        "colab": {
          "base_uri": "https://localhost:8080/"
        },
        "outputId": "b111354f-b9eb-4177-aeba-d0deca84332c"
      },
      "source": [
        "print(xset)\n",
        "print(yset)\n",
        "# Union\n",
        "xset.union(yset)"
      ],
      "execution_count": 7,
      "outputs": [
        {
          "output_type": "stream",
          "text": [
            "{1, 2, 3, 4, 5, 6}\n",
            "{4, 5, 6, 7, 8, 9}\n"
          ],
          "name": "stdout"
        },
        {
          "output_type": "execute_result",
          "data": {
            "text/plain": [
              "{1, 2, 3, 4, 5, 6, 7, 8, 9}"
            ]
          },
          "metadata": {
            "tags": []
          },
          "execution_count": 7
        }
      ]
    },
    {
      "cell_type": "code",
      "metadata": {
        "id": "wDn27Nf2ytzO",
        "colab": {
          "base_uri": "https://localhost:8080/"
        },
        "outputId": "74c003e2-3693-4def-db1d-afe0662ca021"
      },
      "source": [
        "# What do you think about the check below: True or False?\n",
        "xset.union(yset) == yset.union(xset)"
      ],
      "execution_count": 8,
      "outputs": [
        {
          "output_type": "execute_result",
          "data": {
            "text/plain": [
              "True"
            ]
          },
          "metadata": {
            "tags": []
          },
          "execution_count": 8
        }
      ]
    },
    {
      "cell_type": "code",
      "metadata": {
        "id": "YlhiJruHyyrp",
        "colab": {
          "base_uri": "https://localhost:8080/"
        },
        "outputId": "d842e51a-dd1c-4221-9ca7-87f19bb7f7e2"
      },
      "source": [
        "# Intersection \n",
        "xset.intersection(yset)"
      ],
      "execution_count": 9,
      "outputs": [
        {
          "output_type": "execute_result",
          "data": {
            "text/plain": [
              "{4, 5, 6}"
            ]
          },
          "metadata": {
            "tags": []
          },
          "execution_count": 9
        }
      ]
    },
    {
      "cell_type": "code",
      "metadata": {
        "id": "4OVWyvCOzENl",
        "colab": {
          "base_uri": "https://localhost:8080/"
        },
        "outputId": "8a0a31bc-9c32-4add-dc0c-bc61e1ffd99f"
      },
      "source": [
        "#What do you think about the check below? True or False? \n",
        "yset.intersection(xset) == xset.intersection(yset)"
      ],
      "execution_count": 10,
      "outputs": [
        {
          "output_type": "execute_result",
          "data": {
            "text/plain": [
              "True"
            ]
          },
          "metadata": {
            "tags": []
          },
          "execution_count": 10
        }
      ]
    },
    {
      "cell_type": "code",
      "metadata": {
        "id": "UnUrqiE8zG41",
        "colab": {
          "base_uri": "https://localhost:8080/"
        },
        "outputId": "779e02c7-f2cb-40ec-9c57-7f77789aeeed"
      },
      "source": [
        "## Difference\n",
        "xset.difference(yset)"
      ],
      "execution_count": 11,
      "outputs": [
        {
          "output_type": "execute_result",
          "data": {
            "text/plain": [
              "{1, 2, 3}"
            ]
          },
          "metadata": {
            "tags": []
          },
          "execution_count": 11
        }
      ]
    },
    {
      "cell_type": "markdown",
      "metadata": {
        "id": "vdFKYmdqt0tz"
      },
      "source": [
        "* The difference command gives us the unique elements of x set\n"
      ]
    },
    {
      "cell_type": "code",
      "metadata": {
        "colab": {
          "base_uri": "https://localhost:8080/"
        },
        "id": "93nApYTuuQ4Q",
        "outputId": "68c466f4-7856-4cd8-b448-675e6d5559e2"
      },
      "source": [
        "yset.difference(xset)"
      ],
      "execution_count": 13,
      "outputs": [
        {
          "output_type": "execute_result",
          "data": {
            "text/plain": [
              "{7, 8, 9}"
            ]
          },
          "metadata": {
            "tags": []
          },
          "execution_count": 13
        }
      ]
    },
    {
      "cell_type": "code",
      "metadata": {
        "id": "-0vv1N42zhMF",
        "colab": {
          "base_uri": "https://localhost:8080/"
        },
        "outputId": "111cf682-67da-4d3a-de83-62e8e374b519"
      },
      "source": [
        "#What do you think about the check below? True or False? \n",
        "xset.difference(yset) == yset.difference(xset)"
      ],
      "execution_count": 12,
      "outputs": [
        {
          "output_type": "execute_result",
          "data": {
            "text/plain": [
              "False"
            ]
          },
          "metadata": {
            "tags": []
          },
          "execution_count": 12
        }
      ]
    },
    {
      "cell_type": "code",
      "metadata": {
        "colab": {
          "base_uri": "https://localhost:8080/"
        },
        "id": "1rx_xFlYvOaT",
        "outputId": "d16e4aff-2ec5-47f9-b787-d753a509a2d9"
      },
      "source": [
        "zset = {'a',1}\n",
        "#z2set = {'a',[1,2]} THIS WILL BE AN ERROR\n",
        "print(zset)"
      ],
      "execution_count": 15,
      "outputs": [
        {
          "output_type": "stream",
          "text": [
            "{1, 'a'}\n"
          ],
          "name": "stdout"
        }
      ]
    },
    {
      "cell_type": "markdown",
      "metadata": {
        "id": "9agAn7ZPviwN"
      },
      "source": [
        "* Even we input 2 lists into the set, that will be an error. TypeError: unhashable type: 'list'"
      ]
    },
    {
      "cell_type": "code",
      "metadata": {
        "colab": {
          "base_uri": "https://localhost:8080/"
        },
        "id": "Z2iAXD7CwuXO",
        "outputId": "cfed4fb8-242c-4e1c-a4b8-e7d9d674d489"
      },
      "source": [
        "tup = 1,2,3,'a'\n",
        "tup2 = 'a',4,False\n",
        "z4set = set(tup)\n",
        "z5set = z4set.union(set(tup2))\n",
        "print(z5set)\n",
        "print(type(z5set))"
      ],
      "execution_count": 16,
      "outputs": [
        {
          "output_type": "stream",
          "text": [
            "{False, 1, 2, 3, 4, 'a'}\n",
            "<class 'set'>\n"
          ],
          "name": "stdout"
        }
      ]
    },
    {
      "cell_type": "markdown",
      "metadata": {
        "id": "QLggWUbBxbIs"
      },
      "source": [
        "* If we add a list ['y','w'] into the tuple, we cannot even do the same command because of unhashable elements==list."
      ]
    },
    {
      "cell_type": "markdown",
      "metadata": {
        "id": "7XyBVbN20qgG"
      },
      "source": [
        "Some more notes about sets: "
      ]
    },
    {
      "cell_type": "code",
      "metadata": {
        "id": "sPQZuL4M0I8i",
        "colab": {
          "base_uri": "https://localhost:8080/"
        },
        "outputId": "33fe7b2b-5ea6-4e5d-a531-ef520ab58b83"
      },
      "source": [
        "# Do sets accept elements of different types?\n",
        "set1 = {'a',1,1.2}\n",
        "set1"
      ],
      "execution_count": 17,
      "outputs": [
        {
          "output_type": "execute_result",
          "data": {
            "text/plain": [
              "{1, 1.2, 'a'}"
            ]
          },
          "metadata": {
            "tags": []
          },
          "execution_count": 17
        }
      ]
    },
    {
      "cell_type": "code",
      "metadata": {
        "colab": {
          "base_uri": "https://localhost:8080/"
        },
        "id": "v-fev0h9yDwf",
        "outputId": "18f792ec-83fe-4d0e-e742-593e3cf75050"
      },
      "source": [
        "setn = {'a',1,1.2,False,}\n",
        "setn"
      ],
      "execution_count": 21,
      "outputs": [
        {
          "output_type": "execute_result",
          "data": {
            "text/plain": [
              "{1, 1.2, False, 'a'}"
            ]
          },
          "metadata": {
            "tags": []
          },
          "execution_count": 21
        }
      ]
    },
    {
      "cell_type": "code",
      "metadata": {
        "colab": {
          "base_uri": "https://localhost:8080/",
          "height": 185
        },
        "id": "GK-Opz7cyK-_",
        "outputId": "e09e76d6-b1d4-4580-a710-51900d035856"
      },
      "source": [
        "setm = {'a',1,1.2,False,['b']}\n",
        "setm"
      ],
      "execution_count": 22,
      "outputs": [
        {
          "output_type": "error",
          "ename": "TypeError",
          "evalue": "ignored",
          "traceback": [
            "\u001b[0;31m---------------------------------------------------------------------------\u001b[0m",
            "\u001b[0;31mTypeError\u001b[0m                                 Traceback (most recent call last)",
            "\u001b[0;32m<ipython-input-22-784826891977>\u001b[0m in \u001b[0;36m<module>\u001b[0;34m()\u001b[0m\n\u001b[0;32m----> 1\u001b[0;31m \u001b[0msetm\u001b[0m \u001b[0;34m=\u001b[0m \u001b[0;34m{\u001b[0m\u001b[0;34m'a'\u001b[0m\u001b[0;34m,\u001b[0m\u001b[0;36m1\u001b[0m\u001b[0;34m,\u001b[0m\u001b[0;36m1.2\u001b[0m\u001b[0;34m,\u001b[0m\u001b[0;32mFalse\u001b[0m\u001b[0;34m,\u001b[0m\u001b[0;34m[\u001b[0m\u001b[0;34m'b'\u001b[0m\u001b[0;34m]\u001b[0m\u001b[0;34m}\u001b[0m\u001b[0;34m\u001b[0m\u001b[0;34m\u001b[0m\u001b[0m\n\u001b[0m\u001b[1;32m      2\u001b[0m \u001b[0msetm\u001b[0m\u001b[0;34m\u001b[0m\u001b[0;34m\u001b[0m\u001b[0m\n",
            "\u001b[0;31mTypeError\u001b[0m: unhashable type: 'list'"
          ]
        }
      ]
    },
    {
      "cell_type": "code",
      "metadata": {
        "id": "-DGFT4QX0XAe",
        "colab": {
          "base_uri": "https://localhost:8080/"
        },
        "outputId": "cf1fe33f-e591-42aa-c723-38a1865d8324"
      },
      "source": [
        "# Do sets accept duplicates?\n",
        "set2 = {'b', 1, 1}\n",
        "set2"
      ],
      "execution_count": 18,
      "outputs": [
        {
          "output_type": "execute_result",
          "data": {
            "text/plain": [
              "{1, 'b'}"
            ]
          },
          "metadata": {
            "tags": []
          },
          "execution_count": 18
        }
      ]
    },
    {
      "cell_type": "code",
      "metadata": {
        "id": "Zw0rxDBw0yWN",
        "colab": {
          "base_uri": "https://localhost:8080/"
        },
        "outputId": "225b5a29-b326-47f4-d957-08bf73ff8dfd"
      },
      "source": [
        "# What is the length of the following set?\n",
        "set3 = {'c',1, True, 2.0}\n",
        "len(set3)"
      ],
      "execution_count": 20,
      "outputs": [
        {
          "output_type": "execute_result",
          "data": {
            "text/plain": [
              "3"
            ]
          },
          "metadata": {
            "tags": []
          },
          "execution_count": 20
        }
      ]
    },
    {
      "cell_type": "code",
      "metadata": {
        "colab": {
          "base_uri": "https://localhost:8080/",
          "height": 35
        },
        "id": "R-_9gRyruJwF",
        "outputId": "c2439197-3151-46c4-f2cd-25f43b3f8c52"
      },
      "source": [
        "# A familiar operation works for sets too, but with a twist!\n",
        "set3.pop()\n",
        "# This command will randomly remove an element in a set and return its value"
      ],
      "execution_count": 25,
      "outputs": [
        {
          "output_type": "execute_result",
          "data": {
            "application/vnd.google.colaboratory.intrinsic+json": {
              "type": "string"
            },
            "text/plain": [
              "'c'"
            ]
          },
          "metadata": {
            "tags": []
          },
          "execution_count": 25
        }
      ]
    },
    {
      "cell_type": "markdown",
      "metadata": {
        "id": "ilk-m4HWz-pL"
      },
      "source": [
        "* Sets are not sequenced. They are totally random."
      ]
    },
    {
      "cell_type": "markdown",
      "metadata": {
        "id": "2EFFYu8P0BA9"
      },
      "source": [
        "Now that you know about sets and some basic operations, can you think of a usecase of sets in a business setting?"
      ]
    },
    {
      "cell_type": "code",
      "metadata": {
        "colab": {
          "base_uri": "https://localhost:8080/"
        },
        "id": "Vix4w7lb5RI5",
        "outputId": "67cdc943-d776-46c2-e1b8-a5a1242dd6dc"
      },
      "source": [
        "set3.add('aaa')\n",
        "set3.update([9,99])\n",
        "set3"
      ],
      "execution_count": 26,
      "outputs": [
        {
          "output_type": "execute_result",
          "data": {
            "text/plain": [
              "{9, 99, 'aaa'}"
            ]
          },
          "metadata": {
            "tags": []
          },
          "execution_count": 26
        }
      ]
    },
    {
      "cell_type": "markdown",
      "metadata": {
        "id": "LshiVim011P_"
      },
      "source": [
        "## Dictionaries\n",
        "Dictionaries are one of the four built in data types that are used to store a collection of data. Unlike all the data structures we have seen, dictionaries are very structured, the data is stored in key:value pairs, just like in a dictionary! As expected, dictionaries do not accept duplicates.\n",
        "\n",
        "\n",
        "(From Python 3.7 onwards, dictionaries are supposed to preserve the key insertion order but please check the implementation you are working with before relying on this!)\n",
        "\n",
        "\n",
        "Let's see some examples:"
      ]
    },
    {
      "cell_type": "code",
      "metadata": {
        "id": "Ei8RzQx9zpIi",
        "colab": {
          "base_uri": "https://localhost:8080/"
        },
        "outputId": "4e5a529a-aad8-43b2-b9d1-269f4b0197de"
      },
      "source": [
        "d = { 'online':True, \n",
        "     'courseName':'ba765',  \n",
        "     'totStudents': 100, \n",
        "     3:['A','B','C']}\n",
        "print(type(d))\n",
        "d"
      ],
      "execution_count": 27,
      "outputs": [
        {
          "output_type": "stream",
          "text": [
            "<class 'dict'>\n"
          ],
          "name": "stdout"
        },
        {
          "output_type": "execute_result",
          "data": {
            "text/plain": [
              "{3: ['A', 'B', 'C'], 'courseName': 'ba765', 'online': True, 'totStudents': 100}"
            ]
          },
          "metadata": {
            "tags": []
          },
          "execution_count": 27
        }
      ]
    },
    {
      "cell_type": "code",
      "metadata": {
        "id": "S4_y2Zvj3cdZ",
        "colab": {
          "base_uri": "https://localhost:8080/"
        },
        "outputId": "b7b66b0a-eaf1-4cb1-b90a-95611e36450d"
      },
      "source": [
        "d.keys()"
      ],
      "execution_count": 28,
      "outputs": [
        {
          "output_type": "execute_result",
          "data": {
            "text/plain": [
              "dict_keys(['online', 'courseName', 'totStudents', 3])"
            ]
          },
          "metadata": {
            "tags": []
          },
          "execution_count": 28
        }
      ]
    },
    {
      "cell_type": "code",
      "metadata": {
        "id": "LQ1xcyX55iBV",
        "colab": {
          "base_uri": "https://localhost:8080/"
        },
        "outputId": "bfb49ff5-c1ad-453e-b0a4-bf87836061e6"
      },
      "source": [
        "list(d.keys())"
      ],
      "execution_count": 29,
      "outputs": [
        {
          "output_type": "execute_result",
          "data": {
            "text/plain": [
              "['online', 'courseName', 'totStudents', 3]"
            ]
          },
          "metadata": {
            "tags": []
          },
          "execution_count": 29
        }
      ]
    },
    {
      "cell_type": "code",
      "metadata": {
        "id": "8E6BBOJ-6k-N"
      },
      "source": [
        "# Adding a key\n",
        "d['LfA'] = False"
      ],
      "execution_count": 32,
      "outputs": []
    },
    {
      "cell_type": "code",
      "metadata": {
        "colab": {
          "base_uri": "https://localhost:8080/"
        },
        "id": "sa76D6mO6rjh",
        "outputId": "17b02fe1-fc38-471b-b364-a232bb270f43"
      },
      "source": [
        "d.keys()"
      ],
      "execution_count": 33,
      "outputs": [
        {
          "output_type": "execute_result",
          "data": {
            "text/plain": [
              "dict_keys(['online', 'courseName', 'totStudents', 3, 'LfA'])"
            ]
          },
          "metadata": {
            "tags": []
          },
          "execution_count": 33
        }
      ]
    },
    {
      "cell_type": "code",
      "metadata": {
        "colab": {
          "base_uri": "https://localhost:8080/"
        },
        "id": "0G61qWht698U",
        "outputId": "6ad2e581-91cc-439b-a410-45f174ecd409"
      },
      "source": [
        "d"
      ],
      "execution_count": 34,
      "outputs": [
        {
          "output_type": "execute_result",
          "data": {
            "text/plain": [
              "{3: ['A', 'B', 'C'],\n",
              " 'LfA': False,\n",
              " 'courseName': 'ba765',\n",
              " 'online': False,\n",
              " 'totStudents': 100}"
            ]
          },
          "metadata": {
            "tags": []
          },
          "execution_count": 34
        }
      ]
    },
    {
      "cell_type": "code",
      "metadata": {
        "id": "TYw4QI6M52AJ"
      },
      "source": [
        "# Deleting a key \n",
        "del d['online']"
      ],
      "execution_count": 35,
      "outputs": []
    },
    {
      "cell_type": "code",
      "metadata": {
        "colab": {
          "base_uri": "https://localhost:8080/"
        },
        "id": "8dQIwYGs7FeK",
        "outputId": "38b5071e-85c7-42bc-f160-cc071c1ca944"
      },
      "source": [
        "d"
      ],
      "execution_count": 36,
      "outputs": [
        {
          "output_type": "execute_result",
          "data": {
            "text/plain": [
              "{3: ['A', 'B', 'C'], 'LfA': False, 'courseName': 'ba765', 'totStudents': 100}"
            ]
          },
          "metadata": {
            "tags": []
          },
          "execution_count": 36
        }
      ]
    },
    {
      "cell_type": "markdown",
      "metadata": {
        "id": "NXRcEyNA-Jc-"
      },
      "source": [
        "\n",
        "\n",
        "---\n",
        "\n"
      ]
    },
    {
      "cell_type": "code",
      "metadata": {
        "id": "3G0fbIhu5o9w",
        "colab": {
          "base_uri": "https://localhost:8080/"
        },
        "outputId": "7fb4e703-7b04-466b-aebf-174fbc322b79"
      },
      "source": [
        "#Accessing values in a dictionary\n",
        "d['LfA']"
      ],
      "execution_count": 38,
      "outputs": [
        {
          "output_type": "execute_result",
          "data": {
            "text/plain": [
              "False"
            ]
          },
          "metadata": {
            "tags": []
          },
          "execution_count": 38
        }
      ]
    },
    {
      "cell_type": "markdown",
      "metadata": {
        "id": "7BAdsOxF7UP5"
      },
      "source": [
        "* We cannot access the deleted dict."
      ]
    },
    {
      "cell_type": "code",
      "metadata": {
        "id": "6skYIa725uyE",
        "colab": {
          "base_uri": "https://localhost:8080/"
        },
        "outputId": "e1b966ee-0e90-4b79-d838-176721af884c"
      },
      "source": [
        "d[3]"
      ],
      "execution_count": 39,
      "outputs": [
        {
          "output_type": "execute_result",
          "data": {
            "text/plain": [
              "['A', 'B', 'C']"
            ]
          },
          "metadata": {
            "tags": []
          },
          "execution_count": 39
        }
      ]
    },
    {
      "cell_type": "code",
      "metadata": {
        "id": "bo9D1FuC6QO2",
        "colab": {
          "base_uri": "https://localhost:8080/"
        },
        "outputId": "836bf656-7021-4fe2-8f18-96a38ff5f1ff"
      },
      "source": [
        "#How about changing the values of the keys?\n",
        "print(d['LfA'])\n",
        "d['LfA'] = True\n",
        "d['LfA']"
      ],
      "execution_count": 40,
      "outputs": [
        {
          "output_type": "stream",
          "text": [
            "False\n"
          ],
          "name": "stdout"
        },
        {
          "output_type": "execute_result",
          "data": {
            "text/plain": [
              "True"
            ]
          },
          "metadata": {
            "tags": []
          },
          "execution_count": 40
        }
      ]
    },
    {
      "cell_type": "code",
      "metadata": {
        "id": "ySqepDGF6eFu",
        "colab": {
          "base_uri": "https://localhost:8080/",
          "height": 35
        },
        "outputId": "97069be8-ddf1-4da4-8592-3e67f6f97f3f"
      },
      "source": [
        "# There is another way of accessing the value of a key\n",
        "# which also allows us to set a default value:\n",
        "d.get('instructor', 'TBD') ???"
      ],
      "execution_count": 41,
      "outputs": [
        {
          "output_type": "execute_result",
          "data": {
            "application/vnd.google.colaboratory.intrinsic+json": {
              "type": "string"
            },
            "text/plain": [
              "'TBD'"
            ]
          },
          "metadata": {
            "tags": []
          },
          "execution_count": 41
        }
      ]
    },
    {
      "cell_type": "code",
      "metadata": {
        "id": "dn7Zmb-w7SQB",
        "colab": {
          "base_uri": "https://localhost:8080/"
        },
        "outputId": "690fa1d6-7d73-4c78-a781-536b9b83b0d7"
      },
      "source": [
        "# Further checks about existince of a key:\n",
        "'courseName' in d"
      ],
      "execution_count": 42,
      "outputs": [
        {
          "output_type": "execute_result",
          "data": {
            "text/plain": [
              "True"
            ]
          },
          "metadata": {
            "tags": []
          },
          "execution_count": 42
        }
      ]
    },
    {
      "cell_type": "code",
      "metadata": {
        "id": "9mnoJJY071u0",
        "colab": {
          "base_uri": "https://localhost:8080/"
        },
        "outputId": "6c654912-e8da-459a-fcab-79bf76b2918e"
      },
      "source": [
        "'instructor' not in d"
      ],
      "execution_count": 43,
      "outputs": [
        {
          "output_type": "execute_result",
          "data": {
            "text/plain": [
              "True"
            ]
          },
          "metadata": {
            "tags": []
          },
          "execution_count": 43
        }
      ]
    },
    {
      "cell_type": "code",
      "metadata": {
        "colab": {
          "base_uri": "https://localhost:8080/"
        },
        "id": "mJXd9s3U8jEW",
        "outputId": "f8394fac-599e-47c4-8bab-b521ebdc982c"
      },
      "source": [
        "'TBD' in d"
      ],
      "execution_count": 44,
      "outputs": [
        {
          "output_type": "execute_result",
          "data": {
            "text/plain": [
              "False"
            ]
          },
          "metadata": {
            "tags": []
          },
          "execution_count": 44
        }
      ]
    },
    {
      "cell_type": "markdown",
      "metadata": {
        "id": "B60Y2Y6x_QOB"
      },
      "source": [
        "\n",
        "\n",
        "---\n",
        "\n"
      ]
    },
    {
      "cell_type": "code",
      "metadata": {
        "id": "VQlzlpJV78ub",
        "colab": {
          "base_uri": "https://localhost:8080/"
        },
        "outputId": "f40dc5dc-02fc-45e4-a23a-5256feb7c406"
      },
      "source": [
        "# We have worked enough with keys, \n",
        "# let's take a look at things we can do with values\n",
        "\n",
        "d.values()"
      ],
      "execution_count": 45,
      "outputs": [
        {
          "output_type": "execute_result",
          "data": {
            "text/plain": [
              "dict_values(['ba765', 100, ['A', 'B', 'C'], True])"
            ]
          },
          "metadata": {
            "tags": []
          },
          "execution_count": 45
        }
      ]
    },
    {
      "cell_type": "code",
      "metadata": {
        "id": "FqnO3yp98VII",
        "colab": {
          "base_uri": "https://localhost:8080/"
        },
        "outputId": "665e974a-4320-4439-e9c6-026613ded5d0"
      },
      "source": [
        "list(d.values())"
      ],
      "execution_count": 46,
      "outputs": [
        {
          "output_type": "execute_result",
          "data": {
            "text/plain": [
              "['ba765', 100, ['A', 'B', 'C'], True]"
            ]
          },
          "metadata": {
            "tags": []
          },
          "execution_count": 46
        }
      ]
    },
    {
      "cell_type": "code",
      "metadata": {
        "id": "kHCG9ucL8yu2",
        "colab": {
          "base_uri": "https://localhost:8080/"
        },
        "outputId": "f7b1486c-9d2d-4988-b14f-a22613f7bdd2"
      },
      "source": [
        "# .. or items:\n",
        "d.items()"
      ],
      "execution_count": 47,
      "outputs": [
        {
          "output_type": "execute_result",
          "data": {
            "text/plain": [
              "dict_items([('courseName', 'ba765'), ('totStudents', 100), (3, ['A', 'B', 'C']), ('LfA', True)])"
            ]
          },
          "metadata": {
            "tags": []
          },
          "execution_count": 47
        }
      ]
    },
    {
      "cell_type": "code",
      "metadata": {
        "id": "-5fDsjAl814K",
        "colab": {
          "base_uri": "https://localhost:8080/"
        },
        "outputId": "c76d3174-7285-49c9-bc3a-a34adfc4fdbe"
      },
      "source": [
        "list(d.items())"
      ],
      "execution_count": 48,
      "outputs": [
        {
          "output_type": "execute_result",
          "data": {
            "text/plain": [
              "[('courseName', 'ba765'),\n",
              " ('totStudents', 100),\n",
              " (3, ['A', 'B', 'C']),\n",
              " ('LfA', True)]"
            ]
          },
          "metadata": {
            "tags": []
          },
          "execution_count": 48
        }
      ]
    },
    {
      "cell_type": "code",
      "metadata": {
        "id": "KEny-A9684xG",
        "colab": {
          "base_uri": "https://localhost:8080/"
        },
        "outputId": "407189f5-990c-4f0c-943f-deeedc2b392a"
      },
      "source": [
        "# Updating a dictionary by adding a new item, aka k:v pair:\n",
        "d.update({'rating':4.95})\n",
        "print(d)\n"
      ],
      "execution_count": 49,
      "outputs": [
        {
          "output_type": "stream",
          "text": [
            "{'courseName': 'ba765', 'totStudents': 100, 3: ['A', 'B', 'C'], 'LfA': True, 'rating': 4.95}\n"
          ],
          "name": "stdout"
        }
      ]
    },
    {
      "cell_type": "code",
      "metadata": {
        "id": "bvq_ntLm9FQP",
        "colab": {
          "base_uri": "https://localhost:8080/"
        },
        "outputId": "8109b9e8-a1a1-4c27-9a8d-6840555335c1"
      },
      "source": [
        "# Using the update function to update an existing k:v pair:\n",
        "d.update({'LfA':False})\n",
        "d['LfA']"
      ],
      "execution_count": 50,
      "outputs": [
        {
          "output_type": "execute_result",
          "data": {
            "text/plain": [
              "False"
            ]
          },
          "metadata": {
            "tags": []
          },
          "execution_count": 50
        }
      ]
    },
    {
      "cell_type": "code",
      "metadata": {
        "id": "L8MR1ep39hD_"
      },
      "source": [
        "# We already saw how to remove a k:v pair\n",
        "del d['LfA']"
      ],
      "execution_count": 51,
      "outputs": []
    },
    {
      "cell_type": "code",
      "metadata": {
        "colab": {
          "base_uri": "https://localhost:8080/"
        },
        "id": "DV_dIj6_9X48",
        "outputId": "b20af7d2-7125-4ebd-c0a5-3716102e7dec"
      },
      "source": [
        "d"
      ],
      "execution_count": 52,
      "outputs": [
        {
          "output_type": "execute_result",
          "data": {
            "text/plain": [
              "{3: ['A', 'B', 'C'], 'courseName': 'ba765', 'rating': 4.95, 'totStudents': 100}"
            ]
          },
          "metadata": {
            "tags": []
          },
          "execution_count": 52
        }
      ]
    },
    {
      "cell_type": "code",
      "metadata": {
        "id": "aMSZ-DTa9u3u"
      },
      "source": [
        "# but we can also clear the whole dictionary:\n",
        "d.clear()"
      ],
      "execution_count": 53,
      "outputs": []
    },
    {
      "cell_type": "code",
      "metadata": {
        "id": "UxF32BuR9y4z",
        "colab": {
          "base_uri": "https://localhost:8080/"
        },
        "outputId": "318e35c1-0e84-4c53-f144-843ed3ec163c"
      },
      "source": [
        "print(d)"
      ],
      "execution_count": 54,
      "outputs": [
        {
          "output_type": "stream",
          "text": [
            "{}\n"
          ],
          "name": "stdout"
        }
      ]
    },
    {
      "cell_type": "code",
      "metadata": {
        "id": "nCP3zGiI9043"
      },
      "source": [
        "# if we want to get rid of it completely:\n",
        "del d"
      ],
      "execution_count": 55,
      "outputs": []
    },
    {
      "cell_type": "code",
      "metadata": {
        "id": "0pbi88Gy95tf"
      },
      "source": [
        "print(d)"
      ],
      "execution_count": null,
      "outputs": []
    },
    {
      "cell_type": "markdown",
      "metadata": {
        "id": "89bR8Ete_iMx"
      },
      "source": [
        "#### Quick exercise:\n",
        "\n",
        "Define a dictionary that has    \n",
        "\n",
        "*   'a' list of values from 1 to 5\n",
        "*   'b' tuple of your first and last name\n",
        "*  765 that as your age as a float\n",
        "\n",
        "Then:\n",
        "*  confirm that it is a dictionary \n",
        "*  print out the keys as a list.\n",
        "\n",
        "\n",
        "\n"
      ]
    },
    {
      "cell_type": "code",
      "metadata": {
        "id": "aREzqez8Aj4W",
        "colab": {
          "base_uri": "https://localhost:8080/"
        },
        "outputId": "a05fd48a-201a-42ef-d977-202e78063a91"
      },
      "source": [
        "# your code here\n",
        "a = [1,2,3,4,5]\n",
        "b = 'Caroline','Guo'\n",
        "print(type(b))\n",
        "AGE = float(21)\n",
        "print(type(AGE))\n",
        "\n",
        "d = {'a':a,'b':b, 765:AGE}  \n",
        "print(d) \n",
        "type(d)\n",
        "list(d.keys())"
      ],
      "execution_count": 77,
      "outputs": [
        {
          "output_type": "stream",
          "text": [
            "<class 'tuple'>\n",
            "<class 'float'>\n",
            "{'a': [1, 2, 3, 4, 5], 'b': ('Caroline', 'Guo'), 765: 21.0}\n"
          ],
          "name": "stdout"
        },
        {
          "output_type": "execute_result",
          "data": {
            "text/plain": [
              "['a', 'b', 765]"
            ]
          },
          "metadata": {
            "tags": []
          },
          "execution_count": 77
        }
      ]
    },
    {
      "cell_type": "code",
      "metadata": {
        "colab": {
          "base_uri": "https://localhost:8080/"
        },
        "id": "dk2qAo6PDsRo",
        "outputId": "73797388-af89-4164-8e95-ae794c1c366d"
      },
      "source": [
        "d = {'a':[1,2,3,4,5],\n",
        "     'b':('Caroline','Guo'),\n",
        "     '765':float(21)}\n",
        "d\n"
      ],
      "execution_count": 82,
      "outputs": [
        {
          "output_type": "execute_result",
          "data": {
            "text/plain": [
              "{'765': 21.0, 'a': [1, 2, 3, 4, 5], 'b': ('Caroline', 'Guo')}"
            ]
          },
          "metadata": {
            "tags": []
          },
          "execution_count": 82
        }
      ]
    },
    {
      "cell_type": "markdown",
      "metadata": {
        "id": "wd-nC8uOHMdz"
      },
      "source": [
        "\n",
        "## Interlude to Python with some git \n",
        "---\n",
        "\n",
        "That is all for now for dictionaries and sets! Hope you enjoyed these new data structures and can think of interesting ways of using them!\n",
        "\n",
        "Now we'll take a break with some git, with Github Desktop and VS Code.\n",
        "\n",
        "- git clone \\<repo path here.git\\>\n",
        "- git status\n",
        "- git add \\<filename>\n",
        "- git commit\n",
        "- git push\n",
        "- git config --global user.email \"your-email-here\"\n",
        "- git config --global user.name \"Your name here\"\n"
      ]
    }
  ]
}