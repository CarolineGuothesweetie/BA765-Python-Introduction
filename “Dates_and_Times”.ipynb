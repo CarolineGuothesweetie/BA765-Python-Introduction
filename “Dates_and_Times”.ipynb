{
  "nbformat": 4,
  "nbformat_minor": 0,
  "metadata": {
    "colab": {
      "name": "“Dates and Times in Python”的副本",
      "provenance": [],
      "collapsed_sections": [],
      "include_colab_link": true
    },
    "kernelspec": {
      "name": "python3",
      "display_name": "Python 3"
    }
  },
  "cells": [
    {
      "cell_type": "markdown",
      "metadata": {
        "id": "view-in-github",
        "colab_type": "text"
      },
      "source": [
        "<a href=\"https://colab.research.google.com/github/CarolineGuothesweetie/Lecture-notes/blob/main/%E2%80%9CDates_and_Times%E2%80%9D.ipynb\" target=\"_parent\"><img src=\"https://colab.research.google.com/assets/colab-badge.svg\" alt=\"Open In Colab\"/></a>"
      ]
    },
    {
      "cell_type": "markdown",
      "metadata": {
        "id": "Pga2_z9E5GIc"
      },
      "source": [
        "# Working with Dates and Times in python\n",
        "\n",
        "\n",
        "## Resources:\n",
        "\n",
        "https://docs.python.org/3/library/datetime.html#module-datetime"
      ]
    },
    {
      "cell_type": "code",
      "metadata": {
        "id": "P31nO2XZ3PbD"
      },
      "source": [
        "# imports\n",
        "import numpy as np\n",
        "from datetime import datetime, timedelta, timezone\n",
        "import time"
      ],
      "execution_count": null,
      "outputs": []
    },
    {
      "cell_type": "markdown",
      "metadata": {
        "id": "fguTEATB3Zt4"
      },
      "source": [
        "# Basics of Dates and Times in Python"
      ]
    },
    {
      "cell_type": "code",
      "metadata": {
        "id": "KRd5wwsI3kxH",
        "colab": {
          "base_uri": "https://localhost:8080/"
        },
        "outputId": "ab1bac81-cc82-4df0-ceb8-69a5767fbda7"
      },
      "source": [
        "# right now\n",
        "vh = datetime.now()\n",
        "vh"
      ],
      "execution_count": null,
      "outputs": [
        {
          "output_type": "execute_result",
          "data": {
            "text/plain": [
              "datetime.datetime(2021, 8, 5, 9, 29, 56, 781645)"
            ]
          },
          "metadata": {
            "tags": []
          },
          "execution_count": 15
        }
      ]
    },
    {
      "cell_type": "code",
      "metadata": {
        "id": "mNoLQH78oYNV"
      },
      "source": [
        "?datetime\n",
        "#?datetime.now"
      ],
      "execution_count": null,
      "outputs": []
    },
    {
      "cell_type": "code",
      "metadata": {
        "id": "hwxETd2honBK",
        "colab": {
          "base_uri": "https://localhost:8080/"
        },
        "outputId": "53a45fab-c51b-44b8-cc14-db514f5c108a"
      },
      "source": [
        "vh = datetime.now(tz=timezone.utc)\n",
        "vh"
      ],
      "execution_count": null,
      "outputs": [
        {
          "output_type": "execute_result",
          "data": {
            "text/plain": [
              "datetime.datetime(2021, 8, 5, 9, 27, 36, 129463, tzinfo=datetime.timezone.utc)"
            ]
          },
          "metadata": {
            "tags": []
          },
          "execution_count": 4
        }
      ]
    },
    {
      "cell_type": "code",
      "metadata": {
        "id": "aCBZHoHGQAeQ",
        "colab": {
          "base_uri": "https://localhost:8080/"
        },
        "outputId": "7e4a1b70-03c7-4c74-dfe0-fae346c47724"
      },
      "source": [
        "type(vh)"
      ],
      "execution_count": null,
      "outputs": [
        {
          "output_type": "execute_result",
          "data": {
            "text/plain": [
              "datetime.datetime"
            ]
          },
          "metadata": {
            "tags": []
          },
          "execution_count": 5
        }
      ]
    },
    {
      "cell_type": "code",
      "metadata": {
        "id": "vKA6yDNG3mzd",
        "colab": {
          "base_uri": "https://localhost:8080/"
        },
        "outputId": "127b7f16-6313-4200-f0fc-4e757f97627d"
      },
      "source": [
        "# date\n",
        "vh.date()"
      ],
      "execution_count": null,
      "outputs": [
        {
          "output_type": "execute_result",
          "data": {
            "text/plain": [
              "datetime.date(2021, 8, 5)"
            ]
          },
          "metadata": {
            "tags": []
          },
          "execution_count": 6
        }
      ]
    },
    {
      "cell_type": "code",
      "metadata": {
        "id": "Wgt-yKsf3nu-",
        "colab": {
          "base_uri": "https://localhost:8080/"
        },
        "outputId": "f68cc725-8908-4e43-9139-e6b75a455413"
      },
      "source": [
        "# timestamp\n",
        "vh.time()"
      ],
      "execution_count": null,
      "outputs": [
        {
          "output_type": "execute_result",
          "data": {
            "text/plain": [
              "datetime.time(9, 27, 36, 129463)"
            ]
          },
          "metadata": {
            "tags": []
          },
          "execution_count": 7
        }
      ]
    },
    {
      "cell_type": "code",
      "metadata": {
        "id": "SWzZCWCX3qy6",
        "colab": {
          "base_uri": "https://localhost:8080/"
        },
        "outputId": "37344bb5-7431-4181-cca0-9ace12667e09"
      },
      "source": [
        "# UTC time - this keeps things consisent\n",
        "datetime.utcnow()"
      ],
      "execution_count": null,
      "outputs": [
        {
          "output_type": "execute_result",
          "data": {
            "text/plain": [
              "datetime.datetime(2021, 8, 5, 9, 27, 58, 415420)"
            ]
          },
          "metadata": {
            "tags": []
          },
          "execution_count": 8
        }
      ]
    },
    {
      "cell_type": "code",
      "metadata": {
        "id": "cKcy8cg33uHe",
        "colab": {
          "base_uri": "https://localhost:8080/"
        },
        "outputId": "0f763b53-a70a-4b07-be36-2708d31c7061"
      },
      "source": [
        "# manually create a date or time\n",
        "datetime(2020, 10, 13, 9, 35, 15)"
      ],
      "execution_count": null,
      "outputs": [
        {
          "output_type": "execute_result",
          "data": {
            "text/plain": [
              "datetime.datetime(2020, 10, 13, 9, 35, 15)"
            ]
          },
          "metadata": {
            "tags": []
          },
          "execution_count": 9
        }
      ]
    },
    {
      "cell_type": "code",
      "metadata": {
        "id": "KpXdulcCQy64",
        "colab": {
          "base_uri": "https://localhost:8080/"
        },
        "outputId": "7c9d2bac-8851-44fb-bfb8-ed791c6ff46a"
      },
      "source": [
        "datetime(2020, 10, 5)"
      ],
      "execution_count": null,
      "outputs": [
        {
          "output_type": "execute_result",
          "data": {
            "text/plain": [
              "datetime.datetime(2020, 10, 5, 0, 0)"
            ]
          },
          "metadata": {
            "tags": []
          },
          "execution_count": 10
        }
      ]
    },
    {
      "cell_type": "code",
      "metadata": {
        "id": "jfHQq84o3v_8",
        "colab": {
          "base_uri": "https://localhost:8080/",
          "height": 35
        },
        "outputId": "e99c1b37-5604-42ba-b7f9-6d2a17833aaa"
      },
      "source": [
        "# string representation of a date\n",
        "str(vh.date())"
      ],
      "execution_count": null,
      "outputs": [
        {
          "output_type": "execute_result",
          "data": {
            "application/vnd.google.colaboratory.intrinsic+json": {
              "type": "string"
            },
            "text/plain": [
              "'2021-08-05'"
            ]
          },
          "metadata": {
            "tags": []
          },
          "execution_count": 11
        }
      ]
    },
    {
      "cell_type": "code",
      "metadata": {
        "id": "iK0JP4Ya30lL",
        "colab": {
          "base_uri": "https://localhost:8080/"
        },
        "outputId": "7fece9ba-7209-4f4b-d7bf-8557f1d0facb"
      },
      "source": [
        "# extract date parts\n",
        "# NOTE:  Monday is 0, Sunday is 6\n",
        "# https://docs.python.org/3/library/datetime.html#module-datetime\n",
        "vh.day"
      ],
      "execution_count": null,
      "outputs": [
        {
          "output_type": "execute_result",
          "data": {
            "text/plain": [
              "5"
            ]
          },
          "metadata": {
            "tags": []
          },
          "execution_count": 12
        }
      ]
    },
    {
      "cell_type": "code",
      "metadata": {
        "id": "-tdWW59M4YfD",
        "colab": {
          "base_uri": "https://localhost:8080/"
        },
        "outputId": "fe59a649-ba89-49b8-fad6-917ad7cf8ab3"
      },
      "source": [
        "# weekday\n",
        "vh.weekday()"
      ],
      "execution_count": null,
      "outputs": [
        {
          "output_type": "execute_result",
          "data": {
            "text/plain": [
              "3"
            ]
          },
          "metadata": {
            "tags": []
          },
          "execution_count": 14
        }
      ]
    },
    {
      "cell_type": "markdown",
      "metadata": {
        "id": "W9yKgnym31zP"
      },
      "source": [
        "# Dates and Times - Let's do some math!"
      ]
    },
    {
      "cell_type": "code",
      "metadata": {
        "id": "BfGYDNEd38RY"
      },
      "source": [
        "# create two dates ~ 5 seconds apart\n",
        "x = datetime.utcnow()\n",
        "time.sleep(5)\n",
        "y = datetime.utcnow()"
      ],
      "execution_count": null,
      "outputs": []
    },
    {
      "cell_type": "code",
      "metadata": {
        "id": "_yJNfvwRMhnh"
      },
      "source": [
        "time.sleep(5)\n",
        "# sleep for 5 minutes"
      ],
      "execution_count": null,
      "outputs": []
    },
    {
      "cell_type": "code",
      "metadata": {
        "id": "hV8RtLBJ4Hqy",
        "colab": {
          "base_uri": "https://localhost:8080/"
        },
        "outputId": "766d6ad0-616a-47e6-fc32-f29be1231c2b"
      },
      "source": [
        "# print it out\n",
        "print(x)\n",
        "print(y)"
      ],
      "execution_count": null,
      "outputs": [
        {
          "output_type": "stream",
          "text": [
            "2021-08-05 09:30:34.686986\n",
            "2021-08-05 09:30:39.692286\n"
          ],
          "name": "stdout"
        }
      ]
    },
    {
      "cell_type": "code",
      "metadata": {
        "id": "6oOVBYqA4KoH",
        "colab": {
          "base_uri": "https://localhost:8080/"
        },
        "outputId": "30534acb-fa16-4f7d-a7c0-64fc5896bc70"
      },
      "source": [
        "# lets subtract them\n",
        "y -  x"
      ],
      "execution_count": null,
      "outputs": [
        {
          "output_type": "execute_result",
          "data": {
            "text/plain": [
              "datetime.timedelta(seconds=5, microseconds=5300)"
            ]
          },
          "metadata": {
            "tags": []
          },
          "execution_count": 22
        }
      ]
    },
    {
      "cell_type": "code",
      "metadata": {
        "id": "_oBBHt5_TnyE",
        "colab": {
          "base_uri": "https://localhost:8080/"
        },
        "outputId": "91e05668-48eb-43aa-91f9-7e984d56c3e3"
      },
      "source": [
        "tmp = y - x\n",
        "type(tmp)"
      ],
      "execution_count": null,
      "outputs": [
        {
          "output_type": "execute_result",
          "data": {
            "text/plain": [
              "datetime.timedelta"
            ]
          },
          "metadata": {
            "tags": []
          },
          "execution_count": 23
        }
      ]
    },
    {
      "cell_type": "code",
      "metadata": {
        "id": "aULQOhSx4OrK"
      },
      "source": [
        "# perhaps we want to extract the parts that we want\n",
        "my_timedelta = y - x"
      ],
      "execution_count": null,
      "outputs": []
    },
    {
      "cell_type": "code",
      "metadata": {
        "id": "L_0vbpT2Tx4M",
        "colab": {
          "base_uri": "https://localhost:8080/"
        },
        "outputId": "06a1651e-8ba6-4a0f-f932-91a9efc3d90c"
      },
      "source": [
        "my_timedelta.total_seconds()"
      ],
      "execution_count": null,
      "outputs": [
        {
          "output_type": "execute_result",
          "data": {
            "text/plain": [
              "5.0053"
            ]
          },
          "metadata": {
            "tags": []
          },
          "execution_count": 25
        }
      ]
    },
    {
      "cell_type": "code",
      "metadata": {
        "id": "nPEzi0O9Tz-w",
        "colab": {
          "base_uri": "https://localhost:8080/"
        },
        "outputId": "732c7076-fb81-41aa-c595-9a76c70c55ca"
      },
      "source": [
        "int(my_timedelta.total_seconds())"
      ],
      "execution_count": null,
      "outputs": [
        {
          "output_type": "execute_result",
          "data": {
            "text/plain": [
              "5"
            ]
          },
          "metadata": {
            "tags": []
          },
          "execution_count": 26
        }
      ]
    },
    {
      "cell_type": "code",
      "metadata": {
        "id": "G8RRX2eEM6I3",
        "colab": {
          "base_uri": "https://localhost:8080/"
        },
        "outputId": "79fe34d6-1ce1-434c-c0a9-604524b1d450"
      },
      "source": [
        "y2 = datetime(2020, 10, 13, 9, 35, 15)\n",
        "y2"
      ],
      "execution_count": null,
      "outputs": [
        {
          "output_type": "execute_result",
          "data": {
            "text/plain": [
              "datetime.datetime(2020, 10, 13, 9, 35, 15)"
            ]
          },
          "metadata": {
            "tags": []
          },
          "execution_count": 27
        }
      ]
    },
    {
      "cell_type": "code",
      "metadata": {
        "id": "Pl-LBl4HM_nW",
        "colab": {
          "base_uri": "https://localhost:8080/"
        },
        "outputId": "6689bd1b-32a0-4aa9-be50-e1947cc9064c"
      },
      "source": [
        "x2 = datetime(2020, 10, 13, 10, 35, 15)\n",
        "x2"
      ],
      "execution_count": null,
      "outputs": [
        {
          "output_type": "execute_result",
          "data": {
            "text/plain": [
              "datetime.datetime(2020, 10, 13, 10, 35, 15)"
            ]
          },
          "metadata": {
            "tags": []
          },
          "execution_count": 28
        }
      ]
    },
    {
      "cell_type": "code",
      "metadata": {
        "id": "AkXNDzytNE7f",
        "colab": {
          "base_uri": "https://localhost:8080/"
        },
        "outputId": "e29c919a-5668-4af2-9538-becbc1eb24dd"
      },
      "source": [
        "(y2-x2).total_seconds()"
      ],
      "execution_count": null,
      "outputs": [
        {
          "output_type": "execute_result",
          "data": {
            "text/plain": [
              "-3600.0"
            ]
          },
          "metadata": {
            "tags": []
          },
          "execution_count": 29
        }
      ]
    },
    {
      "cell_type": "markdown",
      "metadata": {
        "id": "KytB4En_T3Vb"
      },
      "source": [
        "# Timedeltas"
      ]
    },
    {
      "cell_type": "code",
      "metadata": {
        "id": "zmINVn3EUCw7"
      },
      "source": [
        "x = datetime(year= 2021, month = 7, day=29)\n",
        "y = datetime(year = 2021, month=9, day=2)"
      ],
      "execution_count": null,
      "outputs": []
    },
    {
      "cell_type": "code",
      "metadata": {
        "id": "IV8YA8huUDcx",
        "colab": {
          "base_uri": "https://localhost:8080/",
          "height": 103
        },
        "outputId": "c436f83e-bcde-4531-bee6-14c4a07c63a1"
      },
      "source": [
        "print(x)\n",
        "print(str(y))\n",
        "str(x)\n",
        "print(x)\n",
        "print(str(1))\n",
        "str(1)"
      ],
      "execution_count": null,
      "outputs": [
        {
          "output_type": "stream",
          "text": [
            "2021-07-29 00:00:00\n",
            "2021-09-02 00:00:00\n",
            "2021-07-29 00:00:00\n",
            "1\n"
          ],
          "name": "stdout"
        },
        {
          "output_type": "execute_result",
          "data": {
            "application/vnd.google.colaboratory.intrinsic+json": {
              "type": "string"
            },
            "text/plain": [
              "'1'"
            ]
          },
          "metadata": {
            "tags": []
          },
          "execution_count": 31
        }
      ]
    },
    {
      "cell_type": "code",
      "metadata": {
        "id": "6Y07P3EfUDgg",
        "colab": {
          "base_uri": "https://localhost:8080/"
        },
        "outputId": "2c647028-5f0a-481e-c167-97a35ee3707b"
      },
      "source": [
        "# number of days between these two datetimes\n",
        "(y-x) / timedelta(days=1)"
      ],
      "execution_count": null,
      "outputs": [
        {
          "output_type": "execute_result",
          "data": {
            "text/plain": [
              "35.0"
            ]
          },
          "metadata": {
            "tags": []
          },
          "execution_count": 32
        }
      ]
    },
    {
      "cell_type": "code",
      "metadata": {
        "id": "z2qp2yi0UDjX",
        "colab": {
          "base_uri": "https://localhost:8080/"
        },
        "outputId": "e5364338-ddf3-4acf-c136-270a56441235"
      },
      "source": [
        "# how many hours\n",
        "(y-x) / timedelta(hours=1)"
      ],
      "execution_count": null,
      "outputs": [
        {
          "output_type": "execute_result",
          "data": {
            "text/plain": [
              "840.0"
            ]
          },
          "metadata": {
            "tags": []
          },
          "execution_count": 33
        }
      ]
    },
    {
      "cell_type": "code",
      "metadata": {
        "id": "69wOzMWGiNUF",
        "colab": {
          "base_uri": "https://localhost:8080/"
        },
        "outputId": "65c307bd-2816-45c1-b4f1-afed1206ea99"
      },
      "source": [
        "(y-x)/timedelta(hours=2)"
      ],
      "execution_count": null,
      "outputs": [
        {
          "output_type": "execute_result",
          "data": {
            "text/plain": [
              "420.0"
            ]
          },
          "metadata": {
            "tags": []
          },
          "execution_count": 34
        }
      ]
    },
    {
      "cell_type": "code",
      "metadata": {
        "id": "Cd13ZipDUDmk",
        "colab": {
          "base_uri": "https://localhost:8080/"
        },
        "outputId": "b166f44b-5165-451b-f06b-33ec012800c0"
      },
      "source": [
        "# check the logic\n",
        "35 * 24"
      ],
      "execution_count": null,
      "outputs": [
        {
          "output_type": "execute_result",
          "data": {
            "text/plain": [
              "840"
            ]
          },
          "metadata": {
            "tags": []
          },
          "execution_count": 35
        }
      ]
    },
    {
      "cell_type": "code",
      "metadata": {
        "id": "m09AWYOlUDpY",
        "colab": {
          "base_uri": "https://localhost:8080/"
        },
        "outputId": "dc109a1d-8bb0-4ec2-d464-dfa577a8f446"
      },
      "source": [
        "# how many minutes\n",
        "(y-x) / timedelta(minutes=25)"
      ],
      "execution_count": null,
      "outputs": [
        {
          "output_type": "execute_result",
          "data": {
            "text/plain": [
              "2016.0"
            ]
          },
          "metadata": {
            "tags": []
          },
          "execution_count": 36
        }
      ]
    },
    {
      "cell_type": "code",
      "metadata": {
        "id": "HDPpRpJxN9lY",
        "colab": {
          "base_uri": "https://localhost:8080/"
        },
        "outputId": "d01baea7-4de9-407e-b37d-225d7ee8df68"
      },
      "source": [
        "(y-x) / timedelta(weeks=1)"
      ],
      "execution_count": null,
      "outputs": [
        {
          "output_type": "execute_result",
          "data": {
            "text/plain": [
              "5.0"
            ]
          },
          "metadata": {
            "tags": []
          },
          "execution_count": 37
        }
      ]
    },
    {
      "cell_type": "markdown",
      "metadata": {
        "id": "QIuk0iQtUzaS"
      },
      "source": [
        "# To/From Strings\n",
        "\n",
        "Hold onto this resource:\n",
        "https://strftime.org/\n",
        "\n",
        "Also check:\n",
        "https://docs.python.org/3/library/datetime.html#strftime-and-strptime-behavior"
      ]
    },
    {
      "cell_type": "code",
      "metadata": {
        "id": "Vu2AgzcUVs9Z"
      },
      "source": [
        "x = '2020-01-01'   #ymd\n",
        "y = '12-31-19'   #mdy\n",
        "z = '2020-01-01 01:25:28' #ymd hms"
      ],
      "execution_count": null,
      "outputs": []
    },
    {
      "cell_type": "code",
      "metadata": {
        "id": "yJyYDC6dV-qs",
        "colab": {
          "base_uri": "https://localhost:8080/"
        },
        "outputId": "ab251e65-2f05-441c-eeaf-78bd6337a0cb"
      },
      "source": [
        "# parse x\n",
        "datetime.strptime(x, \"%Y-%m-%d\")"
      ],
      "execution_count": null,
      "outputs": [
        {
          "output_type": "execute_result",
          "data": {
            "text/plain": [
              "datetime.datetime(2020, 1, 1, 0, 0)"
            ]
          },
          "metadata": {
            "tags": []
          },
          "execution_count": 66
        }
      ]
    },
    {
      "cell_type": "code",
      "metadata": {
        "id": "v-qTpE5zV-xK",
        "colab": {
          "base_uri": "https://localhost:8080/"
        },
        "outputId": "748f2a59-c3a7-44a8-d803-ceca330c65a5"
      },
      "source": [
        "# parse y\n",
        "datetime.strptime(y, \"%m-%d-%y\")"
      ],
      "execution_count": null,
      "outputs": [
        {
          "output_type": "execute_result",
          "data": {
            "text/plain": [
              "datetime.datetime(2019, 12, 31, 0, 0)"
            ]
          },
          "metadata": {
            "tags": []
          },
          "execution_count": 40
        }
      ]
    },
    {
      "cell_type": "code",
      "metadata": {
        "id": "ZNibGcGKP34J"
      },
      "source": [
        "?datetime"
      ],
      "execution_count": null,
      "outputs": []
    },
    {
      "cell_type": "code",
      "metadata": {
        "id": "I1t2JDbnV-02",
        "colab": {
          "base_uri": "https://localhost:8080/"
        },
        "outputId": "36f5e951-92ad-4f09-c454-4300afaaf19e"
      },
      "source": [
        "# parse z\n",
        "datetime.strptime(z, \"%Y-%m-%d %H:%M:%S\")"
      ],
      "execution_count": null,
      "outputs": [
        {
          "output_type": "execute_result",
          "data": {
            "text/plain": [
              "datetime.datetime(2020, 1, 1, 1, 25, 28)"
            ]
          },
          "metadata": {
            "tags": []
          },
          "execution_count": 41
        }
      ]
    },
    {
      "cell_type": "code",
      "metadata": {
        "id": "QG47iCLiV-5D"
      },
      "source": [
        "# utc now\n",
        "vh = datetime.utcnow()"
      ],
      "execution_count": null,
      "outputs": []
    },
    {
      "cell_type": "code",
      "metadata": {
        "id": "yheavp0KV-8m",
        "colab": {
          "base_uri": "https://localhost:8080/"
        },
        "outputId": "a4df754e-9afa-4526-d06b-a0155cb5316a"
      },
      "source": [
        "vh"
      ],
      "execution_count": null,
      "outputs": [
        {
          "output_type": "execute_result",
          "data": {
            "text/plain": [
              "datetime.datetime(2021, 8, 5, 9, 35, 18, 305270)"
            ]
          },
          "metadata": {
            "tags": []
          },
          "execution_count": 43
        }
      ]
    },
    {
      "cell_type": "code",
      "metadata": {
        "id": "AfgpXwFMV-_m",
        "colab": {
          "base_uri": "https://localhost:8080/",
          "height": 35
        },
        "outputId": "195082bf-f78f-4fc1-8bae-7af373241668"
      },
      "source": [
        "vh.strftime('%d-%b-%y %H_%M_%S')"
      ],
      "execution_count": null,
      "outputs": [
        {
          "output_type": "execute_result",
          "data": {
            "application/vnd.google.colaboratory.intrinsic+json": {
              "type": "string"
            },
            "text/plain": [
              "'05-Aug-21 09_35_18'"
            ]
          },
          "metadata": {
            "tags": []
          },
          "execution_count": 44
        }
      ]
    },
    {
      "cell_type": "code",
      "metadata": {
        "id": "GVatvuCvYS2S",
        "colab": {
          "base_uri": "https://localhost:8080/",
          "height": 35
        },
        "outputId": "bbf81db4-7960-4def-a3f6-84390c90ef87"
      },
      "source": [
        "# human readable form of the day of the week.\n",
        "vh.strftime('%A')"
      ],
      "execution_count": null,
      "outputs": [
        {
          "output_type": "execute_result",
          "data": {
            "application/vnd.google.colaboratory.intrinsic+json": {
              "type": "string"
            },
            "text/plain": [
              "'Thursday'"
            ]
          },
          "metadata": {
            "tags": []
          },
          "execution_count": 45
        }
      ]
    },
    {
      "cell_type": "markdown",
      "metadata": {
        "id": "xRLk31GGZDEf"
      },
      "source": [
        "# Date Sequences"
      ]
    },
    {
      "cell_type": "code",
      "metadata": {
        "id": "760S2hVqZiso"
      },
      "source": [
        "dt = datetime(2021, 7, 29)\n",
        "end = datetime(2021, 7, 30)\n",
        "step = timedelta(hours=1)"
      ],
      "execution_count": null,
      "outputs": []
    },
    {
      "cell_type": "code",
      "metadata": {
        "id": "c82cMFjUZi80",
        "colab": {
          "base_uri": "https://localhost:8080/"
        },
        "outputId": "8f9bd583-9a37-40ed-c240-e952b03be46a"
      },
      "source": [
        "# how much time is in between\n",
        "interval = (end - dt) / timedelta(hours=1)\n",
        "print(interval)\n",
        "type(interval)"
      ],
      "execution_count": null,
      "outputs": [
        {
          "output_type": "stream",
          "text": [
            "24.0\n"
          ],
          "name": "stdout"
        },
        {
          "output_type": "execute_result",
          "data": {
            "text/plain": [
              "float"
            ]
          },
          "metadata": {
            "tags": []
          },
          "execution_count": 47
        }
      ]
    },
    {
      "cell_type": "code",
      "metadata": {
        "id": "5n0PbFd7ZjCW"
      },
      "source": [
        "# add the timedelta \n",
        "hours = []\n",
        "while dt < end:\n",
        "  hours.append(dt)\n",
        "  dt = dt + step"
      ],
      "execution_count": null,
      "outputs": []
    },
    {
      "cell_type": "code",
      "metadata": {
        "id": "LJCBzhahtP3M",
        "colab": {
          "base_uri": "https://localhost:8080/"
        },
        "outputId": "a7f60975-ad0b-4287-a424-aac632aedba8"
      },
      "source": [
        "hours"
      ],
      "execution_count": null,
      "outputs": [
        {
          "output_type": "execute_result",
          "data": {
            "text/plain": [
              "[datetime.datetime(2021, 7, 29, 0, 0),\n",
              " datetime.datetime(2021, 7, 29, 1, 0),\n",
              " datetime.datetime(2021, 7, 29, 2, 0),\n",
              " datetime.datetime(2021, 7, 29, 3, 0),\n",
              " datetime.datetime(2021, 7, 29, 4, 0),\n",
              " datetime.datetime(2021, 7, 29, 5, 0),\n",
              " datetime.datetime(2021, 7, 29, 6, 0),\n",
              " datetime.datetime(2021, 7, 29, 7, 0),\n",
              " datetime.datetime(2021, 7, 29, 8, 0),\n",
              " datetime.datetime(2021, 7, 29, 9, 0),\n",
              " datetime.datetime(2021, 7, 29, 10, 0),\n",
              " datetime.datetime(2021, 7, 29, 11, 0),\n",
              " datetime.datetime(2021, 7, 29, 12, 0),\n",
              " datetime.datetime(2021, 7, 29, 13, 0),\n",
              " datetime.datetime(2021, 7, 29, 14, 0),\n",
              " datetime.datetime(2021, 7, 29, 15, 0),\n",
              " datetime.datetime(2021, 7, 29, 16, 0),\n",
              " datetime.datetime(2021, 7, 29, 17, 0),\n",
              " datetime.datetime(2021, 7, 29, 18, 0),\n",
              " datetime.datetime(2021, 7, 29, 19, 0),\n",
              " datetime.datetime(2021, 7, 29, 20, 0),\n",
              " datetime.datetime(2021, 7, 29, 21, 0),\n",
              " datetime.datetime(2021, 7, 29, 22, 0),\n",
              " datetime.datetime(2021, 7, 29, 23, 0)]"
            ]
          },
          "metadata": {
            "tags": []
          },
          "execution_count": 49
        }
      ]
    },
    {
      "cell_type": "code",
      "metadata": {
        "id": "EKYrKJ3dZjFK",
        "colab": {
          "base_uri": "https://localhost:8080/"
        },
        "outputId": "aed5bc9d-af6b-4739-8f5b-594e8cedd674"
      },
      "source": [
        "len(hours)"
      ],
      "execution_count": null,
      "outputs": [
        {
          "output_type": "execute_result",
          "data": {
            "text/plain": [
              "24"
            ]
          },
          "metadata": {
            "tags": []
          },
          "execution_count": 50
        }
      ]
    },
    {
      "cell_type": "code",
      "metadata": {
        "id": "pP8mUUVYZjKk"
      },
      "source": [
        "# introduce list comprehensions\n",
        "hours2 = [h.strftime('%Y-%m-%d %H:%M:%S') for h in hours]"
      ],
      "execution_count": null,
      "outputs": []
    },
    {
      "cell_type": "code",
      "metadata": {
        "id": "TmH9ehiMtbOj",
        "colab": {
          "base_uri": "https://localhost:8080/"
        },
        "outputId": "faca0ee8-c1c7-4e0d-ee73-bb50c308e4d7"
      },
      "source": [
        "hours2[:]"
      ],
      "execution_count": null,
      "outputs": [
        {
          "output_type": "execute_result",
          "data": {
            "text/plain": [
              "['2021-07-29 00:00:00',\n",
              " '2021-07-29 01:00:00',\n",
              " '2021-07-29 02:00:00',\n",
              " '2021-07-29 03:00:00',\n",
              " '2021-07-29 04:00:00',\n",
              " '2021-07-29 05:00:00',\n",
              " '2021-07-29 06:00:00',\n",
              " '2021-07-29 07:00:00',\n",
              " '2021-07-29 08:00:00',\n",
              " '2021-07-29 09:00:00',\n",
              " '2021-07-29 10:00:00',\n",
              " '2021-07-29 11:00:00',\n",
              " '2021-07-29 12:00:00',\n",
              " '2021-07-29 13:00:00',\n",
              " '2021-07-29 14:00:00',\n",
              " '2021-07-29 15:00:00',\n",
              " '2021-07-29 16:00:00',\n",
              " '2021-07-29 17:00:00',\n",
              " '2021-07-29 18:00:00',\n",
              " '2021-07-29 19:00:00',\n",
              " '2021-07-29 20:00:00',\n",
              " '2021-07-29 21:00:00',\n",
              " '2021-07-29 22:00:00',\n",
              " '2021-07-29 23:00:00']"
            ]
          },
          "metadata": {
            "tags": []
          },
          "execution_count": 52
        }
      ]
    },
    {
      "cell_type": "code",
      "metadata": {
        "id": "Eg0LZmzHZjM6",
        "colab": {
          "base_uri": "https://localhost:8080/"
        },
        "outputId": "e2f78e6b-a3db-4c6e-c54c-2eb728e39b0a"
      },
      "source": [
        "type(hours2)"
      ],
      "execution_count": null,
      "outputs": [
        {
          "output_type": "execute_result",
          "data": {
            "text/plain": [
              "list"
            ]
          },
          "metadata": {
            "tags": []
          },
          "execution_count": 53
        }
      ]
    },
    {
      "cell_type": "code",
      "metadata": {
        "id": "JPs6VWzTZjPH",
        "colab": {
          "base_uri": "https://localhost:8080/"
        },
        "outputId": "c622e282-c5e2-4f2b-9dd1-83b17f4aff08"
      },
      "source": [
        "len(hours2)"
      ],
      "execution_count": null,
      "outputs": [
        {
          "output_type": "execute_result",
          "data": {
            "text/plain": [
              "24"
            ]
          },
          "metadata": {
            "tags": []
          },
          "execution_count": 54
        }
      ]
    },
    {
      "cell_type": "markdown",
      "metadata": {
        "id": "2KsyB2FoZjT1"
      },
      "source": [
        "# Numeric Representation of Datetimes"
      ]
    },
    {
      "cell_type": "code",
      "metadata": {
        "id": "HxEsTeELcPFG"
      },
      "source": [
        "vh = datetime.utcnow()"
      ],
      "execution_count": null,
      "outputs": []
    },
    {
      "cell_type": "code",
      "metadata": {
        "id": "vWCQ-T4CcQNl",
        "colab": {
          "base_uri": "https://localhost:8080/"
        },
        "outputId": "9d4ed5f0-36f4-482f-8c3e-cc8ab2c4818f"
      },
      "source": [
        "vh"
      ],
      "execution_count": null,
      "outputs": [
        {
          "output_type": "execute_result",
          "data": {
            "text/plain": [
              "datetime.datetime(2021, 8, 5, 9, 36, 47, 879249)"
            ]
          },
          "metadata": {
            "tags": []
          },
          "execution_count": 56
        }
      ]
    },
    {
      "cell_type": "code",
      "metadata": {
        "id": "9xjnFR0BcQQj",
        "colab": {
          "base_uri": "https://localhost:8080/"
        },
        "outputId": "c8219602-3a8e-47e5-891c-6586f3740591"
      },
      "source": [
        "ts = vh.timestamp()\n",
        "ts"
      ],
      "execution_count": null,
      "outputs": [
        {
          "output_type": "execute_result",
          "data": {
            "text/plain": [
              "1628156207.879249"
            ]
          },
          "metadata": {
            "tags": []
          },
          "execution_count": 57
        }
      ]
    },
    {
      "cell_type": "markdown",
      "metadata": {
        "id": "xaP15SEiup5F"
      },
      "source": [
        "What is this? Looks cryptic!!"
      ]
    },
    {
      "cell_type": "code",
      "metadata": {
        "id": "99krNOZScQS6",
        "colab": {
          "base_uri": "https://localhost:8080/"
        },
        "outputId": "8676d997-1588-4748-cacf-addb4797ef3f"
      },
      "source": [
        "datetime.fromtimestamp(ts)"
      ],
      "execution_count": null,
      "outputs": [
        {
          "output_type": "execute_result",
          "data": {
            "text/plain": [
              "datetime.datetime(2021, 8, 5, 9, 36, 47, 879249)"
            ]
          },
          "metadata": {
            "tags": []
          },
          "execution_count": 58
        }
      ]
    },
    {
      "cell_type": "markdown",
      "metadata": {
        "id": "iZsNTI2MumSU"
      },
      "source": [
        "How come??"
      ]
    },
    {
      "cell_type": "code",
      "metadata": {
        "id": "p1ZpzDYndKAD",
        "colab": {
          "base_uri": "https://localhost:8080/"
        },
        "outputId": "b5c5cc87-6b20-44d1-a3d8-1fbc6fba6a5b"
      },
      "source": [
        "vh - timedelta(seconds=ts)"
      ],
      "execution_count": null,
      "outputs": [
        {
          "output_type": "execute_result",
          "data": {
            "text/plain": [
              "datetime.datetime(1970, 1, 1, 0, 0)"
            ]
          },
          "metadata": {
            "tags": []
          },
          "execution_count": 59
        }
      ]
    },
    {
      "cell_type": "markdown",
      "metadata": {
        "id": "Aexor3qJueLp"
      },
      "source": [
        "We have covered the basics of working with datetime module. There is a datacamp resource specifically about this subject. \n",
        "\n",
        "Next: Running simulations with python!"
      ]
    },
    {
      "cell_type": "code",
      "metadata": {
        "colab": {
          "base_uri": "https://localhost:8080/"
        },
        "id": "Tav6UGC_PWyj",
        "outputId": "c543555c-5408-4418-d840-d5bdb13cf208"
      },
      "source": [
        "from datetime import date\n",
        "\n",
        "today = date(2021,8,5)\n",
        "PA = date(2016,4,22)\n",
        "print((today-PA).days)\n",
        "\n"
      ],
      "execution_count": 79,
      "outputs": [
        {
          "output_type": "stream",
          "text": [
            "1931\n"
          ],
          "name": "stdout"
        }
      ]
    }
  ]
}